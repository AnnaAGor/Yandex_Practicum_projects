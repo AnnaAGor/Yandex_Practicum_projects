{
 "cells": [
  {
   "cell_type": "markdown",
   "metadata": {},
   "source": [
    "# Анализ результатов проведённого A/ B теста [Яндекс.Практикум]"
   ]
  },
  {
   "cell_type": "markdown",
   "metadata": {},
   "source": [
    "# Подготовка данных для анализа"
   ]
  },
  {
   "cell_type": "markdown",
   "metadata": {},
   "source": [
    "## Загрузка библиотек и данных"
   ]
  },
  {
   "cell_type": "code",
   "execution_count": 1,
   "metadata": {},
   "outputs": [],
   "source": [
    "import pandas as pd\n",
    "import numpy as np\n",
    "from datetime import datetime, timedelta\n",
    "from matplotlib import pyplot as plt\n",
    "import datetime as dt\n",
    "import scipy.stats as stats\n"
   ]
  },
  {
   "cell_type": "markdown",
   "metadata": {},
   "source": [
    "## Проверка данных о результатах тестирования на наличие пропущенных данных и дубликатов "
   ]
  },
  {
   "cell_type": "code",
   "execution_count": 11,
   "metadata": {},
   "outputs": [
    {
     "name": "stdout",
     "output_type": "stream",
     "text": [
      "Общее количество строк с дубликатами в данных orders (0, 5)\n",
      "Общее количество вторых и последующих строк с дубликатами в данных orders (0, 5)\n",
      " \n",
      "Общее количество строк с дубликатами в данных visits (0, 3)\n",
      "Общее количество вторых и последующих строк с дубликатами в данных visits (0, 3)\n"
     ]
    }
   ],
   "source": [
    "print('Общее количество строк с дубликатами в данных orders', orders[orders.duplicated(keep=False)].shape)\n",
    "print('Общее количество вторых и последующих строк с дубликатами в данных orders', orders[orders.duplicated(keep='first')].shape)\n",
    "\n",
    "print(' ')\n",
    "print('Общее количество строк с дубликатами в данных visits', visitors[visitors.duplicated(keep=False)].shape)\n",
    "print('Общее количество вторых и последующих строк с дубликатами в данных visits', visitors[visitors.duplicated(keep='first')].shape)\n"
   ]
  },
  {
   "cell_type": "code",
   "execution_count": 12,
   "metadata": {},
   "outputs": [
    {
     "data": {
      "text/plain": [
       "transactionId    0\n",
       "visitorId        0\n",
       "date             0\n",
       "revenue          0\n",
       "group            0\n",
       "dtype: int64"
      ]
     },
     "execution_count": 12,
     "metadata": {},
     "output_type": "execute_result"
    }
   ],
   "source": [
    "orders.isna().sum()"
   ]
  },
  {
   "cell_type": "code",
   "execution_count": 13,
   "metadata": {
    "scrolled": true
   },
   "outputs": [
    {
     "data": {
      "text/plain": [
       "date        0\n",
       "group       0\n",
       "visitors    0\n",
       "dtype: int64"
      ]
     },
     "execution_count": 13,
     "metadata": {},
     "output_type": "execute_result"
    }
   ],
   "source": [
    "visitors.isna().sum()"
   ]
  },
  {
   "cell_type": "markdown",
   "metadata": {},
   "source": [
    "Полные дубликаты и пропущенные значения в данных не обнаружены"
   ]
  },
  {
   "cell_type": "markdown",
   "metadata": {},
   "source": [
    "## Проверим, повторяются ли пользователи в группах A и B"
   ]
  },
  {
   "cell_type": "code",
   "execution_count": 14,
   "metadata": {},
   "outputs": [
    {
     "data": {
      "text/plain": [
       "1197"
      ]
     },
     "execution_count": 14,
     "metadata": {},
     "output_type": "execute_result"
    }
   ],
   "source": [
    "len(orders) # количество строк в данных о заказах"
   ]
  },
  {
   "cell_type": "code",
   "execution_count": 15,
   "metadata": {},
   "outputs": [
    {
     "name": "stdout",
     "output_type": "stream",
     "text": [
      "Количество уникальных пользователей в группе А 503\n",
      "Количество уникальных пользователей в группе B 586\n"
     ]
    }
   ],
   "source": [
    "# Посчитаем количество уникальных строк в группах A и B\n",
    "print('Количество уникальных пользователей в группе А', len(orders[orders['group'] =='A']['visitorId'].unique()))\n",
    "print('Количество уникальных пользователей в группе B', len(orders[orders['group'] =='B']['visitorId'].unique()))"
   ]
  },
  {
   "cell_type": "code",
   "execution_count": 16,
   "metadata": {
    "scrolled": true
   },
   "outputs": [
    {
     "data": {
      "text/plain": [
       "array([4069496402,   78758296,  295230930,  879864040, 3213223594,\n",
       "       1565034404, 4227830084, 3207734412,   87885904,  199603092,\n",
       "       3803269165, 2378935119,  834683205,  237748145, 1294108251,\n",
       "       1471496742, 2735494018, 3251102545, 2978730290, 3660046170,\n",
       "       1143609305, 2951649436,  343208965, 3055165772, 1422773200,\n",
       "       2947100995, 3290315626, 2587526707,  787824685, 4099262874,\n",
       "       1110543778, 3283584911, 3289144202, 3736064128, 2706377257,\n",
       "        926057494, 1830791924,  381340408,  611059232, 1460891116,\n",
       "       1722579998, 3379886002,  821846484, 4256040402, 2743474511,\n",
       "       2038680547, 1430210707, 3213691396, 3722682546,  749770631,\n",
       "       1738359350, 2254586615, 2458001652, 1211585711, 3967698036,\n",
       "        678354126,  991436984, 1219079053,  572335325,  732900740,\n",
       "       3891541246, 2874956069, 2892265953, 2303470071, 2583793022,\n",
       "       1581167209, 1737494355, 2785040378,  876081193, 3123255051,\n",
       "       1070130208, 1148665946,  138252163, 1129369369, 2668501323,\n",
       "       2871453277, 2125253600,  983496389, 1500448895, 2716752286,\n",
       "       2880866577,  622980798, 3656415546, 1306302251, 3199637546,\n",
       "        236764260, 2232111114, 2686716486, 2771749575, 2067508917,\n",
       "       2153871238, 2954449915,  737242975, 2927087541, 3086835579,\n",
       "         11685486, 4134011281, 3469608676, 3028866828,  248503091,\n",
       "       3778207363,  184835319,  238992583, 3234906277, 3950493862,\n",
       "       1687231984,  457167155, 2308309101, 4002369227,  895233158,\n",
       "       3386452937, 3265039507,  887812064, 2579882178, 3957174400,\n",
       "       2522140192,  467022501, 1229866403,  281523083, 1648269707,\n",
       "       1178217086, 1935367901, 3279802827, 2801638130, 3117119809,\n",
       "       2254456485, 2147998719, 2606208134,  387170777,  982374313,\n",
       "       3295038680, 4142693015, 2988190573, 2845785181, 3294921142,\n",
       "       1850778479, 2780786433, 3043080596, 3896738923, 3511496907,\n",
       "       2629148010, 2416662824, 3161387566, 1349865791, 2358787737,\n",
       "       3282099314, 3118528100,  818047933,  235366767, 3340403042,\n",
       "        182753106,  612505725, 2652835245, 1046398313, 2254875182,\n",
       "        910107897, 3891384992,  130417038, 1154728414, 2703178540,\n",
       "       1869662856, 2016864191, 2301937222, 2492519473, 2700670803,\n",
       "       2643391466, 1604176421,  749837663, 1917506191,  109615108,\n",
       "       1772171838, 2971471657, 1957949546, 2044997962, 3430457488,\n",
       "       1959144690,  181166394, 2618159035,  252987601, 3104896602,\n",
       "        858552794, 3127757912, 3353177029, 3160828523,  866305447,\n",
       "       3237158392, 3673190339, 1402025725, 1832798996, 2274825520,\n",
       "       4109358064, 1357170471, 3528043184, 4079050915, 3202540741,\n",
       "        994339272, 1890645762, 2288159513, 1414758703, 2168467118,\n",
       "       3146597820, 1333886533, 3985807412,  351125977, 3017378493,\n",
       "       3819243527, 3462462738,  537599508,  495712671,  517094627,\n",
       "       2744017357, 3212572194, 3504688413, 3937582421, 3951559397,\n",
       "       1937307986,   85103373, 3371539723,  865916592, 4027578749,\n",
       "       1159489312, 2108163459, 4038883307, 1617417821, 1744796792,\n",
       "        352377175, 2776274025,  393266494,  492739583, 2912540959,\n",
       "       4017075195, 1698039057, 3116822707, 3984495233, 1247895435,\n",
       "       2069923923, 2710478747,  417213830, 1367935136, 3908431265,\n",
       "       4144343220, 1052142804, 1452540367, 3928949490, 3660225571,\n",
       "       4087542339, 2430786771, 2054014923, 3540744920, 3719891787,\n",
       "       1555770826, 2705308997,  274717519,  199874245, 1831375989,\n",
       "       1049627981, 1938138695, 1485964287, 3177606451, 1224903511,\n",
       "       3637027427, 4223733735, 2248249182, 3616659553, 1229532929,\n",
       "       1378148355,  869044563, 1831140265, 3956892867, 4120364173,\n",
       "        442260868,  960782649, 1069983096,  178249104,  793112967,\n",
       "       4014197579,  366673373, 1476256851, 3133484003, 4095180727,\n",
       "        382846391, 2396121427, 3572819427,  907970812, 4266935830,\n",
       "       2393492379, 3072399624, 2803209166,  430948481, 2663297422,\n",
       "       2162698752, 1230306981, 1294878855, 2231749745,  358944393,\n",
       "       1614305549, 3659263677, 2046011647, 3607649875,    8300375,\n",
       "        759473111, 1426761187,  950626008, 3693438260, 2357168171,\n",
       "       2696599598,  296565978, 2546716293, 4062055840, 2561350211,\n",
       "        906523562,  477780734, 2605843205, 3323129950, 4133034833,\n",
       "       2633052872, 3321013705, 1255412427, 1398592185, 1544467991,\n",
       "       2924874435,  705680638, 1224575308, 2666068032, 2429822128,\n",
       "        589808731,  600964629,  329473477, 2486521341, 1668030113,\n",
       "       1011231197, 2698944478, 2065143173, 2888793654, 2188683977,\n",
       "        399216493, 3033962131, 3102053760, 3717692402, 2041539477,\n",
       "       3451176495, 1508900659, 3012531415, 3229395114, 4213333413,\n",
       "       1351898488,  645425477, 1539796403,  277405052,  627176112,\n",
       "       3766097110, 4237561104,  888420622, 3720590235, 3941795274,\n",
       "        471551937, 3263046761, 3281496343, 2082081961,  949750571,\n",
       "       3587733103, 2772153338, 1732269954, 2580341989, 1316129916,\n",
       "       3792964032,  980818195, 2217984702, 1981624632,  285030828,\n",
       "       2445531802, 1831956319, 1801183820, 1507665514,  947532470,\n",
       "       4278982564, 3979054828, 1009464434,  329726006, 3149228032,\n",
       "       2306096143, 2736682487, 3877129255, 2283224496,  467975735,\n",
       "       1677041464,  789265206, 2661240577, 1602967004, 2650211599,\n",
       "        151496413, 2840985286, 1909539331, 4144979507, 2902041511,\n",
       "       1184607010, 3101956850, 3941600282, 2733145037, 2158146269,\n",
       "        887908475, 1596446524, 3640080856,  635956745, 2440451175,\n",
       "       1174537443,  996668426, 2587333274, 2084876480, 3116161138,\n",
       "       3396460792, 4243832526, 3020644940,  721509856, 1900893596,\n",
       "        803709563, 4174346527, 2114962460,  321150727,   54447517,\n",
       "        300249313, 2592727107, 2261934787, 2600415354, 3612778094,\n",
       "       4076480073,  232979603,  551106609, 3613900590, 3788724847,\n",
       "       2152549680, 3301980586, 3972127743, 1859207151, 2304039735,\n",
       "       1212176445, 1404934699, 2219162270, 4259830713, 2507107988,\n",
       "       3044645888, 1576289054, 2138044356, 4163850406, 1388079388,\n",
       "       3115684948, 3359518621, 1495112755, 3476822370, 3112126740,\n",
       "       2993711540, 3826874025,  997945223, 3636615199, 1823887377,\n",
       "       1002877908, 2882903413, 1979878245, 1122598516,  276558944,\n",
       "       3062433592,  148427295, 1164614297, 1028756448, 3857916904,\n",
       "        399408949, 2115669947, 3359706893, 3409596883, 1604853044,\n",
       "       3598591418, 2749453459,   66685450,  187589092, 3221887237,\n",
       "       2134820861, 1307669133, 3160565905,  755881835,  583902904,\n",
       "       2761566146, 3622537133, 2412305169, 1948974149, 1484903144,\n",
       "       2654030115, 2695379936, 3950806039, 3963646447, 4186807279,\n",
       "        906754117, 1781647073, 2712142231, 1658204305, 2949041841,\n",
       "       1064078146, 1422476412,  963407295, 2710193528,  132143192,\n",
       "       1022829655,  370388673,  573423106], dtype=int64)"
      ]
     },
     "execution_count": 16,
     "metadata": {},
     "output_type": "execute_result"
    }
   ],
   "source": [
    "visitors_uniqueA = orders[orders['group'] =='A']['visitorId'].unique()\n",
    "visitors_uniqueB = orders[orders['group'] =='B']['visitorId'].unique()\n",
    "visitors_uniqueA # все номера пользователей из группы А"
   ]
  },
  {
   "cell_type": "code",
   "execution_count": 17,
   "metadata": {},
   "outputs": [
    {
     "name": "stdout",
     "output_type": "stream",
     "text": [
      "Количество повторяющихся пользователей 58\n"
     ]
    }
   ],
   "source": [
    "visitors_uniqueA_set = set(visitors_uniqueA)\n",
    "visitors_uniqueB_set = set(visitors_uniqueB)\n",
    "intersection = visitors_uniqueA_set & visitors_uniqueB_set\n",
    "intersection_list = list(intersection)\n",
    "\n",
    "print('Количество повторяющихся пользователей', len(intersection))\n",
    "\n",
    "# получилось найти количество повторений с использованием set"
   ]
  },
  {
   "cell_type": "markdown",
   "metadata": {},
   "source": [
    "58 пользователей попали и в группу A, и в группу B. \n",
    "\n",
    "Для дальнейшей работы с результатами A/B - тестирования, удалим данных пользователей"
   ]
  },
  {
   "cell_type": "code",
   "execution_count": 19,
   "metadata": {},
   "outputs": [],
   "source": [
    "for i in range(len(orders['visitorId'])):\n",
    "    if orders['visitorId'][i] in intersection_list:\n",
    "        orders.drop(index = i, inplace=True)"
   ]
  },
  {
   "cell_type": "code",
   "execution_count": 20,
   "metadata": {},
   "outputs": [
    {
     "data": {
      "text/plain": [
       "1016"
      ]
     },
     "execution_count": 20,
     "metadata": {},
     "output_type": "execute_result"
    }
   ],
   "source": [
    "len(orders) # осталось уникальных строк после удаления повторяющихся пользователей из групп А и B"
   ]
  },
  {
   "cell_type": "code",
   "execution_count": 21,
   "metadata": {},
   "outputs": [
    {
     "name": "stdout",
     "output_type": "stream",
     "text": [
      "Количество уникальных пользователей в группе А 445\n",
      "Количество уникальных пользователей в группе B 528\n"
     ]
    }
   ],
   "source": [
    "# Посчитаем количество уникальных строк в группах A и B\n",
    "print('Количество уникальных пользователей в группе А', len(orders[orders['group'] =='A']['visitorId'].unique()))\n",
    "print('Количество уникальных пользователей в группе B', len(orders[orders['group'] =='B']['visitorId'].unique()))"
   ]
  },
  {
   "cell_type": "markdown",
   "metadata": {},
   "source": [
    "В группе B оказалось больше пользователей, это может сказаться на результатах A/B теста"
   ]
  },
  {
   "cell_type": "markdown",
   "metadata": {},
   "source": [
    "## 1. Анализ графика кумулятивной выручки по группам"
   ]
  },
  {
   "cell_type": "code",
   "execution_count": 22,
   "metadata": {},
   "outputs": [
    {
     "data": {
      "text/html": [
       "<div>\n",
       "<style scoped>\n",
       "    .dataframe tbody tr th:only-of-type {\n",
       "        vertical-align: middle;\n",
       "    }\n",
       "\n",
       "    .dataframe tbody tr th {\n",
       "        vertical-align: top;\n",
       "    }\n",
       "\n",
       "    .dataframe thead th {\n",
       "        text-align: right;\n",
       "    }\n",
       "</style>\n",
       "<table border=\"1\" class=\"dataframe\">\n",
       "  <thead>\n",
       "    <tr style=\"text-align: right;\">\n",
       "      <th></th>\n",
       "      <th>date</th>\n",
       "      <th>group</th>\n",
       "      <th>orders</th>\n",
       "      <th>buyers</th>\n",
       "      <th>revenue</th>\n",
       "      <th>visitors</th>\n",
       "    </tr>\n",
       "  </thead>\n",
       "  <tbody>\n",
       "    <tr>\n",
       "      <th>0</th>\n",
       "      <td>2019-08-01</td>\n",
       "      <td>A</td>\n",
       "      <td>23</td>\n",
       "      <td>19</td>\n",
       "      <td>142779</td>\n",
       "      <td>719</td>\n",
       "    </tr>\n",
       "    <tr>\n",
       "      <th>1</th>\n",
       "      <td>2019-08-01</td>\n",
       "      <td>B</td>\n",
       "      <td>17</td>\n",
       "      <td>17</td>\n",
       "      <td>59758</td>\n",
       "      <td>713</td>\n",
       "    </tr>\n",
       "    <tr>\n",
       "      <th>2</th>\n",
       "      <td>2019-08-02</td>\n",
       "      <td>A</td>\n",
       "      <td>42</td>\n",
       "      <td>36</td>\n",
       "      <td>234381</td>\n",
       "      <td>1338</td>\n",
       "    </tr>\n",
       "    <tr>\n",
       "      <th>3</th>\n",
       "      <td>2019-08-02</td>\n",
       "      <td>B</td>\n",
       "      <td>40</td>\n",
       "      <td>39</td>\n",
       "      <td>221801</td>\n",
       "      <td>1294</td>\n",
       "    </tr>\n",
       "    <tr>\n",
       "      <th>4</th>\n",
       "      <td>2019-08-03</td>\n",
       "      <td>A</td>\n",
       "      <td>66</td>\n",
       "      <td>60</td>\n",
       "      <td>346854</td>\n",
       "      <td>1845</td>\n",
       "    </tr>\n",
       "  </tbody>\n",
       "</table>\n",
       "</div>"
      ],
      "text/plain": [
       "         date group  orders  buyers  revenue  visitors\n",
       "0  2019-08-01     A      23      19   142779       719\n",
       "1  2019-08-01     B      17      17    59758       713\n",
       "2  2019-08-02     A      42      36   234381      1338\n",
       "3  2019-08-02     B      40      39   221801      1294\n",
       "4  2019-08-03     A      66      60   346854      1845"
      ]
     },
     "execution_count": 22,
     "metadata": {},
     "output_type": "execute_result"
    }
   ],
   "source": [
    "# создаем массив уникальных пар значений дат и групп теста\n",
    "datesGroups = orders[['date','group']].drop_duplicates()\n",
    "\n",
    "# получаем агрегированные кумулятивные по дням данные о заказах \n",
    "ordersAggregated = datesGroups.apply(lambda x: orders[np.logical_and(orders['date'] <= x['date'], orders['group'] == x['group'])].agg({'date' : 'max', 'group' : 'max', 'transactionId' : 'nunique', 'visitorId' : 'nunique', 'revenue' : 'sum'}), axis=1).sort_values(by=['date','group'])\n",
    "\n",
    "# получаем агрегированные кумулятивные по дням данные о посетителях интернет-магазина \n",
    "visitorsAggregated = datesGroups.apply(lambda x: visitors[np.logical_and(visitors['date'] <= x['date'], visitors['group'] == x['group'])].agg({'date' : 'max', 'group' : 'max', 'visitors' : 'sum'}), axis=1).sort_values(by=['date','group'])\n",
    "\n",
    "# объединяем кумулятивные данные в одной таблице и присваиваем ее столбцам понятные названия\n",
    "cumulativeData = ordersAggregated.merge(visitorsAggregated, left_on=['date', 'group'], right_on=['date', 'group'])\n",
    "cumulativeData.columns = ['date', 'group', 'orders', 'buyers', 'revenue', 'visitors']\n",
    "\n",
    "cumulativeData.head(5)"
   ]
  },
  {
   "cell_type": "code",
   "execution_count": 23,
   "metadata": {},
   "outputs": [
    {
     "data": {
      "image/png": "[encoded data removed]",
      "text/plain": [
       "<Figure size 1440x720 with 1 Axes>"
      ]
     },
     "metadata": {
      "needs_background": "light"
     },
     "output_type": "display_data"
    }
   ],
   "source": [
    "# датафрейм с кумулятивным количеством заказов и кумулятивной выручкой по дням в группе А\n",
    "cumulativeRevenueA = cumulativeData[cumulativeData['group']=='A'][['date','revenue', 'orders']]\n",
    "\n",
    "# датафрейм с кумулятивным количеством заказов и кумулятивной выручкой по дням в группе B\n",
    "cumulativeRevenueB = cumulativeData[cumulativeData['group']=='B'][['date','revenue', 'orders']]\n",
    "\n",
    "plt.figure(figsize=(20, 10))\n",
    "# Строим график выручки группы А\n",
    "plt.plot(cumulativeRevenueA['date'], cumulativeRevenueA['revenue'], label='A')\n",
    "\n",
    "# Строим график выручки группы B\n",
    "plt.plot(cumulativeRevenueB['date'], cumulativeRevenueB['revenue'], label='B')\n",
    "plt.xticks(rotation=45) \n",
    "plt.title('Кумулятивная выручка по группам')\n",
    "plt.xlabel('Даты')\n",
    "plt.ylabel('Кумулятивная выручка')\n",
    "plt.legend();"
   ]
  },
  {
   "cell_type": "markdown",
   "metadata": {},
   "source": [
    "**Комментарий:**\n",
    "\n",
    "Кумулятивная выручка по группам до 12 августа - росла со сходной динамикой. 17 августа произошел резкий рост выручки в группе B, после этого кумулятивная выручка продолжила расти со сходным темпом в обеих группах.\n",
    "\n",
    "Есть предположение о том, что в группу B мог быть распределён клиенты с аномально высокой стоимостью заказа, которые сделали покупку 17 августа, что и отразилось на графике"
   ]
  },
  {
   "cell_type": "markdown",
   "metadata": {},
   "source": [
    "## 2. Анализ графика кумулятивного среднего чека по группам"
   ]
  },
  {
   "cell_type": "code",
   "execution_count": 24,
   "metadata": {},
   "outputs": [
    {
     "data": {
      "image/png": "[encoded data removed]",
      "text/plain": [
       "<Figure size 1440x720 with 1 Axes>"
      ]
     },
     "metadata": {
      "needs_background": "light"
     },
     "output_type": "display_data"
    }
   ],
   "source": [
    "plt.figure(figsize=(20, 10))\n",
    "plt.plot(cumulativeRevenueA['date'], cumulativeRevenueA['revenue']/cumulativeRevenueA['orders'], label='A')\n",
    "plt.plot(cumulativeRevenueB['date'], cumulativeRevenueB['revenue']/cumulativeRevenueB['orders'], label='B')\n",
    "plt.xticks(rotation=45)\n",
    "plt.title('Кумулятивный средний чек')\n",
    "plt.xlabel('Даты')\n",
    "plt.ylabel('Сумма')\n",
    "plt.legend();"
   ]
  },
  {
   "cell_type": "markdown",
   "metadata": {},
   "source": [
    "**Комментарий:**\n",
    "    \n",
    "По графику кумулятивного среднего чека до 17 августа наблюдается неоднозначная динамика по группам. \n",
    "В разные дни кумулятивный средний чек выше в то в одной, то в другой группе.\n",
    "\n",
    "17 августа наблюдается резкий рост кумулятивного среднего чека в группе B. Далее кумулятивный средний чек в группе B плавно снижается, в группе A - плавно возрастает.\n",
    "Возможно в группу B были распределены пользователи с аномально дорогими заказами или проводилась какая-либо акция, связанная с предметом исследования, которые попали в группу B"
   ]
  },
  {
   "cell_type": "markdown",
   "metadata": {},
   "source": [
    "## 3. Анализ графика относительного изменения кумулятивного среднего чека группы B к группе A"
   ]
  },
  {
   "cell_type": "code",
   "execution_count": 25,
   "metadata": {},
   "outputs": [
    {
     "data": {
      "image/png": "[encoded data removed]",
      "text/plain": [
       "<Figure size 1440x720 with 1 Axes>"
      ]
     },
     "metadata": {
      "needs_background": "light"
     },
     "output_type": "display_data"
    }
   ],
   "source": [
    "# собираем данные в одном датафрейме\n",
    "mergedCumulativeRevenue = cumulativeRevenueA.merge(cumulativeRevenueB, left_on='date', right_on='date', how='left', suffixes=['A', 'B'])\n",
    "\n",
    "# cтроим отношение средних чеков\n",
    "plt.figure(figsize=(20, 10))\n",
    "plt.plot(mergedCumulativeRevenue['date'], (mergedCumulativeRevenue['revenueB']/mergedCumulativeRevenue['ordersB'])/(mergedCumulativeRevenue['revenueA']/mergedCumulativeRevenue['ordersA'])-1)\n",
    "plt.xticks(rotation=45)\n",
    "# добавляем ось X\n",
    "plt.title('Относительное изменение кумулятивного среднего чека группы B к группе A')\n",
    "plt.xlabel('Даты')\n",
    "plt.ylabel('Относительное изменение')\n",
    "plt.axhline(y=0, color='black', linestyle='--');"
   ]
  },
  {
   "cell_type": "markdown",
   "metadata": {},
   "source": [
    "**Комментарий:**\n",
    "\n",
    "График различия между группами показывает волнообразную динамику. То выраженное увеличение среднего чека в группе B по сравнению с группой А. То, преимущество группы А. Причем после пика различия между группами A и B снижаются"
   ]
  },
  {
   "cell_type": "markdown",
   "metadata": {},
   "source": [
    "## 4. Анализ графика кумулятивной конверсии по группам"
   ]
  },
  {
   "cell_type": "code",
   "execution_count": 26,
   "metadata": {},
   "outputs": [
    {
     "data": {
      "image/png": "[encoded data removed]",
      "text/plain": [
       "<Figure size 1440x720 with 1 Axes>"
      ]
     },
     "metadata": {
      "needs_background": "light"
     },
     "output_type": "display_data"
    }
   ],
   "source": [
    "# считаем кумулятивную конверсию\n",
    "cumulativeData['conversion'] = cumulativeData['orders']/cumulativeData['visitors']\n",
    "\n",
    "# отделяем данные по группе A\n",
    "cumulativeDataA = cumulativeData[cumulativeData['group']=='A']\n",
    "\n",
    "# отделяем данные по группе B\n",
    "cumulativeDataB = cumulativeData[cumulativeData['group']=='B']\n",
    "\n",
    "# строим графики\n",
    "plt.figure(figsize=(20, 10))\n",
    "plt.plot(cumulativeDataA['date'], cumulativeDataA['conversion'], label='A')\n",
    "plt.plot(cumulativeDataB['date'], cumulativeDataB['conversion'], label='B')\n",
    "plt.xticks(rotation=45)\n",
    "plt.title('График кумулятивной конверсии по группам')\n",
    "plt.xlabel('Даты')\n",
    "plt.ylabel('Конверсия')\n",
    "plt.legend();"
   ]
  },
  {
   "cell_type": "markdown",
   "metadata": {},
   "source": [
    "**Комментарий:**\n",
    "\n",
    "До 06 августа значения конверсии в группах колебались. После 06 августа конверсия  в группе B стала стабильно превышать конверсию в группе А. То есть большее количество посетителей из группы B делали заказ, по сравнению с посетителями группы А.\n"
   ]
  },
  {
   "cell_type": "markdown",
   "metadata": {},
   "source": [
    "## 5. Анализ графика относительного изменения кумулятивной конверсии группы B к группе A"
   ]
  },
  {
   "cell_type": "code",
   "execution_count": 27,
   "metadata": {},
   "outputs": [
    {
     "data": {
      "image/png": "[encoded data removed]",
      "text/plain": [
       "<Figure size 1440x720 with 1 Axes>"
      ]
     },
     "metadata": {
      "needs_background": "light"
     },
     "output_type": "display_data"
    }
   ],
   "source": [
    "mergedCumulativeConversions = cumulativeDataA[['date','conversion']].merge(cumulativeDataB[['date','conversion']], left_on='date', right_on='date', how='left', suffixes=['A', 'B'])\n",
    "\n",
    "plt.figure(figsize=(20, 10))\n",
    "plt.plot(mergedCumulativeConversions['date'], mergedCumulativeConversions['conversionB']/mergedCumulativeConversions['conversionA']-1, label=\"Относительный прирост конверсии группы B относительно группы A\")\n",
    "plt.xticks(rotation=45)\n",
    "\n",
    "plt.axhline(y=0, color='black', linestyle='--')\n",
    "plt.axhline(y=-0.1, color='grey', linestyle='--')\n",
    "plt.title('Относительное изменение кумулятивной конверсии группы B к группе А')\n",
    "plt.xlabel('Даты')\n",
    "plt.ylabel('Относительное изменение')\n",
    "plt.legend();"
   ]
  },
  {
   "cell_type": "markdown",
   "metadata": {},
   "source": [
    "**Комментарий:**\n",
    "    \n",
    "После 05 августа конверсия в группе B стабильно превышает конверсию в группе А"
   ]
  },
  {
   "cell_type": "markdown",
   "metadata": {},
   "source": [
    "## 6. Анализ точечного графика количества заказов по пользователям"
   ]
  },
  {
   "cell_type": "code",
   "execution_count": 28,
   "metadata": {},
   "outputs": [
    {
     "name": "stdout",
     "output_type": "stream",
     "text": [
      "         userId  orders\n",
      "908  3967698036       3\n",
      "55    249864742       3\n",
      "478  2108163459       3\n",
      "687  2988190573       3\n",
      "890  3908431265       3\n",
      "138   611059232       3\n",
      "632  2742574263       3\n",
      "157   678354126       2\n",
      "323  1404560065       2\n",
      "452  1985475298       2\n"
     ]
    }
   ],
   "source": [
    "ordersByUsers = (\n",
    "    orders.groupby('visitorId', as_index=False)\n",
    "    .agg({'transactionId': 'nunique'})\n",
    ")\n",
    "\n",
    "ordersByUsers.columns = ['userId', 'orders']\n",
    "\n",
    "print(ordersByUsers.sort_values(by='orders', ascending=False).head(10))"
   ]
  },
  {
   "cell_type": "code",
   "execution_count": 29,
   "metadata": {},
   "outputs": [
    {
     "data": {
      "image/png": "[encoded data removed]",
      "text/plain": [
       "<Figure size 1440x720 with 1 Axes>"
      ]
     },
     "metadata": {
      "needs_background": "light"
     },
     "output_type": "display_data"
    }
   ],
   "source": [
    "x_values = pd.Series(range(0,len(ordersByUsers)))\n",
    "plt.figure(figsize=(20, 10))\n",
    "plt.scatter(x_values, ordersByUsers['orders']) \n",
    "plt.title('Точечный график распределения количества заказов пользователей')\n",
    "plt.xlabel('Номер пользователя')\n",
    "plt.ylabel('Количество заказов');"
   ]
  },
  {
   "cell_type": "markdown",
   "metadata": {},
   "source": [
    "**Комментарий:**\n",
    "\n",
    "На точечном графике мы видим, что большинство пользователей делает одну покупку, часть пользователей - две.\n",
    "И только единичные пользователи совершают более 2 покупок"
   ]
  },
  {
   "cell_type": "markdown",
   "metadata": {},
   "source": [
    "## 7.  Расчёт 95-ого и 99-ого перцентиля количества заказов на пользователя. Определение границы аномальных пользователей."
   ]
  },
  {
   "cell_type": "code",
   "execution_count": 30,
   "metadata": {},
   "outputs": [
    {
     "name": "stdout",
     "output_type": "stream",
     "text": [
      "[1. 1. 2.]\n"
     ]
    }
   ],
   "source": [
    "print(np.percentile(ordersByUsers['orders'], [90, 95, 99])) # аномальный пользователь - 2 и более заказов"
   ]
  },
  {
   "cell_type": "markdown",
   "metadata": {},
   "source": [
    "**Комментарий:**\n",
    "    \n",
    "С учётом точечного графика количества заказов и рассчитанных перцентилей, предлагаю рассматривать в качестве аномальных 2 и более заказа, поскольку их доля составляет не более 5% "
   ]
  },
  {
   "cell_type": "markdown",
   "metadata": {},
   "source": [
    "## 8. Анализ точечного графика стоимостей заказов"
   ]
  },
  {
   "cell_type": "code",
   "execution_count": 31,
   "metadata": {},
   "outputs": [
    {
     "data": {
      "image/png": "[encoded data removed]",
      "text/plain": [
       "<Figure size 1440x720 with 1 Axes>"
      ]
     },
     "metadata": {
      "needs_background": "light"
     },
     "output_type": "display_data"
    }
   ],
   "source": [
    "x_values = pd.Series(range(0,len(orders['revenue'])))\n",
    "plt.figure(figsize=(20, 10))\n",
    "plt.scatter(x_values, orders['revenue']) \n",
    "plt.title('Точечный график распределения стоимости заказов')\n",
    "plt.xlabel('Номер пользователя')\n",
    "plt.ylabel('Стоимость заказов');"
   ]
  },
  {
   "cell_type": "code",
   "execution_count": 32,
   "metadata": {},
   "outputs": [
    {
     "data": {
      "text/plain": [
       "8300.814960629921"
      ]
     },
     "execution_count": 32,
     "metadata": {},
     "output_type": "execute_result"
    }
   ],
   "source": [
    "orders['revenue'].mean()"
   ]
  },
  {
   "cell_type": "code",
   "execution_count": 33,
   "metadata": {},
   "outputs": [
    {
     "data": {
      "text/plain": [
       "2955.0"
      ]
     },
     "execution_count": 33,
     "metadata": {},
     "output_type": "execute_result"
    }
   ],
   "source": [
    "orders['revenue'].median()"
   ]
  },
  {
   "cell_type": "code",
   "execution_count": 34,
   "metadata": {},
   "outputs": [
    {
     "data": {
      "text/plain": [
       "max    1294500\n",
       "min         50\n",
       "Name: revenue, dtype: int64"
      ]
     },
     "execution_count": 34,
     "metadata": {},
     "output_type": "execute_result"
    }
   ],
   "source": [
    "orders['revenue'].agg([max, min])"
   ]
  },
  {
   "cell_type": "markdown",
   "metadata": {},
   "source": [
    "**Комментарий:**\n",
    "    \n",
    "Судя по графику стоимость большинства заказов не превышают 20000. При этом есть отдельные заказы существенно превышающие эту сумму, например, на 1 294 500 рублей (стоимость максимального заказа)"
   ]
  },
  {
   "cell_type": "markdown",
   "metadata": {},
   "source": [
    "## 9. Расчёт 95-ого и 99-ого перцентиля стоимости заказов. Определение границы для  аномальных заказов."
   ]
  },
  {
   "cell_type": "code",
   "execution_count": 35,
   "metadata": {},
   "outputs": [
    {
     "name": "stdout",
     "output_type": "stream",
     "text": [
      "[17990. 26785. 53904.]\n"
     ]
    }
   ],
   "source": [
    "print(np.percentile(orders['revenue'], [90, 95, 99])) ## граница стоимости аномальных заказов более 26785 рублей"
   ]
  },
  {
   "cell_type": "markdown",
   "metadata": {},
   "source": [
    "**Комментарий:**\n",
    "\n",
    "90% заказов попадают в диапазон до 17990 рублей. Только 1% заказов  оказываются выше 53904. Предлагаю рассматривать в качестве типовых заказов все на сумму не более 26785, чтобы не терять более 5% от количества заказов"
   ]
  },
  {
   "cell_type": "markdown",
   "metadata": {},
   "source": [
    "## 10. Анализ статистической значимости различий в конверсии между группами по «сырым» данным"
   ]
  },
  {
   "cell_type": "markdown",
   "metadata": {},
   "source": [
    "Для проверки статистической значимости применим критерии Манна-Уитни. Выберем уровень статистической значимости - 5%\n",
    "\n",
    "**Нулевая гипотеза:**   \n",
    "Конверсия между группами теста не отличается\n",
    "\n",
    "\n",
    "**Альтернативная шипотеза:**   \n",
    "Конверсия между группами теста значимо отличается при альфа = 0.05"
   ]
  },
  {
   "cell_type": "code",
   "execution_count": 36,
   "metadata": {},
   "outputs": [
    {
     "name": "stdout",
     "output_type": "stream",
     "text": [
      "         date  ordersPerDateA  revenuePerDateA  ordersPerDateB  \\\n",
      "0  2019-08-01              23           142779              17   \n",
      "1  2019-08-02              19            91602              23   \n",
      "2  2019-08-03              24           112473              14   \n",
      "3  2019-08-04              11            41176              14   \n",
      "4  2019-08-05              22            86383              21   \n",
      "\n",
      "   revenuePerDateB  ordersCummulativeA  revenueCummulativeA  \\\n",
      "0            59758                  23               142779   \n",
      "1           162043                  42               234381   \n",
      "2            67049                  66               346854   \n",
      "3            96890                  77               388030   \n",
      "4            89908                  99               474413   \n",
      "\n",
      "   ordersCummulativeB  revenueCummulativeB  visitorsPerDateA  \\\n",
      "0                  17                59758               719   \n",
      "1                  40               221801               619   \n",
      "2                  54               288850               507   \n",
      "3                  68               385740               717   \n",
      "4                  89               475648               756   \n",
      "\n",
      "   visitorsPerDateB  visitorsCummulativeA  visitorsCummulativeB  \n",
      "0               713                   719                   713  \n",
      "1               581                  1338                  1294  \n",
      "2               509                  1845                  1803  \n",
      "3               770                  2562                  2573  \n",
      "4               707                  3318                  3280  \n"
     ]
    }
   ],
   "source": [
    "visitorsADaily = visitors[visitors['group'] == 'A'][['date', 'visitors']]\n",
    "visitorsADaily.columns = ['date', 'visitorsPerDateA']\n",
    "\n",
    "visitorsACummulative = visitorsADaily.apply(\n",
    "    lambda x: visitorsADaily[visitorsADaily['date'] <= x['date']].agg(\n",
    "        {'date': 'max', 'visitorsPerDateA': 'sum'}\n",
    "    ),\n",
    "    axis=1,\n",
    ")\n",
    "visitorsACummulative.columns = ['date', 'visitorsCummulativeA']\n",
    "\n",
    "visitorsBDaily = visitors[visitors['group'] == 'B'][['date', 'visitors']]\n",
    "visitorsBDaily.columns = ['date', 'visitorsPerDateB']\n",
    "\n",
    "visitorsBCummulative = visitorsBDaily.apply(\n",
    "    lambda x: visitorsBDaily[visitorsBDaily['date'] <= x['date']].agg(\n",
    "        {'date': 'max', 'visitorsPerDateB': 'sum'}\n",
    "    ),\n",
    "    axis=1,\n",
    ")\n",
    "visitorsBCummulative.columns = ['date', 'visitorsCummulativeB']\n",
    "\n",
    "ordersADaily = (\n",
    "    orders[orders['group'] == 'A'][['date', 'transactionId', 'visitorId', 'revenue']]\n",
    "    .groupby('date', as_index=False)\n",
    "    .agg({'transactionId': pd.Series.nunique, 'revenue': 'sum'})\n",
    ")\n",
    "ordersADaily.columns = ['date', 'ordersPerDateA', 'revenuePerDateA']\n",
    "\n",
    "ordersACummulative = ordersADaily.apply(\n",
    "    lambda x: ordersADaily[ordersADaily['date'] <= x['date']].agg(\n",
    "        {'date': 'max', 'ordersPerDateA': 'sum', 'revenuePerDateA': 'sum'}\n",
    "    ),\n",
    "    axis=1,\n",
    ").sort_values(by=['date'])\n",
    "ordersACummulative.columns = [\n",
    "    'date',\n",
    "    'ordersCummulativeA',\n",
    "    'revenueCummulativeA',\n",
    "]\n",
    "\n",
    "ordersBDaily = (\n",
    "    orders[orders['group'] == 'B'][['date', 'transactionId', 'visitorId', 'revenue']]\n",
    "    .groupby('date', as_index=False)\n",
    "    .agg({'transactionId': pd.Series.nunique, 'revenue': 'sum'})\n",
    ")\n",
    "ordersBDaily.columns = ['date', 'ordersPerDateB', 'revenuePerDateB']\n",
    "\n",
    "ordersBCummulative = ordersBDaily.apply(\n",
    "    lambda x: ordersBDaily[ordersBDaily['date'] <= x['date']].agg(\n",
    "        {'date': 'max', 'ordersPerDateB': 'sum', 'revenuePerDateB': 'sum'}\n",
    "    ),\n",
    "    axis=1,\n",
    ").sort_values(by=['date'])\n",
    "ordersBCummulative.columns = [\n",
    "    'date',\n",
    "    'ordersCummulativeB',\n",
    "    'revenueCummulativeB',\n",
    "]\n",
    "\n",
    "data = (\n",
    "    ordersADaily.merge(\n",
    "        ordersBDaily, left_on='date', right_on='date', how='left'\n",
    "    )\n",
    "    .merge(ordersACummulative, left_on='date', right_on='date', how='left')\n",
    "    .merge(ordersBCummulative, left_on='date', right_on='date', how='left')\n",
    "    .merge(visitorsADaily, left_on='date', right_on='date', how='left')\n",
    "    .merge(visitorsBDaily, left_on='date', right_on='date', how='left')\n",
    "    .merge(visitorsACummulative, left_on='date', right_on='date', how='left')\n",
    "    .merge(visitorsBCummulative, left_on='date', right_on='date', how='left')\n",
    ")\n",
    "\n",
    "print(data.head(5)) "
   ]
  },
  {
   "cell_type": "code",
   "execution_count": 38,
   "metadata": {},
   "outputs": [
    {
     "name": "stdout",
     "output_type": "stream",
     "text": [
      "p-value при проверке значимости различий конверсии между группами 0.006\n",
      "Относительно изменение конверсии: 16.0%\n"
     ]
    }
   ],
   "source": [
    "#'transactionId', 'visitorId'\n",
    "ordersByUsersA = (\n",
    "    orders[orders['group'] == 'A']\n",
    "    .groupby('visitorId', as_index=False)\n",
    "    .agg({'transactionId': pd.Series.nunique})\n",
    ")\n",
    "ordersByUsersA.columns = ['userId', 'orders']\n",
    "\n",
    "ordersByUsersB = (\n",
    "    orders[orders['group'] == 'B']\n",
    "    .groupby('visitorId', as_index=False)\n",
    "    .agg({'transactionId': pd.Series.nunique})\n",
    ")\n",
    "ordersByUsersB.columns = ['userId', 'orders']\n",
    "\n",
    "sampleA = pd.concat(\n",
    "    [\n",
    "        ordersByUsersA['orders'],\n",
    "        pd.Series(\n",
    "            0,\n",
    "            index=np.arange(\n",
    "                data['visitorsPerDateA'].sum() - len(ordersByUsersA['orders'])\n",
    "            ),\n",
    "            name='orders',\n",
    "        ),\n",
    "    ],\n",
    "    axis=0,\n",
    ")\n",
    "\n",
    "sampleB = pd.concat(\n",
    "    [\n",
    "        ordersByUsersB['orders'],\n",
    "        pd.Series(\n",
    "            0,\n",
    "            index=np.arange(\n",
    "                data['visitorsPerDateB'].sum() - len(ordersByUsersB['orders'])\n",
    "            ),\n",
    "            name='orders',\n",
    "        ),\n",
    "    ],\n",
    "    axis=0,\n",
    ")\n",
    "\n",
    "print('p-value при проверке значимости различий конверсии между группами', \"{0:.3f}\".format(stats.mannwhitneyu(sampleA, sampleB)[1]))\n",
    "\n",
    "print(f\"Относительно изменение конверсии: {sampleB.mean() / sampleA.mean() - 1:.1%}\")"
   ]
  },
  {
   "cell_type": "markdown",
   "metadata": {},
   "source": [
    "**Комментарий:**\n",
    "\n",
    "По результатам статистического теста на основе \"сырых\" данных подтвердились значимые различии в конверсии пользователей в группе В, которое наблюдалось на графиках"
   ]
  },
  {
   "cell_type": "code",
   "execution_count": 39,
   "metadata": {},
   "outputs": [
    {
     "name": "stdout",
     "output_type": "stream",
     "text": [
      "Относительно изменение конверсии: 16.0%\n"
     ]
    }
   ],
   "source": [
    "# КОД РЕВЬЮВЕРА\n",
    "print(f\"Относительно изменение конверсии: {sampleB.mean() / sampleA.mean() - 1:.1%}\")\n"
   ]
  },
  {
   "cell_type": "markdown",
   "metadata": {},
   "source": [
    "## 11. Анализ статистической значимости различий в среднем чеке заказа между группами по «сырым» данным. Сделайте выводы и предположения."
   ]
  },
  {
   "cell_type": "markdown",
   "metadata": {},
   "source": [
    "Для проверки статистической значимости применим критерии Манна-Уитни. Выберем уровень статистической значимости - 5%\n",
    "\n",
    "**Нулевая гипотеза:**   \n",
    "Средний чек между группами теста не отличается\n",
    "\n",
    "\n",
    "**Альтернативная шипотеза:**   \n",
    "Есть различия между группами в размере среднего чека"
   ]
  },
  {
   "cell_type": "code",
   "execution_count": 40,
   "metadata": {},
   "outputs": [
    {
     "name": "stdout",
     "output_type": "stream",
     "text": [
      "p-value при проверке значимости различий в размере среднего чека между группами 0.415\n",
      "Относительный прирост в размере среднего чека для группы B по сравнению с группой А 0.287\n"
     ]
    }
   ],
   "source": [
    "print('p-value при проверке значимости различий в размере среднего чека между группами', '{0:.3f}'.format(stats.mannwhitneyu(orders[orders['group']=='A']['revenue'], orders[orders['group']=='B']['revenue'])[1]))\n",
    "print('Относительный прирост в размере среднего чека для группы B по сравнению с группой А','{0:.3f}'.format(orders[orders['group']=='B']['revenue'].mean()/orders[orders['group']=='A']['revenue'].mean()-1)) "
   ]
  },
  {
   "cell_type": "markdown",
   "metadata": {},
   "source": [
    "**Комментарий:**\n",
    "    \n",
    "При этом на основане \"сырых\" данных не выявлено статистически значимых различий между группами в средней стоимости заказов"
   ]
  },
  {
   "cell_type": "markdown",
   "metadata": {},
   "source": [
    "## 12. Анализ статистической значимости различий в конверсии между группами по «очищенным» данным. Сделайте выводы и предположения."
   ]
  },
  {
   "cell_type": "markdown",
   "metadata": {},
   "source": [
    "Для проверки статистической значимости применим критерии Манна-Уитни. Выберем уровень статистической значимости - 5%\n",
    "\n",
    "**Нулевая гипотеза:**   \n",
    "Конверсия между группами теста не отличается при использовании \"очищенных\" данных\n",
    "\n",
    "\n",
    "**Альтернативная шипотеза:**   \n",
    "Конверсия между группами теста значимо отличается при альфа = 0.05 (при использовании очищенных данных)"
   ]
  },
  {
   "cell_type": "code",
   "execution_count": 41,
   "metadata": {},
   "outputs": [
    {
     "name": "stdout",
     "output_type": "stream",
     "text": [
      "568     113298937\n",
      "1099    148427295\n",
      "928     204675465\n",
      "33      249864742\n",
      "684     358944393\n",
      "dtype: int64\n",
      "Количество аномальных пользователей с заданными критериями (более 1 заказа, на сумму более 26785) 86\n"
     ]
    }
   ],
   "source": [
    "usersWithManyOrders = pd.concat(\n",
    "    [\n",
    "        ordersByUsersA[ordersByUsersA['orders'] > 1]['userId'],\n",
    "        ordersByUsersB[ordersByUsersB['orders'] > 1]['userId'],\n",
    "    ],\n",
    "    axis=0,\n",
    ")\n",
    "\n",
    "REVENUE_THRESHOLD = int(orders['revenue'].quantile(0.95))\n",
    "\n",
    "usersWithExpensiveOrders = orders[orders['revenue'] > REVENUE_THRESHOLD]['visitorId']\n",
    "abnormalUsers = (\n",
    "    pd.concat([usersWithManyOrders, usersWithExpensiveOrders], axis=0)\n",
    "    .drop_duplicates()\n",
    "    .sort_values()\n",
    ")\n",
    "print(abnormalUsers.head(5))\n",
    "print('Количество аномальных пользователей с заданными критериями (более 1 заказа, на сумму более 26785)', abnormalUsers.shape[0]) "
   ]
  },
  {
   "cell_type": "markdown",
   "metadata": {},
   "source": [
    "**Комментарий:**\n",
    "\n",
    "Получено 86 аномальных пользователей, при ограничении - более 1 заказа стоимостью более 26785.    \n",
    "Получено 58 аномальных пользователей, при ограничении - более 2 заказа стоимостью более 26785.\n",
    "\n",
    "Продолжим анализ с более строгим ограниченеим, исключим 86 пользователей."
   ]
  },
  {
   "cell_type": "code",
   "execution_count": 42,
   "metadata": {},
   "outputs": [],
   "source": [
    "sampleAFiltered = pd.concat(\n",
    "    [\n",
    "        ordersByUsersA[\n",
    "            np.logical_not(ordersByUsersA['userId'].isin(abnormalUsers))\n",
    "        ]['orders'],\n",
    "        pd.Series(\n",
    "            0,\n",
    "            index=np.arange(\n",
    "                data['visitorsPerDateA'].sum() - len(ordersByUsersA['orders'])\n",
    "            ),\n",
    "            name='orders',\n",
    "        ),\n",
    "    ],\n",
    "    axis=0,\n",
    ")\n",
    "\n",
    "sampleBFiltered = pd.concat(\n",
    "    [\n",
    "        ordersByUsersB[\n",
    "            np.logical_not(ordersByUsersB['userId'].isin(abnormalUsers))\n",
    "        ]['orders'],\n",
    "        pd.Series(\n",
    "            0,\n",
    "            index=np.arange(\n",
    "                data['visitorsPerDateB'].sum() - len(ordersByUsersB['orders'])\n",
    "            ),\n",
    "            name='orders',\n",
    "        ),\n",
    "    ],\n",
    "    axis=0,\n",
    ") "
   ]
  },
  {
   "cell_type": "code",
   "execution_count": 43,
   "metadata": {},
   "outputs": [
    {
     "name": "stdout",
     "output_type": "stream",
     "text": [
      "p-value при проверке значимости различий конверсии между группами на очищенных данных 0.008\n",
      "Относительно изменение конверсии при использовании очищенных данных: 17.4%\n"
     ]
    }
   ],
   "source": [
    "print('p-value при проверке значимости различий конверсии между группами на очищенных данных', '{0:.3f}'.format(stats.mannwhitneyu(sampleAFiltered, sampleBFiltered)[1]))\n",
    "print(f\"Относительно изменение конверсии при использовании очищенных данных: {sampleBFiltered.mean() / sampleAFiltered.mean() - 1:.1%}\")"
   ]
  },
  {
   "cell_type": "markdown",
   "metadata": {},
   "source": [
    "**Комментарий:**\n",
    "\n",
    "Подтверждены значимые различия в конверсии между двумя группами после удаления 86 аномальных пользователей"
   ]
  },
  {
   "cell_type": "markdown",
   "metadata": {},
   "source": [
    "## 13. Анализ статистической значимости различий в среднем чеке заказа между группами по «очищенным» данным"
   ]
  },
  {
   "cell_type": "markdown",
   "metadata": {},
   "source": [
    "Для проверки статистической значимости применим критерии Манна-Уитни. Выберем уровень статистической значимости - 5%\n",
    "\n",
    "**Нулевая гипотеза:**   \n",
    "Средний чек между группами теста не отличается\n",
    "\n",
    "\n",
    "**Альтернативная шипотеза:**   \n",
    "Есть различия между группами в размере среднего чека"
   ]
  },
  {
   "cell_type": "code",
   "execution_count": 44,
   "metadata": {},
   "outputs": [
    {
     "name": "stdout",
     "output_type": "stream",
     "text": [
      "p-value при проверке значимости различий в размере среднего чека между группами на очищенных данных 0.364\n",
      "Относительное различие в среднем чеке между группами на очищенных данных -0.034\n"
     ]
    }
   ],
   "source": [
    "print('p-value при проверке значимости различий в размере среднего чека между группами на очищенных данных',\n",
    "    '{0:.3f}'.format(\n",
    "        stats.mannwhitneyu(\n",
    "            orders[\n",
    "                np.logical_and(\n",
    "                    orders['group'] == 'A',\n",
    "                    np.logical_not(orders['visitorId'].isin(abnormalUsers)),\n",
    "                )\n",
    "            ]['revenue'],\n",
    "            orders[\n",
    "                np.logical_and(\n",
    "                    orders['group'] == 'B',\n",
    "                    np.logical_not(orders['visitorId'].isin(abnormalUsers)),\n",
    "                )\n",
    "            ]['revenue'],\n",
    "        )[1]\n",
    "    )\n",
    ")\n",
    "\n",
    "print('Относительное различие в среднем чеке между группами на очищенных данных',\n",
    "    \"{0:.3f}\".format(\n",
    "        orders[\n",
    "            np.logical_and(\n",
    "                orders['group'] == 'B',\n",
    "                np.logical_not(orders['visitorId'].isin(abnormalUsers)),\n",
    "            )\n",
    "        ]['revenue'].mean()\n",
    "        / orders[\n",
    "            np.logical_and(\n",
    "                orders['group'] == 'A',\n",
    "                np.logical_not(orders['visitorId'].isin(abnormalUsers)),\n",
    "            )\n",
    "        ]['revenue'].mean()\n",
    "        - 1\n",
    "    )\n",
    ") "
   ]
  },
  {
   "cell_type": "markdown",
   "metadata": {},
   "source": [
    "**Комментарий:**\n",
    "\n",
    "После удаления аномальных пользователей не выявлены значимые различия между группами A и B по средней стоимости заказа. \n"
   ]
  },
  {
   "cell_type": "markdown",
   "metadata": {},
   "source": [
    "## 14. Предложение о решении по результатам теста "
   ]
  },
  {
   "cell_type": "markdown",
   "metadata": {},
   "source": [
    "## Описание результатов анализа A/B-теста:\n",
    "\n",
    "1. Выявлены пользователи, которые попали одновременно в обе группы. Пользователи были исключены из анализа, общее количество данных сократилось приблизительно на 10%\n",
    "\n",
    "\n",
    "2. В группе B после удаления одинаковых пользователей, больше участников, чем в группе А. Различия в численности групп могут сказываться на результатах статистических тестов\n",
    "\n",
    "\n",
    "3. В группу B попал пользователь с заказом более 1 млн.рублей, что искажает расчет кумулятивных данных\n",
    "\n",
    "\n",
    "4. На \"сырых\" и \"очищенных\" данных выявлено значимое отличие между конверсией в двух группах. В группе B - конверсия значимо выше\n",
    "\n",
    "\n",
    "5. На \"сырых\" и \"очищенных\" данных НЕ выявлено значимых различий между средней стоимостью заказа.\n",
    "    \n",
    "    \n",
    "**Вывод:**\n",
    "Поскольку анализ проводится не на уникальных пользователях, а на данных посещений, можно остановить тест и использовать имеющиеся данные для получения выводов. Поскольку конверсия в группе B выше при той же стоимости заказа, компания получает больше выручки. Далее оправдано применение пользовательского пути, который предлагался группе B\n"
   ]
  }
 ],
 "metadata": {
  "ExecuteTimeLog": [
   {
    "duration": 1190,
    "start_time": "2022-07-27T08:54:01.029Z"
   },
   {
    "duration": 223,
    "start_time": "2022-07-27T08:54:02.221Z"
   },
   {
    "duration": 4,
    "start_time": "2022-07-27T08:54:02.447Z"
   },
   {
    "duration": 35,
    "start_time": "2022-07-27T08:54:02.454Z"
   },
   {
    "duration": 7,
    "start_time": "2022-07-27T08:54:02.491Z"
   },
   {
    "duration": 9,
    "start_time": "2022-07-27T08:54:02.500Z"
   },
   {
    "duration": 26,
    "start_time": "2022-07-27T08:54:02.511Z"
   },
   {
    "duration": 9,
    "start_time": "2022-07-27T08:54:02.538Z"
   },
   {
    "duration": 18,
    "start_time": "2022-07-27T08:54:02.549Z"
   },
   {
    "duration": 6,
    "start_time": "2022-07-27T08:54:02.569Z"
   },
   {
    "duration": 9,
    "start_time": "2022-07-27T08:54:02.578Z"
   },
   {
    "duration": 9,
    "start_time": "2022-07-27T08:54:02.589Z"
   },
   {
    "duration": 9,
    "start_time": "2022-07-27T08:54:02.599Z"
   },
   {
    "duration": 29,
    "start_time": "2022-07-27T08:54:02.610Z"
   },
   {
    "duration": 12,
    "start_time": "2022-07-27T08:54:02.640Z"
   },
   {
    "duration": 92,
    "start_time": "2022-07-27T08:54:02.654Z"
   },
   {
    "duration": 4,
    "start_time": "2022-07-27T08:54:02.748Z"
   },
   {
    "duration": 12,
    "start_time": "2022-07-27T08:54:02.753Z"
   },
   {
    "duration": 304,
    "start_time": "2022-07-27T08:54:02.767Z"
   },
   {
    "duration": 353,
    "start_time": "2022-07-27T08:54:03.073Z"
   },
   {
    "duration": 353,
    "start_time": "2022-07-27T08:54:03.428Z"
   },
   {
    "duration": 439,
    "start_time": "2022-07-27T08:54:03.783Z"
   },
   {
    "duration": 424,
    "start_time": "2022-07-27T08:54:04.223Z"
   },
   {
    "duration": 467,
    "start_time": "2022-07-27T08:54:04.649Z"
   },
   {
    "duration": 11,
    "start_time": "2022-07-27T08:54:05.117Z"
   },
   {
    "duration": 204,
    "start_time": "2022-07-27T08:54:05.137Z"
   },
   {
    "duration": 5,
    "start_time": "2022-07-27T08:54:05.346Z"
   },
   {
    "duration": 192,
    "start_time": "2022-07-27T08:54:05.353Z"
   },
   {
    "duration": 6,
    "start_time": "2022-07-27T08:54:05.549Z"
   },
   {
    "duration": 9,
    "start_time": "2022-07-27T08:54:05.556Z"
   },
   {
    "duration": 21,
    "start_time": "2022-07-27T08:54:05.568Z"
   },
   {
    "duration": 6,
    "start_time": "2022-07-27T08:54:05.590Z"
   },
   {
    "duration": 208,
    "start_time": "2022-07-27T08:54:05.598Z"
   },
   {
    "duration": 270,
    "start_time": "2022-07-27T08:54:05.807Z"
   },
   {
    "duration": 9,
    "start_time": "2022-07-27T08:54:06.079Z"
   },
   {
    "duration": 9,
    "start_time": "2022-07-27T08:54:06.089Z"
   },
   {
    "duration": 12,
    "start_time": "2022-07-27T08:54:06.099Z"
   },
   {
    "duration": 58,
    "start_time": "2022-07-27T08:54:06.112Z"
   },
   {
    "duration": 13,
    "start_time": "2022-07-27T08:54:06.174Z"
   },
   {
    "duration": 4,
    "start_time": "2022-07-27T09:22:23.045Z"
   },
   {
    "duration": 1272,
    "start_time": "2022-07-31T05:32:45.642Z"
   },
   {
    "duration": 227,
    "start_time": "2022-07-31T05:32:46.916Z"
   },
   {
    "duration": 4,
    "start_time": "2022-07-31T05:32:47.145Z"
   },
   {
    "duration": 31,
    "start_time": "2022-07-31T05:32:47.151Z"
   },
   {
    "duration": 10,
    "start_time": "2022-07-31T05:32:47.184Z"
   },
   {
    "duration": 6,
    "start_time": "2022-07-31T05:32:47.196Z"
   },
   {
    "duration": 14,
    "start_time": "2022-07-31T05:32:47.204Z"
   },
   {
    "duration": 11,
    "start_time": "2022-07-31T05:32:47.219Z"
   },
   {
    "duration": 41,
    "start_time": "2022-07-31T05:32:47.232Z"
   },
   {
    "duration": 7,
    "start_time": "2022-07-31T05:32:47.277Z"
   },
   {
    "duration": 12,
    "start_time": "2022-07-31T05:32:47.285Z"
   },
   {
    "duration": 10,
    "start_time": "2022-07-31T05:32:47.299Z"
   },
   {
    "duration": 6,
    "start_time": "2022-07-31T05:32:47.311Z"
   },
   {
    "duration": 9,
    "start_time": "2022-07-31T05:32:47.319Z"
   },
   {
    "duration": 6,
    "start_time": "2022-07-31T05:32:47.330Z"
   },
   {
    "duration": 7,
    "start_time": "2022-07-31T05:32:47.338Z"
   },
   {
    "duration": 37,
    "start_time": "2022-07-31T05:32:47.346Z"
   },
   {
    "duration": 9,
    "start_time": "2022-07-31T05:32:47.384Z"
   },
   {
    "duration": 6,
    "start_time": "2022-07-31T05:32:47.395Z"
   },
   {
    "duration": 98,
    "start_time": "2022-07-31T05:32:47.403Z"
   },
   {
    "duration": 4,
    "start_time": "2022-07-31T05:32:47.503Z"
   },
   {
    "duration": 7,
    "start_time": "2022-07-31T05:32:47.508Z"
   },
   {
    "duration": 246,
    "start_time": "2022-07-31T05:32:47.517Z"
   },
   {
    "duration": 326,
    "start_time": "2022-07-31T05:32:47.765Z"
   },
   {
    "duration": 316,
    "start_time": "2022-07-31T05:32:48.092Z"
   },
   {
    "duration": 461,
    "start_time": "2022-07-31T05:32:48.409Z"
   },
   {
    "duration": 340,
    "start_time": "2022-07-31T05:32:48.872Z"
   },
   {
    "duration": 443,
    "start_time": "2022-07-31T05:32:49.215Z"
   },
   {
    "duration": 15,
    "start_time": "2022-07-31T05:32:49.659Z"
   },
   {
    "duration": 185,
    "start_time": "2022-07-31T05:32:49.676Z"
   },
   {
    "duration": 12,
    "start_time": "2022-07-31T05:32:49.863Z"
   },
   {
    "duration": 181,
    "start_time": "2022-07-31T05:32:49.876Z"
   },
   {
    "duration": 4,
    "start_time": "2022-07-31T05:32:50.059Z"
   },
   {
    "duration": 12,
    "start_time": "2022-07-31T05:32:50.065Z"
   },
   {
    "duration": 13,
    "start_time": "2022-07-31T05:32:50.079Z"
   },
   {
    "duration": 11,
    "start_time": "2022-07-31T05:32:50.094Z"
   },
   {
    "duration": 195,
    "start_time": "2022-07-31T05:32:50.107Z"
   },
   {
    "duration": 149,
    "start_time": "2022-07-31T05:32:50.304Z"
   },
   {
    "duration": 4,
    "start_time": "2022-07-31T05:32:50.455Z"
   },
   {
    "duration": 22,
    "start_time": "2022-07-31T05:32:50.460Z"
   },
   {
    "duration": 13,
    "start_time": "2022-07-31T05:32:50.484Z"
   },
   {
    "duration": 21,
    "start_time": "2022-07-31T05:32:50.499Z"
   },
   {
    "duration": 30,
    "start_time": "2022-07-31T05:32:50.522Z"
   },
   {
    "duration": 20,
    "start_time": "2022-07-31T05:32:50.554Z"
   },
   {
    "duration": 193,
    "start_time": "2022-07-31T05:35:20.241Z"
   },
   {
    "duration": 138,
    "start_time": "2022-07-31T05:35:36.728Z"
   },
   {
    "duration": 189,
    "start_time": "2022-07-31T05:35:37.689Z"
   },
   {
    "duration": 10,
    "start_time": "2022-07-31T05:37:08.269Z"
   },
   {
    "duration": 11,
    "start_time": "2022-07-31T05:37:11.002Z"
   },
   {
    "duration": 12,
    "start_time": "2022-07-31T05:37:24.591Z"
   },
   {
    "duration": 1078,
    "start_time": "2022-07-31T05:39:41.307Z"
   },
   {
    "duration": 115,
    "start_time": "2022-07-31T05:39:42.387Z"
   },
   {
    "duration": 4,
    "start_time": "2022-07-31T05:39:42.503Z"
   },
   {
    "duration": 27,
    "start_time": "2022-07-31T05:39:42.510Z"
   },
   {
    "duration": 7,
    "start_time": "2022-07-31T05:39:42.538Z"
   },
   {
    "duration": 7,
    "start_time": "2022-07-31T05:39:42.547Z"
   },
   {
    "duration": 9,
    "start_time": "2022-07-31T05:39:42.556Z"
   },
   {
    "duration": 9,
    "start_time": "2022-07-31T05:39:42.572Z"
   },
   {
    "duration": 53,
    "start_time": "2022-07-31T05:39:42.583Z"
   },
   {
    "duration": 235,
    "start_time": "2022-07-31T05:39:42.638Z"
   },
   {
    "duration": 14,
    "start_time": "2022-07-31T05:39:42.875Z"
   },
   {
    "duration": 7,
    "start_time": "2022-07-31T05:39:42.890Z"
   },
   {
    "duration": 10,
    "start_time": "2022-07-31T05:39:42.898Z"
   },
   {
    "duration": 8,
    "start_time": "2022-07-31T05:39:42.910Z"
   },
   {
    "duration": 12,
    "start_time": "2022-07-31T05:39:42.920Z"
   },
   {
    "duration": 9,
    "start_time": "2022-07-31T05:39:42.934Z"
   },
   {
    "duration": 8,
    "start_time": "2022-07-31T05:39:42.973Z"
   },
   {
    "duration": 14,
    "start_time": "2022-07-31T05:39:42.983Z"
   },
   {
    "duration": 13,
    "start_time": "2022-07-31T05:39:42.999Z"
   },
   {
    "duration": 11,
    "start_time": "2022-07-31T05:39:43.014Z"
   },
   {
    "duration": 14,
    "start_time": "2022-07-31T05:39:43.026Z"
   },
   {
    "duration": 8,
    "start_time": "2022-07-31T05:39:43.041Z"
   },
   {
    "duration": 101,
    "start_time": "2022-07-31T05:39:43.050Z"
   },
   {
    "duration": 4,
    "start_time": "2022-07-31T05:39:43.154Z"
   },
   {
    "duration": 17,
    "start_time": "2022-07-31T05:39:43.159Z"
   },
   {
    "duration": 251,
    "start_time": "2022-07-31T05:39:43.178Z"
   },
   {
    "duration": 304,
    "start_time": "2022-07-31T05:39:43.430Z"
   },
   {
    "duration": 295,
    "start_time": "2022-07-31T05:39:43.737Z"
   },
   {
    "duration": 417,
    "start_time": "2022-07-31T05:39:44.034Z"
   },
   {
    "duration": 340,
    "start_time": "2022-07-31T05:39:44.452Z"
   },
   {
    "duration": 397,
    "start_time": "2022-07-31T05:39:44.794Z"
   },
   {
    "duration": 10,
    "start_time": "2022-07-31T05:39:45.193Z"
   },
   {
    "duration": 200,
    "start_time": "2022-07-31T05:39:45.204Z"
   },
   {
    "duration": 6,
    "start_time": "2022-07-31T05:39:45.407Z"
   },
   {
    "duration": 269,
    "start_time": "2022-07-31T05:39:45.415Z"
   },
   {
    "duration": 4,
    "start_time": "2022-07-31T05:39:45.686Z"
   },
   {
    "duration": 8,
    "start_time": "2022-07-31T05:39:45.692Z"
   },
   {
    "duration": 7,
    "start_time": "2022-07-31T05:39:45.702Z"
   },
   {
    "duration": 7,
    "start_time": "2022-07-31T05:39:45.710Z"
   },
   {
    "duration": 223,
    "start_time": "2022-07-31T05:39:45.719Z"
   },
   {
    "duration": 129,
    "start_time": "2022-07-31T05:39:45.944Z"
   },
   {
    "duration": 3,
    "start_time": "2022-07-31T05:39:46.075Z"
   },
   {
    "duration": 14,
    "start_time": "2022-07-31T05:39:46.080Z"
   },
   {
    "duration": 11,
    "start_time": "2022-07-31T05:39:46.096Z"
   },
   {
    "duration": 19,
    "start_time": "2022-07-31T05:39:46.108Z"
   },
   {
    "duration": 24,
    "start_time": "2022-07-31T05:39:46.129Z"
   },
   {
    "duration": 25,
    "start_time": "2022-07-31T05:39:46.155Z"
   },
   {
    "duration": 1143,
    "start_time": "2022-07-31T05:40:07.130Z"
   },
   {
    "duration": 135,
    "start_time": "2022-07-31T05:40:08.276Z"
   },
   {
    "duration": 4,
    "start_time": "2022-07-31T05:40:08.412Z"
   },
   {
    "duration": 43,
    "start_time": "2022-07-31T05:40:08.419Z"
   },
   {
    "duration": 45,
    "start_time": "2022-07-31T05:40:08.463Z"
   },
   {
    "duration": 34,
    "start_time": "2022-07-31T05:40:08.510Z"
   },
   {
    "duration": 13,
    "start_time": "2022-07-31T05:40:08.547Z"
   },
   {
    "duration": 31,
    "start_time": "2022-07-31T05:40:08.561Z"
   },
   {
    "duration": 84,
    "start_time": "2022-07-31T05:40:08.594Z"
   },
   {
    "duration": 315,
    "start_time": "2022-07-31T05:40:08.682Z"
   },
   {
    "duration": 14,
    "start_time": "2022-07-31T05:40:08.999Z"
   },
   {
    "duration": 42,
    "start_time": "2022-07-31T05:40:09.015Z"
   },
   {
    "duration": 37,
    "start_time": "2022-07-31T05:40:09.059Z"
   },
   {
    "duration": 35,
    "start_time": "2022-07-31T05:40:09.099Z"
   },
   {
    "duration": 30,
    "start_time": "2022-07-31T05:40:09.136Z"
   },
   {
    "duration": 37,
    "start_time": "2022-07-31T05:40:09.170Z"
   },
   {
    "duration": 15,
    "start_time": "2022-07-31T05:40:09.209Z"
   },
   {
    "duration": 64,
    "start_time": "2022-07-31T05:40:09.226Z"
   },
   {
    "duration": 53,
    "start_time": "2022-07-31T05:40:09.292Z"
   },
   {
    "duration": 61,
    "start_time": "2022-07-31T05:40:09.347Z"
   },
   {
    "duration": 53,
    "start_time": "2022-07-31T05:40:09.409Z"
   },
   {
    "duration": 37,
    "start_time": "2022-07-31T05:40:09.463Z"
   },
   {
    "duration": 85,
    "start_time": "2022-07-31T05:40:09.502Z"
   },
   {
    "duration": 4,
    "start_time": "2022-07-31T05:40:09.589Z"
   },
   {
    "duration": 36,
    "start_time": "2022-07-31T05:40:09.595Z"
   },
   {
    "duration": 254,
    "start_time": "2022-07-31T05:40:09.633Z"
   },
   {
    "duration": 304,
    "start_time": "2022-07-31T05:40:09.888Z"
   },
   {
    "duration": 322,
    "start_time": "2022-07-31T05:40:10.197Z"
   },
   {
    "duration": 416,
    "start_time": "2022-07-31T05:40:10.521Z"
   },
   {
    "duration": 357,
    "start_time": "2022-07-31T05:40:10.939Z"
   },
   {
    "duration": 469,
    "start_time": "2022-07-31T05:40:11.299Z"
   },
   {
    "duration": 9,
    "start_time": "2022-07-31T05:40:11.770Z"
   },
   {
    "duration": 208,
    "start_time": "2022-07-31T05:40:11.781Z"
   },
   {
    "duration": 3,
    "start_time": "2022-07-31T05:40:11.991Z"
   },
   {
    "duration": 316,
    "start_time": "2022-07-31T05:40:11.996Z"
   },
   {
    "duration": 4,
    "start_time": "2022-07-31T05:40:12.313Z"
   },
   {
    "duration": 27,
    "start_time": "2022-07-31T05:40:12.319Z"
   },
   {
    "duration": 49,
    "start_time": "2022-07-31T05:40:12.348Z"
   },
   {
    "duration": 29,
    "start_time": "2022-07-31T05:40:12.404Z"
   },
   {
    "duration": 206,
    "start_time": "2022-07-31T05:40:12.435Z"
   },
   {
    "duration": 168,
    "start_time": "2022-07-31T05:40:12.644Z"
   },
   {
    "duration": 4,
    "start_time": "2022-07-31T05:40:12.814Z"
   },
   {
    "duration": 35,
    "start_time": "2022-07-31T05:40:12.820Z"
   },
   {
    "duration": 26,
    "start_time": "2022-07-31T05:40:12.857Z"
   },
   {
    "duration": 24,
    "start_time": "2022-07-31T05:40:12.884Z"
   },
   {
    "duration": 49,
    "start_time": "2022-07-31T05:40:12.909Z"
   },
   {
    "duration": 45,
    "start_time": "2022-07-31T05:40:12.960Z"
   },
   {
    "duration": 12,
    "start_time": "2022-07-31T05:42:26.425Z"
   },
   {
    "duration": 8,
    "start_time": "2022-07-31T05:44:56.441Z"
   },
   {
    "duration": 1182,
    "start_time": "2022-07-31T05:45:08.589Z"
   },
   {
    "duration": 931,
    "start_time": "2022-07-31T05:45:12.908Z"
   },
   {
    "duration": 8,
    "start_time": "2022-07-31T05:45:15.999Z"
   },
   {
    "duration": 7,
    "start_time": "2022-07-31T05:45:26.926Z"
   }
  ],
  "kernelspec": {
   "display_name": "Python 3",
   "language": "python",
   "name": "python3"
  },
  "language_info": {
   "codemirror_mode": {
    "name": "ipython",
    "version": 3
   },
   "file_extension": ".py",
   "mimetype": "text/x-python",
   "name": "python",
   "nbconvert_exporter": "python",
   "pygments_lexer": "ipython3",
   "version": "3.8.2"
  },
  "toc": {
   "base_numbering": 1,
   "nav_menu": {},
   "number_sections": true,
   "sideBar": true,
   "skip_h1_title": true,
   "title_cell": "Table of Contents",
   "title_sidebar": "Contents",
   "toc_cell": false,
   "toc_position": {},
   "toc_section_display": true,
   "toc_window_display": false
  }
 },
 "nbformat": 4,
 "nbformat_minor": 4
}
