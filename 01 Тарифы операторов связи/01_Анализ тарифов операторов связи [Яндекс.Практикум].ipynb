{
 "cells": [
  {
   "cell_type": "markdown",
   "metadata": {},
   "source": [
    "# Анализ тарифных планов оператора связи [Яндекс.практикум]"
   ]
  },
  {
   "cell_type": "markdown",
   "metadata": {},
   "source": [
    "### Описание проекта\n",
    "\n",
    "Вы аналитик компании «Мегалайн» — федерального оператора сотовой связи. Клиентам предлагают два тарифных плана: «Смарт» и «Ультра». Чтобы скорректировать рекламный бюджет, коммерческий департамент хочет понять, какой тариф приносит больше денег.\n",
    "Вам предстоит сделать предварительный анализ тарифов на небольшой выборке клиентов. В вашем распоряжении данные 500 пользователей «Мегалайна»: кто они, откуда, каким тарифом пользуются, сколько звонков и сообщений каждый отправил за 2018 год. Нужно проанализировать поведение клиентов и сделать вывод — какой тариф лучше.\n"
   ]
  },
  {
   "cell_type": "markdown",
   "metadata": {},
   "source": [
    "### Задача проекта:\n",
    "На основе данных клиентов оператора сотовой связи проанализировать поведение клиентов и поиск оптимального тарифа\n",
    "\n",
    "### Описние проекта:\n",
    "Проведен предварительный анализ использования тарифов на выборке клиентов, проанализировано поведение клиентов при использовании услуг оператора и рекомендованы оптимальные наборы услуг для пользователей. Проведена предобработка\n",
    "данных, их анализ. Проверены гипотезы о различии выручки абонентов разных тарифов и различии выручки абонентов из Москвы и других регионов."
   ]
  },
  {
   "cell_type": "markdown",
   "metadata": {},
   "source": [
    "# Загрузка и общая информация о данных"
   ]
  },
  {
   "cell_type": "code",
   "execution_count": 1,
   "metadata": {},
   "outputs": [
    {
     "name": "stdout",
     "output_type": "stream",
     "text": [
      "<class 'pandas.core.frame.DataFrame'>\n",
      "RangeIndex: 500 entries, 0 to 499\n",
      "Data columns (total 8 columns):\n",
      " #   Column      Non-Null Count  Dtype \n",
      "---  ------      --------------  ----- \n",
      " 0   user_id     500 non-null    int64 \n",
      " 1   age         500 non-null    int64 \n",
      " 2   churn_date  38 non-null     object\n",
      " 3   city        500 non-null    object\n",
      " 4   first_name  500 non-null    object\n",
      " 5   last_name   500 non-null    object\n",
      " 6   reg_date    500 non-null    object\n",
      " 7   tariff      500 non-null    object\n",
      "dtypes: int64(2), object(6)\n",
      "memory usage: 31.4+ KB\n",
      "None\n",
      " \n",
      "<class 'pandas.core.frame.DataFrame'>\n",
      "RangeIndex: 202607 entries, 0 to 202606\n",
      "Data columns (total 4 columns):\n",
      " #   Column     Non-Null Count   Dtype  \n",
      "---  ------     --------------   -----  \n",
      " 0   id         202607 non-null  object \n",
      " 1   call_date  202607 non-null  object \n",
      " 2   duration   202607 non-null  float64\n",
      " 3   user_id    202607 non-null  int64  \n",
      "dtypes: float64(1), int64(1), object(2)\n",
      "memory usage: 6.2+ MB\n",
      "None\n",
      " \n",
      "<class 'pandas.core.frame.DataFrame'>\n",
      "Int64Index: 149396 entries, 0 to 149395\n",
      "Data columns (total 4 columns):\n",
      " #   Column        Non-Null Count   Dtype  \n",
      "---  ------        --------------   -----  \n",
      " 0   id            149396 non-null  object \n",
      " 1   mb_used       149396 non-null  float64\n",
      " 2   session_date  149396 non-null  object \n",
      " 3   user_id       149396 non-null  int64  \n",
      "dtypes: float64(1), int64(1), object(2)\n",
      "memory usage: 5.7+ MB\n",
      "None\n",
      " \n",
      "<class 'pandas.core.frame.DataFrame'>\n",
      "RangeIndex: 123036 entries, 0 to 123035\n",
      "Data columns (total 3 columns):\n",
      " #   Column        Non-Null Count   Dtype \n",
      "---  ------        --------------   ----- \n",
      " 0   id            123036 non-null  object\n",
      " 1   message_date  123036 non-null  object\n",
      " 2   user_id       123036 non-null  int64 \n",
      "dtypes: int64(1), object(2)\n",
      "memory usage: 2.8+ MB\n",
      "None\n",
      " \n",
      "<class 'pandas.core.frame.DataFrame'>\n",
      "RangeIndex: 2 entries, 0 to 1\n",
      "Data columns (total 8 columns):\n",
      " #   Column                 Non-Null Count  Dtype \n",
      "---  ------                 --------------  ----- \n",
      " 0   messages_included      2 non-null      int64 \n",
      " 1   mb_per_month_included  2 non-null      int64 \n",
      " 2   minutes_included       2 non-null      int64 \n",
      " 3   rub_monthly_fee        2 non-null      int64 \n",
      " 4   rub_per_gb             2 non-null      int64 \n",
      " 5   rub_per_message        2 non-null      int64 \n",
      " 6   rub_per_minute         2 non-null      int64 \n",
      " 7   tariff_name            2 non-null      object\n",
      "dtypes: int64(7), object(1)\n",
      "memory usage: 256.0+ bytes\n",
      "None\n"
     ]
    }
   ],
   "source": [
    "import pandas as pd\n",
    "import seaborn as sns\n",
    "import numpy as np\n",
    "import matplotlib.pyplot as plt\n",
    "from scipy import stats as st\n",
    "\n",
    "try:\n",
    "    users = pd.read_csv('/datasets/users.csv')\n",
    "    calls = pd.read_csv('/datasets/calls.csv')\n",
    "    internet = pd.read_csv('/datasets/internet.csv', index_col=0)\n",
    "    messages = pd.read_csv('/datasets/messages.csv')\n",
    "    tariffs = pd.read_csv('/datasets/tariffs.csv')\n",
    "except:\n",
    "    users = pd.read_csv('users.csv')\n",
    "    calls = pd.read_csv('calls.csv')\n",
    "    internet = pd.read_csv('internet.csv', index_col=0)\n",
    "    messages = pd.read_csv('messages.csv')\n",
    "    tariffs = pd.read_csv('tariffs.csv')\n",
    "\n",
    "print(users.info())\n",
    "print(' ')\n",
    "print(calls.info())\n",
    "print(' ')\n",
    "print(internet.info())\n",
    "print(' ')\n",
    "print(messages.info())\n",
    "print(' ')\n",
    "print(tariffs.info())"
   ]
  },
  {
   "cell_type": "markdown",
   "metadata": {},
   "source": [
    "__Вывод:__\n",
    "- Данные включают 5 отдельных наборов\n",
    "- Польльватели могут быть идентифицированы в разных наборов благодаря сквозному `user_id`\n",
    "- Всего представлена информация о 500 пользователях\n",
    "- В наборах данных о потребленном количестве минут, смс, интернета представлена информация о звонках / сессиях в течение каждого месяца - отдельными строками, когда пользователель использовал тариф. Для дальнейшей работы необходимо обобщить данные по кользователю и месяцу\n",
    "- в таблице `internet` есть потенциально ненужный столбец `Unnamed: 0`"
   ]
  },
  {
   "cell_type": "markdown",
   "metadata": {},
   "source": [
    "# Подготовка данных"
   ]
  },
  {
   "cell_type": "markdown",
   "metadata": {},
   "source": [
    "## Очистим таблицы, приведем данные к нужным типам"
   ]
  },
  {
   "cell_type": "markdown",
   "metadata": {},
   "source": [
    "Проверим длительность звонков в минутах, округлим вверх до целого значения"
   ]
  },
  {
   "cell_type": "code",
   "execution_count": 2,
   "metadata": {},
   "outputs": [
    {
     "data": {
      "text/plain": [
       "0          0.00\n",
       "1          0.00\n",
       "2          2.85\n",
       "3         13.80\n",
       "4          5.18\n",
       "          ...  \n",
       "202602     0.76\n",
       "202603    18.83\n",
       "202604    10.81\n",
       "202605     4.27\n",
       "202606    19.62\n",
       "Name: duration, Length: 202607, dtype: float64"
      ]
     },
     "execution_count": 2,
     "metadata": {},
     "output_type": "execute_result"
    }
   ],
   "source": [
    "calls['duration']"
   ]
  },
  {
   "cell_type": "code",
   "execution_count": 3,
   "metadata": {},
   "outputs": [
    {
     "data": {
      "text/plain": [
       "0          0.0\n",
       "1          0.0\n",
       "2          3.0\n",
       "3         14.0\n",
       "4          6.0\n",
       "          ... \n",
       "202602     1.0\n",
       "202603    19.0\n",
       "202604    11.0\n",
       "202605     5.0\n",
       "202606    20.0\n",
       "Name: duration, Length: 202607, dtype: float64"
      ]
     },
     "execution_count": 3,
     "metadata": {},
     "output_type": "execute_result"
    }
   ],
   "source": [
    "calls['duration'] = np.ceil(calls['duration'])\n",
    "calls['duration']  # получили целые значения, округлённые вверх - по правилам тарифа"
   ]
  },
  {
   "cell_type": "markdown",
   "metadata": {},
   "source": [
    "Преобразуем столбец с отображением даты звонка, создадим отдельные переменные для месяца в таблицах calls, internet, messages"
   ]
  },
  {
   "cell_type": "code",
   "execution_count": 4,
   "metadata": {},
   "outputs": [
    {
     "data": {
      "text/html": [
       "<div>\n",
       "<style scoped>\n",
       "    .dataframe tbody tr th:only-of-type {\n",
       "        vertical-align: middle;\n",
       "    }\n",
       "\n",
       "    .dataframe tbody tr th {\n",
       "        vertical-align: top;\n",
       "    }\n",
       "\n",
       "    .dataframe thead th {\n",
       "        text-align: right;\n",
       "    }\n",
       "</style>\n",
       "<table border=\"1\" class=\"dataframe\">\n",
       "  <thead>\n",
       "    <tr style=\"text-align: right;\">\n",
       "      <th></th>\n",
       "      <th>id</th>\n",
       "      <th>call_date</th>\n",
       "      <th>duration</th>\n",
       "      <th>user_id</th>\n",
       "      <th>month</th>\n",
       "    </tr>\n",
       "  </thead>\n",
       "  <tbody>\n",
       "    <tr>\n",
       "      <th>0</th>\n",
       "      <td>1000_0</td>\n",
       "      <td>2018-07-25</td>\n",
       "      <td>0.0</td>\n",
       "      <td>1000</td>\n",
       "      <td>7</td>\n",
       "    </tr>\n",
       "    <tr>\n",
       "      <th>1</th>\n",
       "      <td>1000_1</td>\n",
       "      <td>2018-08-17</td>\n",
       "      <td>0.0</td>\n",
       "      <td>1000</td>\n",
       "      <td>8</td>\n",
       "    </tr>\n",
       "    <tr>\n",
       "      <th>2</th>\n",
       "      <td>1000_2</td>\n",
       "      <td>2018-06-11</td>\n",
       "      <td>3.0</td>\n",
       "      <td>1000</td>\n",
       "      <td>6</td>\n",
       "    </tr>\n",
       "    <tr>\n",
       "      <th>3</th>\n",
       "      <td>1000_3</td>\n",
       "      <td>2018-09-21</td>\n",
       "      <td>14.0</td>\n",
       "      <td>1000</td>\n",
       "      <td>9</td>\n",
       "    </tr>\n",
       "    <tr>\n",
       "      <th>4</th>\n",
       "      <td>1000_4</td>\n",
       "      <td>2018-12-15</td>\n",
       "      <td>6.0</td>\n",
       "      <td>1000</td>\n",
       "      <td>12</td>\n",
       "    </tr>\n",
       "  </tbody>\n",
       "</table>\n",
       "</div>"
      ],
      "text/plain": [
       "       id  call_date  duration  user_id  month\n",
       "0  1000_0 2018-07-25       0.0     1000      7\n",
       "1  1000_1 2018-08-17       0.0     1000      8\n",
       "2  1000_2 2018-06-11       3.0     1000      6\n",
       "3  1000_3 2018-09-21      14.0     1000      9\n",
       "4  1000_4 2018-12-15       6.0     1000     12"
      ]
     },
     "execution_count": 4,
     "metadata": {},
     "output_type": "execute_result"
    }
   ],
   "source": [
    "calls['call_date'] = pd.to_datetime(calls['call_date'],format='%Y-%m-%d')\n",
    "calls['month'] = pd.DatetimeIndex(calls['call_date']).month\n",
    "\n",
    "calls.head()"
   ]
  },
  {
   "cell_type": "code",
   "execution_count": 5,
   "metadata": {},
   "outputs": [
    {
     "data": {
      "text/html": [
       "<div>\n",
       "<style scoped>\n",
       "    .dataframe tbody tr th:only-of-type {\n",
       "        vertical-align: middle;\n",
       "    }\n",
       "\n",
       "    .dataframe tbody tr th {\n",
       "        vertical-align: top;\n",
       "    }\n",
       "\n",
       "    .dataframe thead th {\n",
       "        text-align: right;\n",
       "    }\n",
       "</style>\n",
       "<table border=\"1\" class=\"dataframe\">\n",
       "  <thead>\n",
       "    <tr style=\"text-align: right;\">\n",
       "      <th></th>\n",
       "      <th>id</th>\n",
       "      <th>mb_used</th>\n",
       "      <th>session_date</th>\n",
       "      <th>user_id</th>\n",
       "      <th>month</th>\n",
       "    </tr>\n",
       "  </thead>\n",
       "  <tbody>\n",
       "    <tr>\n",
       "      <th>0</th>\n",
       "      <td>1000_0</td>\n",
       "      <td>112.95</td>\n",
       "      <td>2018-11-25</td>\n",
       "      <td>1000</td>\n",
       "      <td>11</td>\n",
       "    </tr>\n",
       "    <tr>\n",
       "      <th>1</th>\n",
       "      <td>1000_1</td>\n",
       "      <td>1052.81</td>\n",
       "      <td>2018-09-07</td>\n",
       "      <td>1000</td>\n",
       "      <td>9</td>\n",
       "    </tr>\n",
       "    <tr>\n",
       "      <th>2</th>\n",
       "      <td>1000_2</td>\n",
       "      <td>1197.26</td>\n",
       "      <td>2018-06-25</td>\n",
       "      <td>1000</td>\n",
       "      <td>6</td>\n",
       "    </tr>\n",
       "    <tr>\n",
       "      <th>3</th>\n",
       "      <td>1000_3</td>\n",
       "      <td>550.27</td>\n",
       "      <td>2018-08-22</td>\n",
       "      <td>1000</td>\n",
       "      <td>8</td>\n",
       "    </tr>\n",
       "    <tr>\n",
       "      <th>4</th>\n",
       "      <td>1000_4</td>\n",
       "      <td>302.56</td>\n",
       "      <td>2018-09-24</td>\n",
       "      <td>1000</td>\n",
       "      <td>9</td>\n",
       "    </tr>\n",
       "  </tbody>\n",
       "</table>\n",
       "</div>"
      ],
      "text/plain": [
       "       id  mb_used session_date  user_id  month\n",
       "0  1000_0   112.95   2018-11-25     1000     11\n",
       "1  1000_1  1052.81   2018-09-07     1000      9\n",
       "2  1000_2  1197.26   2018-06-25     1000      6\n",
       "3  1000_3   550.27   2018-08-22     1000      8\n",
       "4  1000_4   302.56   2018-09-24     1000      9"
      ]
     },
     "execution_count": 5,
     "metadata": {},
     "output_type": "execute_result"
    }
   ],
   "source": [
    "internet['session_date'] = pd.to_datetime(internet['session_date'],format='%Y-%m-%d')\n",
    "internet['month'] = pd.DatetimeIndex(internet['session_date']).month\n",
    "\n",
    "internet.head()"
   ]
  },
  {
   "cell_type": "code",
   "execution_count": 6,
   "metadata": {},
   "outputs": [
    {
     "data": {
      "text/html": [
       "<div>\n",
       "<style scoped>\n",
       "    .dataframe tbody tr th:only-of-type {\n",
       "        vertical-align: middle;\n",
       "    }\n",
       "\n",
       "    .dataframe tbody tr th {\n",
       "        vertical-align: top;\n",
       "    }\n",
       "\n",
       "    .dataframe thead th {\n",
       "        text-align: right;\n",
       "    }\n",
       "</style>\n",
       "<table border=\"1\" class=\"dataframe\">\n",
       "  <thead>\n",
       "    <tr style=\"text-align: right;\">\n",
       "      <th></th>\n",
       "      <th>id</th>\n",
       "      <th>message_date</th>\n",
       "      <th>user_id</th>\n",
       "      <th>month</th>\n",
       "    </tr>\n",
       "  </thead>\n",
       "  <tbody>\n",
       "    <tr>\n",
       "      <th>0</th>\n",
       "      <td>1000_0</td>\n",
       "      <td>2018-06-27</td>\n",
       "      <td>1000</td>\n",
       "      <td>6</td>\n",
       "    </tr>\n",
       "    <tr>\n",
       "      <th>1</th>\n",
       "      <td>1000_1</td>\n",
       "      <td>2018-10-08</td>\n",
       "      <td>1000</td>\n",
       "      <td>10</td>\n",
       "    </tr>\n",
       "    <tr>\n",
       "      <th>2</th>\n",
       "      <td>1000_2</td>\n",
       "      <td>2018-08-04</td>\n",
       "      <td>1000</td>\n",
       "      <td>8</td>\n",
       "    </tr>\n",
       "    <tr>\n",
       "      <th>3</th>\n",
       "      <td>1000_3</td>\n",
       "      <td>2018-06-16</td>\n",
       "      <td>1000</td>\n",
       "      <td>6</td>\n",
       "    </tr>\n",
       "    <tr>\n",
       "      <th>4</th>\n",
       "      <td>1000_4</td>\n",
       "      <td>2018-12-05</td>\n",
       "      <td>1000</td>\n",
       "      <td>12</td>\n",
       "    </tr>\n",
       "  </tbody>\n",
       "</table>\n",
       "</div>"
      ],
      "text/plain": [
       "       id message_date  user_id  month\n",
       "0  1000_0   2018-06-27     1000      6\n",
       "1  1000_1   2018-10-08     1000     10\n",
       "2  1000_2   2018-08-04     1000      8\n",
       "3  1000_3   2018-06-16     1000      6\n",
       "4  1000_4   2018-12-05     1000     12"
      ]
     },
     "execution_count": 6,
     "metadata": {},
     "output_type": "execute_result"
    }
   ],
   "source": [
    "messages['message_date'] = pd.to_datetime(messages['message_date'],format='%Y-%m-%d')\n",
    "messages['month'] = pd.DatetimeIndex(messages['message_date']).month\n",
    "\n",
    "messages.head()"
   ]
  },
  {
   "cell_type": "markdown",
   "metadata": {},
   "source": [
    "## Создадим отдельные датафреймы  с объединёнными данными по пользователю и месяцу"
   ]
  },
  {
   "cell_type": "markdown",
   "metadata": {},
   "source": [
    "Для каждой из таблиц - calls, internet, messages - создадим новую таблицу по user_id и month, просуммируем переменные указывающие на количество использованного трафика в каждой таблице для calls, internet, для messages - посчитаем количество строк id"
   ]
  },
  {
   "cell_type": "code",
   "execution_count": 7,
   "metadata": {},
   "outputs": [
    {
     "data": {
      "text/html": [
       "<div>\n",
       "<style scoped>\n",
       "    .dataframe tbody tr th:only-of-type {\n",
       "        vertical-align: middle;\n",
       "    }\n",
       "\n",
       "    .dataframe tbody tr th {\n",
       "        vertical-align: top;\n",
       "    }\n",
       "\n",
       "    .dataframe thead th {\n",
       "        text-align: right;\n",
       "    }\n",
       "</style>\n",
       "<table border=\"1\" class=\"dataframe\">\n",
       "  <thead>\n",
       "    <tr style=\"text-align: right;\">\n",
       "      <th></th>\n",
       "      <th>user_id</th>\n",
       "      <th>month</th>\n",
       "      <th>duration</th>\n",
       "    </tr>\n",
       "  </thead>\n",
       "  <tbody>\n",
       "    <tr>\n",
       "      <th>0</th>\n",
       "      <td>1000</td>\n",
       "      <td>5</td>\n",
       "      <td>159.0</td>\n",
       "    </tr>\n",
       "    <tr>\n",
       "      <th>1</th>\n",
       "      <td>1000</td>\n",
       "      <td>6</td>\n",
       "      <td>172.0</td>\n",
       "    </tr>\n",
       "    <tr>\n",
       "      <th>2</th>\n",
       "      <td>1000</td>\n",
       "      <td>7</td>\n",
       "      <td>340.0</td>\n",
       "    </tr>\n",
       "  </tbody>\n",
       "</table>\n",
       "</div>"
      ],
      "text/plain": [
       "   user_id  month  duration\n",
       "0     1000      5     159.0\n",
       "1     1000      6     172.0\n",
       "2     1000      7     340.0"
      ]
     },
     "metadata": {},
     "output_type": "display_data"
    },
    {
     "data": {
      "text/html": [
       "<div>\n",
       "<style scoped>\n",
       "    .dataframe tbody tr th:only-of-type {\n",
       "        vertical-align: middle;\n",
       "    }\n",
       "\n",
       "    .dataframe tbody tr th {\n",
       "        vertical-align: top;\n",
       "    }\n",
       "\n",
       "    .dataframe thead th {\n",
       "        text-align: right;\n",
       "    }\n",
       "</style>\n",
       "<table border=\"1\" class=\"dataframe\">\n",
       "  <thead>\n",
       "    <tr style=\"text-align: right;\">\n",
       "      <th></th>\n",
       "      <th>user_id</th>\n",
       "      <th>month</th>\n",
       "      <th>mb_used</th>\n",
       "    </tr>\n",
       "  </thead>\n",
       "  <tbody>\n",
       "    <tr>\n",
       "      <th>0</th>\n",
       "      <td>1000</td>\n",
       "      <td>5</td>\n",
       "      <td>2253.49</td>\n",
       "    </tr>\n",
       "    <tr>\n",
       "      <th>1</th>\n",
       "      <td>1000</td>\n",
       "      <td>6</td>\n",
       "      <td>23233.77</td>\n",
       "    </tr>\n",
       "    <tr>\n",
       "      <th>2</th>\n",
       "      <td>1000</td>\n",
       "      <td>7</td>\n",
       "      <td>14003.64</td>\n",
       "    </tr>\n",
       "  </tbody>\n",
       "</table>\n",
       "</div>"
      ],
      "text/plain": [
       "   user_id  month   mb_used\n",
       "0     1000      5   2253.49\n",
       "1     1000      6  23233.77\n",
       "2     1000      7  14003.64"
      ]
     },
     "metadata": {},
     "output_type": "display_data"
    },
    {
     "data": {
      "text/html": [
       "<div>\n",
       "<style scoped>\n",
       "    .dataframe tbody tr th:only-of-type {\n",
       "        vertical-align: middle;\n",
       "    }\n",
       "\n",
       "    .dataframe tbody tr th {\n",
       "        vertical-align: top;\n",
       "    }\n",
       "\n",
       "    .dataframe thead th {\n",
       "        text-align: right;\n",
       "    }\n",
       "</style>\n",
       "<table border=\"1\" class=\"dataframe\">\n",
       "  <thead>\n",
       "    <tr style=\"text-align: right;\">\n",
       "      <th></th>\n",
       "      <th>user_id</th>\n",
       "      <th>month</th>\n",
       "      <th>messages_number</th>\n",
       "    </tr>\n",
       "  </thead>\n",
       "  <tbody>\n",
       "    <tr>\n",
       "      <th>0</th>\n",
       "      <td>1000</td>\n",
       "      <td>5</td>\n",
       "      <td>22</td>\n",
       "    </tr>\n",
       "    <tr>\n",
       "      <th>1</th>\n",
       "      <td>1000</td>\n",
       "      <td>6</td>\n",
       "      <td>60</td>\n",
       "    </tr>\n",
       "    <tr>\n",
       "      <th>2</th>\n",
       "      <td>1000</td>\n",
       "      <td>7</td>\n",
       "      <td>75</td>\n",
       "    </tr>\n",
       "  </tbody>\n",
       "</table>\n",
       "</div>"
      ],
      "text/plain": [
       "   user_id  month  messages_number\n",
       "0     1000      5               22\n",
       "1     1000      6               60\n",
       "2     1000      7               75"
      ]
     },
     "execution_count": 7,
     "metadata": {},
     "output_type": "execute_result"
    }
   ],
   "source": [
    "calls_monthly = calls.groupby(by=['user_id', 'month'])['duration'].sum().reset_index()\n",
    "internet_monthly = internet.groupby(by=['user_id', 'month'])['mb_used'].sum().reset_index()\n",
    "messages_monthly = messages.groupby(by=['user_id', 'month'])['id'].count().reset_index()\n",
    "messages_monthly.columns = ['user_id', 'month', 'messages_number'] # Заменим название столбца на более содержательное\n",
    "\n",
    "# проверим содержние новых таблиц\n",
    "display(calls_monthly.head(3))\n",
    "display(internet_monthly.head(3))\n",
    "messages_monthly.head(3)"
   ]
  },
  {
   "cell_type": "markdown",
   "metadata": {},
   "source": [
    "В соответствии с тарифом количество использованных мегабайтов за месяц округляется до гигабайта, скорректируем данные в соответствии с требованиями тарифа в таблице internet_monthly"
   ]
  },
  {
   "cell_type": "code",
   "execution_count": 8,
   "metadata": {},
   "outputs": [
    {
     "data": {
      "text/plain": [
       "count     3203.000000\n",
       "mean     17266.708626\n",
       "std       7516.356902\n",
       "min          0.000000\n",
       "25%      12526.905000\n",
       "50%      16963.110000\n",
       "75%      21432.175000\n",
       "max      49745.690000\n",
       "Name: mb_used, dtype: float64"
      ]
     },
     "execution_count": 8,
     "metadata": {},
     "output_type": "execute_result"
    }
   ],
   "source": [
    "internet_monthly['mb_used'].describe()"
   ]
  },
  {
   "cell_type": "code",
   "execution_count": 9,
   "metadata": {},
   "outputs": [
    {
     "data": {
      "text/html": [
       "<div>\n",
       "<style scoped>\n",
       "    .dataframe tbody tr th:only-of-type {\n",
       "        vertical-align: middle;\n",
       "    }\n",
       "\n",
       "    .dataframe tbody tr th {\n",
       "        vertical-align: top;\n",
       "    }\n",
       "\n",
       "    .dataframe thead th {\n",
       "        text-align: right;\n",
       "    }\n",
       "</style>\n",
       "<table border=\"1\" class=\"dataframe\">\n",
       "  <thead>\n",
       "    <tr style=\"text-align: right;\">\n",
       "      <th></th>\n",
       "      <th>user_id</th>\n",
       "      <th>month</th>\n",
       "      <th>mb_used</th>\n",
       "      <th>gb_used</th>\n",
       "    </tr>\n",
       "  </thead>\n",
       "  <tbody>\n",
       "    <tr>\n",
       "      <th>592</th>\n",
       "      <td>1094</td>\n",
       "      <td>5</td>\n",
       "      <td>0.00</td>\n",
       "      <td>0.0</td>\n",
       "    </tr>\n",
       "    <tr>\n",
       "      <th>2298</th>\n",
       "      <td>1365</td>\n",
       "      <td>10</td>\n",
       "      <td>0.00</td>\n",
       "      <td>0.0</td>\n",
       "    </tr>\n",
       "    <tr>\n",
       "      <th>3102</th>\n",
       "      <td>1482</td>\n",
       "      <td>2</td>\n",
       "      <td>201.07</td>\n",
       "      <td>1024.0</td>\n",
       "    </tr>\n",
       "    <tr>\n",
       "      <th>1290</th>\n",
       "      <td>1201</td>\n",
       "      <td>12</td>\n",
       "      <td>365.09</td>\n",
       "      <td>1024.0</td>\n",
       "    </tr>\n",
       "    <tr>\n",
       "      <th>667</th>\n",
       "      <td>1105</td>\n",
       "      <td>9</td>\n",
       "      <td>370.06</td>\n",
       "      <td>1024.0</td>\n",
       "    </tr>\n",
       "    <tr>\n",
       "      <th>...</th>\n",
       "      <td>...</td>\n",
       "      <td>...</td>\n",
       "      <td>...</td>\n",
       "      <td>...</td>\n",
       "    </tr>\n",
       "    <tr>\n",
       "      <th>383</th>\n",
       "      <td>1060</td>\n",
       "      <td>12</td>\n",
       "      <td>43931.36</td>\n",
       "      <td>44032.0</td>\n",
       "    </tr>\n",
       "    <tr>\n",
       "      <th>1901</th>\n",
       "      <td>1300</td>\n",
       "      <td>11</td>\n",
       "      <td>44296.86</td>\n",
       "      <td>45056.0</td>\n",
       "    </tr>\n",
       "    <tr>\n",
       "      <th>1622</th>\n",
       "      <td>1255</td>\n",
       "      <td>7</td>\n",
       "      <td>45180.71</td>\n",
       "      <td>46080.0</td>\n",
       "    </tr>\n",
       "    <tr>\n",
       "      <th>1524</th>\n",
       "      <td>1240</td>\n",
       "      <td>8</td>\n",
       "      <td>48351.59</td>\n",
       "      <td>49152.0</td>\n",
       "    </tr>\n",
       "    <tr>\n",
       "      <th>799</th>\n",
       "      <td>1124</td>\n",
       "      <td>10</td>\n",
       "      <td>49745.69</td>\n",
       "      <td>50176.0</td>\n",
       "    </tr>\n",
       "  </tbody>\n",
       "</table>\n",
       "<p>3203 rows × 4 columns</p>\n",
       "</div>"
      ],
      "text/plain": [
       "      user_id  month   mb_used  gb_used\n",
       "592      1094      5      0.00      0.0\n",
       "2298     1365     10      0.00      0.0\n",
       "3102     1482      2    201.07   1024.0\n",
       "1290     1201     12    365.09   1024.0\n",
       "667      1105      9    370.06   1024.0\n",
       "...       ...    ...       ...      ...\n",
       "383      1060     12  43931.36  44032.0\n",
       "1901     1300     11  44296.86  45056.0\n",
       "1622     1255      7  45180.71  46080.0\n",
       "1524     1240      8  48351.59  49152.0\n",
       "799      1124     10  49745.69  50176.0\n",
       "\n",
       "[3203 rows x 4 columns]"
      ]
     },
     "execution_count": 9,
     "metadata": {},
     "output_type": "execute_result"
    }
   ],
   "source": [
    "internet_monthly['gb_used'] = np.ceil(internet_monthly['mb_used']/ 1024) * 1024\n",
    "internet_monthly.sort_values(by='mb_used') # округление вверх проведено корректно до ближайшего гигабайта"
   ]
  },
  {
   "cell_type": "code",
   "execution_count": 10,
   "metadata": {},
   "outputs": [],
   "source": [
    "internet_monthly = internet_monthly.drop(columns='mb_used', axis=1)\n",
    "# удалим колонку с мегабайтами трафика, поскольку она не нужна для объединения"
   ]
  },
  {
   "cell_type": "markdown",
   "metadata": {},
   "source": [
    "Отсортируем данные в таблицах internet_monthly, messages_monthly, calls_monthly по идентификатору пользователя и месяцу"
   ]
  },
  {
   "cell_type": "code",
   "execution_count": 11,
   "metadata": {},
   "outputs": [
    {
     "data": {
      "text/html": [
       "<div>\n",
       "<style scoped>\n",
       "    .dataframe tbody tr th:only-of-type {\n",
       "        vertical-align: middle;\n",
       "    }\n",
       "\n",
       "    .dataframe tbody tr th {\n",
       "        vertical-align: top;\n",
       "    }\n",
       "\n",
       "    .dataframe thead th {\n",
       "        text-align: right;\n",
       "    }\n",
       "</style>\n",
       "<table border=\"1\" class=\"dataframe\">\n",
       "  <thead>\n",
       "    <tr style=\"text-align: right;\">\n",
       "      <th></th>\n",
       "      <th>user_id</th>\n",
       "      <th>month</th>\n",
       "      <th>duration</th>\n",
       "    </tr>\n",
       "  </thead>\n",
       "  <tbody>\n",
       "    <tr>\n",
       "      <th>0</th>\n",
       "      <td>1000</td>\n",
       "      <td>5</td>\n",
       "      <td>159.0</td>\n",
       "    </tr>\n",
       "    <tr>\n",
       "      <th>1</th>\n",
       "      <td>1000</td>\n",
       "      <td>6</td>\n",
       "      <td>172.0</td>\n",
       "    </tr>\n",
       "    <tr>\n",
       "      <th>2</th>\n",
       "      <td>1000</td>\n",
       "      <td>7</td>\n",
       "      <td>340.0</td>\n",
       "    </tr>\n",
       "    <tr>\n",
       "      <th>3</th>\n",
       "      <td>1000</td>\n",
       "      <td>8</td>\n",
       "      <td>408.0</td>\n",
       "    </tr>\n",
       "    <tr>\n",
       "      <th>4</th>\n",
       "      <td>1000</td>\n",
       "      <td>9</td>\n",
       "      <td>466.0</td>\n",
       "    </tr>\n",
       "    <tr>\n",
       "      <th>5</th>\n",
       "      <td>1000</td>\n",
       "      <td>10</td>\n",
       "      <td>350.0</td>\n",
       "    </tr>\n",
       "    <tr>\n",
       "      <th>6</th>\n",
       "      <td>1000</td>\n",
       "      <td>11</td>\n",
       "      <td>338.0</td>\n",
       "    </tr>\n",
       "    <tr>\n",
       "      <th>7</th>\n",
       "      <td>1000</td>\n",
       "      <td>12</td>\n",
       "      <td>333.0</td>\n",
       "    </tr>\n",
       "    <tr>\n",
       "      <th>8</th>\n",
       "      <td>1001</td>\n",
       "      <td>11</td>\n",
       "      <td>430.0</td>\n",
       "    </tr>\n",
       "    <tr>\n",
       "      <th>9</th>\n",
       "      <td>1001</td>\n",
       "      <td>12</td>\n",
       "      <td>414.0</td>\n",
       "    </tr>\n",
       "    <tr>\n",
       "      <th>10</th>\n",
       "      <td>1002</td>\n",
       "      <td>6</td>\n",
       "      <td>117.0</td>\n",
       "    </tr>\n",
       "    <tr>\n",
       "      <th>11</th>\n",
       "      <td>1002</td>\n",
       "      <td>7</td>\n",
       "      <td>214.0</td>\n",
       "    </tr>\n",
       "    <tr>\n",
       "      <th>12</th>\n",
       "      <td>1002</td>\n",
       "      <td>8</td>\n",
       "      <td>289.0</td>\n",
       "    </tr>\n",
       "    <tr>\n",
       "      <th>13</th>\n",
       "      <td>1002</td>\n",
       "      <td>9</td>\n",
       "      <td>206.0</td>\n",
       "    </tr>\n",
       "    <tr>\n",
       "      <th>14</th>\n",
       "      <td>1002</td>\n",
       "      <td>10</td>\n",
       "      <td>212.0</td>\n",
       "    </tr>\n",
       "    <tr>\n",
       "      <th>15</th>\n",
       "      <td>1002</td>\n",
       "      <td>11</td>\n",
       "      <td>243.0</td>\n",
       "    </tr>\n",
       "    <tr>\n",
       "      <th>16</th>\n",
       "      <td>1002</td>\n",
       "      <td>12</td>\n",
       "      <td>236.0</td>\n",
       "    </tr>\n",
       "    <tr>\n",
       "      <th>17</th>\n",
       "      <td>1003</td>\n",
       "      <td>8</td>\n",
       "      <td>380.0</td>\n",
       "    </tr>\n",
       "    <tr>\n",
       "      <th>18</th>\n",
       "      <td>1003</td>\n",
       "      <td>9</td>\n",
       "      <td>961.0</td>\n",
       "    </tr>\n",
       "    <tr>\n",
       "      <th>19</th>\n",
       "      <td>1003</td>\n",
       "      <td>10</td>\n",
       "      <td>855.0</td>\n",
       "    </tr>\n",
       "    <tr>\n",
       "      <th>20</th>\n",
       "      <td>1003</td>\n",
       "      <td>11</td>\n",
       "      <td>824.0</td>\n",
       "    </tr>\n",
       "    <tr>\n",
       "      <th>21</th>\n",
       "      <td>1003</td>\n",
       "      <td>12</td>\n",
       "      <td>802.0</td>\n",
       "    </tr>\n",
       "  </tbody>\n",
       "</table>\n",
       "</div>"
      ],
      "text/plain": [
       "    user_id  month  duration\n",
       "0      1000      5     159.0\n",
       "1      1000      6     172.0\n",
       "2      1000      7     340.0\n",
       "3      1000      8     408.0\n",
       "4      1000      9     466.0\n",
       "5      1000     10     350.0\n",
       "6      1000     11     338.0\n",
       "7      1000     12     333.0\n",
       "8      1001     11     430.0\n",
       "9      1001     12     414.0\n",
       "10     1002      6     117.0\n",
       "11     1002      7     214.0\n",
       "12     1002      8     289.0\n",
       "13     1002      9     206.0\n",
       "14     1002     10     212.0\n",
       "15     1002     11     243.0\n",
       "16     1002     12     236.0\n",
       "17     1003      8     380.0\n",
       "18     1003      9     961.0\n",
       "19     1003     10     855.0\n",
       "20     1003     11     824.0\n",
       "21     1003     12     802.0"
      ]
     },
     "execution_count": 11,
     "metadata": {},
     "output_type": "execute_result"
    }
   ],
   "source": [
    "internet_monthly = internet_monthly.sort_values(by=['user_id', 'month'])\n",
    "messages_monthly = messages_monthly.sort_values(by=['user_id', 'month'])\n",
    "calls_monthly = calls_monthly.sort_values(by=['user_id', 'month'])\n",
    "# Проверим сортировку в одной из таблиц\n",
    "calls_monthly[calls_monthly['user_id'] < 1004] # данные отсортированы по идентификатору пользовател и месяцу"
   ]
  },
  {
   "cell_type": "markdown",
   "metadata": {},
   "source": [
    "## Объединеним данные об объёмах использованного трафика - звонки, интернет собщения в месяц - в один датафрейм"
   ]
  },
  {
   "cell_type": "code",
   "execution_count": 12,
   "metadata": {},
   "outputs": [
    {
     "data": {
      "text/html": [
       "<div>\n",
       "<style scoped>\n",
       "    .dataframe tbody tr th:only-of-type {\n",
       "        vertical-align: middle;\n",
       "    }\n",
       "\n",
       "    .dataframe tbody tr th {\n",
       "        vertical-align: top;\n",
       "    }\n",
       "\n",
       "    .dataframe thead th {\n",
       "        text-align: right;\n",
       "    }\n",
       "</style>\n",
       "<table border=\"1\" class=\"dataframe\">\n",
       "  <thead>\n",
       "    <tr style=\"text-align: right;\">\n",
       "      <th></th>\n",
       "      <th>user_id</th>\n",
       "      <th>month</th>\n",
       "      <th>duration</th>\n",
       "      <th>gb_used</th>\n",
       "      <th>messages_number</th>\n",
       "    </tr>\n",
       "  </thead>\n",
       "  <tbody>\n",
       "    <tr>\n",
       "      <th>0</th>\n",
       "      <td>1000</td>\n",
       "      <td>5</td>\n",
       "      <td>159.0</td>\n",
       "      <td>3072.0</td>\n",
       "      <td>22.0</td>\n",
       "    </tr>\n",
       "    <tr>\n",
       "      <th>1</th>\n",
       "      <td>1000</td>\n",
       "      <td>6</td>\n",
       "      <td>172.0</td>\n",
       "      <td>23552.0</td>\n",
       "      <td>60.0</td>\n",
       "    </tr>\n",
       "    <tr>\n",
       "      <th>2</th>\n",
       "      <td>1000</td>\n",
       "      <td>7</td>\n",
       "      <td>340.0</td>\n",
       "      <td>14336.0</td>\n",
       "      <td>75.0</td>\n",
       "    </tr>\n",
       "    <tr>\n",
       "      <th>3</th>\n",
       "      <td>1000</td>\n",
       "      <td>8</td>\n",
       "      <td>408.0</td>\n",
       "      <td>14336.0</td>\n",
       "      <td>81.0</td>\n",
       "    </tr>\n",
       "    <tr>\n",
       "      <th>4</th>\n",
       "      <td>1000</td>\n",
       "      <td>9</td>\n",
       "      <td>466.0</td>\n",
       "      <td>15360.0</td>\n",
       "      <td>57.0</td>\n",
       "    </tr>\n",
       "    <tr>\n",
       "      <th>5</th>\n",
       "      <td>1000</td>\n",
       "      <td>10</td>\n",
       "      <td>350.0</td>\n",
       "      <td>15360.0</td>\n",
       "      <td>73.0</td>\n",
       "    </tr>\n",
       "    <tr>\n",
       "      <th>6</th>\n",
       "      <td>1000</td>\n",
       "      <td>11</td>\n",
       "      <td>338.0</td>\n",
       "      <td>15360.0</td>\n",
       "      <td>58.0</td>\n",
       "    </tr>\n",
       "    <tr>\n",
       "      <th>7</th>\n",
       "      <td>1000</td>\n",
       "      <td>12</td>\n",
       "      <td>333.0</td>\n",
       "      <td>10240.0</td>\n",
       "      <td>70.0</td>\n",
       "    </tr>\n",
       "    <tr>\n",
       "      <th>8</th>\n",
       "      <td>1001</td>\n",
       "      <td>11</td>\n",
       "      <td>430.0</td>\n",
       "      <td>18432.0</td>\n",
       "      <td>NaN</td>\n",
       "    </tr>\n",
       "    <tr>\n",
       "      <th>9</th>\n",
       "      <td>1001</td>\n",
       "      <td>12</td>\n",
       "      <td>414.0</td>\n",
       "      <td>14336.0</td>\n",
       "      <td>NaN</td>\n",
       "    </tr>\n",
       "    <tr>\n",
       "      <th>10</th>\n",
       "      <td>1002</td>\n",
       "      <td>6</td>\n",
       "      <td>117.0</td>\n",
       "      <td>11264.0</td>\n",
       "      <td>4.0</td>\n",
       "    </tr>\n",
       "    <tr>\n",
       "      <th>11</th>\n",
       "      <td>1002</td>\n",
       "      <td>7</td>\n",
       "      <td>214.0</td>\n",
       "      <td>18432.0</td>\n",
       "      <td>11.0</td>\n",
       "    </tr>\n",
       "    <tr>\n",
       "      <th>12</th>\n",
       "      <td>1002</td>\n",
       "      <td>8</td>\n",
       "      <td>289.0</td>\n",
       "      <td>20480.0</td>\n",
       "      <td>13.0</td>\n",
       "    </tr>\n",
       "    <tr>\n",
       "      <th>13</th>\n",
       "      <td>1002</td>\n",
       "      <td>9</td>\n",
       "      <td>206.0</td>\n",
       "      <td>17408.0</td>\n",
       "      <td>4.0</td>\n",
       "    </tr>\n",
       "    <tr>\n",
       "      <th>14</th>\n",
       "      <td>1002</td>\n",
       "      <td>10</td>\n",
       "      <td>212.0</td>\n",
       "      <td>14336.0</td>\n",
       "      <td>10.0</td>\n",
       "    </tr>\n",
       "    <tr>\n",
       "      <th>15</th>\n",
       "      <td>1002</td>\n",
       "      <td>11</td>\n",
       "      <td>243.0</td>\n",
       "      <td>19456.0</td>\n",
       "      <td>16.0</td>\n",
       "    </tr>\n",
       "    <tr>\n",
       "      <th>16</th>\n",
       "      <td>1002</td>\n",
       "      <td>12</td>\n",
       "      <td>236.0</td>\n",
       "      <td>18432.0</td>\n",
       "      <td>12.0</td>\n",
       "    </tr>\n",
       "    <tr>\n",
       "      <th>17</th>\n",
       "      <td>1003</td>\n",
       "      <td>8</td>\n",
       "      <td>380.0</td>\n",
       "      <td>9216.0</td>\n",
       "      <td>37.0</td>\n",
       "    </tr>\n",
       "    <tr>\n",
       "      <th>18</th>\n",
       "      <td>1003</td>\n",
       "      <td>9</td>\n",
       "      <td>961.0</td>\n",
       "      <td>13312.0</td>\n",
       "      <td>91.0</td>\n",
       "    </tr>\n",
       "    <tr>\n",
       "      <th>19</th>\n",
       "      <td>1003</td>\n",
       "      <td>10</td>\n",
       "      <td>855.0</td>\n",
       "      <td>15360.0</td>\n",
       "      <td>83.0</td>\n",
       "    </tr>\n",
       "    <tr>\n",
       "      <th>20</th>\n",
       "      <td>1003</td>\n",
       "      <td>11</td>\n",
       "      <td>824.0</td>\n",
       "      <td>12288.0</td>\n",
       "      <td>94.0</td>\n",
       "    </tr>\n",
       "    <tr>\n",
       "      <th>21</th>\n",
       "      <td>1003</td>\n",
       "      <td>12</td>\n",
       "      <td>802.0</td>\n",
       "      <td>10240.0</td>\n",
       "      <td>75.0</td>\n",
       "    </tr>\n",
       "    <tr>\n",
       "      <th>22</th>\n",
       "      <td>1004</td>\n",
       "      <td>5</td>\n",
       "      <td>35.0</td>\n",
       "      <td>14336.0</td>\n",
       "      <td>95.0</td>\n",
       "    </tr>\n",
       "    <tr>\n",
       "      <th>23</th>\n",
       "      <td>1004</td>\n",
       "      <td>6</td>\n",
       "      <td>171.0</td>\n",
       "      <td>18432.0</td>\n",
       "      <td>134.0</td>\n",
       "    </tr>\n",
       "    <tr>\n",
       "      <th>24</th>\n",
       "      <td>1004</td>\n",
       "      <td>7</td>\n",
       "      <td>135.0</td>\n",
       "      <td>22528.0</td>\n",
       "      <td>181.0</td>\n",
       "    </tr>\n",
       "    <tr>\n",
       "      <th>25</th>\n",
       "      <td>1004</td>\n",
       "      <td>8</td>\n",
       "      <td>137.0</td>\n",
       "      <td>28672.0</td>\n",
       "      <td>151.0</td>\n",
       "    </tr>\n",
       "    <tr>\n",
       "      <th>26</th>\n",
       "      <td>1004</td>\n",
       "      <td>9</td>\n",
       "      <td>117.0</td>\n",
       "      <td>15360.0</td>\n",
       "      <td>146.0</td>\n",
       "    </tr>\n",
       "    <tr>\n",
       "      <th>27</th>\n",
       "      <td>1004</td>\n",
       "      <td>10</td>\n",
       "      <td>145.0</td>\n",
       "      <td>19456.0</td>\n",
       "      <td>165.0</td>\n",
       "    </tr>\n",
       "    <tr>\n",
       "      <th>28</th>\n",
       "      <td>1004</td>\n",
       "      <td>11</td>\n",
       "      <td>117.0</td>\n",
       "      <td>16384.0</td>\n",
       "      <td>158.0</td>\n",
       "    </tr>\n",
       "    <tr>\n",
       "      <th>29</th>\n",
       "      <td>1004</td>\n",
       "      <td>12</td>\n",
       "      <td>130.0</td>\n",
       "      <td>18432.0</td>\n",
       "      <td>162.0</td>\n",
       "    </tr>\n",
       "  </tbody>\n",
       "</table>\n",
       "</div>"
      ],
      "text/plain": [
       "    user_id  month  duration  gb_used  messages_number\n",
       "0      1000      5     159.0   3072.0             22.0\n",
       "1      1000      6     172.0  23552.0             60.0\n",
       "2      1000      7     340.0  14336.0             75.0\n",
       "3      1000      8     408.0  14336.0             81.0\n",
       "4      1000      9     466.0  15360.0             57.0\n",
       "5      1000     10     350.0  15360.0             73.0\n",
       "6      1000     11     338.0  15360.0             58.0\n",
       "7      1000     12     333.0  10240.0             70.0\n",
       "8      1001     11     430.0  18432.0              NaN\n",
       "9      1001     12     414.0  14336.0              NaN\n",
       "10     1002      6     117.0  11264.0              4.0\n",
       "11     1002      7     214.0  18432.0             11.0\n",
       "12     1002      8     289.0  20480.0             13.0\n",
       "13     1002      9     206.0  17408.0              4.0\n",
       "14     1002     10     212.0  14336.0             10.0\n",
       "15     1002     11     243.0  19456.0             16.0\n",
       "16     1002     12     236.0  18432.0             12.0\n",
       "17     1003      8     380.0   9216.0             37.0\n",
       "18     1003      9     961.0  13312.0             91.0\n",
       "19     1003     10     855.0  15360.0             83.0\n",
       "20     1003     11     824.0  12288.0             94.0\n",
       "21     1003     12     802.0  10240.0             75.0\n",
       "22     1004      5      35.0  14336.0             95.0\n",
       "23     1004      6     171.0  18432.0            134.0\n",
       "24     1004      7     135.0  22528.0            181.0\n",
       "25     1004      8     137.0  28672.0            151.0\n",
       "26     1004      9     117.0  15360.0            146.0\n",
       "27     1004     10     145.0  19456.0            165.0\n",
       "28     1004     11     117.0  16384.0            158.0\n",
       "29     1004     12     130.0  18432.0            162.0"
      ]
     },
     "execution_count": 12,
     "metadata": {},
     "output_type": "execute_result"
    }
   ],
   "source": [
    "#объединяет помесячные данные calls_monthly, internet_monthly, messages_monthly Через how='outer' для сохранения всех данных\n",
    "\n",
    "users_monthly_data = pd.DataFrame(calls_monthly.merge(internet_monthly, on = ['user_id', 'month'], how='outer'))\n",
    "users_monthly_data = users_monthly_data.merge(messages_monthly, on = ['user_id', 'month'], how='outer')\n",
    "users_monthly_data[users_monthly_data['user_id'] < 1005] # провери как объединились данные"
   ]
  },
  {
   "cell_type": "code",
   "execution_count": 13,
   "metadata": {},
   "outputs": [
    {
     "name": "stdout",
     "output_type": "stream",
     "text": [
      "<class 'pandas.core.frame.DataFrame'>\n",
      "Int64Index: 3214 entries, 0 to 3213\n",
      "Data columns (total 5 columns):\n",
      " #   Column           Non-Null Count  Dtype  \n",
      "---  ------           --------------  -----  \n",
      " 0   user_id          3214 non-null   int64  \n",
      " 1   month            3214 non-null   int64  \n",
      " 2   duration         3174 non-null   float64\n",
      " 3   gb_used          3203 non-null   float64\n",
      " 4   messages_number  2717 non-null   float64\n",
      "dtypes: float64(3), int64(2)\n",
      "memory usage: 150.7 KB\n"
     ]
    }
   ],
   "source": [
    "users_monthly_data.info() \n",
    "# в процессе преобразования данные по столбцам duration, gb_used, messages_number преобразовались в тип float\n",
    "#вероято потому, что в столбцах при объединении появились Nan\n"
   ]
  },
  {
   "cell_type": "markdown",
   "metadata": {},
   "source": [
    "После объединения таблиц общее колчество строк стало - 3214.   \n",
    "\n",
    "При этом все колонки, кроме `user_id` и `month` содержат пропуски:\n",
    "    - duration - 40 строк\n",
    "    - gb_used - 11 строк\n",
    "    - messages_number - 497 строк"
   ]
  },
  {
   "cell_type": "code",
   "execution_count": 14,
   "metadata": {},
   "outputs": [
    {
     "data": {
      "text/html": [
       "<div>\n",
       "<style scoped>\n",
       "    .dataframe tbody tr th:only-of-type {\n",
       "        vertical-align: middle;\n",
       "    }\n",
       "\n",
       "    .dataframe tbody tr th {\n",
       "        vertical-align: top;\n",
       "    }\n",
       "\n",
       "    .dataframe thead th {\n",
       "        text-align: right;\n",
       "    }\n",
       "</style>\n",
       "<table border=\"1\" class=\"dataframe\">\n",
       "  <thead>\n",
       "    <tr style=\"text-align: right;\">\n",
       "      <th></th>\n",
       "      <th>user_id</th>\n",
       "      <th>month</th>\n",
       "      <th>duration</th>\n",
       "      <th>gb_used</th>\n",
       "      <th>messages_number</th>\n",
       "    </tr>\n",
       "  </thead>\n",
       "  <tbody>\n",
       "    <tr>\n",
       "      <th>1697</th>\n",
       "      <td>1273</td>\n",
       "      <td>5</td>\n",
       "      <td>220.0</td>\n",
       "      <td>NaN</td>\n",
       "      <td>21.0</td>\n",
       "    </tr>\n",
       "    <tr>\n",
       "      <th>1698</th>\n",
       "      <td>1273</td>\n",
       "      <td>6</td>\n",
       "      <td>230.0</td>\n",
       "      <td>NaN</td>\n",
       "      <td>38.0</td>\n",
       "    </tr>\n",
       "    <tr>\n",
       "      <th>1699</th>\n",
       "      <td>1273</td>\n",
       "      <td>7</td>\n",
       "      <td>253.0</td>\n",
       "      <td>NaN</td>\n",
       "      <td>37.0</td>\n",
       "    </tr>\n",
       "    <tr>\n",
       "      <th>1700</th>\n",
       "      <td>1273</td>\n",
       "      <td>8</td>\n",
       "      <td>253.0</td>\n",
       "      <td>NaN</td>\n",
       "      <td>41.0</td>\n",
       "    </tr>\n",
       "    <tr>\n",
       "      <th>1701</th>\n",
       "      <td>1273</td>\n",
       "      <td>9</td>\n",
       "      <td>223.0</td>\n",
       "      <td>NaN</td>\n",
       "      <td>32.0</td>\n",
       "    </tr>\n",
       "    <tr>\n",
       "      <th>1702</th>\n",
       "      <td>1273</td>\n",
       "      <td>10</td>\n",
       "      <td>315.0</td>\n",
       "      <td>NaN</td>\n",
       "      <td>35.0</td>\n",
       "    </tr>\n",
       "    <tr>\n",
       "      <th>1703</th>\n",
       "      <td>1273</td>\n",
       "      <td>11</td>\n",
       "      <td>272.0</td>\n",
       "      <td>NaN</td>\n",
       "      <td>29.0</td>\n",
       "    </tr>\n",
       "    <tr>\n",
       "      <th>1704</th>\n",
       "      <td>1273</td>\n",
       "      <td>12</td>\n",
       "      <td>260.0</td>\n",
       "      <td>NaN</td>\n",
       "      <td>39.0</td>\n",
       "    </tr>\n",
       "    <tr>\n",
       "      <th>2358</th>\n",
       "      <td>1377</td>\n",
       "      <td>2</td>\n",
       "      <td>179.0</td>\n",
       "      <td>NaN</td>\n",
       "      <td>2.0</td>\n",
       "    </tr>\n",
       "    <tr>\n",
       "      <th>2471</th>\n",
       "      <td>1392</td>\n",
       "      <td>2</td>\n",
       "      <td>13.0</td>\n",
       "      <td>NaN</td>\n",
       "      <td>3.0</td>\n",
       "    </tr>\n",
       "    <tr>\n",
       "      <th>2829</th>\n",
       "      <td>1446</td>\n",
       "      <td>8</td>\n",
       "      <td>50.0</td>\n",
       "      <td>NaN</td>\n",
       "      <td>1.0</td>\n",
       "    </tr>\n",
       "  </tbody>\n",
       "</table>\n",
       "</div>"
      ],
      "text/plain": [
       "      user_id  month  duration  gb_used  messages_number\n",
       "1697     1273      5     220.0      NaN             21.0\n",
       "1698     1273      6     230.0      NaN             38.0\n",
       "1699     1273      7     253.0      NaN             37.0\n",
       "1700     1273      8     253.0      NaN             41.0\n",
       "1701     1273      9     223.0      NaN             32.0\n",
       "1702     1273     10     315.0      NaN             35.0\n",
       "1703     1273     11     272.0      NaN             29.0\n",
       "1704     1273     12     260.0      NaN             39.0\n",
       "2358     1377      2     179.0      NaN              2.0\n",
       "2471     1392      2      13.0      NaN              3.0\n",
       "2829     1446      8      50.0      NaN              1.0"
      ]
     },
     "execution_count": 14,
     "metadata": {},
     "output_type": "execute_result"
    }
   ],
   "source": [
    "users_monthly_data[users_monthly_data['gb_used'].isna()]"
   ]
  },
  {
   "cell_type": "code",
   "execution_count": 15,
   "metadata": {},
   "outputs": [
    {
     "data": {
      "text/html": [
       "<div>\n",
       "<style scoped>\n",
       "    .dataframe tbody tr th:only-of-type {\n",
       "        vertical-align: middle;\n",
       "    }\n",
       "\n",
       "    .dataframe tbody tr th {\n",
       "        vertical-align: top;\n",
       "    }\n",
       "\n",
       "    .dataframe thead th {\n",
       "        text-align: right;\n",
       "    }\n",
       "</style>\n",
       "<table border=\"1\" class=\"dataframe\">\n",
       "  <thead>\n",
       "    <tr style=\"text-align: right;\">\n",
       "      <th></th>\n",
       "      <th>user_id</th>\n",
       "      <th>month</th>\n",
       "      <th>duration</th>\n",
       "      <th>gb_used</th>\n",
       "      <th>messages_number</th>\n",
       "    </tr>\n",
       "  </thead>\n",
       "  <tbody>\n",
       "    <tr>\n",
       "      <th>3174</th>\n",
       "      <td>1091</td>\n",
       "      <td>5</td>\n",
       "      <td>NaN</td>\n",
       "      <td>11264.0</td>\n",
       "      <td>30.0</td>\n",
       "    </tr>\n",
       "    <tr>\n",
       "      <th>3175</th>\n",
       "      <td>1091</td>\n",
       "      <td>6</td>\n",
       "      <td>NaN</td>\n",
       "      <td>10240.0</td>\n",
       "      <td>30.0</td>\n",
       "    </tr>\n",
       "    <tr>\n",
       "      <th>3176</th>\n",
       "      <td>1091</td>\n",
       "      <td>7</td>\n",
       "      <td>NaN</td>\n",
       "      <td>17408.0</td>\n",
       "      <td>35.0</td>\n",
       "    </tr>\n",
       "    <tr>\n",
       "      <th>3177</th>\n",
       "      <td>1091</td>\n",
       "      <td>8</td>\n",
       "      <td>NaN</td>\n",
       "      <td>13312.0</td>\n",
       "      <td>31.0</td>\n",
       "    </tr>\n",
       "    <tr>\n",
       "      <th>3178</th>\n",
       "      <td>1091</td>\n",
       "      <td>9</td>\n",
       "      <td>NaN</td>\n",
       "      <td>17408.0</td>\n",
       "      <td>32.0</td>\n",
       "    </tr>\n",
       "    <tr>\n",
       "      <th>3179</th>\n",
       "      <td>1091</td>\n",
       "      <td>10</td>\n",
       "      <td>NaN</td>\n",
       "      <td>16384.0</td>\n",
       "      <td>44.0</td>\n",
       "    </tr>\n",
       "    <tr>\n",
       "      <th>3180</th>\n",
       "      <td>1091</td>\n",
       "      <td>11</td>\n",
       "      <td>NaN</td>\n",
       "      <td>12288.0</td>\n",
       "      <td>28.0</td>\n",
       "    </tr>\n",
       "    <tr>\n",
       "      <th>3181</th>\n",
       "      <td>1091</td>\n",
       "      <td>12</td>\n",
       "      <td>NaN</td>\n",
       "      <td>13312.0</td>\n",
       "      <td>42.0</td>\n",
       "    </tr>\n",
       "    <tr>\n",
       "      <th>3182</th>\n",
       "      <td>1106</td>\n",
       "      <td>4</td>\n",
       "      <td>NaN</td>\n",
       "      <td>3072.0</td>\n",
       "      <td>9.0</td>\n",
       "    </tr>\n",
       "    <tr>\n",
       "      <th>3183</th>\n",
       "      <td>1106</td>\n",
       "      <td>5</td>\n",
       "      <td>NaN</td>\n",
       "      <td>17408.0</td>\n",
       "      <td>28.0</td>\n",
       "    </tr>\n",
       "    <tr>\n",
       "      <th>3184</th>\n",
       "      <td>1106</td>\n",
       "      <td>6</td>\n",
       "      <td>NaN</td>\n",
       "      <td>20480.0</td>\n",
       "      <td>30.0</td>\n",
       "    </tr>\n",
       "    <tr>\n",
       "      <th>3185</th>\n",
       "      <td>1106</td>\n",
       "      <td>7</td>\n",
       "      <td>NaN</td>\n",
       "      <td>22528.0</td>\n",
       "      <td>24.0</td>\n",
       "    </tr>\n",
       "    <tr>\n",
       "      <th>3186</th>\n",
       "      <td>1106</td>\n",
       "      <td>8</td>\n",
       "      <td>NaN</td>\n",
       "      <td>19456.0</td>\n",
       "      <td>25.0</td>\n",
       "    </tr>\n",
       "    <tr>\n",
       "      <th>3187</th>\n",
       "      <td>1106</td>\n",
       "      <td>9</td>\n",
       "      <td>NaN</td>\n",
       "      <td>22528.0</td>\n",
       "      <td>23.0</td>\n",
       "    </tr>\n",
       "    <tr>\n",
       "      <th>3188</th>\n",
       "      <td>1106</td>\n",
       "      <td>10</td>\n",
       "      <td>NaN</td>\n",
       "      <td>14336.0</td>\n",
       "      <td>33.0</td>\n",
       "    </tr>\n",
       "    <tr>\n",
       "      <th>3189</th>\n",
       "      <td>1106</td>\n",
       "      <td>11</td>\n",
       "      <td>NaN</td>\n",
       "      <td>21504.0</td>\n",
       "      <td>29.0</td>\n",
       "    </tr>\n",
       "    <tr>\n",
       "      <th>3190</th>\n",
       "      <td>1106</td>\n",
       "      <td>12</td>\n",
       "      <td>NaN</td>\n",
       "      <td>19456.0</td>\n",
       "      <td>24.0</td>\n",
       "    </tr>\n",
       "    <tr>\n",
       "      <th>3191</th>\n",
       "      <td>1231</td>\n",
       "      <td>5</td>\n",
       "      <td>NaN</td>\n",
       "      <td>11264.0</td>\n",
       "      <td>55.0</td>\n",
       "    </tr>\n",
       "    <tr>\n",
       "      <th>3192</th>\n",
       "      <td>1231</td>\n",
       "      <td>6</td>\n",
       "      <td>NaN</td>\n",
       "      <td>28672.0</td>\n",
       "      <td>201.0</td>\n",
       "    </tr>\n",
       "    <tr>\n",
       "      <th>3193</th>\n",
       "      <td>1231</td>\n",
       "      <td>7</td>\n",
       "      <td>NaN</td>\n",
       "      <td>28672.0</td>\n",
       "      <td>211.0</td>\n",
       "    </tr>\n",
       "    <tr>\n",
       "      <th>3194</th>\n",
       "      <td>1231</td>\n",
       "      <td>8</td>\n",
       "      <td>NaN</td>\n",
       "      <td>32768.0</td>\n",
       "      <td>180.0</td>\n",
       "    </tr>\n",
       "    <tr>\n",
       "      <th>3195</th>\n",
       "      <td>1231</td>\n",
       "      <td>9</td>\n",
       "      <td>NaN</td>\n",
       "      <td>33792.0</td>\n",
       "      <td>188.0</td>\n",
       "    </tr>\n",
       "    <tr>\n",
       "      <th>3196</th>\n",
       "      <td>1231</td>\n",
       "      <td>10</td>\n",
       "      <td>NaN</td>\n",
       "      <td>31744.0</td>\n",
       "      <td>185.0</td>\n",
       "    </tr>\n",
       "    <tr>\n",
       "      <th>3197</th>\n",
       "      <td>1231</td>\n",
       "      <td>11</td>\n",
       "      <td>NaN</td>\n",
       "      <td>27648.0</td>\n",
       "      <td>173.0</td>\n",
       "    </tr>\n",
       "    <tr>\n",
       "      <th>3198</th>\n",
       "      <td>1231</td>\n",
       "      <td>12</td>\n",
       "      <td>NaN</td>\n",
       "      <td>32768.0</td>\n",
       "      <td>191.0</td>\n",
       "    </tr>\n",
       "    <tr>\n",
       "      <th>3199</th>\n",
       "      <td>1328</td>\n",
       "      <td>10</td>\n",
       "      <td>NaN</td>\n",
       "      <td>22528.0</td>\n",
       "      <td>6.0</td>\n",
       "    </tr>\n",
       "    <tr>\n",
       "      <th>3200</th>\n",
       "      <td>1328</td>\n",
       "      <td>11</td>\n",
       "      <td>NaN</td>\n",
       "      <td>35840.0</td>\n",
       "      <td>8.0</td>\n",
       "    </tr>\n",
       "    <tr>\n",
       "      <th>3201</th>\n",
       "      <td>1328</td>\n",
       "      <td>12</td>\n",
       "      <td>NaN</td>\n",
       "      <td>39936.0</td>\n",
       "      <td>7.0</td>\n",
       "    </tr>\n",
       "    <tr>\n",
       "      <th>3202</th>\n",
       "      <td>1373</td>\n",
       "      <td>6</td>\n",
       "      <td>NaN</td>\n",
       "      <td>13312.0</td>\n",
       "      <td>48.0</td>\n",
       "    </tr>\n",
       "    <tr>\n",
       "      <th>3203</th>\n",
       "      <td>1473</td>\n",
       "      <td>8</td>\n",
       "      <td>NaN</td>\n",
       "      <td>13312.0</td>\n",
       "      <td>17.0</td>\n",
       "    </tr>\n",
       "    <tr>\n",
       "      <th>3204</th>\n",
       "      <td>1473</td>\n",
       "      <td>9</td>\n",
       "      <td>NaN</td>\n",
       "      <td>17408.0</td>\n",
       "      <td>19.0</td>\n",
       "    </tr>\n",
       "    <tr>\n",
       "      <th>3205</th>\n",
       "      <td>1473</td>\n",
       "      <td>10</td>\n",
       "      <td>NaN</td>\n",
       "      <td>14336.0</td>\n",
       "      <td>20.0</td>\n",
       "    </tr>\n",
       "    <tr>\n",
       "      <th>3206</th>\n",
       "      <td>1473</td>\n",
       "      <td>11</td>\n",
       "      <td>NaN</td>\n",
       "      <td>22528.0</td>\n",
       "      <td>14.0</td>\n",
       "    </tr>\n",
       "    <tr>\n",
       "      <th>3207</th>\n",
       "      <td>1473</td>\n",
       "      <td>12</td>\n",
       "      <td>NaN</td>\n",
       "      <td>18432.0</td>\n",
       "      <td>20.0</td>\n",
       "    </tr>\n",
       "    <tr>\n",
       "      <th>3208</th>\n",
       "      <td>1476</td>\n",
       "      <td>4</td>\n",
       "      <td>NaN</td>\n",
       "      <td>1024.0</td>\n",
       "      <td>NaN</td>\n",
       "    </tr>\n",
       "    <tr>\n",
       "      <th>3209</th>\n",
       "      <td>1489</td>\n",
       "      <td>8</td>\n",
       "      <td>NaN</td>\n",
       "      <td>11264.0</td>\n",
       "      <td>17.0</td>\n",
       "    </tr>\n",
       "    <tr>\n",
       "      <th>3210</th>\n",
       "      <td>1489</td>\n",
       "      <td>9</td>\n",
       "      <td>NaN</td>\n",
       "      <td>17408.0</td>\n",
       "      <td>32.0</td>\n",
       "    </tr>\n",
       "    <tr>\n",
       "      <th>3211</th>\n",
       "      <td>1489</td>\n",
       "      <td>10</td>\n",
       "      <td>NaN</td>\n",
       "      <td>20480.0</td>\n",
       "      <td>21.0</td>\n",
       "    </tr>\n",
       "    <tr>\n",
       "      <th>3212</th>\n",
       "      <td>1489</td>\n",
       "      <td>11</td>\n",
       "      <td>NaN</td>\n",
       "      <td>18432.0</td>\n",
       "      <td>20.0</td>\n",
       "    </tr>\n",
       "    <tr>\n",
       "      <th>3213</th>\n",
       "      <td>1489</td>\n",
       "      <td>12</td>\n",
       "      <td>NaN</td>\n",
       "      <td>17408.0</td>\n",
       "      <td>35.0</td>\n",
       "    </tr>\n",
       "  </tbody>\n",
       "</table>\n",
       "</div>"
      ],
      "text/plain": [
       "      user_id  month  duration  gb_used  messages_number\n",
       "3174     1091      5       NaN  11264.0             30.0\n",
       "3175     1091      6       NaN  10240.0             30.0\n",
       "3176     1091      7       NaN  17408.0             35.0\n",
       "3177     1091      8       NaN  13312.0             31.0\n",
       "3178     1091      9       NaN  17408.0             32.0\n",
       "3179     1091     10       NaN  16384.0             44.0\n",
       "3180     1091     11       NaN  12288.0             28.0\n",
       "3181     1091     12       NaN  13312.0             42.0\n",
       "3182     1106      4       NaN   3072.0              9.0\n",
       "3183     1106      5       NaN  17408.0             28.0\n",
       "3184     1106      6       NaN  20480.0             30.0\n",
       "3185     1106      7       NaN  22528.0             24.0\n",
       "3186     1106      8       NaN  19456.0             25.0\n",
       "3187     1106      9       NaN  22528.0             23.0\n",
       "3188     1106     10       NaN  14336.0             33.0\n",
       "3189     1106     11       NaN  21504.0             29.0\n",
       "3190     1106     12       NaN  19456.0             24.0\n",
       "3191     1231      5       NaN  11264.0             55.0\n",
       "3192     1231      6       NaN  28672.0            201.0\n",
       "3193     1231      7       NaN  28672.0            211.0\n",
       "3194     1231      8       NaN  32768.0            180.0\n",
       "3195     1231      9       NaN  33792.0            188.0\n",
       "3196     1231     10       NaN  31744.0            185.0\n",
       "3197     1231     11       NaN  27648.0            173.0\n",
       "3198     1231     12       NaN  32768.0            191.0\n",
       "3199     1328     10       NaN  22528.0              6.0\n",
       "3200     1328     11       NaN  35840.0              8.0\n",
       "3201     1328     12       NaN  39936.0              7.0\n",
       "3202     1373      6       NaN  13312.0             48.0\n",
       "3203     1473      8       NaN  13312.0             17.0\n",
       "3204     1473      9       NaN  17408.0             19.0\n",
       "3205     1473     10       NaN  14336.0             20.0\n",
       "3206     1473     11       NaN  22528.0             14.0\n",
       "3207     1473     12       NaN  18432.0             20.0\n",
       "3208     1476      4       NaN   1024.0              NaN\n",
       "3209     1489      8       NaN  11264.0             17.0\n",
       "3210     1489      9       NaN  17408.0             32.0\n",
       "3211     1489     10       NaN  20480.0             21.0\n",
       "3212     1489     11       NaN  18432.0             20.0\n",
       "3213     1489     12       NaN  17408.0             35.0"
      ]
     },
     "execution_count": 15,
     "metadata": {},
     "output_type": "execute_result"
    }
   ],
   "source": [
    "users_monthly_data[users_monthly_data['duration'].isna()]"
   ]
  },
  {
   "cell_type": "markdown",
   "metadata": {},
   "source": [
    "Считаю, что пропуски в данных в этом случае могут означать - не использование услуги в каком-то месяце. Эту гипотезу подтверждает большее число пропусков для сообщений - которые действительно стали реже использоваться после появления мессенджеров.\n",
    "\n",
    "Абоненты, у которых NaN в столбце продолжитльности звонков - вычерпывали много трафика. Вероятно, использовали для звонков интернет.\n",
    "У большинства пользователей, которые не используют интернет - выраженное использование звонков и смс.\n",
    "\n",
    "В связи с этим считаю уместным заполнить пропуски нулевыми значениями.   \n",
    "\n",
    "Замена NAN на нулевое значение допустима в данном случае в связи с логикой данных. Если Nan несут другой смысл - лучше заменить медианой, поскольку нулевые значения могут смещать выборку"
   ]
  },
  {
   "cell_type": "code",
   "execution_count": 16,
   "metadata": {},
   "outputs": [],
   "source": [
    "users_monthly_data['duration'] = users_monthly_data['duration'].fillna(0)\n",
    "users_monthly_data['gb_used'] = users_monthly_data['gb_used'].fillna(0)\n",
    "users_monthly_data['messages_number'] = users_monthly_data['messages_number'].fillna(0)"
   ]
  },
  {
   "cell_type": "code",
   "execution_count": 17,
   "metadata": {},
   "outputs": [
    {
     "name": "stdout",
     "output_type": "stream",
     "text": [
      "<class 'pandas.core.frame.DataFrame'>\n",
      "Int64Index: 3214 entries, 0 to 3213\n",
      "Data columns (total 5 columns):\n",
      " #   Column           Non-Null Count  Dtype  \n",
      "---  ------           --------------  -----  \n",
      " 0   user_id          3214 non-null   int64  \n",
      " 1   month            3214 non-null   int64  \n",
      " 2   duration         3214 non-null   float64\n",
      " 3   gb_used          3214 non-null   float64\n",
      " 4   messages_number  3214 non-null   float64\n",
      "dtypes: float64(3), int64(2)\n",
      "memory usage: 150.7 KB\n"
     ]
    }
   ],
   "source": [
    "users_monthly_data.info() # пропуски заполнены"
   ]
  },
  {
   "cell_type": "markdown",
   "metadata": {},
   "source": [
    "## Объединеним данные об объёме трафика с информацеий о пользователях и тарифе"
   ]
  },
  {
   "cell_type": "code",
   "execution_count": 18,
   "metadata": {},
   "outputs": [
    {
     "data": {
      "text/html": [
       "<div>\n",
       "<style scoped>\n",
       "    .dataframe tbody tr th:only-of-type {\n",
       "        vertical-align: middle;\n",
       "    }\n",
       "\n",
       "    .dataframe tbody tr th {\n",
       "        vertical-align: top;\n",
       "    }\n",
       "\n",
       "    .dataframe thead th {\n",
       "        text-align: right;\n",
       "    }\n",
       "</style>\n",
       "<table border=\"1\" class=\"dataframe\">\n",
       "  <thead>\n",
       "    <tr style=\"text-align: right;\">\n",
       "      <th></th>\n",
       "      <th>user_id</th>\n",
       "      <th>age</th>\n",
       "      <th>churn_date</th>\n",
       "      <th>city</th>\n",
       "      <th>first_name</th>\n",
       "      <th>last_name</th>\n",
       "      <th>reg_date</th>\n",
       "      <th>tariff</th>\n",
       "    </tr>\n",
       "  </thead>\n",
       "  <tbody>\n",
       "    <tr>\n",
       "      <th>0</th>\n",
       "      <td>1000</td>\n",
       "      <td>52</td>\n",
       "      <td>NaN</td>\n",
       "      <td>Краснодар</td>\n",
       "      <td>Рафаил</td>\n",
       "      <td>Верещагин</td>\n",
       "      <td>2018-05-25</td>\n",
       "      <td>ultra</td>\n",
       "    </tr>\n",
       "    <tr>\n",
       "      <th>1</th>\n",
       "      <td>1001</td>\n",
       "      <td>41</td>\n",
       "      <td>NaN</td>\n",
       "      <td>Москва</td>\n",
       "      <td>Иван</td>\n",
       "      <td>Ежов</td>\n",
       "      <td>2018-11-01</td>\n",
       "      <td>smart</td>\n",
       "    </tr>\n",
       "    <tr>\n",
       "      <th>2</th>\n",
       "      <td>1002</td>\n",
       "      <td>59</td>\n",
       "      <td>NaN</td>\n",
       "      <td>Стерлитамак</td>\n",
       "      <td>Евгений</td>\n",
       "      <td>Абрамович</td>\n",
       "      <td>2018-06-17</td>\n",
       "      <td>smart</td>\n",
       "    </tr>\n",
       "    <tr>\n",
       "      <th>3</th>\n",
       "      <td>1003</td>\n",
       "      <td>23</td>\n",
       "      <td>NaN</td>\n",
       "      <td>Москва</td>\n",
       "      <td>Белла</td>\n",
       "      <td>Белякова</td>\n",
       "      <td>2018-08-17</td>\n",
       "      <td>ultra</td>\n",
       "    </tr>\n",
       "    <tr>\n",
       "      <th>4</th>\n",
       "      <td>1004</td>\n",
       "      <td>68</td>\n",
       "      <td>NaN</td>\n",
       "      <td>Новокузнецк</td>\n",
       "      <td>Татьяна</td>\n",
       "      <td>Авдеенко</td>\n",
       "      <td>2018-05-14</td>\n",
       "      <td>ultra</td>\n",
       "    </tr>\n",
       "    <tr>\n",
       "      <th>...</th>\n",
       "      <td>...</td>\n",
       "      <td>...</td>\n",
       "      <td>...</td>\n",
       "      <td>...</td>\n",
       "      <td>...</td>\n",
       "      <td>...</td>\n",
       "      <td>...</td>\n",
       "      <td>...</td>\n",
       "    </tr>\n",
       "    <tr>\n",
       "      <th>495</th>\n",
       "      <td>1495</td>\n",
       "      <td>65</td>\n",
       "      <td>NaN</td>\n",
       "      <td>Иркутск</td>\n",
       "      <td>Авксентий</td>\n",
       "      <td>Фокин</td>\n",
       "      <td>2018-08-28</td>\n",
       "      <td>ultra</td>\n",
       "    </tr>\n",
       "    <tr>\n",
       "      <th>496</th>\n",
       "      <td>1496</td>\n",
       "      <td>36</td>\n",
       "      <td>NaN</td>\n",
       "      <td>Вологда</td>\n",
       "      <td>Трифон</td>\n",
       "      <td>Блохин</td>\n",
       "      <td>2018-01-27</td>\n",
       "      <td>smart</td>\n",
       "    </tr>\n",
       "    <tr>\n",
       "      <th>497</th>\n",
       "      <td>1497</td>\n",
       "      <td>32</td>\n",
       "      <td>NaN</td>\n",
       "      <td>Челябинск</td>\n",
       "      <td>Каролина</td>\n",
       "      <td>Агеева</td>\n",
       "      <td>2018-10-09</td>\n",
       "      <td>smart</td>\n",
       "    </tr>\n",
       "    <tr>\n",
       "      <th>498</th>\n",
       "      <td>1498</td>\n",
       "      <td>68</td>\n",
       "      <td>2018-10-25</td>\n",
       "      <td>Владикавказ</td>\n",
       "      <td>Всеволод</td>\n",
       "      <td>Акимчин</td>\n",
       "      <td>2018-07-19</td>\n",
       "      <td>smart</td>\n",
       "    </tr>\n",
       "    <tr>\n",
       "      <th>499</th>\n",
       "      <td>1499</td>\n",
       "      <td>35</td>\n",
       "      <td>NaN</td>\n",
       "      <td>Пермь</td>\n",
       "      <td>Гектор</td>\n",
       "      <td>Корнилов</td>\n",
       "      <td>2018-09-27</td>\n",
       "      <td>smart</td>\n",
       "    </tr>\n",
       "  </tbody>\n",
       "</table>\n",
       "<p>500 rows × 8 columns</p>\n",
       "</div>"
      ],
      "text/plain": [
       "     user_id  age  churn_date         city first_name  last_name    reg_date  \\\n",
       "0       1000   52         NaN    Краснодар     Рафаил  Верещагин  2018-05-25   \n",
       "1       1001   41         NaN       Москва       Иван       Ежов  2018-11-01   \n",
       "2       1002   59         NaN  Стерлитамак    Евгений  Абрамович  2018-06-17   \n",
       "3       1003   23         NaN       Москва      Белла   Белякова  2018-08-17   \n",
       "4       1004   68         NaN  Новокузнецк    Татьяна   Авдеенко  2018-05-14   \n",
       "..       ...  ...         ...          ...        ...        ...         ...   \n",
       "495     1495   65         NaN      Иркутск  Авксентий      Фокин  2018-08-28   \n",
       "496     1496   36         NaN      Вологда     Трифон     Блохин  2018-01-27   \n",
       "497     1497   32         NaN    Челябинск   Каролина     Агеева  2018-10-09   \n",
       "498     1498   68  2018-10-25  Владикавказ   Всеволод    Акимчин  2018-07-19   \n",
       "499     1499   35         NaN        Пермь     Гектор   Корнилов  2018-09-27   \n",
       "\n",
       "    tariff  \n",
       "0    ultra  \n",
       "1    smart  \n",
       "2    smart  \n",
       "3    ultra  \n",
       "4    ultra  \n",
       "..     ...  \n",
       "495  ultra  \n",
       "496  smart  \n",
       "497  smart  \n",
       "498  smart  \n",
       "499  smart  \n",
       "\n",
       "[500 rows x 8 columns]"
      ]
     },
     "execution_count": 18,
     "metadata": {},
     "output_type": "execute_result"
    }
   ],
   "source": [
    "users # Посмотрим на данные в таблице users"
   ]
  },
  {
   "cell_type": "code",
   "execution_count": 19,
   "metadata": {},
   "outputs": [],
   "source": [
    "users_monthly_data = users_monthly_data.merge(users, on = ['user_id'], how='inner')"
   ]
  },
  {
   "cell_type": "code",
   "execution_count": 20,
   "metadata": {},
   "outputs": [
    {
     "data": {
      "text/html": [
       "<div>\n",
       "<style scoped>\n",
       "    .dataframe tbody tr th:only-of-type {\n",
       "        vertical-align: middle;\n",
       "    }\n",
       "\n",
       "    .dataframe tbody tr th {\n",
       "        vertical-align: top;\n",
       "    }\n",
       "\n",
       "    .dataframe thead th {\n",
       "        text-align: right;\n",
       "    }\n",
       "</style>\n",
       "<table border=\"1\" class=\"dataframe\">\n",
       "  <thead>\n",
       "    <tr style=\"text-align: right;\">\n",
       "      <th></th>\n",
       "      <th>user_id</th>\n",
       "      <th>month</th>\n",
       "      <th>duration</th>\n",
       "      <th>gb_used</th>\n",
       "      <th>messages_number</th>\n",
       "      <th>age</th>\n",
       "      <th>churn_date</th>\n",
       "      <th>city</th>\n",
       "      <th>first_name</th>\n",
       "      <th>last_name</th>\n",
       "      <th>reg_date</th>\n",
       "      <th>tariff</th>\n",
       "    </tr>\n",
       "  </thead>\n",
       "  <tbody>\n",
       "    <tr>\n",
       "      <th>0</th>\n",
       "      <td>1000</td>\n",
       "      <td>5</td>\n",
       "      <td>159.0</td>\n",
       "      <td>3072.0</td>\n",
       "      <td>22.0</td>\n",
       "      <td>52</td>\n",
       "      <td>NaN</td>\n",
       "      <td>Краснодар</td>\n",
       "      <td>Рафаил</td>\n",
       "      <td>Верещагин</td>\n",
       "      <td>2018-05-25</td>\n",
       "      <td>ultra</td>\n",
       "    </tr>\n",
       "    <tr>\n",
       "      <th>1</th>\n",
       "      <td>1000</td>\n",
       "      <td>6</td>\n",
       "      <td>172.0</td>\n",
       "      <td>23552.0</td>\n",
       "      <td>60.0</td>\n",
       "      <td>52</td>\n",
       "      <td>NaN</td>\n",
       "      <td>Краснодар</td>\n",
       "      <td>Рафаил</td>\n",
       "      <td>Верещагин</td>\n",
       "      <td>2018-05-25</td>\n",
       "      <td>ultra</td>\n",
       "    </tr>\n",
       "    <tr>\n",
       "      <th>2</th>\n",
       "      <td>1000</td>\n",
       "      <td>7</td>\n",
       "      <td>340.0</td>\n",
       "      <td>14336.0</td>\n",
       "      <td>75.0</td>\n",
       "      <td>52</td>\n",
       "      <td>NaN</td>\n",
       "      <td>Краснодар</td>\n",
       "      <td>Рафаил</td>\n",
       "      <td>Верещагин</td>\n",
       "      <td>2018-05-25</td>\n",
       "      <td>ultra</td>\n",
       "    </tr>\n",
       "    <tr>\n",
       "      <th>3</th>\n",
       "      <td>1000</td>\n",
       "      <td>8</td>\n",
       "      <td>408.0</td>\n",
       "      <td>14336.0</td>\n",
       "      <td>81.0</td>\n",
       "      <td>52</td>\n",
       "      <td>NaN</td>\n",
       "      <td>Краснодар</td>\n",
       "      <td>Рафаил</td>\n",
       "      <td>Верещагин</td>\n",
       "      <td>2018-05-25</td>\n",
       "      <td>ultra</td>\n",
       "    </tr>\n",
       "    <tr>\n",
       "      <th>4</th>\n",
       "      <td>1000</td>\n",
       "      <td>9</td>\n",
       "      <td>466.0</td>\n",
       "      <td>15360.0</td>\n",
       "      <td>57.0</td>\n",
       "      <td>52</td>\n",
       "      <td>NaN</td>\n",
       "      <td>Краснодар</td>\n",
       "      <td>Рафаил</td>\n",
       "      <td>Верещагин</td>\n",
       "      <td>2018-05-25</td>\n",
       "      <td>ultra</td>\n",
       "    </tr>\n",
       "    <tr>\n",
       "      <th>...</th>\n",
       "      <td>...</td>\n",
       "      <td>...</td>\n",
       "      <td>...</td>\n",
       "      <td>...</td>\n",
       "      <td>...</td>\n",
       "      <td>...</td>\n",
       "      <td>...</td>\n",
       "      <td>...</td>\n",
       "      <td>...</td>\n",
       "      <td>...</td>\n",
       "      <td>...</td>\n",
       "      <td>...</td>\n",
       "    </tr>\n",
       "    <tr>\n",
       "      <th>3209</th>\n",
       "      <td>1489</td>\n",
       "      <td>8</td>\n",
       "      <td>0.0</td>\n",
       "      <td>11264.0</td>\n",
       "      <td>17.0</td>\n",
       "      <td>35</td>\n",
       "      <td>NaN</td>\n",
       "      <td>Санкт-Петербург</td>\n",
       "      <td>Павел</td>\n",
       "      <td>Гончаров</td>\n",
       "      <td>2018-08-15</td>\n",
       "      <td>smart</td>\n",
       "    </tr>\n",
       "    <tr>\n",
       "      <th>3210</th>\n",
       "      <td>1489</td>\n",
       "      <td>9</td>\n",
       "      <td>0.0</td>\n",
       "      <td>17408.0</td>\n",
       "      <td>32.0</td>\n",
       "      <td>35</td>\n",
       "      <td>NaN</td>\n",
       "      <td>Санкт-Петербург</td>\n",
       "      <td>Павел</td>\n",
       "      <td>Гончаров</td>\n",
       "      <td>2018-08-15</td>\n",
       "      <td>smart</td>\n",
       "    </tr>\n",
       "    <tr>\n",
       "      <th>3211</th>\n",
       "      <td>1489</td>\n",
       "      <td>10</td>\n",
       "      <td>0.0</td>\n",
       "      <td>20480.0</td>\n",
       "      <td>21.0</td>\n",
       "      <td>35</td>\n",
       "      <td>NaN</td>\n",
       "      <td>Санкт-Петербург</td>\n",
       "      <td>Павел</td>\n",
       "      <td>Гончаров</td>\n",
       "      <td>2018-08-15</td>\n",
       "      <td>smart</td>\n",
       "    </tr>\n",
       "    <tr>\n",
       "      <th>3212</th>\n",
       "      <td>1489</td>\n",
       "      <td>11</td>\n",
       "      <td>0.0</td>\n",
       "      <td>18432.0</td>\n",
       "      <td>20.0</td>\n",
       "      <td>35</td>\n",
       "      <td>NaN</td>\n",
       "      <td>Санкт-Петербург</td>\n",
       "      <td>Павел</td>\n",
       "      <td>Гончаров</td>\n",
       "      <td>2018-08-15</td>\n",
       "      <td>smart</td>\n",
       "    </tr>\n",
       "    <tr>\n",
       "      <th>3213</th>\n",
       "      <td>1489</td>\n",
       "      <td>12</td>\n",
       "      <td>0.0</td>\n",
       "      <td>17408.0</td>\n",
       "      <td>35.0</td>\n",
       "      <td>35</td>\n",
       "      <td>NaN</td>\n",
       "      <td>Санкт-Петербург</td>\n",
       "      <td>Павел</td>\n",
       "      <td>Гончаров</td>\n",
       "      <td>2018-08-15</td>\n",
       "      <td>smart</td>\n",
       "    </tr>\n",
       "  </tbody>\n",
       "</table>\n",
       "<p>3214 rows × 12 columns</p>\n",
       "</div>"
      ],
      "text/plain": [
       "      user_id  month  duration  gb_used  messages_number  age churn_date  \\\n",
       "0        1000      5     159.0   3072.0             22.0   52        NaN   \n",
       "1        1000      6     172.0  23552.0             60.0   52        NaN   \n",
       "2        1000      7     340.0  14336.0             75.0   52        NaN   \n",
       "3        1000      8     408.0  14336.0             81.0   52        NaN   \n",
       "4        1000      9     466.0  15360.0             57.0   52        NaN   \n",
       "...       ...    ...       ...      ...              ...  ...        ...   \n",
       "3209     1489      8       0.0  11264.0             17.0   35        NaN   \n",
       "3210     1489      9       0.0  17408.0             32.0   35        NaN   \n",
       "3211     1489     10       0.0  20480.0             21.0   35        NaN   \n",
       "3212     1489     11       0.0  18432.0             20.0   35        NaN   \n",
       "3213     1489     12       0.0  17408.0             35.0   35        NaN   \n",
       "\n",
       "                 city first_name  last_name    reg_date tariff  \n",
       "0           Краснодар     Рафаил  Верещагин  2018-05-25  ultra  \n",
       "1           Краснодар     Рафаил  Верещагин  2018-05-25  ultra  \n",
       "2           Краснодар     Рафаил  Верещагин  2018-05-25  ultra  \n",
       "3           Краснодар     Рафаил  Верещагин  2018-05-25  ultra  \n",
       "4           Краснодар     Рафаил  Верещагин  2018-05-25  ultra  \n",
       "...               ...        ...        ...         ...    ...  \n",
       "3209  Санкт-Петербург      Павел   Гончаров  2018-08-15  smart  \n",
       "3210  Санкт-Петербург      Павел   Гончаров  2018-08-15  smart  \n",
       "3211  Санкт-Петербург      Павел   Гончаров  2018-08-15  smart  \n",
       "3212  Санкт-Петербург      Павел   Гончаров  2018-08-15  smart  \n",
       "3213  Санкт-Петербург      Павел   Гончаров  2018-08-15  smart  \n",
       "\n",
       "[3214 rows x 12 columns]"
      ]
     },
     "execution_count": 20,
     "metadata": {},
     "output_type": "execute_result"
    }
   ],
   "source": [
    "users_monthly_data\n"
   ]
  },
  {
   "cell_type": "code",
   "execution_count": 21,
   "metadata": {},
   "outputs": [],
   "source": [
    "tariffs.columns = ['messages_included', 'mb_per_month_included', 'minutes_included',\n",
    "       'rub_monthly_fee', 'rub_per_gb', 'rub_per_message', 'rub_per_minute',\n",
    "       'tariff']"
   ]
  },
  {
   "cell_type": "code",
   "execution_count": 22,
   "metadata": {},
   "outputs": [
    {
     "data": {
      "text/html": [
       "<div>\n",
       "<style scoped>\n",
       "    .dataframe tbody tr th:only-of-type {\n",
       "        vertical-align: middle;\n",
       "    }\n",
       "\n",
       "    .dataframe tbody tr th {\n",
       "        vertical-align: top;\n",
       "    }\n",
       "\n",
       "    .dataframe thead th {\n",
       "        text-align: right;\n",
       "    }\n",
       "</style>\n",
       "<table border=\"1\" class=\"dataframe\">\n",
       "  <thead>\n",
       "    <tr style=\"text-align: right;\">\n",
       "      <th></th>\n",
       "      <th>user_id</th>\n",
       "      <th>month</th>\n",
       "      <th>duration</th>\n",
       "      <th>gb_used</th>\n",
       "      <th>messages_number</th>\n",
       "      <th>age</th>\n",
       "      <th>churn_date</th>\n",
       "      <th>city</th>\n",
       "      <th>first_name</th>\n",
       "      <th>last_name</th>\n",
       "      <th>reg_date</th>\n",
       "      <th>tariff</th>\n",
       "      <th>messages_included</th>\n",
       "      <th>mb_per_month_included</th>\n",
       "      <th>minutes_included</th>\n",
       "      <th>rub_monthly_fee</th>\n",
       "      <th>rub_per_gb</th>\n",
       "      <th>rub_per_message</th>\n",
       "      <th>rub_per_minute</th>\n",
       "    </tr>\n",
       "  </thead>\n",
       "  <tbody>\n",
       "    <tr>\n",
       "      <th>0</th>\n",
       "      <td>1000</td>\n",
       "      <td>5</td>\n",
       "      <td>159.0</td>\n",
       "      <td>3072.0</td>\n",
       "      <td>22.0</td>\n",
       "      <td>52</td>\n",
       "      <td>NaN</td>\n",
       "      <td>Краснодар</td>\n",
       "      <td>Рафаил</td>\n",
       "      <td>Верещагин</td>\n",
       "      <td>2018-05-25</td>\n",
       "      <td>ultra</td>\n",
       "      <td>1000</td>\n",
       "      <td>30720</td>\n",
       "      <td>3000</td>\n",
       "      <td>1950</td>\n",
       "      <td>150</td>\n",
       "      <td>1</td>\n",
       "      <td>1</td>\n",
       "    </tr>\n",
       "    <tr>\n",
       "      <th>1</th>\n",
       "      <td>1000</td>\n",
       "      <td>6</td>\n",
       "      <td>172.0</td>\n",
       "      <td>23552.0</td>\n",
       "      <td>60.0</td>\n",
       "      <td>52</td>\n",
       "      <td>NaN</td>\n",
       "      <td>Краснодар</td>\n",
       "      <td>Рафаил</td>\n",
       "      <td>Верещагин</td>\n",
       "      <td>2018-05-25</td>\n",
       "      <td>ultra</td>\n",
       "      <td>1000</td>\n",
       "      <td>30720</td>\n",
       "      <td>3000</td>\n",
       "      <td>1950</td>\n",
       "      <td>150</td>\n",
       "      <td>1</td>\n",
       "      <td>1</td>\n",
       "    </tr>\n",
       "    <tr>\n",
       "      <th>2</th>\n",
       "      <td>1000</td>\n",
       "      <td>7</td>\n",
       "      <td>340.0</td>\n",
       "      <td>14336.0</td>\n",
       "      <td>75.0</td>\n",
       "      <td>52</td>\n",
       "      <td>NaN</td>\n",
       "      <td>Краснодар</td>\n",
       "      <td>Рафаил</td>\n",
       "      <td>Верещагин</td>\n",
       "      <td>2018-05-25</td>\n",
       "      <td>ultra</td>\n",
       "      <td>1000</td>\n",
       "      <td>30720</td>\n",
       "      <td>3000</td>\n",
       "      <td>1950</td>\n",
       "      <td>150</td>\n",
       "      <td>1</td>\n",
       "      <td>1</td>\n",
       "    </tr>\n",
       "    <tr>\n",
       "      <th>3</th>\n",
       "      <td>1000</td>\n",
       "      <td>8</td>\n",
       "      <td>408.0</td>\n",
       "      <td>14336.0</td>\n",
       "      <td>81.0</td>\n",
       "      <td>52</td>\n",
       "      <td>NaN</td>\n",
       "      <td>Краснодар</td>\n",
       "      <td>Рафаил</td>\n",
       "      <td>Верещагин</td>\n",
       "      <td>2018-05-25</td>\n",
       "      <td>ultra</td>\n",
       "      <td>1000</td>\n",
       "      <td>30720</td>\n",
       "      <td>3000</td>\n",
       "      <td>1950</td>\n",
       "      <td>150</td>\n",
       "      <td>1</td>\n",
       "      <td>1</td>\n",
       "    </tr>\n",
       "    <tr>\n",
       "      <th>4</th>\n",
       "      <td>1000</td>\n",
       "      <td>9</td>\n",
       "      <td>466.0</td>\n",
       "      <td>15360.0</td>\n",
       "      <td>57.0</td>\n",
       "      <td>52</td>\n",
       "      <td>NaN</td>\n",
       "      <td>Краснодар</td>\n",
       "      <td>Рафаил</td>\n",
       "      <td>Верещагин</td>\n",
       "      <td>2018-05-25</td>\n",
       "      <td>ultra</td>\n",
       "      <td>1000</td>\n",
       "      <td>30720</td>\n",
       "      <td>3000</td>\n",
       "      <td>1950</td>\n",
       "      <td>150</td>\n",
       "      <td>1</td>\n",
       "      <td>1</td>\n",
       "    </tr>\n",
       "    <tr>\n",
       "      <th>...</th>\n",
       "      <td>...</td>\n",
       "      <td>...</td>\n",
       "      <td>...</td>\n",
       "      <td>...</td>\n",
       "      <td>...</td>\n",
       "      <td>...</td>\n",
       "      <td>...</td>\n",
       "      <td>...</td>\n",
       "      <td>...</td>\n",
       "      <td>...</td>\n",
       "      <td>...</td>\n",
       "      <td>...</td>\n",
       "      <td>...</td>\n",
       "      <td>...</td>\n",
       "      <td>...</td>\n",
       "      <td>...</td>\n",
       "      <td>...</td>\n",
       "      <td>...</td>\n",
       "      <td>...</td>\n",
       "    </tr>\n",
       "    <tr>\n",
       "      <th>3209</th>\n",
       "      <td>1489</td>\n",
       "      <td>8</td>\n",
       "      <td>0.0</td>\n",
       "      <td>11264.0</td>\n",
       "      <td>17.0</td>\n",
       "      <td>35</td>\n",
       "      <td>NaN</td>\n",
       "      <td>Санкт-Петербург</td>\n",
       "      <td>Павел</td>\n",
       "      <td>Гончаров</td>\n",
       "      <td>2018-08-15</td>\n",
       "      <td>smart</td>\n",
       "      <td>50</td>\n",
       "      <td>15360</td>\n",
       "      <td>500</td>\n",
       "      <td>550</td>\n",
       "      <td>200</td>\n",
       "      <td>3</td>\n",
       "      <td>3</td>\n",
       "    </tr>\n",
       "    <tr>\n",
       "      <th>3210</th>\n",
       "      <td>1489</td>\n",
       "      <td>9</td>\n",
       "      <td>0.0</td>\n",
       "      <td>17408.0</td>\n",
       "      <td>32.0</td>\n",
       "      <td>35</td>\n",
       "      <td>NaN</td>\n",
       "      <td>Санкт-Петербург</td>\n",
       "      <td>Павел</td>\n",
       "      <td>Гончаров</td>\n",
       "      <td>2018-08-15</td>\n",
       "      <td>smart</td>\n",
       "      <td>50</td>\n",
       "      <td>15360</td>\n",
       "      <td>500</td>\n",
       "      <td>550</td>\n",
       "      <td>200</td>\n",
       "      <td>3</td>\n",
       "      <td>3</td>\n",
       "    </tr>\n",
       "    <tr>\n",
       "      <th>3211</th>\n",
       "      <td>1489</td>\n",
       "      <td>10</td>\n",
       "      <td>0.0</td>\n",
       "      <td>20480.0</td>\n",
       "      <td>21.0</td>\n",
       "      <td>35</td>\n",
       "      <td>NaN</td>\n",
       "      <td>Санкт-Петербург</td>\n",
       "      <td>Павел</td>\n",
       "      <td>Гончаров</td>\n",
       "      <td>2018-08-15</td>\n",
       "      <td>smart</td>\n",
       "      <td>50</td>\n",
       "      <td>15360</td>\n",
       "      <td>500</td>\n",
       "      <td>550</td>\n",
       "      <td>200</td>\n",
       "      <td>3</td>\n",
       "      <td>3</td>\n",
       "    </tr>\n",
       "    <tr>\n",
       "      <th>3212</th>\n",
       "      <td>1489</td>\n",
       "      <td>11</td>\n",
       "      <td>0.0</td>\n",
       "      <td>18432.0</td>\n",
       "      <td>20.0</td>\n",
       "      <td>35</td>\n",
       "      <td>NaN</td>\n",
       "      <td>Санкт-Петербург</td>\n",
       "      <td>Павел</td>\n",
       "      <td>Гончаров</td>\n",
       "      <td>2018-08-15</td>\n",
       "      <td>smart</td>\n",
       "      <td>50</td>\n",
       "      <td>15360</td>\n",
       "      <td>500</td>\n",
       "      <td>550</td>\n",
       "      <td>200</td>\n",
       "      <td>3</td>\n",
       "      <td>3</td>\n",
       "    </tr>\n",
       "    <tr>\n",
       "      <th>3213</th>\n",
       "      <td>1489</td>\n",
       "      <td>12</td>\n",
       "      <td>0.0</td>\n",
       "      <td>17408.0</td>\n",
       "      <td>35.0</td>\n",
       "      <td>35</td>\n",
       "      <td>NaN</td>\n",
       "      <td>Санкт-Петербург</td>\n",
       "      <td>Павел</td>\n",
       "      <td>Гончаров</td>\n",
       "      <td>2018-08-15</td>\n",
       "      <td>smart</td>\n",
       "      <td>50</td>\n",
       "      <td>15360</td>\n",
       "      <td>500</td>\n",
       "      <td>550</td>\n",
       "      <td>200</td>\n",
       "      <td>3</td>\n",
       "      <td>3</td>\n",
       "    </tr>\n",
       "  </tbody>\n",
       "</table>\n",
       "<p>3214 rows × 19 columns</p>\n",
       "</div>"
      ],
      "text/plain": [
       "      user_id  month  duration  gb_used  messages_number  age churn_date  \\\n",
       "0        1000      5     159.0   3072.0             22.0   52        NaN   \n",
       "1        1000      6     172.0  23552.0             60.0   52        NaN   \n",
       "2        1000      7     340.0  14336.0             75.0   52        NaN   \n",
       "3        1000      8     408.0  14336.0             81.0   52        NaN   \n",
       "4        1000      9     466.0  15360.0             57.0   52        NaN   \n",
       "...       ...    ...       ...      ...              ...  ...        ...   \n",
       "3209     1489      8       0.0  11264.0             17.0   35        NaN   \n",
       "3210     1489      9       0.0  17408.0             32.0   35        NaN   \n",
       "3211     1489     10       0.0  20480.0             21.0   35        NaN   \n",
       "3212     1489     11       0.0  18432.0             20.0   35        NaN   \n",
       "3213     1489     12       0.0  17408.0             35.0   35        NaN   \n",
       "\n",
       "                 city first_name  last_name    reg_date tariff  \\\n",
       "0           Краснодар     Рафаил  Верещагин  2018-05-25  ultra   \n",
       "1           Краснодар     Рафаил  Верещагин  2018-05-25  ultra   \n",
       "2           Краснодар     Рафаил  Верещагин  2018-05-25  ultra   \n",
       "3           Краснодар     Рафаил  Верещагин  2018-05-25  ultra   \n",
       "4           Краснодар     Рафаил  Верещагин  2018-05-25  ultra   \n",
       "...               ...        ...        ...         ...    ...   \n",
       "3209  Санкт-Петербург      Павел   Гончаров  2018-08-15  smart   \n",
       "3210  Санкт-Петербург      Павел   Гончаров  2018-08-15  smart   \n",
       "3211  Санкт-Петербург      Павел   Гончаров  2018-08-15  smart   \n",
       "3212  Санкт-Петербург      Павел   Гончаров  2018-08-15  smart   \n",
       "3213  Санкт-Петербург      Павел   Гончаров  2018-08-15  smart   \n",
       "\n",
       "      messages_included  mb_per_month_included  minutes_included  \\\n",
       "0                  1000                  30720              3000   \n",
       "1                  1000                  30720              3000   \n",
       "2                  1000                  30720              3000   \n",
       "3                  1000                  30720              3000   \n",
       "4                  1000                  30720              3000   \n",
       "...                 ...                    ...               ...   \n",
       "3209                 50                  15360               500   \n",
       "3210                 50                  15360               500   \n",
       "3211                 50                  15360               500   \n",
       "3212                 50                  15360               500   \n",
       "3213                 50                  15360               500   \n",
       "\n",
       "      rub_monthly_fee  rub_per_gb  rub_per_message  rub_per_minute  \n",
       "0                1950         150                1               1  \n",
       "1                1950         150                1               1  \n",
       "2                1950         150                1               1  \n",
       "3                1950         150                1               1  \n",
       "4                1950         150                1               1  \n",
       "...               ...         ...              ...             ...  \n",
       "3209              550         200                3               3  \n",
       "3210              550         200                3               3  \n",
       "3211              550         200                3               3  \n",
       "3212              550         200                3               3  \n",
       "3213              550         200                3               3  \n",
       "\n",
       "[3214 rows x 19 columns]"
      ]
     },
     "execution_count": 22,
     "metadata": {},
     "output_type": "execute_result"
    }
   ],
   "source": [
    "users_monthly_data = users_monthly_data.merge(tariffs, on = ['tariff'], how='inner')\n",
    "users_monthly_data"
   ]
  },
  {
   "cell_type": "code",
   "execution_count": 23,
   "metadata": {},
   "outputs": [
    {
     "name": "stdout",
     "output_type": "stream",
     "text": [
      "<class 'pandas.core.frame.DataFrame'>\n",
      "Int64Index: 3214 entries, 0 to 3213\n",
      "Data columns (total 19 columns):\n",
      " #   Column                 Non-Null Count  Dtype  \n",
      "---  ------                 --------------  -----  \n",
      " 0   user_id                3214 non-null   int64  \n",
      " 1   month                  3214 non-null   int64  \n",
      " 2   duration               3214 non-null   float64\n",
      " 3   gb_used                3214 non-null   float64\n",
      " 4   messages_number        3214 non-null   float64\n",
      " 5   age                    3214 non-null   int64  \n",
      " 6   churn_date             187 non-null    object \n",
      " 7   city                   3214 non-null   object \n",
      " 8   first_name             3214 non-null   object \n",
      " 9   last_name              3214 non-null   object \n",
      " 10  reg_date               3214 non-null   object \n",
      " 11  tariff                 3214 non-null   object \n",
      " 12  messages_included      3214 non-null   int64  \n",
      " 13  mb_per_month_included  3214 non-null   int64  \n",
      " 14  minutes_included       3214 non-null   int64  \n",
      " 15  rub_monthly_fee        3214 non-null   int64  \n",
      " 16  rub_per_gb             3214 non-null   int64  \n",
      " 17  rub_per_message        3214 non-null   int64  \n",
      " 18  rub_per_minute         3214 non-null   int64  \n",
      "dtypes: float64(3), int64(10), object(6)\n",
      "memory usage: 502.2+ KB\n"
     ]
    }
   ],
   "source": [
    "users_monthly_data.info()"
   ]
  },
  {
   "cell_type": "markdown",
   "metadata": {},
   "source": [
    "## Рассчитаем выручку для каждого пользователя за каждый месяц использования тарифа"
   ]
  },
  {
   "cell_type": "markdown",
   "metadata": {},
   "source": [
    "Расчет выручки будем проводить с помощью функции `income_user_per_month`\n",
    "\n",
    "Инструкция по расчёту:  \n",
    "Вычтите бесплатный лимит из суммарного количества звонков, сообщений и интернет-трафика; остаток умножьте на значение из тарифного плана; прибавьте абонентскую плату, соответствующую тарифному плану"
   ]
  },
  {
   "cell_type": "code",
   "execution_count": 24,
   "metadata": {},
   "outputs": [],
   "source": [
    "# прощу посчитать помесячную выручку и добавить в данные\n",
    "\n",
    "def income_user_per_month(row):\n",
    "    income_user_ultra = 0\n",
    "    income_user_smart = 0\n",
    "    \n",
    "    if row['tariff']== 'ultra':\n",
    "        income_user_ultra += 1950\n",
    "        if row['duration'] > 3000:\n",
    "            min_overlimit_cost = (row['duration'] - 3000) * 1\n",
    "            income_user_ultra += min_overlimit_cost\n",
    "        if row['gb_used'] > 30720:\n",
    "            gb_overlimit_cost = (np.ceil((row['gb_used'] - 30720)/ 1024)) * 150\n",
    "            income_user_ultra += gb_overlimit_cost\n",
    "        if row['messages_number'] > 1000:\n",
    "            msg_overlimit_cost = (row['messages_number'] - 1000) * 1\n",
    "            income_user_ultra += msg_overlimit_cost\n",
    "        return income_user_ultra\n",
    "    \n",
    "    elif row['tariff'] == 'smart':\n",
    "        income_user_smart += 550\n",
    "        \n",
    "        if row['duration'] > 500:\n",
    "            min_overlimit_cost = (row['duration'] - 500) * 3\n",
    "            income_user_smart += min_overlimit_cost\n",
    "            \n",
    "        if row['gb_used'] > 15360:\n",
    "            gb_overlimit_cost = (np.ceil((row['gb_used'] - 15360)/ 1024)) * 200\n",
    "            income_user_smart += gb_overlimit_cost\n",
    "            \n",
    "        if row['messages_number'] > 50:\n",
    "            msg_overlimit_cost = (row['messages_number'] - 50) * 3\n",
    "            income_user_smart += msg_overlimit_cost\n",
    "            \n",
    "    return income_user_smart"
   ]
  },
  {
   "cell_type": "code",
   "execution_count": 25,
   "metadata": {},
   "outputs": [],
   "source": [
    "# применим функцию к датафрейму\n",
    "users_monthly_data['income_user_per_month'] = users_monthly_data.apply(income_user_per_month, axis=1)"
   ]
  },
  {
   "cell_type": "markdown",
   "metadata": {},
   "source": [
    "__Вывод:__\n",
    "\n",
    "Получилось объединить данные о ежемесячном потреблении трафика абонентами (на основании user_id) с данными абонентов и информацией о тарифе абонента\n",
    "\n",
    "1. Проведена предобработка данных для объединения:\n",
    "    - удален столбец из таблицы internet\n",
    "    - данные о длительности звонков объединены до полной минуты\n",
    "    \n",
    "             \n",
    "2. Таблицы calls, internet, messages сгруппированы по идентификационному номеру аббонента и месяцу оказания услуги, данные отсортированы по индетификатору абонента и месяцу. В таблице internet затраченные за месяц мегайбайты округлены до следующего гигабайта, столбец с данными об исходных затратах в мегабайтах удален перед объединением в другими таблицами\n",
    "\n",
    "\n",
    "3. Таблицы calls, internet, messages содержали разное количество строк, то есть для отдельных абонентов отсутствуют данные по тем или иным видам услуг, которыми они, возможно, не пользовались в данном периоде или вообще. Для объединения таблиц использовалась функция merge с признаком how='outer', чтобы сохранились все данные из объединяемых таблиц. В результате получена таблица `users_monthly_data`, с данными о продолжительности звонков за месяц, количестве смс и гигабайтах интернета. Полученные пропуски заменены на нулевые значения.\n",
    "\n",
    "\n",
    "4. К полученной таблице на основании user_id с помощью функции merge и c признаком how='inner' добавлены данные о пользователях из таблицы users. К полученной таблице на основании данных столбца tariff к каждой строке добавлены данные о требованиях тарифа.\n",
    "\n",
    "\n",
    "5. Рассчитана и добавлена переменная - помесячная выручка на клиента (income_user_per_month)\n"
   ]
  },
  {
   "cell_type": "markdown",
   "metadata": {},
   "source": [
    "# Проанализуем данные об абонентах"
   ]
  },
  {
   "cell_type": "markdown",
   "metadata": {},
   "source": [
    "Опишите поведение клиентов оператора, исходя из выборки. \n",
    "- Сколько минут разговора, сколько сообщений и какой объём интернет-трафика требуется пользователям каждого тарифа в месяц?\n",
    "- Посчитайте среднее количество, дисперсию и стандартное отклонение. \n",
    "- Постройте гистограммы. Опишите распределения."
   ]
  },
  {
   "cell_type": "markdown",
   "metadata": {},
   "source": [
    "## Сколько минут разговора, сколько сообщений и какой объём интернет-трафика требуется пользователям каждого тарифа в месяц?\n",
    "\n",
    "Посмотрим на значения среднего и медианы для пользователей двух тарифов по продолжительности звонков, объёму интернет трафика, количеству смс и затратам в месяц"
   ]
  },
  {
   "cell_type": "code",
   "execution_count": 26,
   "metadata": {},
   "outputs": [
    {
     "data": {
      "text/html": [
       "<div>\n",
       "<style scoped>\n",
       "    .dataframe tbody tr th:only-of-type {\n",
       "        vertical-align: middle;\n",
       "    }\n",
       "\n",
       "    .dataframe tbody tr th {\n",
       "        vertical-align: top;\n",
       "    }\n",
       "\n",
       "    .dataframe thead th {\n",
       "        text-align: right;\n",
       "    }\n",
       "</style>\n",
       "<table border=\"1\" class=\"dataframe\">\n",
       "  <thead>\n",
       "    <tr style=\"text-align: right;\">\n",
       "      <th></th>\n",
       "      <th>duration</th>\n",
       "      <th>gb_used</th>\n",
       "      <th>income_user_per_month</th>\n",
       "      <th>messages_number</th>\n",
       "    </tr>\n",
       "    <tr>\n",
       "      <th>tariff</th>\n",
       "      <th></th>\n",
       "      <th></th>\n",
       "      <th></th>\n",
       "      <th></th>\n",
       "    </tr>\n",
       "  </thead>\n",
       "  <tbody>\n",
       "    <tr>\n",
       "      <th>smart</th>\n",
       "      <td>417.934948</td>\n",
       "      <td>16720.739345</td>\n",
       "      <td>1289.973531</td>\n",
       "      <td>33.384029</td>\n",
       "    </tr>\n",
       "    <tr>\n",
       "      <th>ultra</th>\n",
       "      <td>526.623350</td>\n",
       "      <td>19962.282234</td>\n",
       "      <td>2070.152284</td>\n",
       "      <td>49.363452</td>\n",
       "    </tr>\n",
       "  </tbody>\n",
       "</table>\n",
       "</div>"
      ],
      "text/plain": [
       "          duration       gb_used  income_user_per_month  messages_number\n",
       "tariff                                                                  \n",
       "smart   417.934948  16720.739345            1289.973531        33.384029\n",
       "ultra   526.623350  19962.282234            2070.152284        49.363452"
      ]
     },
     "execution_count": 26,
     "metadata": {},
     "output_type": "execute_result"
    }
   ],
   "source": [
    "# Среднее по тарифам\n",
    "users_monthly_data.pivot_table(index=['tariff'], \n",
    "                               values = ['duration', 'gb_used', 'messages_number', 'income_user_per_month'],  \n",
    "                               aggfunc='mean')"
   ]
  },
  {
   "cell_type": "code",
   "execution_count": 27,
   "metadata": {},
   "outputs": [
    {
     "data": {
      "text/html": [
       "<div>\n",
       "<style scoped>\n",
       "    .dataframe tbody tr th:only-of-type {\n",
       "        vertical-align: middle;\n",
       "    }\n",
       "\n",
       "    .dataframe tbody tr th {\n",
       "        vertical-align: top;\n",
       "    }\n",
       "\n",
       "    .dataframe thead th {\n",
       "        text-align: right;\n",
       "    }\n",
       "</style>\n",
       "<table border=\"1\" class=\"dataframe\">\n",
       "  <thead>\n",
       "    <tr style=\"text-align: right;\">\n",
       "      <th></th>\n",
       "      <th>duration</th>\n",
       "      <th>gb_used</th>\n",
       "      <th>income_user_per_month</th>\n",
       "      <th>messages_number</th>\n",
       "    </tr>\n",
       "    <tr>\n",
       "      <th>tariff</th>\n",
       "      <th></th>\n",
       "      <th></th>\n",
       "      <th></th>\n",
       "      <th></th>\n",
       "    </tr>\n",
       "  </thead>\n",
       "  <tbody>\n",
       "    <tr>\n",
       "      <th>smart</th>\n",
       "      <td>422.0</td>\n",
       "      <td>17408.0</td>\n",
       "      <td>1023.0</td>\n",
       "      <td>28.0</td>\n",
       "    </tr>\n",
       "    <tr>\n",
       "      <th>ultra</th>\n",
       "      <td>518.0</td>\n",
       "      <td>19456.0</td>\n",
       "      <td>1950.0</td>\n",
       "      <td>38.0</td>\n",
       "    </tr>\n",
       "  </tbody>\n",
       "</table>\n",
       "</div>"
      ],
      "text/plain": [
       "        duration  gb_used  income_user_per_month  messages_number\n",
       "tariff                                                           \n",
       "smart      422.0  17408.0                 1023.0             28.0\n",
       "ultra      518.0  19456.0                 1950.0             38.0"
      ]
     },
     "execution_count": 27,
     "metadata": {},
     "output_type": "execute_result"
    }
   ],
   "source": [
    "# медиана по тарифам\n",
    "users_monthly_data.pivot_table(index=['tariff'], \n",
    "                               values = ['duration', 'gb_used', 'messages_number', 'income_user_per_month'],  \n",
    "                               aggfunc='median')"
   ]
  },
  {
   "cell_type": "markdown",
   "metadata": {},
   "source": [
    "__Выводы:__"
   ]
  },
  {
   "cell_type": "markdown",
   "metadata": {},
   "source": [
    "В среднем пользователи тарифа 'ultra':\n",
    "- дольше говорят по телефону\n",
    "- используют больший объем трафика\n",
    "- отправляют больше сообщений\n",
    "\n",
    "При этом в среднем потребление трафика для пользователей двух тарифов ближе, чем различия по количеству предоставляемых минут, магабайтов и интернет трафика в тарифах\n",
    "\n",
    "Пользователи 'Ultra' - на основании средних значений - тратят существенно меньше минут, гигабайт и смс, чем заложено в тарифе:\n",
    "- 53% от минут в тарифе\n",
    "- 66% от объема интернет трафика\n",
    "- 5 % от количества смс в тарифе\n",
    "\n",
    "Пользователи 'Smart' - на основании средних значений - тратят больший процент траифка в соотношении с тарифом:\n",
    "- 83% от минут в тарифе\n",
    "- 108% от объёма интернет трафика в тарифе (используют больше, чем заложено)\n",
    "- 66% от количества смс в тарифе\n",
    "\n",
    "\n",
    "Интересные наблюдения при анализе средних значений:\n",
    "- В среднем пользователи тарифа 'smart' используют больше трафика, чем заложено тарифом, а пользователи тарифа 'ultra' в среднем тратят меньше, чем заложено в тарифе\n",
    "\n",
    "- В среднем затраты пользователя по тарифу 'smart' на 134 % превышают стоимость тарифа, для тарифа ультра средние ежемесячные затраты пользователя превыщают тарифную ставку на 7%\n"
   ]
  },
  {
   "cell_type": "markdown",
   "metadata": {},
   "source": [
    "## Проанализируем среднее количество, дисперсию и стандартное отклонение объёма трафика и средних месячных затрат для абонентов каждого тарифа отдельно"
   ]
  },
  {
   "cell_type": "code",
   "execution_count": 28,
   "metadata": {},
   "outputs": [
    {
     "data": {
      "text/plain": [
       "smart    350\n",
       "ultra    148\n",
       "Name: tariff, dtype: int64"
      ]
     },
     "execution_count": 28,
     "metadata": {},
     "output_type": "execute_result"
    }
   ],
   "source": [
    "tariff_users = users_monthly_data.pivot_table(index=['user_id', 'tariff'],\n",
    "                              values = ['age'],  \n",
    "                               aggfunc='count').reset_index()\n",
    "tariff_users['tariff'].value_counts() # количество пользователей каждого тарифа в данных"
   ]
  },
  {
   "cell_type": "code",
   "execution_count": 29,
   "metadata": {},
   "outputs": [
    {
     "data": {
      "text/html": [
       "<div>\n",
       "<style scoped>\n",
       "    .dataframe tbody tr th:only-of-type {\n",
       "        vertical-align: middle;\n",
       "    }\n",
       "\n",
       "    .dataframe tbody tr th {\n",
       "        vertical-align: top;\n",
       "    }\n",
       "\n",
       "    .dataframe thead th {\n",
       "        text-align: right;\n",
       "    }\n",
       "</style>\n",
       "<table border=\"1\" class=\"dataframe\">\n",
       "  <thead>\n",
       "    <tr style=\"text-align: right;\">\n",
       "      <th></th>\n",
       "      <th>duration</th>\n",
       "      <th>gb_used</th>\n",
       "      <th>income_user_per_month</th>\n",
       "      <th>messages_number</th>\n",
       "    </tr>\n",
       "  </thead>\n",
       "  <tbody>\n",
       "    <tr>\n",
       "      <th>count</th>\n",
       "      <td>350.000000</td>\n",
       "      <td>350.000000</td>\n",
       "      <td>350.000000</td>\n",
       "      <td>350.000000</td>\n",
       "    </tr>\n",
       "    <tr>\n",
       "      <th>mean</th>\n",
       "      <td>419.634803</td>\n",
       "      <td>16699.923315</td>\n",
       "      <td>1324.401019</td>\n",
       "      <td>32.352078</td>\n",
       "    </tr>\n",
       "    <tr>\n",
       "      <th>std</th>\n",
       "      <td>145.031543</td>\n",
       "      <td>3585.682360</td>\n",
       "      <td>606.040551</td>\n",
       "      <td>26.512448</td>\n",
       "    </tr>\n",
       "    <tr>\n",
       "      <th>min</th>\n",
       "      <td>0.000000</td>\n",
       "      <td>5864.727273</td>\n",
       "      <td>550.000000</td>\n",
       "      <td>0.000000</td>\n",
       "    </tr>\n",
       "    <tr>\n",
       "      <th>25%</th>\n",
       "      <td>316.886364</td>\n",
       "      <td>14336.000000</td>\n",
       "      <td>867.550000</td>\n",
       "      <td>11.000000</td>\n",
       "    </tr>\n",
       "    <tr>\n",
       "      <th>50%</th>\n",
       "      <td>425.062500</td>\n",
       "      <td>16725.333333</td>\n",
       "      <td>1177.116667</td>\n",
       "      <td>27.750000</td>\n",
       "    </tr>\n",
       "    <tr>\n",
       "      <th>75%</th>\n",
       "      <td>519.508333</td>\n",
       "      <td>19140.266667</td>\n",
       "      <td>1667.250000</td>\n",
       "      <td>48.000000</td>\n",
       "    </tr>\n",
       "    <tr>\n",
       "      <th>max</th>\n",
       "      <td>891.500000</td>\n",
       "      <td>27904.000000</td>\n",
       "      <td>4333.333333</td>\n",
       "      <td>118.000000</td>\n",
       "    </tr>\n",
       "  </tbody>\n",
       "</table>\n",
       "</div>"
      ],
      "text/plain": [
       "         duration       gb_used  income_user_per_month  messages_number\n",
       "count  350.000000    350.000000             350.000000       350.000000\n",
       "mean   419.634803  16699.923315            1324.401019        32.352078\n",
       "std    145.031543   3585.682360             606.040551        26.512448\n",
       "min      0.000000   5864.727273             550.000000         0.000000\n",
       "25%    316.886364  14336.000000             867.550000        11.000000\n",
       "50%    425.062500  16725.333333            1177.116667        27.750000\n",
       "75%    519.508333  19140.266667            1667.250000        48.000000\n",
       "max    891.500000  27904.000000            4333.333333       118.000000"
      ]
     },
     "execution_count": 29,
     "metadata": {},
     "output_type": "execute_result"
    }
   ],
   "source": [
    "# Пользователи тарифа \"Смарт\"\n",
    "smart_user_mean = users_monthly_data.query('tariff == \"smart\" ').pivot_table(index=['user_id'], \n",
    "                               values = ['duration', 'gb_used', 'messages_number', 'income_user_per_month'],  \n",
    "                               aggfunc='mean')\n",
    "\n",
    "smart_user_mean.describe()"
   ]
  },
  {
   "cell_type": "code",
   "execution_count": 30,
   "metadata": {},
   "outputs": [
    {
     "data": {
      "text/html": [
       "<div>\n",
       "<style scoped>\n",
       "    .dataframe tbody tr th:only-of-type {\n",
       "        vertical-align: middle;\n",
       "    }\n",
       "\n",
       "    .dataframe tbody tr th {\n",
       "        vertical-align: top;\n",
       "    }\n",
       "\n",
       "    .dataframe thead th {\n",
       "        text-align: right;\n",
       "    }\n",
       "</style>\n",
       "<table border=\"1\" class=\"dataframe\">\n",
       "  <thead>\n",
       "    <tr style=\"text-align: right;\">\n",
       "      <th></th>\n",
       "      <th>duration</th>\n",
       "      <th>gb_used</th>\n",
       "      <th>income_user_per_month</th>\n",
       "      <th>messages_number</th>\n",
       "    </tr>\n",
       "  </thead>\n",
       "  <tbody>\n",
       "    <tr>\n",
       "      <th>count</th>\n",
       "      <td>148.000000</td>\n",
       "      <td>148.000000</td>\n",
       "      <td>148.000000</td>\n",
       "      <td>148.000000</td>\n",
       "    </tr>\n",
       "    <tr>\n",
       "      <th>mean</th>\n",
       "      <td>527.821819</td>\n",
       "      <td>20058.568948</td>\n",
       "      <td>2086.464659</td>\n",
       "      <td>54.030743</td>\n",
       "    </tr>\n",
       "    <tr>\n",
       "      <th>std</th>\n",
       "      <td>281.786359</td>\n",
       "      <td>8310.906770</td>\n",
       "      <td>298.532720</td>\n",
       "      <td>46.366246</td>\n",
       "    </tr>\n",
       "    <tr>\n",
       "      <th>min</th>\n",
       "      <td>0.000000</td>\n",
       "      <td>0.000000</td>\n",
       "      <td>1950.000000</td>\n",
       "      <td>0.000000</td>\n",
       "    </tr>\n",
       "    <tr>\n",
       "      <th>25%</th>\n",
       "      <td>325.437500</td>\n",
       "      <td>15080.727273</td>\n",
       "      <td>1950.000000</td>\n",
       "      <td>17.000000</td>\n",
       "    </tr>\n",
       "    <tr>\n",
       "      <th>50%</th>\n",
       "      <td>514.541667</td>\n",
       "      <td>19225.600000</td>\n",
       "      <td>1950.000000</td>\n",
       "      <td>45.500000</td>\n",
       "    </tr>\n",
       "    <tr>\n",
       "      <th>75%</th>\n",
       "      <td>746.972222</td>\n",
       "      <td>26304.000000</td>\n",
       "      <td>1990.625000</td>\n",
       "      <td>84.250000</td>\n",
       "    </tr>\n",
       "    <tr>\n",
       "      <th>max</th>\n",
       "      <td>1179.363636</td>\n",
       "      <td>39424.000000</td>\n",
       "      <td>3225.000000</td>\n",
       "      <td>192.000000</td>\n",
       "    </tr>\n",
       "  </tbody>\n",
       "</table>\n",
       "</div>"
      ],
      "text/plain": [
       "          duration       gb_used  income_user_per_month  messages_number\n",
       "count   148.000000    148.000000             148.000000       148.000000\n",
       "mean    527.821819  20058.568948            2086.464659        54.030743\n",
       "std     281.786359   8310.906770             298.532720        46.366246\n",
       "min       0.000000      0.000000            1950.000000         0.000000\n",
       "25%     325.437500  15080.727273            1950.000000        17.000000\n",
       "50%     514.541667  19225.600000            1950.000000        45.500000\n",
       "75%     746.972222  26304.000000            1990.625000        84.250000\n",
       "max    1179.363636  39424.000000            3225.000000       192.000000"
      ]
     },
     "execution_count": 30,
     "metadata": {},
     "output_type": "execute_result"
    }
   ],
   "source": [
    "# Пользователи тарифа \"Ультра\"\n",
    "ultra_user_mean = users_monthly_data.query('tariff == \"ultra\" ').pivot_table(index=['user_id'], \n",
    "                               values = ['duration', 'gb_used', 'messages_number', 'income_user_per_month'],  \n",
    "                               aggfunc='mean')\n",
    "ultra_user_mean.describe()"
   ]
  },
  {
   "cell_type": "markdown",
   "metadata": {},
   "source": [
    "__Выводы:__\n",
    "\n",
    "1. В выборке более чем в два раза выше количество пользователей тарифа Smart(350), чем тарифа Ultra(148). Возникает вопрос о том, повторяет ли эта подвыборка пропорции генеральной совокупности оператора \"Мегалайн\". Это было бы логично, поскольку далеко не всем абонентая необходим объём услуг, которые предполагает тариы Ultra\n",
    "\n",
    "\n",
    "2. Стандартное отклонение по среднемесячной выручке выше для пользователей тарифа Smart - пользователи этот тарифа сильнее отличаются между собой по ежемесячной плате за услуги оператору связи, чем пользователи тарифа 'Ultra'\n",
    "\n",
    "\n",
    "3. По продолжительности звонков и использованного интернет трафика, количеству смс:\n",
    "      - В тарифе Ultra выше среднее и медиана и больше стандартное отклонение. Абоненты тарифа Ultra больше отличаются между собой по количеству использованный минут и мегабайт, чем пользователи тарифа Smart\n",
    "      \n",
    "      \n",
    "      \n",
    "4. Максимальная стоимость услуг выше для одного из пользователей тарифа Smart.\n",
    "\n",
    "\n"
   ]
  },
  {
   "cell_type": "code",
   "execution_count": 31,
   "metadata": {},
   "outputs": [
    {
     "data": {
      "image/png": "[encoded data removed]",
      "text/plain": [
       "<Figure size 432x288 with 1 Axes>"
      ]
     },
     "metadata": {
      "needs_background": "light"
     },
     "output_type": "display_data"
    }
   ],
   "source": [
    "ultra_user_mean['duration'].hist(alpha = 0.5, label='Ultra')  # синий\n",
    "smart_user_mean['duration'].hist(alpha = 0.5, label='Smart') # оранжевый\n",
    "\n",
    "plt.title('Распределение среднемесячной длительности звонков по тарифам')\n",
    "plt.xlabel('Длительность, мин.')\n",
    "plt.ylabel('Количество')\n",
    "plt.legend()\n",
    "plt.show()"
   ]
  },
  {
   "cell_type": "code",
   "execution_count": 32,
   "metadata": {},
   "outputs": [
    {
     "data": {
      "image/png": "[encoded data removed]",
      "text/plain": [
       "<Figure size 432x288 with 1 Axes>"
      ]
     },
     "metadata": {
      "needs_background": "light"
     },
     "output_type": "display_data"
    }
   ],
   "source": [
    "ultra_user_mean['gb_used'].hist(alpha = 0.5, label='Ultra') # синий\n",
    "smart_user_mean['gb_used'].hist(alpha = 0.5, label='Smart')  # оранжевый\n",
    "\n",
    "plt.title('Распределение среднемесячного потребления интернет трафика по тарифам')\n",
    "plt.xlabel('Мегабайты')\n",
    "plt.ylabel('Количество пользователей')\n",
    "plt.legend()\n",
    "plt.show()"
   ]
  },
  {
   "cell_type": "code",
   "execution_count": 33,
   "metadata": {},
   "outputs": [
    {
     "data": {
      "image/png": "[encoded data removed]",
      "text/plain": [
       "<Figure size 432x288 with 1 Axes>"
      ]
     },
     "metadata": {
      "needs_background": "light"
     },
     "output_type": "display_data"
    }
   ],
   "source": [
    "ultra_user_mean['messages_number'].hist(alpha = 0.5, label='Ultra') # синий\n",
    "smart_user_mean['messages_number'].hist(alpha = 0.5, label='Smart')# оранжевый\n",
    "\n",
    "plt.title('Распределение среднемесячного количества смс сообщений по тарифам')\n",
    "plt.xlabel('Число смс')\n",
    "plt.ylabel('Количество пользователей')\n",
    "plt.legend()\n",
    "plt.show()"
   ]
  },
  {
   "cell_type": "code",
   "execution_count": 34,
   "metadata": {},
   "outputs": [
    {
     "data": {
      "image/png": "[encoded data removed]",
      "text/plain": [
       "<Figure size 432x288 with 1 Axes>"
      ]
     },
     "metadata": {
      "needs_background": "light"
     },
     "output_type": "display_data"
    }
   ],
   "source": [
    "ultra_user_mean['income_user_per_month'].hist(alpha = 0.5, label='Ultra') # синий\n",
    "smart_user_mean['income_user_per_month'].hist(alpha = 0.5, label='Smart') # оранжевый\n",
    "\n",
    "plt.title('Распределение среднемесячной выручки по пользователям двух тарифов')\n",
    "plt.xlabel('Рубли')\n",
    "plt.ylabel('Количество пользователей')\n",
    "plt.legend()\n",
    "plt.show()"
   ]
  },
  {
   "cell_type": "markdown",
   "metadata": {},
   "source": [
    "__Комментарии:__\n",
    "\n",
    "Пользователи тарифа 'smart' используют в среднем меньше трафика, чем пользователи тарифа 'ultra'.\n",
    "\n",
    "Гистограмма потребления услуг для абонентов тарифа Smart больше соответствует нормальному распределению по продолжтиельности звонков и интернет трафику.\n",
    "\n",
    "Для пользователей тарифа Smart количество использованных сообщений имеет пик в диапазоне от 0 до 40. График использования смс среди пользователей тарифа Ultra ближе к равномерному распределению\n",
    "\n",
    "Часть пользователей тарифа Smart оплачивают только абонтсткую плату, многие платят больше.\n",
    "\n",
    "Почти все пользователи тарифа Ultra платят только абонентскую плату, редкие пользователи платят больше"
   ]
  },
  {
   "cell_type": "markdown",
   "metadata": {},
   "source": [
    "## Проанализируем данные о пользователях двух тарифов"
   ]
  },
  {
   "cell_type": "markdown",
   "metadata": {},
   "source": [
    "Распределение клиентов двух тарифов по возрасту очень близки"
   ]
  },
  {
   "cell_type": "code",
   "execution_count": 35,
   "metadata": {},
   "outputs": [
    {
     "data": {
      "text/html": [
       "<div>\n",
       "<style scoped>\n",
       "    .dataframe tbody tr th:only-of-type {\n",
       "        vertical-align: middle;\n",
       "    }\n",
       "\n",
       "    .dataframe tbody tr th {\n",
       "        vertical-align: top;\n",
       "    }\n",
       "\n",
       "    .dataframe thead th {\n",
       "        text-align: right;\n",
       "    }\n",
       "</style>\n",
       "<table border=\"1\" class=\"dataframe\">\n",
       "  <thead>\n",
       "    <tr style=\"text-align: right;\">\n",
       "      <th></th>\n",
       "      <th>age</th>\n",
       "    </tr>\n",
       "  </thead>\n",
       "  <tbody>\n",
       "    <tr>\n",
       "      <th>count</th>\n",
       "      <td>350.000000</td>\n",
       "    </tr>\n",
       "    <tr>\n",
       "      <th>mean</th>\n",
       "      <td>46.445714</td>\n",
       "    </tr>\n",
       "    <tr>\n",
       "      <th>std</th>\n",
       "      <td>16.602937</td>\n",
       "    </tr>\n",
       "    <tr>\n",
       "      <th>min</th>\n",
       "      <td>18.000000</td>\n",
       "    </tr>\n",
       "    <tr>\n",
       "      <th>25%</th>\n",
       "      <td>32.000000</td>\n",
       "    </tr>\n",
       "    <tr>\n",
       "      <th>50%</th>\n",
       "      <td>46.500000</td>\n",
       "    </tr>\n",
       "    <tr>\n",
       "      <th>75%</th>\n",
       "      <td>62.000000</td>\n",
       "    </tr>\n",
       "    <tr>\n",
       "      <th>max</th>\n",
       "      <td>75.000000</td>\n",
       "    </tr>\n",
       "  </tbody>\n",
       "</table>\n",
       "</div>"
      ],
      "text/plain": [
       "              age\n",
       "count  350.000000\n",
       "mean    46.445714\n",
       "std     16.602937\n",
       "min     18.000000\n",
       "25%     32.000000\n",
       "50%     46.500000\n",
       "75%     62.000000\n",
       "max     75.000000"
      ]
     },
     "execution_count": 35,
     "metadata": {},
     "output_type": "execute_result"
    }
   ],
   "source": [
    "users_monthly_data.query('tariff == \"smart\" ').pivot_table(index=['user_id'], \n",
    "                               values = ['age'],  \n",
    "                               aggfunc='mean').describe()"
   ]
  },
  {
   "cell_type": "code",
   "execution_count": 36,
   "metadata": {},
   "outputs": [
    {
     "data": {
      "text/html": [
       "<div>\n",
       "<style scoped>\n",
       "    .dataframe tbody tr th:only-of-type {\n",
       "        vertical-align: middle;\n",
       "    }\n",
       "\n",
       "    .dataframe tbody tr th {\n",
       "        vertical-align: top;\n",
       "    }\n",
       "\n",
       "    .dataframe thead th {\n",
       "        text-align: right;\n",
       "    }\n",
       "</style>\n",
       "<table border=\"1\" class=\"dataframe\">\n",
       "  <thead>\n",
       "    <tr style=\"text-align: right;\">\n",
       "      <th></th>\n",
       "      <th>age</th>\n",
       "    </tr>\n",
       "  </thead>\n",
       "  <tbody>\n",
       "    <tr>\n",
       "      <th>count</th>\n",
       "      <td>148.000000</td>\n",
       "    </tr>\n",
       "    <tr>\n",
       "      <th>mean</th>\n",
       "      <td>46.871622</td>\n",
       "    </tr>\n",
       "    <tr>\n",
       "      <th>std</th>\n",
       "      <td>16.977889</td>\n",
       "    </tr>\n",
       "    <tr>\n",
       "      <th>min</th>\n",
       "      <td>18.000000</td>\n",
       "    </tr>\n",
       "    <tr>\n",
       "      <th>25%</th>\n",
       "      <td>31.000000</td>\n",
       "    </tr>\n",
       "    <tr>\n",
       "      <th>50%</th>\n",
       "      <td>46.000000</td>\n",
       "    </tr>\n",
       "    <tr>\n",
       "      <th>75%</th>\n",
       "      <td>63.000000</td>\n",
       "    </tr>\n",
       "    <tr>\n",
       "      <th>max</th>\n",
       "      <td>75.000000</td>\n",
       "    </tr>\n",
       "  </tbody>\n",
       "</table>\n",
       "</div>"
      ],
      "text/plain": [
       "              age\n",
       "count  148.000000\n",
       "mean    46.871622\n",
       "std     16.977889\n",
       "min     18.000000\n",
       "25%     31.000000\n",
       "50%     46.000000\n",
       "75%     63.000000\n",
       "max     75.000000"
      ]
     },
     "execution_count": 36,
     "metadata": {},
     "output_type": "execute_result"
    }
   ],
   "source": [
    "users_monthly_data.query('tariff != \"smart\" ').pivot_table(index=['user_id'], \n",
    "                               values = ['age'],  \n",
    "                               aggfunc='mean').describe()"
   ]
  },
  {
   "cell_type": "markdown",
   "metadata": {},
   "source": [
    "Рассмотрим распределение пользователей по городам.   \n",
    "Больше всего уникальных пользователей из Москвы и Санкт-Петербурга.  \n",
    "Почти 20% уникальных пользователей в данных - из Москвы  "
   ]
  },
  {
   "cell_type": "code",
   "execution_count": 37,
   "metadata": {},
   "outputs": [
    {
     "data": {
      "text/plain": [
       "Москва              99\n",
       "Санкт-Петербург     39\n",
       "Новосибирск         16\n",
       "Омск                14\n",
       "Казань              14\n",
       "Уфа                 12\n",
       "Набережные Челны    11\n",
       "Екатеринбург        11\n",
       "Краснодар           11\n",
       "Ульяновск           11\n",
       "Челябинск            9\n",
       "Самара               9\n",
       "Волгоград            8\n",
       "Пермь                8\n",
       "Нижний Новгород      8\n",
       "Красноярск           7\n",
       "Улан-Удэ             7\n",
       "Вологда              7\n",
       "Новокузнецк          7\n",
       "Киров                6\n",
       "Name: city, dtype: int64"
      ]
     },
     "execution_count": 37,
     "metadata": {},
     "output_type": "execute_result"
    }
   ],
   "source": [
    "users['city'].value_counts().head(20)"
   ]
  },
  {
   "cell_type": "markdown",
   "metadata": {},
   "source": [
    "# Проверим статистически гипотезы"
   ]
  },
  {
   "cell_type": "markdown",
   "metadata": {},
   "source": [
    "## Проверка гипотезы о средней выручке пользователей тарифов  «Ультра» и «Смарт» "
   ]
  },
  {
   "cell_type": "markdown",
   "metadata": {},
   "source": [
    "**Нулевая гипотеза** - Средняя ежемесячная выручка по пользователям тарифов «Ультра» и «Смарт» равны\n",
    "\n",
    "**Альтернативная гипотеза** - Средняя ежемесячная выручка по пользователям тарифов «Ультра» и «Смарт» различается\n",
    "\n",
    "Выборки пользователей являются независимыми. При этом отличаются дисперсии. Будем использовать двухстороннюю гипотезу, с уровнем значимости 5% и парамтером equal_var=False"
   ]
  },
  {
   "cell_type": "code",
   "execution_count": 38,
   "metadata": {},
   "outputs": [
    {
     "name": "stdout",
     "output_type": "stream",
     "text": [
      "p-значение: 2.0849618995835953e-59\n",
      "Отвергаем нулевую гипотезу\n"
     ]
    }
   ],
   "source": [
    "# проведем сравнение данных по усреднённому датасету по пользователем\n",
    "\n",
    "alpha = .05 # критический уровень статистической значимости\n",
    "# если p-value окажется меньше него - отвергнем гипотезу\n",
    "\n",
    "results = st.ttest_ind(\n",
    "    ultra_user_mean['income_user_per_month'], \n",
    "    smart_user_mean['income_user_per_month'], equal_var=False)\n",
    "\n",
    "print('p-значение:', results.pvalue)\n",
    "\n",
    "if results.pvalue < alpha:\n",
    "    print(\"Отвергаем нулевую гипотезу\")\n",
    "else:\n",
    "    print(\"Не получилось отвергнуть нулевую гипотезу\") "
   ]
  },
  {
   "cell_type": "code",
   "execution_count": 39,
   "metadata": {},
   "outputs": [
    {
     "name": "stdout",
     "output_type": "stream",
     "text": [
      "p-значение: 4.2606313931076085e-250\n",
      "Отвергаем нулевую гипотезу\n"
     ]
    }
   ],
   "source": [
    "# проведем сравнение на исходных данных\n",
    "alpha = .05 # критический уровень статистической значимости\n",
    "# если p-value окажется меньше него - отвергнем гипотезу\n",
    "\n",
    "\n",
    "results = st.ttest_ind(\n",
    "    users_monthly_data.query('tariff == \"ultra\"')['income_user_per_month'], \n",
    "    users_monthly_data.query('tariff != \"ultra\"')['income_user_per_month'], equal_var=False)\n",
    "\n",
    "print('p-значение:', results.pvalue)\n",
    "\n",
    "if results.pvalue < alpha:\n",
    "    print(\"Отвергаем нулевую гипотезу\")\n",
    "else:\n",
    "    print(\"Не получилось отвергнуть нулевую гипотезу\") "
   ]
  },
  {
   "cell_type": "markdown",
   "metadata": {},
   "source": [
    "__Вывод:__\n",
    "\n",
    "**Нулевая гипотеза о равенстве средних по ежемесячной выручке по тарифам «Ультра» и «Смарт» отвергается.**   \n",
    "Принимается альтернативная гипотеза - Средняя ежемесячная выручка по пользователям тарифов «Ультра» и «Смарт» различается.\n",
    "    \n",
    "    \n",
    "Средняя ежемесяная выручка выше для пользователей тарифа Ultra"
   ]
  },
  {
   "cell_type": "markdown",
   "metadata": {},
   "source": [
    "### Ещё один вариант гипотезы - о совокупной выручке на пользователя\n",
    "\n",
    "**Нулевая гипотеза** - Совокупная выручка по пользователям тарифов «Ультра» и «Смарт» равны   \n",
    "**Альтернативная гипотеза** - Совокупная выручка по пользователям тарифов «Ультра» и «Смарт» различается\n",
    "\n",
    "Выборки пользователей являются независимыми. При этом отличаются дисперсии. Будем использовать двухстороннюю гипотезу, с уровнем значимости 5%"
   ]
  },
  {
   "cell_type": "code",
   "execution_count": 40,
   "metadata": {},
   "outputs": [],
   "source": [
    "# Пользователи тарифа \"Смарт\"\n",
    "smart_user_sum = users_monthly_data.query('tariff == \"smart\" ').pivot_table(index=['user_id'], \n",
    "                               values = ['income_user_per_month'],  \n",
    "                               aggfunc='sum')\n",
    "ultra_user_sum = users_monthly_data.query('tariff != \"smart\" ').pivot_table(index=['user_id'], \n",
    "                               values = ['income_user_per_month'],  \n",
    "                               aggfunc='sum')\n"
   ]
  },
  {
   "cell_type": "markdown",
   "metadata": {},
   "source": [
    "Распределение совокупных затрат по пользователям:\n",
    "\n",
    "- для тарифа Smart - пик в диапазоне до 12 000 рублей\n",
    "- для тарифа Ultra - более равномерное распределение до 24 тыс рублей"
   ]
  },
  {
   "cell_type": "code",
   "execution_count": 41,
   "metadata": {},
   "outputs": [
    {
     "data": {
      "text/plain": [
       "<AxesSubplot:>"
      ]
     },
     "execution_count": 41,
     "metadata": {},
     "output_type": "execute_result"
    },
    {
     "data": {
      "image/png": "[encoded data removed]",
      "text/plain": [
       "<Figure size 432x288 with 1 Axes>"
      ]
     },
     "metadata": {
      "needs_background": "light"
     },
     "output_type": "display_data"
    }
   ],
   "source": [
    "smart_user_sum['income_user_per_month'].hist(alpha=0.5)\n",
    "ultra_user_sum['income_user_per_month'].hist(alpha=0.5)"
   ]
  },
  {
   "cell_type": "code",
   "execution_count": 42,
   "metadata": {},
   "outputs": [
    {
     "name": "stdout",
     "output_type": "stream",
     "text": [
      "p-значение: 4.1988922393814165e-16\n",
      "Отвергаем нулевую гипотезу\n"
     ]
    }
   ],
   "source": [
    "# проведем сравнение данных по усреднённому датасету по пользователем\n",
    "\n",
    "alpha = .05 # критический уровень статистической значимости\n",
    "# если p-value окажется меньше него - отвергнем гипотезу\n",
    "\n",
    "results = st.ttest_ind(\n",
    "    ultra_user_sum['income_user_per_month'], \n",
    "    smart_user_sum['income_user_per_month'], equal_var=False)\n",
    "\n",
    "print('p-значение:', results.pvalue)\n",
    "\n",
    "if results.pvalue < alpha:\n",
    "    print(\"Отвергаем нулевую гипотезу\")\n",
    "else:\n",
    "    print(\"Не получилось отвергнуть нулевую гипотезу\") "
   ]
  },
  {
   "cell_type": "markdown",
   "metadata": {},
   "source": [
    "__Вывод:__\n",
    "\n",
    "**Нулевая гипотеза о равенстве совокупной выручки на абонента по тарифам «Ультра» и «Смарт» отвергается.**   \n",
    "Принимается альтернативная гипотеза - Совокупная выручка по пользователям тарифов «Ультра» и «Смарт» различается.\n",
    "    \n",
    "    \n",
    "Средняя ежемесяная выручка выше для пользователей тарифа Ultra"
   ]
  },
  {
   "cell_type": "markdown",
   "metadata": {},
   "source": [
    "__Вывод по подразделу:__\n",
    "    \n",
    "Среднемесячная и совокупная выручка пользователей тарифа «Ультра» значимо выше, чем среднемесячная выручка тарифа \"Смарт\""
   ]
  },
  {
   "cell_type": "markdown",
   "metadata": {},
   "source": [
    "# Общий вывод"
   ]
  },
  {
   "cell_type": "markdown",
   "metadata": {},
   "source": [
    "1. Проведена подготовка данных для анализа:\n",
    "    - удален лишний столбец (таблица internet)\n",
    "    - в таблицах по количеству минут, количеству смс, интернет трафику создана переменная месяц из даты\n",
    "    - на основании уникального user_id и месяца интегрированы данные по объёму использованных услуг в таблицах calls, messages, internet\n",
    "    - аггрегированные данные объединены в одну таблицу\n",
    "    - к аггрегированной таблице добавлены данные о пользователях и тарифе каждого пользователя\n",
    "    - проведен расчёт выручки по каждому пользователю в каждом месяце\n",
    "    \n",
    "    \n",
    "2. Проведено сравнение пользователей двух тарифов по количеству минут разговора, сообщений и интернет-трафику в месяц.\n",
    "    - в данных представлено разное количество пользователей для каждого тарифа\n",
    "    - в среднем пользователи тарифа 'Ultra' тратят больше минут, смс и интернет трафика\n",
    "    - при сопоставлении трат пользователей и объёмов тарифа - пользователи тарифа 'Ultra' тратят существенно меньше минут, гигабайт и смс, чем заложено в тарифе. А пользователи тарифа 'Smart' тратят в больший процент трафика в соотношении с тарифом, часто выходят за объём тарифа в части интернет трафика.\n",
    "    - в среднем затраты пользователя по тарифу 'smart' на 140 % превышают стоимость тарифа, для тарифа ультра средние ежемесячные затраты пользователя превыщают тарифную ставку на 7%\n",
    "    \n",
    "\n",
    "3. На основании анализа дисперсии по потребляемым услугам для абонентов из разных тарифов, сделан вывод, что абоненты тарифа Ultra больше отличаются между собой по количеству использованных минут и мегабайт, чем пользователи тарифа Smart.\n",
    "\n",
    "\n",
    "4. Абоненты тарифа 'Smart' сильнее различаются между собой по сумме ежемесячного платежа\n",
    "\n",
    "\n",
    "5. Статистически подтверждено, что средняя месячная выручка по пользователям тарифов «Ультра» и «Смарт» различается, выручка выше для пользователей тарифа 'Ultra'\n"
   ]
  },
  {
   "cell_type": "markdown",
   "metadata": {},
   "source": [
    "**\"Лучший тариф\"**\n",
    "\n",
    "\n",
    "На основании проведённого анализа мне сложно сделать вывод, какой тариф лучше. Поскольку тариф может быть \"лучше\" для разной задачи. Лучший тариф для Компании и для разных пользователей - может быть разным\n",
    "\n",
    "\n",
    "Наблюдение 1:\n",
    "- для тарифа 'Ultra' выше среднемесячные платежи за счет стоимости самого тарифа\n",
    "\n",
    "- пользователи тарифа 'Smart' чаще доплачивают за дополнительные минуты и интернет трафик. \n",
    "При этом пользователей тарифа 'Smart' больше, чем пользователей тарифа 'Ultra', допустима гипотеза, что на генеральной совокупности пользователи тарифа 'Smart' приносят больший доход компании.\n",
    "\n",
    "\n",
    "Наблюдение 2.\n",
    "- для увеличения выручки от тарифа  'Smart' может быть полезным поднять стоимость дополнительных минут и гигабайтов\n",
    "- для увеличения выручки от 'Ultra' может быть полезным поднять ежемесячный платеж\n",
    "\n",
    "Всегда есть риск, что пользователь решит перейти к другому оператору с более подходящим ценнобразованием под его/ её потребности\n",
    "\n",
    "\n",
    "Наблюдение 3.\n",
    "- пользователи тарифа ультра тратят в среднем меньше, чем заложено в тариф, значит могут быть чуть выгоднее для Компании, которая фактически оказывает меньше услуг, чем оплачено пользователем. При этом среди них есть те, кто использует существенно больше трафика.\n",
    "- Некоторые пользователи тарифа 'Smart' платят больше, чем пользователи тарифа 'Ultra' - возможно данным пользователям стоит предложить другой тариф\n",
    "\n"
   ]
  }
 ],
 "metadata": {
  "ExecuteTimeLog": [
   {
    "duration": 1988,
    "start_time": "2022-05-29T14:36:48.471Z"
   },
   {
    "duration": 27,
    "start_time": "2022-05-29T14:36:50.461Z"
   },
   {
    "duration": 8,
    "start_time": "2022-05-29T14:36:50.490Z"
   },
   {
    "duration": 15,
    "start_time": "2022-05-29T14:36:50.500Z"
   },
   {
    "duration": 102,
    "start_time": "2022-05-29T14:36:50.516Z"
   },
   {
    "duration": 57,
    "start_time": "2022-05-29T14:36:50.620Z"
   },
   {
    "duration": 47,
    "start_time": "2022-05-29T14:36:50.679Z"
   },
   {
    "duration": 94,
    "start_time": "2022-05-29T14:36:50.728Z"
   },
   {
    "duration": 21,
    "start_time": "2022-05-29T14:36:50.823Z"
   },
   {
    "duration": 28,
    "start_time": "2022-05-29T14:36:50.849Z"
   },
   {
    "duration": 25,
    "start_time": "2022-05-29T14:36:50.880Z"
   },
   {
    "duration": 18,
    "start_time": "2022-05-29T14:36:50.907Z"
   },
   {
    "duration": 28,
    "start_time": "2022-05-29T14:36:50.926Z"
   },
   {
    "duration": 11,
    "start_time": "2022-05-29T14:36:50.957Z"
   },
   {
    "duration": 41,
    "start_time": "2022-05-29T14:36:50.970Z"
   },
   {
    "duration": 8,
    "start_time": "2022-05-29T14:36:51.013Z"
   },
   {
    "duration": 40,
    "start_time": "2022-05-29T14:36:51.023Z"
   },
   {
    "duration": 5,
    "start_time": "2022-05-29T14:36:51.065Z"
   },
   {
    "duration": 61,
    "start_time": "2022-05-29T14:36:51.072Z"
   },
   {
    "duration": 25,
    "start_time": "2022-05-29T14:36:51.135Z"
   },
   {
    "duration": 40,
    "start_time": "2022-05-29T14:36:51.162Z"
   },
   {
    "duration": 104,
    "start_time": "2022-05-29T14:36:51.204Z"
   },
   {
    "duration": 16,
    "start_time": "2022-05-29T14:36:51.310Z"
   },
   {
    "duration": 47,
    "start_time": "2022-05-29T14:36:51.328Z"
   },
   {
    "duration": 22,
    "start_time": "2022-05-29T14:36:51.377Z"
   },
   {
    "duration": 50,
    "start_time": "2022-05-29T14:36:51.402Z"
   },
   {
    "duration": 64,
    "start_time": "2022-05-29T14:36:51.455Z"
   },
   {
    "duration": 309,
    "start_time": "2022-05-29T14:36:51.524Z"
   },
   {
    "duration": 275,
    "start_time": "2022-05-29T14:36:51.835Z"
   },
   {
    "duration": 209,
    "start_time": "2022-05-29T14:36:52.111Z"
   },
   {
    "duration": 186,
    "start_time": "2022-05-29T14:36:52.322Z"
   },
   {
    "duration": 20,
    "start_time": "2022-05-29T14:36:52.510Z"
   },
   {
    "duration": 79,
    "start_time": "2022-05-29T14:36:52.532Z"
   },
   {
    "duration": 8,
    "start_time": "2022-05-29T14:36:52.614Z"
   },
   {
    "duration": 75,
    "start_time": "2022-05-29T14:36:52.624Z"
   },
   {
    "duration": 27,
    "start_time": "2022-05-29T14:36:52.701Z"
   },
   {
    "duration": 22,
    "start_time": "2022-05-29T14:36:52.730Z"
   },
   {
    "duration": 79,
    "start_time": "2022-05-29T14:36:52.753Z"
   },
   {
    "duration": 241,
    "start_time": "2022-05-29T14:36:52.834Z"
   },
   {
    "duration": 7,
    "start_time": "2022-05-29T14:36:53.077Z"
   },
   {
    "duration": 30,
    "start_time": "2022-05-29T14:36:53.086Z"
   },
   {
    "duration": 12,
    "start_time": "2022-05-29T14:36:53.119Z"
   },
   {
    "duration": 11,
    "start_time": "2022-05-29T14:36:53.133Z"
   },
   {
    "duration": 79,
    "start_time": "2022-05-29T14:36:53.145Z"
   },
   {
    "duration": 26,
    "start_time": "2022-05-29T15:08:45.257Z"
   },
   {
    "duration": 9,
    "start_time": "2022-05-29T15:18:17.689Z"
   },
   {
    "duration": 182,
    "start_time": "2022-05-29T15:51:36.610Z"
   },
   {
    "duration": 175,
    "start_time": "2022-05-29T15:51:46.233Z"
   },
   {
    "duration": 188,
    "start_time": "2022-05-29T15:54:52.426Z"
   },
   {
    "duration": 194,
    "start_time": "2022-05-29T15:55:01.437Z"
   },
   {
    "duration": 291,
    "start_time": "2022-05-29T15:56:00.738Z"
   },
   {
    "duration": 210,
    "start_time": "2022-05-29T16:01:08.973Z"
   },
   {
    "duration": 12,
    "start_time": "2022-05-29T16:10:04.958Z"
   },
   {
    "duration": 6,
    "start_time": "2022-05-29T16:12:29.718Z"
   },
   {
    "duration": 1700,
    "start_time": "2022-05-29T16:17:58.575Z"
   },
   {
    "duration": 17,
    "start_time": "2022-05-29T16:18:00.277Z"
   },
   {
    "duration": 5,
    "start_time": "2022-05-29T16:18:00.296Z"
   },
   {
    "duration": 23,
    "start_time": "2022-05-29T16:18:00.303Z"
   },
   {
    "duration": 78,
    "start_time": "2022-05-29T16:18:00.328Z"
   },
   {
    "duration": 59,
    "start_time": "2022-05-29T16:18:00.408Z"
   },
   {
    "duration": 36,
    "start_time": "2022-05-29T16:18:00.469Z"
   },
   {
    "duration": 86,
    "start_time": "2022-05-29T16:18:00.507Z"
   },
   {
    "duration": 8,
    "start_time": "2022-05-29T16:18:00.594Z"
   },
   {
    "duration": 16,
    "start_time": "2022-05-29T16:18:00.605Z"
   },
   {
    "duration": 23,
    "start_time": "2022-05-29T16:18:00.622Z"
   },
   {
    "duration": 34,
    "start_time": "2022-05-29T16:18:00.647Z"
   },
   {
    "duration": 24,
    "start_time": "2022-05-29T16:18:00.682Z"
   },
   {
    "duration": 10,
    "start_time": "2022-05-29T16:18:00.708Z"
   },
   {
    "duration": 28,
    "start_time": "2022-05-29T16:18:00.720Z"
   },
   {
    "duration": 14,
    "start_time": "2022-05-29T16:18:00.750Z"
   },
   {
    "duration": 25,
    "start_time": "2022-05-29T16:18:00.766Z"
   },
   {
    "duration": 11,
    "start_time": "2022-05-29T16:18:00.792Z"
   },
   {
    "duration": 26,
    "start_time": "2022-05-29T16:18:00.804Z"
   },
   {
    "duration": 22,
    "start_time": "2022-05-29T16:18:00.832Z"
   },
   {
    "duration": 9,
    "start_time": "2022-05-29T16:18:00.857Z"
   },
   {
    "duration": 90,
    "start_time": "2022-05-29T16:18:00.868Z"
   },
   {
    "duration": 15,
    "start_time": "2022-05-29T16:18:00.961Z"
   },
   {
    "duration": 15,
    "start_time": "2022-05-29T16:18:00.977Z"
   },
   {
    "duration": 16,
    "start_time": "2022-05-29T16:18:00.993Z"
   },
   {
    "duration": 57,
    "start_time": "2022-05-29T16:18:01.010Z"
   },
   {
    "duration": 26,
    "start_time": "2022-05-29T16:18:01.069Z"
   },
   {
    "duration": 324,
    "start_time": "2022-05-29T16:18:01.101Z"
   },
   {
    "duration": 177,
    "start_time": "2022-05-29T16:18:01.427Z"
   },
   {
    "duration": 179,
    "start_time": "2022-05-29T16:18:01.606Z"
   },
   {
    "duration": 203,
    "start_time": "2022-05-29T16:18:01.787Z"
   },
   {
    "duration": 25,
    "start_time": "2022-05-29T16:18:01.993Z"
   },
   {
    "duration": 40,
    "start_time": "2022-05-29T16:18:02.020Z"
   },
   {
    "duration": 14,
    "start_time": "2022-05-29T16:18:02.062Z"
   },
   {
    "duration": 35,
    "start_time": "2022-05-29T16:18:02.078Z"
   },
   {
    "duration": 5,
    "start_time": "2022-05-29T16:18:02.115Z"
   },
   {
    "duration": 27,
    "start_time": "2022-05-29T16:18:02.121Z"
   },
   {
    "duration": 48,
    "start_time": "2022-05-29T16:18:02.150Z"
   },
   {
    "duration": 177,
    "start_time": "2022-05-29T16:18:02.199Z"
   },
   {
    "duration": 5,
    "start_time": "2022-05-29T16:18:02.378Z"
   },
   {
    "duration": 14,
    "start_time": "2022-05-29T16:18:02.384Z"
   },
   {
    "duration": 12,
    "start_time": "2022-05-29T16:18:02.400Z"
   },
   {
    "duration": 10,
    "start_time": "2022-05-29T16:18:02.414Z"
   },
   {
    "duration": 26,
    "start_time": "2022-05-29T16:18:02.442Z"
   },
   {
    "duration": 2402,
    "start_time": "2022-05-30T16:06:50.794Z"
   },
   {
    "duration": 7,
    "start_time": "2022-05-30T16:06:53.198Z"
   },
   {
    "duration": 20,
    "start_time": "2022-05-30T16:06:53.206Z"
   },
   {
    "duration": 59,
    "start_time": "2022-05-30T16:06:53.227Z"
   },
   {
    "duration": 41,
    "start_time": "2022-05-30T16:06:53.288Z"
   },
   {
    "duration": 36,
    "start_time": "2022-05-30T16:06:53.330Z"
   },
   {
    "duration": 73,
    "start_time": "2022-05-30T16:06:53.368Z"
   },
   {
    "duration": 7,
    "start_time": "2022-05-30T16:06:53.442Z"
   },
   {
    "duration": 16,
    "start_time": "2022-05-30T16:06:53.450Z"
   },
   {
    "duration": 3,
    "start_time": "2022-05-30T16:06:53.470Z"
   },
   {
    "duration": 38,
    "start_time": "2022-05-30T16:06:53.475Z"
   },
   {
    "duration": 22,
    "start_time": "2022-05-30T16:06:53.515Z"
   },
   {
    "duration": 10,
    "start_time": "2022-05-30T16:06:53.539Z"
   },
   {
    "duration": 10,
    "start_time": "2022-05-30T16:06:53.551Z"
   },
   {
    "duration": 55,
    "start_time": "2022-05-30T16:06:53.563Z"
   },
   {
    "duration": 6,
    "start_time": "2022-05-30T16:06:53.620Z"
   },
   {
    "duration": 16,
    "start_time": "2022-05-30T16:06:53.628Z"
   },
   {
    "duration": 15,
    "start_time": "2022-05-30T16:06:53.646Z"
   },
   {
    "duration": 6,
    "start_time": "2022-05-30T16:06:53.662Z"
   },
   {
    "duration": 48,
    "start_time": "2022-05-30T16:06:53.669Z"
   },
   {
    "duration": 5,
    "start_time": "2022-05-30T16:06:53.718Z"
   },
   {
    "duration": 24,
    "start_time": "2022-05-30T16:06:53.724Z"
   },
   {
    "duration": 11,
    "start_time": "2022-05-30T16:06:53.749Z"
   },
   {
    "duration": 6,
    "start_time": "2022-05-30T16:06:53.761Z"
   },
   {
    "duration": 78,
    "start_time": "2022-05-30T16:06:53.768Z"
   },
   {
    "duration": 14,
    "start_time": "2022-05-30T16:06:53.847Z"
   },
   {
    "duration": 21,
    "start_time": "2022-05-30T16:06:53.862Z"
   },
   {
    "duration": 16,
    "start_time": "2022-05-30T16:06:53.885Z"
   },
   {
    "duration": 24,
    "start_time": "2022-05-30T16:06:53.902Z"
   },
   {
    "duration": 22,
    "start_time": "2022-05-30T16:06:53.928Z"
   },
   {
    "duration": 277,
    "start_time": "2022-05-30T16:06:53.951Z"
   },
   {
    "duration": 212,
    "start_time": "2022-05-30T16:06:54.229Z"
   },
   {
    "duration": 178,
    "start_time": "2022-05-30T16:06:54.442Z"
   },
   {
    "duration": 196,
    "start_time": "2022-05-30T16:06:54.622Z"
   },
   {
    "duration": 18,
    "start_time": "2022-05-30T16:06:54.819Z"
   },
   {
    "duration": 16,
    "start_time": "2022-05-30T16:06:54.839Z"
   },
   {
    "duration": 5,
    "start_time": "2022-05-30T16:06:54.856Z"
   },
   {
    "duration": 6,
    "start_time": "2022-05-30T16:06:54.862Z"
   },
   {
    "duration": 31,
    "start_time": "2022-05-30T16:06:54.870Z"
   },
   {
    "duration": 16,
    "start_time": "2022-05-30T16:06:54.903Z"
   },
   {
    "duration": 166,
    "start_time": "2022-05-30T16:06:54.920Z"
   },
   {
    "duration": 5,
    "start_time": "2022-05-30T16:06:55.088Z"
   },
   {
    "duration": 9,
    "start_time": "2022-05-30T16:06:55.100Z"
   },
   {
    "duration": 7,
    "start_time": "2022-05-30T16:06:55.111Z"
   },
   {
    "duration": 10,
    "start_time": "2022-05-30T16:06:55.120Z"
   },
   {
    "duration": 8,
    "start_time": "2022-05-30T16:06:55.133Z"
   },
   {
    "duration": 147,
    "start_time": "2022-05-30T16:16:44.392Z"
   },
   {
    "duration": 7,
    "start_time": "2022-05-30T16:16:51.680Z"
   },
   {
    "duration": 1689,
    "start_time": "2022-05-30T16:26:47.863Z"
   },
   {
    "duration": 7,
    "start_time": "2022-05-30T16:26:49.554Z"
   },
   {
    "duration": 13,
    "start_time": "2022-05-30T16:26:49.562Z"
   },
   {
    "duration": 88,
    "start_time": "2022-05-30T16:26:49.577Z"
   },
   {
    "duration": 58,
    "start_time": "2022-05-30T16:26:49.667Z"
   },
   {
    "duration": 45,
    "start_time": "2022-05-30T16:26:49.726Z"
   },
   {
    "duration": 81,
    "start_time": "2022-05-30T16:26:49.773Z"
   },
   {
    "duration": 10,
    "start_time": "2022-05-30T16:26:49.857Z"
   },
   {
    "duration": 53,
    "start_time": "2022-05-30T16:26:49.869Z"
   },
   {
    "duration": 7,
    "start_time": "2022-05-30T16:26:49.926Z"
   },
   {
    "duration": 43,
    "start_time": "2022-05-30T16:26:49.935Z"
   },
   {
    "duration": 41,
    "start_time": "2022-05-30T16:26:49.980Z"
   },
   {
    "duration": 11,
    "start_time": "2022-05-30T16:26:50.022Z"
   },
   {
    "duration": 119,
    "start_time": "2022-05-30T16:26:50.035Z"
   },
   {
    "duration": 28,
    "start_time": "2022-05-30T16:26:50.156Z"
   },
   {
    "duration": 6,
    "start_time": "2022-05-30T16:26:50.186Z"
   },
   {
    "duration": 53,
    "start_time": "2022-05-30T16:26:50.195Z"
   },
   {
    "duration": 17,
    "start_time": "2022-05-30T16:26:50.250Z"
   },
   {
    "duration": 12,
    "start_time": "2022-05-30T16:26:50.269Z"
   },
   {
    "duration": 36,
    "start_time": "2022-05-30T16:26:50.283Z"
   },
   {
    "duration": 17,
    "start_time": "2022-05-30T16:26:50.322Z"
   },
   {
    "duration": 32,
    "start_time": "2022-05-30T16:26:50.340Z"
   },
   {
    "duration": 10,
    "start_time": "2022-05-30T16:26:50.374Z"
   },
   {
    "duration": 6,
    "start_time": "2022-05-30T16:26:50.385Z"
   },
   {
    "duration": 95,
    "start_time": "2022-05-30T16:26:50.392Z"
   },
   {
    "duration": 28,
    "start_time": "2022-05-30T16:26:50.488Z"
   },
   {
    "duration": 26,
    "start_time": "2022-05-30T16:26:50.524Z"
   },
   {
    "duration": 14,
    "start_time": "2022-05-30T16:26:50.556Z"
   },
   {
    "duration": 37,
    "start_time": "2022-05-30T16:26:50.571Z"
   },
   {
    "duration": 33,
    "start_time": "2022-05-30T16:26:50.612Z"
   },
   {
    "duration": 289,
    "start_time": "2022-05-30T16:26:50.647Z"
   },
   {
    "duration": 228,
    "start_time": "2022-05-30T16:26:50.939Z"
   },
   {
    "duration": 198,
    "start_time": "2022-05-30T16:26:51.169Z"
   },
   {
    "duration": 219,
    "start_time": "2022-05-30T16:26:51.369Z"
   },
   {
    "duration": 37,
    "start_time": "2022-05-30T16:26:51.589Z"
   },
   {
    "duration": 18,
    "start_time": "2022-05-30T16:26:51.633Z"
   },
   {
    "duration": 6,
    "start_time": "2022-05-30T16:26:51.653Z"
   },
   {
    "duration": 7,
    "start_time": "2022-05-30T16:26:51.660Z"
   },
   {
    "duration": 12,
    "start_time": "2022-05-30T16:26:51.668Z"
   },
   {
    "duration": 30,
    "start_time": "2022-05-30T16:26:51.682Z"
   },
   {
    "duration": 204,
    "start_time": "2022-05-30T16:26:51.713Z"
   },
   {
    "duration": 12,
    "start_time": "2022-05-30T16:26:51.918Z"
   },
   {
    "duration": 35,
    "start_time": "2022-05-30T16:26:51.933Z"
   },
   {
    "duration": 12,
    "start_time": "2022-05-30T16:26:51.969Z"
   },
   {
    "duration": 19,
    "start_time": "2022-05-30T16:26:51.982Z"
   },
   {
    "duration": 38,
    "start_time": "2022-05-30T16:26:52.002Z"
   }
  ],
  "kernelspec": {
   "display_name": "Python 3",
   "language": "python",
   "name": "python3"
  },
  "language_info": {
   "codemirror_mode": {
    "name": "ipython",
    "version": 3
   },
   "file_extension": ".py",
   "mimetype": "text/x-python",
   "name": "python",
   "nbconvert_exporter": "python",
   "pygments_lexer": "ipython3",
   "version": "3.8.2"
  },
  "toc": {
   "base_numbering": 1,
   "nav_menu": {},
   "number_sections": true,
   "sideBar": true,
   "skip_h1_title": true,
   "title_cell": "Table of Contents",
   "title_sidebar": "Contents",
   "toc_cell": false,
   "toc_position": {},
   "toc_section_display": true,
   "toc_window_display": false
  }
 },
 "nbformat": 4,
 "nbformat_minor": 4
}
