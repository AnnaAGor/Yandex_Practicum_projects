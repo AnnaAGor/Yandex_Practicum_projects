{
 "cells": [
  {
   "cell_type": "markdown",
   "metadata": {},
   "source": [
    "# Загрузка и общая информация о данных"
   ]
  },
  {
   "cell_type": "code",
   "execution_count": 1,
   "metadata": {},
   "outputs": [],
   "source": [
    "import pandas as pd\n",
    "import seaborn as sns\n",
    "import numpy as np\n",
    "import matplotlib.pyplot as plt\n",
    "from scipy import stats as st"
   ]
  },
  {
   "cell_type": "code",
   "execution_count": 2,
   "metadata": {},
   "outputs": [],
   "source": [
    "import warnings\n",
    "\n",
    "warnings.filterwarnings('ignore')"
   ]
  },
  {
   "cell_type": "code",
   "execution_count": 3,
   "metadata": {},
   "outputs": [
    {
     "name": "stdout",
     "output_type": "stream",
     "text": [
      "<class 'pandas.core.frame.DataFrame'>\n",
      "RangeIndex: 16715 entries, 0 to 16714\n",
      "Data columns (total 11 columns):\n",
      " #   Column           Non-Null Count  Dtype  \n",
      "---  ------           --------------  -----  \n",
      " 0   Name             16713 non-null  object \n",
      " 1   Platform         16715 non-null  object \n",
      " 2   Year_of_Release  16446 non-null  float64\n",
      " 3   Genre            16713 non-null  object \n",
      " 4   NA_sales         16715 non-null  float64\n",
      " 5   EU_sales         16715 non-null  float64\n",
      " 6   JP_sales         16715 non-null  float64\n",
      " 7   Other_sales      16715 non-null  float64\n",
      " 8   Critic_Score     8137 non-null   float64\n",
      " 9   User_Score       10014 non-null  object \n",
      " 10  Rating           9949 non-null   object \n",
      "dtypes: float64(6), object(5)\n",
      "memory usage: 1.4+ MB\n"
     ]
    }
   ],
   "source": [
    "try:\n",
    "    data = pd.read_csv('/datasets/games.csv')\n",
    "except:\n",
    "    data = pd.read_csv('games.csv')\n",
    "\n",
    "data.info()"
   ]
  },
  {
   "cell_type": "markdown",
   "metadata": {},
   "source": [
    "Приведем название колонок к стандартному виду"
   ]
  },
  {
   "cell_type": "code",
   "execution_count": 4,
   "metadata": {},
   "outputs": [
    {
     "data": {
      "text/plain": [
       "Index(['name', 'platform', 'year_of_release', 'genre', 'na_sales', 'eu_sales',\n",
       "       'jp_sales', 'other_sales', 'critic_score', 'user_score', 'rating'],\n",
       "      dtype='object')"
      ]
     },
     "execution_count": 4,
     "metadata": {},
     "output_type": "execute_result"
    }
   ],
   "source": [
    "data.columns = data.columns.str.lower()\n",
    "data.columns # названия колонок приведены к нижнему регистру"
   ]
  },
  {
   "cell_type": "markdown",
   "metadata": {},
   "source": [
    "Рассчитаем общий объём продаж по каждой игре во всех регионах (Северная Америка, Европа, Япония, другие регионы)"
   ]
  },
  {
   "cell_type": "code",
   "execution_count": 5,
   "metadata": {},
   "outputs": [
    {
     "data": {
      "text/html": [
       "<div>\n",
       "<style scoped>\n",
       "    .dataframe tbody tr th:only-of-type {\n",
       "        vertical-align: middle;\n",
       "    }\n",
       "\n",
       "    .dataframe tbody tr th {\n",
       "        vertical-align: top;\n",
       "    }\n",
       "\n",
       "    .dataframe thead th {\n",
       "        text-align: right;\n",
       "    }\n",
       "</style>\n",
       "<table border=\"1\" class=\"dataframe\">\n",
       "  <thead>\n",
       "    <tr style=\"text-align: right;\">\n",
       "      <th></th>\n",
       "      <th>name</th>\n",
       "      <th>platform</th>\n",
       "      <th>year_of_release</th>\n",
       "      <th>genre</th>\n",
       "      <th>na_sales</th>\n",
       "      <th>eu_sales</th>\n",
       "      <th>jp_sales</th>\n",
       "      <th>other_sales</th>\n",
       "      <th>critic_score</th>\n",
       "      <th>user_score</th>\n",
       "      <th>rating</th>\n",
       "      <th>sales_sum</th>\n",
       "    </tr>\n",
       "  </thead>\n",
       "  <tbody>\n",
       "    <tr>\n",
       "      <th>0</th>\n",
       "      <td>Wii Sports</td>\n",
       "      <td>Wii</td>\n",
       "      <td>2006.0</td>\n",
       "      <td>Sports</td>\n",
       "      <td>41.36</td>\n",
       "      <td>28.96</td>\n",
       "      <td>3.77</td>\n",
       "      <td>8.45</td>\n",
       "      <td>76.0</td>\n",
       "      <td>8</td>\n",
       "      <td>E</td>\n",
       "      <td>82.54</td>\n",
       "    </tr>\n",
       "    <tr>\n",
       "      <th>1</th>\n",
       "      <td>Super Mario Bros.</td>\n",
       "      <td>NES</td>\n",
       "      <td>1985.0</td>\n",
       "      <td>Platform</td>\n",
       "      <td>29.08</td>\n",
       "      <td>3.58</td>\n",
       "      <td>6.81</td>\n",
       "      <td>0.77</td>\n",
       "      <td>NaN</td>\n",
       "      <td>NaN</td>\n",
       "      <td>NaN</td>\n",
       "      <td>40.24</td>\n",
       "    </tr>\n",
       "    <tr>\n",
       "      <th>2</th>\n",
       "      <td>Mario Kart Wii</td>\n",
       "      <td>Wii</td>\n",
       "      <td>2008.0</td>\n",
       "      <td>Racing</td>\n",
       "      <td>15.68</td>\n",
       "      <td>12.76</td>\n",
       "      <td>3.79</td>\n",
       "      <td>3.29</td>\n",
       "      <td>82.0</td>\n",
       "      <td>8.3</td>\n",
       "      <td>E</td>\n",
       "      <td>35.52</td>\n",
       "    </tr>\n",
       "    <tr>\n",
       "      <th>3</th>\n",
       "      <td>Wii Sports Resort</td>\n",
       "      <td>Wii</td>\n",
       "      <td>2009.0</td>\n",
       "      <td>Sports</td>\n",
       "      <td>15.61</td>\n",
       "      <td>10.93</td>\n",
       "      <td>3.28</td>\n",
       "      <td>2.95</td>\n",
       "      <td>80.0</td>\n",
       "      <td>8</td>\n",
       "      <td>E</td>\n",
       "      <td>32.77</td>\n",
       "    </tr>\n",
       "    <tr>\n",
       "      <th>4</th>\n",
       "      <td>Pokemon Red/Pokemon Blue</td>\n",
       "      <td>GB</td>\n",
       "      <td>1996.0</td>\n",
       "      <td>Role-Playing</td>\n",
       "      <td>11.27</td>\n",
       "      <td>8.89</td>\n",
       "      <td>10.22</td>\n",
       "      <td>1.00</td>\n",
       "      <td>NaN</td>\n",
       "      <td>NaN</td>\n",
       "      <td>NaN</td>\n",
       "      <td>31.38</td>\n",
       "    </tr>\n",
       "    <tr>\n",
       "      <th>...</th>\n",
       "      <td>...</td>\n",
       "      <td>...</td>\n",
       "      <td>...</td>\n",
       "      <td>...</td>\n",
       "      <td>...</td>\n",
       "      <td>...</td>\n",
       "      <td>...</td>\n",
       "      <td>...</td>\n",
       "      <td>...</td>\n",
       "      <td>...</td>\n",
       "      <td>...</td>\n",
       "      <td>...</td>\n",
       "    </tr>\n",
       "    <tr>\n",
       "      <th>16710</th>\n",
       "      <td>Samurai Warriors: Sanada Maru</td>\n",
       "      <td>PS3</td>\n",
       "      <td>2016.0</td>\n",
       "      <td>Action</td>\n",
       "      <td>0.00</td>\n",
       "      <td>0.00</td>\n",
       "      <td>0.01</td>\n",
       "      <td>0.00</td>\n",
       "      <td>NaN</td>\n",
       "      <td>NaN</td>\n",
       "      <td>NaN</td>\n",
       "      <td>0.01</td>\n",
       "    </tr>\n",
       "    <tr>\n",
       "      <th>16711</th>\n",
       "      <td>LMA Manager 2007</td>\n",
       "      <td>X360</td>\n",
       "      <td>2006.0</td>\n",
       "      <td>Sports</td>\n",
       "      <td>0.00</td>\n",
       "      <td>0.01</td>\n",
       "      <td>0.00</td>\n",
       "      <td>0.00</td>\n",
       "      <td>NaN</td>\n",
       "      <td>NaN</td>\n",
       "      <td>NaN</td>\n",
       "      <td>0.01</td>\n",
       "    </tr>\n",
       "    <tr>\n",
       "      <th>16712</th>\n",
       "      <td>Haitaka no Psychedelica</td>\n",
       "      <td>PSV</td>\n",
       "      <td>2016.0</td>\n",
       "      <td>Adventure</td>\n",
       "      <td>0.00</td>\n",
       "      <td>0.00</td>\n",
       "      <td>0.01</td>\n",
       "      <td>0.00</td>\n",
       "      <td>NaN</td>\n",
       "      <td>NaN</td>\n",
       "      <td>NaN</td>\n",
       "      <td>0.01</td>\n",
       "    </tr>\n",
       "    <tr>\n",
       "      <th>16713</th>\n",
       "      <td>Spirits &amp; Spells</td>\n",
       "      <td>GBA</td>\n",
       "      <td>2003.0</td>\n",
       "      <td>Platform</td>\n",
       "      <td>0.01</td>\n",
       "      <td>0.00</td>\n",
       "      <td>0.00</td>\n",
       "      <td>0.00</td>\n",
       "      <td>NaN</td>\n",
       "      <td>NaN</td>\n",
       "      <td>NaN</td>\n",
       "      <td>0.01</td>\n",
       "    </tr>\n",
       "    <tr>\n",
       "      <th>16714</th>\n",
       "      <td>Winning Post 8 2016</td>\n",
       "      <td>PSV</td>\n",
       "      <td>2016.0</td>\n",
       "      <td>Simulation</td>\n",
       "      <td>0.00</td>\n",
       "      <td>0.00</td>\n",
       "      <td>0.01</td>\n",
       "      <td>0.00</td>\n",
       "      <td>NaN</td>\n",
       "      <td>NaN</td>\n",
       "      <td>NaN</td>\n",
       "      <td>0.01</td>\n",
       "    </tr>\n",
       "  </tbody>\n",
       "</table>\n",
       "<p>16715 rows × 12 columns</p>\n",
       "</div>"
      ],
      "text/plain": [
       "                                name platform  year_of_release         genre  \\\n",
       "0                         Wii Sports      Wii           2006.0        Sports   \n",
       "1                  Super Mario Bros.      NES           1985.0      Platform   \n",
       "2                     Mario Kart Wii      Wii           2008.0        Racing   \n",
       "3                  Wii Sports Resort      Wii           2009.0        Sports   \n",
       "4           Pokemon Red/Pokemon Blue       GB           1996.0  Role-Playing   \n",
       "...                              ...      ...              ...           ...   \n",
       "16710  Samurai Warriors: Sanada Maru      PS3           2016.0        Action   \n",
       "16711               LMA Manager 2007     X360           2006.0        Sports   \n",
       "16712        Haitaka no Psychedelica      PSV           2016.0     Adventure   \n",
       "16713               Spirits & Spells      GBA           2003.0      Platform   \n",
       "16714            Winning Post 8 2016      PSV           2016.0    Simulation   \n",
       "\n",
       "       na_sales  eu_sales  jp_sales  other_sales  critic_score user_score  \\\n",
       "0         41.36     28.96      3.77         8.45          76.0          8   \n",
       "1         29.08      3.58      6.81         0.77           NaN        NaN   \n",
       "2         15.68     12.76      3.79         3.29          82.0        8.3   \n",
       "3         15.61     10.93      3.28         2.95          80.0          8   \n",
       "4         11.27      8.89     10.22         1.00           NaN        NaN   \n",
       "...         ...       ...       ...          ...           ...        ...   \n",
       "16710      0.00      0.00      0.01         0.00           NaN        NaN   \n",
       "16711      0.00      0.01      0.00         0.00           NaN        NaN   \n",
       "16712      0.00      0.00      0.01         0.00           NaN        NaN   \n",
       "16713      0.01      0.00      0.00         0.00           NaN        NaN   \n",
       "16714      0.00      0.00      0.01         0.00           NaN        NaN   \n",
       "\n",
       "      rating  sales_sum  \n",
       "0          E      82.54  \n",
       "1        NaN      40.24  \n",
       "2          E      35.52  \n",
       "3          E      32.77  \n",
       "4        NaN      31.38  \n",
       "...      ...        ...  \n",
       "16710    NaN       0.01  \n",
       "16711    NaN       0.01  \n",
       "16712    NaN       0.01  \n",
       "16713    NaN       0.01  \n",
       "16714    NaN       0.01  \n",
       "\n",
       "[16715 rows x 12 columns]"
      ]
     },
     "execution_count": 5,
     "metadata": {},
     "output_type": "execute_result"
    }
   ],
   "source": [
    "data['sales_sum'] = data['na_sales'] + data['eu_sales'] + data['jp_sales'] + data['other_sales']\n",
    "\n",
    "data"
   ]
  },
  {
   "cell_type": "markdown",
   "metadata": {},
   "source": [
    "### Проверим пропущенные значения"
   ]
  },
  {
   "cell_type": "code",
   "execution_count": 6,
   "metadata": {
    "scrolled": true
   },
   "outputs": [
    {
     "data": {
      "text/plain": [
       "name                  2\n",
       "platform              0\n",
       "year_of_release     269\n",
       "genre                 2\n",
       "na_sales              0\n",
       "eu_sales              0\n",
       "jp_sales              0\n",
       "other_sales           0\n",
       "critic_score       8578\n",
       "user_score         6701\n",
       "rating             6766\n",
       "sales_sum             0\n",
       "dtype: int64"
      ]
     },
     "execution_count": 6,
     "metadata": {},
     "output_type": "execute_result"
    }
   ],
   "source": [
    "data.isna().sum() # кол-во пропущенных значений"
   ]
  },
  {
   "cell_type": "code",
   "execution_count": 7,
   "metadata": {},
   "outputs": [
    {
     "data": {
      "text/plain": [
       "name                0.011965\n",
       "platform            0.000000\n",
       "year_of_release     1.609333\n",
       "genre               0.011965\n",
       "na_sales            0.000000\n",
       "eu_sales            0.000000\n",
       "jp_sales            0.000000\n",
       "other_sales         0.000000\n",
       "critic_score       51.319174\n",
       "user_score         40.089740\n",
       "rating             40.478612\n",
       "sales_sum           0.000000\n",
       "dtype: float64"
      ]
     },
     "execution_count": 7,
     "metadata": {},
     "output_type": "execute_result"
    }
   ],
   "source": [
    "data.isna().mean()*100 # проверим процент пропущенных пропусков в столбцах"
   ]
  },
  {
   "cell_type": "markdown",
   "metadata": {},
   "source": [
    "Для двух игр пропущено название и жанр, проверим, что это за строки.\n",
    "\n",
    "Название и жанр пропущено в одинаковых строках. Речь об играх 1993 года, название может быть не просто восстановить.\n",
    "Удалим данные строки"
   ]
  },
  {
   "cell_type": "code",
   "execution_count": 8,
   "metadata": {},
   "outputs": [
    {
     "data": {
      "text/html": [
       "<div>\n",
       "<style scoped>\n",
       "    .dataframe tbody tr th:only-of-type {\n",
       "        vertical-align: middle;\n",
       "    }\n",
       "\n",
       "    .dataframe tbody tr th {\n",
       "        vertical-align: top;\n",
       "    }\n",
       "\n",
       "    .dataframe thead th {\n",
       "        text-align: right;\n",
       "    }\n",
       "</style>\n",
       "<table border=\"1\" class=\"dataframe\">\n",
       "  <thead>\n",
       "    <tr style=\"text-align: right;\">\n",
       "      <th></th>\n",
       "      <th>name</th>\n",
       "      <th>platform</th>\n",
       "      <th>year_of_release</th>\n",
       "      <th>genre</th>\n",
       "      <th>na_sales</th>\n",
       "      <th>eu_sales</th>\n",
       "      <th>jp_sales</th>\n",
       "      <th>other_sales</th>\n",
       "      <th>critic_score</th>\n",
       "      <th>user_score</th>\n",
       "      <th>rating</th>\n",
       "      <th>sales_sum</th>\n",
       "    </tr>\n",
       "  </thead>\n",
       "  <tbody>\n",
       "    <tr>\n",
       "      <th>659</th>\n",
       "      <td>NaN</td>\n",
       "      <td>GEN</td>\n",
       "      <td>1993.0</td>\n",
       "      <td>NaN</td>\n",
       "      <td>1.78</td>\n",
       "      <td>0.53</td>\n",
       "      <td>0.00</td>\n",
       "      <td>0.08</td>\n",
       "      <td>NaN</td>\n",
       "      <td>NaN</td>\n",
       "      <td>NaN</td>\n",
       "      <td>2.39</td>\n",
       "    </tr>\n",
       "    <tr>\n",
       "      <th>14244</th>\n",
       "      <td>NaN</td>\n",
       "      <td>GEN</td>\n",
       "      <td>1993.0</td>\n",
       "      <td>NaN</td>\n",
       "      <td>0.00</td>\n",
       "      <td>0.00</td>\n",
       "      <td>0.03</td>\n",
       "      <td>0.00</td>\n",
       "      <td>NaN</td>\n",
       "      <td>NaN</td>\n",
       "      <td>NaN</td>\n",
       "      <td>0.03</td>\n",
       "    </tr>\n",
       "  </tbody>\n",
       "</table>\n",
       "</div>"
      ],
      "text/plain": [
       "      name platform  year_of_release genre  na_sales  eu_sales  jp_sales  \\\n",
       "659    NaN      GEN           1993.0   NaN      1.78      0.53      0.00   \n",
       "14244  NaN      GEN           1993.0   NaN      0.00      0.00      0.03   \n",
       "\n",
       "       other_sales  critic_score user_score rating  sales_sum  \n",
       "659           0.08           NaN        NaN    NaN       2.39  \n",
       "14244         0.00           NaN        NaN    NaN       0.03  "
      ]
     },
     "execution_count": 8,
     "metadata": {},
     "output_type": "execute_result"
    }
   ],
   "source": [
    "data[data['name'].isna()] "
   ]
  },
  {
   "cell_type": "code",
   "execution_count": 9,
   "metadata": {
    "scrolled": true
   },
   "outputs": [
    {
     "data": {
      "text/html": [
       "<div>\n",
       "<style scoped>\n",
       "    .dataframe tbody tr th:only-of-type {\n",
       "        vertical-align: middle;\n",
       "    }\n",
       "\n",
       "    .dataframe tbody tr th {\n",
       "        vertical-align: top;\n",
       "    }\n",
       "\n",
       "    .dataframe thead th {\n",
       "        text-align: right;\n",
       "    }\n",
       "</style>\n",
       "<table border=\"1\" class=\"dataframe\">\n",
       "  <thead>\n",
       "    <tr style=\"text-align: right;\">\n",
       "      <th></th>\n",
       "      <th>name</th>\n",
       "      <th>platform</th>\n",
       "      <th>year_of_release</th>\n",
       "      <th>genre</th>\n",
       "      <th>na_sales</th>\n",
       "      <th>eu_sales</th>\n",
       "      <th>jp_sales</th>\n",
       "      <th>other_sales</th>\n",
       "      <th>critic_score</th>\n",
       "      <th>user_score</th>\n",
       "      <th>rating</th>\n",
       "      <th>sales_sum</th>\n",
       "    </tr>\n",
       "  </thead>\n",
       "  <tbody>\n",
       "  </tbody>\n",
       "</table>\n",
       "</div>"
      ],
      "text/plain": [
       "Empty DataFrame\n",
       "Columns: [name, platform, year_of_release, genre, na_sales, eu_sales, jp_sales, other_sales, critic_score, user_score, rating, sales_sum]\n",
       "Index: []"
      ]
     },
     "execution_count": 9,
     "metadata": {},
     "output_type": "execute_result"
    }
   ],
   "source": [
    "data = data.dropna(subset = ['genre']) \n",
    "data[data['genre'].isna()] # строки удалены"
   ]
  },
  {
   "cell_type": "markdown",
   "metadata": {},
   "source": [
    "Количество пропусков по году выпуска игры - 269 строк. \n",
    "\n",
    "Предлагаю удалить все игры, в которых и пропущен год, и значение рейтинга, поскольку без этих данных сложно сделать анализ"
   ]
  },
  {
   "cell_type": "code",
   "execution_count": 10,
   "metadata": {},
   "outputs": [
    {
     "data": {
      "text/html": [
       "<div>\n",
       "<style scoped>\n",
       "    .dataframe tbody tr th:only-of-type {\n",
       "        vertical-align: middle;\n",
       "    }\n",
       "\n",
       "    .dataframe tbody tr th {\n",
       "        vertical-align: top;\n",
       "    }\n",
       "\n",
       "    .dataframe thead th {\n",
       "        text-align: right;\n",
       "    }\n",
       "</style>\n",
       "<table border=\"1\" class=\"dataframe\">\n",
       "  <thead>\n",
       "    <tr style=\"text-align: right;\">\n",
       "      <th></th>\n",
       "      <th>name</th>\n",
       "      <th>platform</th>\n",
       "      <th>year_of_release</th>\n",
       "      <th>genre</th>\n",
       "      <th>na_sales</th>\n",
       "      <th>eu_sales</th>\n",
       "      <th>jp_sales</th>\n",
       "      <th>other_sales</th>\n",
       "      <th>critic_score</th>\n",
       "      <th>user_score</th>\n",
       "      <th>rating</th>\n",
       "      <th>sales_sum</th>\n",
       "    </tr>\n",
       "  </thead>\n",
       "  <tbody>\n",
       "    <tr>\n",
       "      <th>475</th>\n",
       "      <td>wwe Smackdown vs. Raw 2006</td>\n",
       "      <td>PS2</td>\n",
       "      <td>NaN</td>\n",
       "      <td>Fighting</td>\n",
       "      <td>1.57</td>\n",
       "      <td>1.02</td>\n",
       "      <td>0.00</td>\n",
       "      <td>0.41</td>\n",
       "      <td>NaN</td>\n",
       "      <td>NaN</td>\n",
       "      <td>NaN</td>\n",
       "      <td>3.00</td>\n",
       "    </tr>\n",
       "    <tr>\n",
       "      <th>609</th>\n",
       "      <td>Space Invaders</td>\n",
       "      <td>2600</td>\n",
       "      <td>NaN</td>\n",
       "      <td>Shooter</td>\n",
       "      <td>2.36</td>\n",
       "      <td>0.14</td>\n",
       "      <td>0.00</td>\n",
       "      <td>0.03</td>\n",
       "      <td>NaN</td>\n",
       "      <td>NaN</td>\n",
       "      <td>NaN</td>\n",
       "      <td>2.53</td>\n",
       "    </tr>\n",
       "    <tr>\n",
       "      <th>1301</th>\n",
       "      <td>Triple Play 99</td>\n",
       "      <td>PS</td>\n",
       "      <td>NaN</td>\n",
       "      <td>Sports</td>\n",
       "      <td>0.81</td>\n",
       "      <td>0.55</td>\n",
       "      <td>0.00</td>\n",
       "      <td>0.10</td>\n",
       "      <td>NaN</td>\n",
       "      <td>NaN</td>\n",
       "      <td>NaN</td>\n",
       "      <td>1.46</td>\n",
       "    </tr>\n",
       "    <tr>\n",
       "      <th>1506</th>\n",
       "      <td>Adventure</td>\n",
       "      <td>2600</td>\n",
       "      <td>NaN</td>\n",
       "      <td>Adventure</td>\n",
       "      <td>1.21</td>\n",
       "      <td>0.08</td>\n",
       "      <td>0.00</td>\n",
       "      <td>0.01</td>\n",
       "      <td>NaN</td>\n",
       "      <td>NaN</td>\n",
       "      <td>NaN</td>\n",
       "      <td>1.30</td>\n",
       "    </tr>\n",
       "    <tr>\n",
       "      <th>1585</th>\n",
       "      <td>Combat</td>\n",
       "      <td>2600</td>\n",
       "      <td>NaN</td>\n",
       "      <td>Action</td>\n",
       "      <td>1.17</td>\n",
       "      <td>0.07</td>\n",
       "      <td>0.00</td>\n",
       "      <td>0.01</td>\n",
       "      <td>NaN</td>\n",
       "      <td>NaN</td>\n",
       "      <td>NaN</td>\n",
       "      <td>1.25</td>\n",
       "    </tr>\n",
       "    <tr>\n",
       "      <th>...</th>\n",
       "      <td>...</td>\n",
       "      <td>...</td>\n",
       "      <td>...</td>\n",
       "      <td>...</td>\n",
       "      <td>...</td>\n",
       "      <td>...</td>\n",
       "      <td>...</td>\n",
       "      <td>...</td>\n",
       "      <td>...</td>\n",
       "      <td>...</td>\n",
       "      <td>...</td>\n",
       "      <td>...</td>\n",
       "    </tr>\n",
       "    <tr>\n",
       "      <th>16288</th>\n",
       "      <td>Shorts</td>\n",
       "      <td>DS</td>\n",
       "      <td>NaN</td>\n",
       "      <td>Platform</td>\n",
       "      <td>0.01</td>\n",
       "      <td>0.00</td>\n",
       "      <td>0.00</td>\n",
       "      <td>0.00</td>\n",
       "      <td>NaN</td>\n",
       "      <td>tbd</td>\n",
       "      <td>E10+</td>\n",
       "      <td>0.01</td>\n",
       "    </tr>\n",
       "    <tr>\n",
       "      <th>16293</th>\n",
       "      <td>AKB1/48: Idol to Guam de Koishitara...</td>\n",
       "      <td>X360</td>\n",
       "      <td>NaN</td>\n",
       "      <td>Misc</td>\n",
       "      <td>0.00</td>\n",
       "      <td>0.00</td>\n",
       "      <td>0.01</td>\n",
       "      <td>0.00</td>\n",
       "      <td>NaN</td>\n",
       "      <td>NaN</td>\n",
       "      <td>NaN</td>\n",
       "      <td>0.01</td>\n",
       "    </tr>\n",
       "    <tr>\n",
       "      <th>16329</th>\n",
       "      <td>Brothers in Arms: Furious 4</td>\n",
       "      <td>X360</td>\n",
       "      <td>NaN</td>\n",
       "      <td>Shooter</td>\n",
       "      <td>0.01</td>\n",
       "      <td>0.00</td>\n",
       "      <td>0.00</td>\n",
       "      <td>0.00</td>\n",
       "      <td>NaN</td>\n",
       "      <td>NaN</td>\n",
       "      <td>M</td>\n",
       "      <td>0.01</td>\n",
       "    </tr>\n",
       "    <tr>\n",
       "      <th>16348</th>\n",
       "      <td>Agarest Senki: Re-appearance</td>\n",
       "      <td>PS3</td>\n",
       "      <td>NaN</td>\n",
       "      <td>Role-Playing</td>\n",
       "      <td>0.00</td>\n",
       "      <td>0.00</td>\n",
       "      <td>0.01</td>\n",
       "      <td>0.00</td>\n",
       "      <td>NaN</td>\n",
       "      <td>NaN</td>\n",
       "      <td>NaN</td>\n",
       "      <td>0.01</td>\n",
       "    </tr>\n",
       "    <tr>\n",
       "      <th>16458</th>\n",
       "      <td>Hakuouki: Shinsengumi Kitan</td>\n",
       "      <td>PS3</td>\n",
       "      <td>NaN</td>\n",
       "      <td>Adventure</td>\n",
       "      <td>0.01</td>\n",
       "      <td>0.00</td>\n",
       "      <td>0.00</td>\n",
       "      <td>0.00</td>\n",
       "      <td>NaN</td>\n",
       "      <td>NaN</td>\n",
       "      <td>NaN</td>\n",
       "      <td>0.01</td>\n",
       "    </tr>\n",
       "  </tbody>\n",
       "</table>\n",
       "<p>122 rows × 12 columns</p>\n",
       "</div>"
      ],
      "text/plain": [
       "                                         name platform  year_of_release  \\\n",
       "475                wwe Smackdown vs. Raw 2006      PS2              NaN   \n",
       "609                            Space Invaders     2600              NaN   \n",
       "1301                           Triple Play 99       PS              NaN   \n",
       "1506                                Adventure     2600              NaN   \n",
       "1585                                   Combat     2600              NaN   \n",
       "...                                       ...      ...              ...   \n",
       "16288                                  Shorts       DS              NaN   \n",
       "16293  AKB1/48: Idol to Guam de Koishitara...     X360              NaN   \n",
       "16329             Brothers in Arms: Furious 4     X360              NaN   \n",
       "16348            Agarest Senki: Re-appearance      PS3              NaN   \n",
       "16458             Hakuouki: Shinsengumi Kitan      PS3              NaN   \n",
       "\n",
       "              genre  na_sales  eu_sales  jp_sales  other_sales  critic_score  \\\n",
       "475        Fighting      1.57      1.02      0.00         0.41           NaN   \n",
       "609         Shooter      2.36      0.14      0.00         0.03           NaN   \n",
       "1301         Sports      0.81      0.55      0.00         0.10           NaN   \n",
       "1506      Adventure      1.21      0.08      0.00         0.01           NaN   \n",
       "1585         Action      1.17      0.07      0.00         0.01           NaN   \n",
       "...             ...       ...       ...       ...          ...           ...   \n",
       "16288      Platform      0.01      0.00      0.00         0.00           NaN   \n",
       "16293          Misc      0.00      0.00      0.01         0.00           NaN   \n",
       "16329       Shooter      0.01      0.00      0.00         0.00           NaN   \n",
       "16348  Role-Playing      0.00      0.00      0.01         0.00           NaN   \n",
       "16458     Adventure      0.01      0.00      0.00         0.00           NaN   \n",
       "\n",
       "      user_score rating  sales_sum  \n",
       "475          NaN    NaN       3.00  \n",
       "609          NaN    NaN       2.53  \n",
       "1301         NaN    NaN       1.46  \n",
       "1506         NaN    NaN       1.30  \n",
       "1585         NaN    NaN       1.25  \n",
       "...          ...    ...        ...  \n",
       "16288        tbd   E10+       0.01  \n",
       "16293        NaN    NaN       0.01  \n",
       "16329        NaN      M       0.01  \n",
       "16348        NaN    NaN       0.01  \n",
       "16458        NaN    NaN       0.01  \n",
       "\n",
       "[122 rows x 12 columns]"
      ]
     },
     "execution_count": 10,
     "metadata": {},
     "output_type": "execute_result"
    }
   ],
   "source": [
    "without_year = data[(data['year_of_release'].isna()) & ((data['critic_score'].isna()) | ((data['user_score'].isna()) | ((data['rating'].isna()))))]\n",
    "without_year # получили 122 строки по заданному критерию, удалим их"
   ]
  },
  {
   "cell_type": "code",
   "execution_count": 11,
   "metadata": {},
   "outputs": [
    {
     "data": {
      "text/html": [
       "<div>\n",
       "<style scoped>\n",
       "    .dataframe tbody tr th:only-of-type {\n",
       "        vertical-align: middle;\n",
       "    }\n",
       "\n",
       "    .dataframe tbody tr th {\n",
       "        vertical-align: top;\n",
       "    }\n",
       "\n",
       "    .dataframe thead th {\n",
       "        text-align: right;\n",
       "    }\n",
       "</style>\n",
       "<table border=\"1\" class=\"dataframe\">\n",
       "  <thead>\n",
       "    <tr style=\"text-align: right;\">\n",
       "      <th></th>\n",
       "      <th>index</th>\n",
       "      <th>name</th>\n",
       "      <th>platform</th>\n",
       "      <th>year_of_release</th>\n",
       "      <th>genre</th>\n",
       "      <th>na_sales</th>\n",
       "      <th>eu_sales</th>\n",
       "      <th>jp_sales</th>\n",
       "      <th>other_sales</th>\n",
       "      <th>critic_score</th>\n",
       "      <th>user_score</th>\n",
       "      <th>rating</th>\n",
       "      <th>sales_sum</th>\n",
       "    </tr>\n",
       "  </thead>\n",
       "  <tbody>\n",
       "  </tbody>\n",
       "</table>\n",
       "</div>"
      ],
      "text/plain": [
       "Empty DataFrame\n",
       "Columns: [index, name, platform, year_of_release, genre, na_sales, eu_sales, jp_sales, other_sales, critic_score, user_score, rating, sales_sum]\n",
       "Index: []"
      ]
     },
     "execution_count": 11,
     "metadata": {},
     "output_type": "execute_result"
    }
   ],
   "source": [
    "# удалим строки, в которых пропущен и год, и один из рейтингов\n",
    "data = data.drop(index = without_year.index, axis=0).reset_index()\n",
    "data[(data['year_of_release'].isna()) & ((data['critic_score'].isna()) | ((data['user_score'].isna()) | ((data['rating'].isna()))))]"
   ]
  },
  {
   "cell_type": "code",
   "execution_count": 12,
   "metadata": {
    "scrolled": false
   },
   "outputs": [
    {
     "data": {
      "text/plain": [
       "index                 0\n",
       "name                  0\n",
       "platform              0\n",
       "year_of_release     147\n",
       "genre                 0\n",
       "na_sales              0\n",
       "eu_sales              0\n",
       "jp_sales              0\n",
       "other_sales           0\n",
       "critic_score       8461\n",
       "user_score         6605\n",
       "rating             6676\n",
       "sales_sum             0\n",
       "dtype: int64"
      ]
     },
     "execution_count": 12,
     "metadata": {},
     "output_type": "execute_result"
    }
   ],
   "source": [
    "data.isna().sum()"
   ]
  },
  {
   "cell_type": "markdown",
   "metadata": {},
   "source": [
    "Осталось 147 строк, в которых не указан год\n",
    "\n",
    "Некоторые названия игр в списке повторяются, поскольку выходили на разных платформах, проверим, сколько таких строк"
   ]
  },
  {
   "cell_type": "code",
   "execution_count": 13,
   "metadata": {},
   "outputs": [
    {
     "data": {
      "text/plain": [
       "Need for Speed: Most Wanted                12\n",
       "LEGO Marvel Super Heroes                    9\n",
       "Madden NFL 07                               9\n",
       "Ratatouille                                 9\n",
       "FIFA 14                                     9\n",
       "Cars                                        8\n",
       "FIFA 15                                     8\n",
       "Angry Birds Star Wars                       8\n",
       "Lego Batman 3: Beyond Gotham                8\n",
       "Terraria                                    8\n",
       "LEGO Star Wars II: The Original Trilogy     8\n",
       "FIFA Soccer 13                              8\n",
       "Monopoly                                    8\n",
       "Madden NFL 08                               8\n",
       "LEGO The Hobbit                             8\n",
       "LEGO Jurassic World                         8\n",
       "The LEGO Movie Videogame                    8\n",
       "FIFA Soccer 11                              7\n",
       "LEGO Batman 2: DC Super Heroes              7\n",
       "Pro Evolution Soccer 2012                   7\n",
       "Name: name, dtype: int64"
      ]
     },
     "execution_count": 13,
     "metadata": {},
     "output_type": "execute_result"
    }
   ],
   "source": [
    "data['name'].value_counts().head(20) "
   ]
  },
  {
   "cell_type": "code",
   "execution_count": 14,
   "metadata": {},
   "outputs": [
    {
     "data": {
      "text/html": [
       "<div>\n",
       "<style scoped>\n",
       "    .dataframe tbody tr th:only-of-type {\n",
       "        vertical-align: middle;\n",
       "    }\n",
       "\n",
       "    .dataframe tbody tr th {\n",
       "        vertical-align: top;\n",
       "    }\n",
       "\n",
       "    .dataframe thead th {\n",
       "        text-align: right;\n",
       "    }\n",
       "</style>\n",
       "<table border=\"1\" class=\"dataframe\">\n",
       "  <thead>\n",
       "    <tr style=\"text-align: right;\">\n",
       "      <th></th>\n",
       "      <th>index</th>\n",
       "      <th>name</th>\n",
       "      <th>platform</th>\n",
       "      <th>year_of_release</th>\n",
       "      <th>genre</th>\n",
       "      <th>na_sales</th>\n",
       "      <th>eu_sales</th>\n",
       "      <th>jp_sales</th>\n",
       "      <th>other_sales</th>\n",
       "      <th>critic_score</th>\n",
       "      <th>user_score</th>\n",
       "      <th>rating</th>\n",
       "      <th>sales_sum</th>\n",
       "    </tr>\n",
       "  </thead>\n",
       "  <tbody>\n",
       "    <tr>\n",
       "      <th>253</th>\n",
       "      <td>253</td>\n",
       "      <td>Need for Speed: Most Wanted</td>\n",
       "      <td>PS2</td>\n",
       "      <td>2005.0</td>\n",
       "      <td>Racing</td>\n",
       "      <td>2.03</td>\n",
       "      <td>1.79</td>\n",
       "      <td>0.08</td>\n",
       "      <td>0.47</td>\n",
       "      <td>82.0</td>\n",
       "      <td>9.1</td>\n",
       "      <td>T</td>\n",
       "      <td>4.37</td>\n",
       "    </tr>\n",
       "    <tr>\n",
       "      <th>522</th>\n",
       "      <td>523</td>\n",
       "      <td>Need for Speed: Most Wanted</td>\n",
       "      <td>PS3</td>\n",
       "      <td>2012.0</td>\n",
       "      <td>Racing</td>\n",
       "      <td>0.71</td>\n",
       "      <td>1.46</td>\n",
       "      <td>0.06</td>\n",
       "      <td>0.58</td>\n",
       "      <td>NaN</td>\n",
       "      <td>NaN</td>\n",
       "      <td>NaN</td>\n",
       "      <td>2.81</td>\n",
       "    </tr>\n",
       "    <tr>\n",
       "      <th>1187</th>\n",
       "      <td>1190</td>\n",
       "      <td>Need for Speed: Most Wanted</td>\n",
       "      <td>X360</td>\n",
       "      <td>2012.0</td>\n",
       "      <td>Racing</td>\n",
       "      <td>0.62</td>\n",
       "      <td>0.78</td>\n",
       "      <td>0.01</td>\n",
       "      <td>0.15</td>\n",
       "      <td>83.0</td>\n",
       "      <td>8.5</td>\n",
       "      <td>T</td>\n",
       "      <td>1.56</td>\n",
       "    </tr>\n",
       "    <tr>\n",
       "      <th>1585</th>\n",
       "      <td>1591</td>\n",
       "      <td>Need for Speed: Most Wanted</td>\n",
       "      <td>X360</td>\n",
       "      <td>2005.0</td>\n",
       "      <td>Racing</td>\n",
       "      <td>1.00</td>\n",
       "      <td>0.13</td>\n",
       "      <td>0.02</td>\n",
       "      <td>0.10</td>\n",
       "      <td>83.0</td>\n",
       "      <td>8.5</td>\n",
       "      <td>T</td>\n",
       "      <td>1.25</td>\n",
       "    </tr>\n",
       "    <tr>\n",
       "      <th>1992</th>\n",
       "      <td>1998</td>\n",
       "      <td>Need for Speed: Most Wanted</td>\n",
       "      <td>XB</td>\n",
       "      <td>2005.0</td>\n",
       "      <td>Racing</td>\n",
       "      <td>0.53</td>\n",
       "      <td>0.46</td>\n",
       "      <td>0.00</td>\n",
       "      <td>0.05</td>\n",
       "      <td>83.0</td>\n",
       "      <td>8.8</td>\n",
       "      <td>T</td>\n",
       "      <td>1.04</td>\n",
       "    </tr>\n",
       "    <tr>\n",
       "      <th>2041</th>\n",
       "      <td>2048</td>\n",
       "      <td>Need for Speed: Most Wanted</td>\n",
       "      <td>PSV</td>\n",
       "      <td>2012.0</td>\n",
       "      <td>Racing</td>\n",
       "      <td>0.33</td>\n",
       "      <td>0.45</td>\n",
       "      <td>0.01</td>\n",
       "      <td>0.22</td>\n",
       "      <td>NaN</td>\n",
       "      <td>NaN</td>\n",
       "      <td>NaN</td>\n",
       "      <td>1.01</td>\n",
       "    </tr>\n",
       "    <tr>\n",
       "      <th>3568</th>\n",
       "      <td>3581</td>\n",
       "      <td>Need for Speed: Most Wanted</td>\n",
       "      <td>GC</td>\n",
       "      <td>2005.0</td>\n",
       "      <td>Racing</td>\n",
       "      <td>0.43</td>\n",
       "      <td>0.11</td>\n",
       "      <td>0.00</td>\n",
       "      <td>0.02</td>\n",
       "      <td>80.0</td>\n",
       "      <td>9.1</td>\n",
       "      <td>T</td>\n",
       "      <td>0.56</td>\n",
       "    </tr>\n",
       "    <tr>\n",
       "      <th>5947</th>\n",
       "      <td>5972</td>\n",
       "      <td>Need for Speed: Most Wanted</td>\n",
       "      <td>PC</td>\n",
       "      <td>2005.0</td>\n",
       "      <td>Racing</td>\n",
       "      <td>0.02</td>\n",
       "      <td>0.23</td>\n",
       "      <td>0.00</td>\n",
       "      <td>0.04</td>\n",
       "      <td>82.0</td>\n",
       "      <td>8.5</td>\n",
       "      <td>T</td>\n",
       "      <td>0.29</td>\n",
       "    </tr>\n",
       "    <tr>\n",
       "      <th>6245</th>\n",
       "      <td>6273</td>\n",
       "      <td>Need for Speed: Most Wanted</td>\n",
       "      <td>WiiU</td>\n",
       "      <td>2013.0</td>\n",
       "      <td>Racing</td>\n",
       "      <td>0.13</td>\n",
       "      <td>0.12</td>\n",
       "      <td>0.00</td>\n",
       "      <td>0.02</td>\n",
       "      <td>NaN</td>\n",
       "      <td>NaN</td>\n",
       "      <td>NaN</td>\n",
       "      <td>0.27</td>\n",
       "    </tr>\n",
       "    <tr>\n",
       "      <th>6381</th>\n",
       "      <td>6410</td>\n",
       "      <td>Need for Speed: Most Wanted</td>\n",
       "      <td>DS</td>\n",
       "      <td>2005.0</td>\n",
       "      <td>Racing</td>\n",
       "      <td>0.24</td>\n",
       "      <td>0.01</td>\n",
       "      <td>0.00</td>\n",
       "      <td>0.02</td>\n",
       "      <td>45.0</td>\n",
       "      <td>6.1</td>\n",
       "      <td>E</td>\n",
       "      <td>0.27</td>\n",
       "    </tr>\n",
       "    <tr>\n",
       "      <th>6444</th>\n",
       "      <td>6473</td>\n",
       "      <td>Need for Speed: Most Wanted</td>\n",
       "      <td>GBA</td>\n",
       "      <td>2005.0</td>\n",
       "      <td>Racing</td>\n",
       "      <td>0.19</td>\n",
       "      <td>0.07</td>\n",
       "      <td>0.00</td>\n",
       "      <td>0.00</td>\n",
       "      <td>NaN</td>\n",
       "      <td>8.3</td>\n",
       "      <td>E</td>\n",
       "      <td>0.26</td>\n",
       "    </tr>\n",
       "    <tr>\n",
       "      <th>11646</th>\n",
       "      <td>11715</td>\n",
       "      <td>Need for Speed: Most Wanted</td>\n",
       "      <td>PC</td>\n",
       "      <td>2012.0</td>\n",
       "      <td>Racing</td>\n",
       "      <td>0.00</td>\n",
       "      <td>0.06</td>\n",
       "      <td>0.00</td>\n",
       "      <td>0.02</td>\n",
       "      <td>82.0</td>\n",
       "      <td>8.5</td>\n",
       "      <td>T</td>\n",
       "      <td>0.08</td>\n",
       "    </tr>\n",
       "  </tbody>\n",
       "</table>\n",
       "</div>"
      ],
      "text/plain": [
       "       index                         name platform  year_of_release   genre  \\\n",
       "253      253  Need for Speed: Most Wanted      PS2           2005.0  Racing   \n",
       "522      523  Need for Speed: Most Wanted      PS3           2012.0  Racing   \n",
       "1187    1190  Need for Speed: Most Wanted     X360           2012.0  Racing   \n",
       "1585    1591  Need for Speed: Most Wanted     X360           2005.0  Racing   \n",
       "1992    1998  Need for Speed: Most Wanted       XB           2005.0  Racing   \n",
       "2041    2048  Need for Speed: Most Wanted      PSV           2012.0  Racing   \n",
       "3568    3581  Need for Speed: Most Wanted       GC           2005.0  Racing   \n",
       "5947    5972  Need for Speed: Most Wanted       PC           2005.0  Racing   \n",
       "6245    6273  Need for Speed: Most Wanted     WiiU           2013.0  Racing   \n",
       "6381    6410  Need for Speed: Most Wanted       DS           2005.0  Racing   \n",
       "6444    6473  Need for Speed: Most Wanted      GBA           2005.0  Racing   \n",
       "11646  11715  Need for Speed: Most Wanted       PC           2012.0  Racing   \n",
       "\n",
       "       na_sales  eu_sales  jp_sales  other_sales  critic_score user_score  \\\n",
       "253        2.03      1.79      0.08         0.47          82.0        9.1   \n",
       "522        0.71      1.46      0.06         0.58           NaN        NaN   \n",
       "1187       0.62      0.78      0.01         0.15          83.0        8.5   \n",
       "1585       1.00      0.13      0.02         0.10          83.0        8.5   \n",
       "1992       0.53      0.46      0.00         0.05          83.0        8.8   \n",
       "2041       0.33      0.45      0.01         0.22           NaN        NaN   \n",
       "3568       0.43      0.11      0.00         0.02          80.0        9.1   \n",
       "5947       0.02      0.23      0.00         0.04          82.0        8.5   \n",
       "6245       0.13      0.12      0.00         0.02           NaN        NaN   \n",
       "6381       0.24      0.01      0.00         0.02          45.0        6.1   \n",
       "6444       0.19      0.07      0.00         0.00           NaN        8.3   \n",
       "11646      0.00      0.06      0.00         0.02          82.0        8.5   \n",
       "\n",
       "      rating  sales_sum  \n",
       "253        T       4.37  \n",
       "522      NaN       2.81  \n",
       "1187       T       1.56  \n",
       "1585       T       1.25  \n",
       "1992       T       1.04  \n",
       "2041     NaN       1.01  \n",
       "3568       T       0.56  \n",
       "5947       T       0.29  \n",
       "6245     NaN       0.27  \n",
       "6381       E       0.27  \n",
       "6444       E       0.26  \n",
       "11646      T       0.08  "
      ]
     },
     "execution_count": 14,
     "metadata": {},
     "output_type": "execute_result"
    }
   ],
   "source": [
    "data[data['name'] == 'Need for Speed: Most Wanted']\n",
    "\n",
    "# мы видим, что название игры повторяется на разных платформах и с разными годами выпуска."
   ]
  },
  {
   "cell_type": "markdown",
   "metadata": {},
   "source": [
    "Посмотрим на количество игр с совокупной прибылью менее 100 000 долларов и менее 600 тыс.долларов.\n",
    "\n",
    "В данных достаточно строк с низкими продажами. \n",
    "\n",
    "Предлагаю удалить игры с продажами ниже 600 000 долларов и без года выпуска, поскольку не сможем полноценно использовать их в анализе. И их общий вклад в результат скорее не является критичным"
   ]
  },
  {
   "cell_type": "code",
   "execution_count": 15,
   "metadata": {
    "scrolled": true
   },
   "outputs": [
    {
     "name": "stdout",
     "output_type": "stream",
     "text": [
      "8973\n",
      "13224\n"
     ]
    }
   ],
   "source": [
    "print(len(data[data['sales_sum'] < 0.2]))\n",
    "print(len(data[data['sales_sum'] < 0.6])) # почти половина игр (8973) принесли совокупно не более 200 тыс. долларов\n",
    "# считаю возможным удалить игры с не высокой общей доходностью и отсутствием года"
   ]
  },
  {
   "cell_type": "code",
   "execution_count": 16,
   "metadata": {
    "scrolled": false
   },
   "outputs": [
    {
     "data": {
      "text/html": [
       "<div>\n",
       "<style scoped>\n",
       "    .dataframe tbody tr th:only-of-type {\n",
       "        vertical-align: middle;\n",
       "    }\n",
       "\n",
       "    .dataframe tbody tr th {\n",
       "        vertical-align: top;\n",
       "    }\n",
       "\n",
       "    .dataframe thead th {\n",
       "        text-align: right;\n",
       "    }\n",
       "</style>\n",
       "<table border=\"1\" class=\"dataframe\">\n",
       "  <thead>\n",
       "    <tr style=\"text-align: right;\">\n",
       "      <th></th>\n",
       "      <th>index</th>\n",
       "      <th>name</th>\n",
       "      <th>platform</th>\n",
       "      <th>year_of_release</th>\n",
       "      <th>genre</th>\n",
       "      <th>na_sales</th>\n",
       "      <th>eu_sales</th>\n",
       "      <th>jp_sales</th>\n",
       "      <th>other_sales</th>\n",
       "      <th>critic_score</th>\n",
       "      <th>user_score</th>\n",
       "      <th>rating</th>\n",
       "      <th>sales_sum</th>\n",
       "    </tr>\n",
       "  </thead>\n",
       "  <tbody>\n",
       "    <tr>\n",
       "      <th>3400</th>\n",
       "      <td>3413</td>\n",
       "      <td>Madden NFL 06</td>\n",
       "      <td>X360</td>\n",
       "      <td>NaN</td>\n",
       "      <td>Sports</td>\n",
       "      <td>0.54</td>\n",
       "      <td>0.00</td>\n",
       "      <td>0.01</td>\n",
       "      <td>0.03</td>\n",
       "      <td>74.0</td>\n",
       "      <td>4.9</td>\n",
       "      <td>E</td>\n",
       "      <td>0.58</td>\n",
       "    </tr>\n",
       "    <tr>\n",
       "      <th>3446</th>\n",
       "      <td>3459</td>\n",
       "      <td>NASCAR: Dirt to Daytona</td>\n",
       "      <td>PS2</td>\n",
       "      <td>NaN</td>\n",
       "      <td>Racing</td>\n",
       "      <td>0.28</td>\n",
       "      <td>0.22</td>\n",
       "      <td>0.00</td>\n",
       "      <td>0.07</td>\n",
       "      <td>84.0</td>\n",
       "      <td>8.8</td>\n",
       "      <td>E</td>\n",
       "      <td>0.57</td>\n",
       "    </tr>\n",
       "    <tr>\n",
       "      <th>3473</th>\n",
       "      <td>3486</td>\n",
       "      <td>Madden NFL 2002</td>\n",
       "      <td>XB</td>\n",
       "      <td>NaN</td>\n",
       "      <td>Sports</td>\n",
       "      <td>0.53</td>\n",
       "      <td>0.02</td>\n",
       "      <td>0.00</td>\n",
       "      <td>0.03</td>\n",
       "      <td>90.0</td>\n",
       "      <td>8.1</td>\n",
       "      <td>E</td>\n",
       "      <td>0.58</td>\n",
       "    </tr>\n",
       "    <tr>\n",
       "      <th>3691</th>\n",
       "      <td>3704</td>\n",
       "      <td>Def Jam: Fight for NY</td>\n",
       "      <td>XB</td>\n",
       "      <td>NaN</td>\n",
       "      <td>Fighting</td>\n",
       "      <td>0.43</td>\n",
       "      <td>0.10</td>\n",
       "      <td>0.00</td>\n",
       "      <td>0.02</td>\n",
       "      <td>84.0</td>\n",
       "      <td>8.5</td>\n",
       "      <td>M</td>\n",
       "      <td>0.55</td>\n",
       "    </tr>\n",
       "    <tr>\n",
       "      <th>3726</th>\n",
       "      <td>3739</td>\n",
       "      <td>NBA Street Vol. 2</td>\n",
       "      <td>GC</td>\n",
       "      <td>NaN</td>\n",
       "      <td>Sports</td>\n",
       "      <td>0.41</td>\n",
       "      <td>0.11</td>\n",
       "      <td>0.00</td>\n",
       "      <td>0.01</td>\n",
       "      <td>88.0</td>\n",
       "      <td>8.1</td>\n",
       "      <td>E</td>\n",
       "      <td>0.53</td>\n",
       "    </tr>\n",
       "    <tr>\n",
       "      <th>...</th>\n",
       "      <td>...</td>\n",
       "      <td>...</td>\n",
       "      <td>...</td>\n",
       "      <td>...</td>\n",
       "      <td>...</td>\n",
       "      <td>...</td>\n",
       "      <td>...</td>\n",
       "      <td>...</td>\n",
       "      <td>...</td>\n",
       "      <td>...</td>\n",
       "      <td>...</td>\n",
       "      <td>...</td>\n",
       "      <td>...</td>\n",
       "    </tr>\n",
       "    <tr>\n",
       "      <th>16158</th>\n",
       "      <td>16277</td>\n",
       "      <td>Homeworld Remastered Collection</td>\n",
       "      <td>PC</td>\n",
       "      <td>NaN</td>\n",
       "      <td>Strategy</td>\n",
       "      <td>0.00</td>\n",
       "      <td>0.01</td>\n",
       "      <td>0.00</td>\n",
       "      <td>0.00</td>\n",
       "      <td>86.0</td>\n",
       "      <td>8.2</td>\n",
       "      <td>E10+</td>\n",
       "      <td>0.01</td>\n",
       "    </tr>\n",
       "    <tr>\n",
       "      <th>16250</th>\n",
       "      <td>16373</td>\n",
       "      <td>PDC World Championship Darts 2008</td>\n",
       "      <td>PSP</td>\n",
       "      <td>NaN</td>\n",
       "      <td>Sports</td>\n",
       "      <td>0.01</td>\n",
       "      <td>0.00</td>\n",
       "      <td>0.00</td>\n",
       "      <td>0.00</td>\n",
       "      <td>43.0</td>\n",
       "      <td>tbd</td>\n",
       "      <td>E10+</td>\n",
       "      <td>0.01</td>\n",
       "    </tr>\n",
       "    <tr>\n",
       "      <th>16282</th>\n",
       "      <td>16405</td>\n",
       "      <td>Freaky Flyers</td>\n",
       "      <td>GC</td>\n",
       "      <td>NaN</td>\n",
       "      <td>Racing</td>\n",
       "      <td>0.01</td>\n",
       "      <td>0.00</td>\n",
       "      <td>0.00</td>\n",
       "      <td>0.00</td>\n",
       "      <td>69.0</td>\n",
       "      <td>6.5</td>\n",
       "      <td>T</td>\n",
       "      <td>0.01</td>\n",
       "    </tr>\n",
       "    <tr>\n",
       "      <th>16325</th>\n",
       "      <td>16448</td>\n",
       "      <td>Inversion</td>\n",
       "      <td>PC</td>\n",
       "      <td>NaN</td>\n",
       "      <td>Shooter</td>\n",
       "      <td>0.01</td>\n",
       "      <td>0.00</td>\n",
       "      <td>0.00</td>\n",
       "      <td>0.00</td>\n",
       "      <td>59.0</td>\n",
       "      <td>6.7</td>\n",
       "      <td>M</td>\n",
       "      <td>0.01</td>\n",
       "    </tr>\n",
       "    <tr>\n",
       "      <th>16398</th>\n",
       "      <td>16522</td>\n",
       "      <td>Virtua Quest</td>\n",
       "      <td>GC</td>\n",
       "      <td>NaN</td>\n",
       "      <td>Role-Playing</td>\n",
       "      <td>0.01</td>\n",
       "      <td>0.00</td>\n",
       "      <td>0.00</td>\n",
       "      <td>0.00</td>\n",
       "      <td>55.0</td>\n",
       "      <td>5.5</td>\n",
       "      <td>T</td>\n",
       "      <td>0.01</td>\n",
       "    </tr>\n",
       "  </tbody>\n",
       "</table>\n",
       "<p>113 rows × 13 columns</p>\n",
       "</div>"
      ],
      "text/plain": [
       "       index                               name platform  year_of_release  \\\n",
       "3400    3413                      Madden NFL 06     X360              NaN   \n",
       "3446    3459            NASCAR: Dirt to Daytona      PS2              NaN   \n",
       "3473    3486                    Madden NFL 2002       XB              NaN   \n",
       "3691    3704              Def Jam: Fight for NY       XB              NaN   \n",
       "3726    3739                  NBA Street Vol. 2       GC              NaN   \n",
       "...      ...                                ...      ...              ...   \n",
       "16158  16277    Homeworld Remastered Collection       PC              NaN   \n",
       "16250  16373  PDC World Championship Darts 2008      PSP              NaN   \n",
       "16282  16405                      Freaky Flyers       GC              NaN   \n",
       "16325  16448                          Inversion       PC              NaN   \n",
       "16398  16522                       Virtua Quest       GC              NaN   \n",
       "\n",
       "              genre  na_sales  eu_sales  jp_sales  other_sales  critic_score  \\\n",
       "3400         Sports      0.54      0.00      0.01         0.03          74.0   \n",
       "3446         Racing      0.28      0.22      0.00         0.07          84.0   \n",
       "3473         Sports      0.53      0.02      0.00         0.03          90.0   \n",
       "3691       Fighting      0.43      0.10      0.00         0.02          84.0   \n",
       "3726         Sports      0.41      0.11      0.00         0.01          88.0   \n",
       "...             ...       ...       ...       ...          ...           ...   \n",
       "16158      Strategy      0.00      0.01      0.00         0.00          86.0   \n",
       "16250        Sports      0.01      0.00      0.00         0.00          43.0   \n",
       "16282        Racing      0.01      0.00      0.00         0.00          69.0   \n",
       "16325       Shooter      0.01      0.00      0.00         0.00          59.0   \n",
       "16398  Role-Playing      0.01      0.00      0.00         0.00          55.0   \n",
       "\n",
       "      user_score rating  sales_sum  \n",
       "3400         4.9      E       0.58  \n",
       "3446         8.8      E       0.57  \n",
       "3473         8.1      E       0.58  \n",
       "3691         8.5      M       0.55  \n",
       "3726         8.1      E       0.53  \n",
       "...          ...    ...        ...  \n",
       "16158        8.2   E10+       0.01  \n",
       "16250        tbd   E10+       0.01  \n",
       "16282        6.5      T       0.01  \n",
       "16325        6.7      M       0.01  \n",
       "16398        5.5      T       0.01  \n",
       "\n",
       "[113 rows x 13 columns]"
      ]
     },
     "execution_count": 16,
     "metadata": {},
     "output_type": "execute_result"
    }
   ],
   "source": [
    "data[(data['year_of_release'].isna()) & (data['sales_sum'] < 0.6)]"
   ]
  },
  {
   "cell_type": "markdown",
   "metadata": {},
   "source": [
    "Удадим все игры с совокупным доходом менее 600 000 долларов и пропущенным годом выпуска.\n",
    "Для оставшихся строк найдём в интернете годы выпуска игры - на основани названия игры и платформы, на которой она вышла"
   ]
  },
  {
   "cell_type": "code",
   "execution_count": 17,
   "metadata": {},
   "outputs": [
    {
     "data": {
      "text/html": [
       "<div>\n",
       "<style scoped>\n",
       "    .dataframe tbody tr th:only-of-type {\n",
       "        vertical-align: middle;\n",
       "    }\n",
       "\n",
       "    .dataframe tbody tr th {\n",
       "        vertical-align: top;\n",
       "    }\n",
       "\n",
       "    .dataframe thead th {\n",
       "        text-align: right;\n",
       "    }\n",
       "</style>\n",
       "<table border=\"1\" class=\"dataframe\">\n",
       "  <thead>\n",
       "    <tr style=\"text-align: right;\">\n",
       "      <th></th>\n",
       "      <th>index</th>\n",
       "      <th>name</th>\n",
       "      <th>platform</th>\n",
       "      <th>year_of_release</th>\n",
       "      <th>genre</th>\n",
       "      <th>na_sales</th>\n",
       "      <th>eu_sales</th>\n",
       "      <th>jp_sales</th>\n",
       "      <th>other_sales</th>\n",
       "      <th>critic_score</th>\n",
       "      <th>user_score</th>\n",
       "      <th>rating</th>\n",
       "      <th>sales_sum</th>\n",
       "    </tr>\n",
       "  </thead>\n",
       "  <tbody>\n",
       "  </tbody>\n",
       "</table>\n",
       "</div>"
      ],
      "text/plain": [
       "Empty DataFrame\n",
       "Columns: [index, name, platform, year_of_release, genre, na_sales, eu_sales, jp_sales, other_sales, critic_score, user_score, rating, sales_sum]\n",
       "Index: []"
      ]
     },
     "execution_count": 17,
     "metadata": {},
     "output_type": "execute_result"
    }
   ],
   "source": [
    "data = data.drop(index = data[(data['year_of_release'].isna()) & (data['sales_sum'] < 0.6)].index, axis=0)\n",
    "data[(data['year_of_release'].isna()) & (data['sales_sum'] < 0.6)]"
   ]
  },
  {
   "cell_type": "code",
   "execution_count": 18,
   "metadata": {},
   "outputs": [
    {
     "name": "stdout",
     "output_type": "stream",
     "text": [
      "['Madden NFL 2004', 'FIFA Soccer 2004', 'LEGO Batman: The Videogame', 'Rock Band', \"Frogger's Adventures: Temple of the Frog\", 'LEGO Indiana Jones: The Original Adventures', 'Call of Duty 3', 'Rock Band', 'Call of Duty: Black Ops', 'Rock Band', 'LEGO Batman: The Videogame', 'LEGO Harry Potter: Years 5-7', 'NASCAR Thunder 2003', 'Hitman 2: Silent Assassin', 'Rock Band', 'Legacy of Kain: Soul Reaver', 'Suikoden III', 'LEGO Harry Potter: Years 5-7', 'Yakuza 4', 'LEGO Harry Potter: Years 5-7', 'Namco Museum', 'The Lord of the Rings: War in the North', 'Madden NFL 07', 'MLB SlugFest 20-03', 'The Lord of the Rings: War in the North', 'Shaun White Snowboarding', 'Madden NFL 11', 'Test Drive Unlimited 2', 'The Chronicles of Narnia: The Lion, The Witch and The Wardrobe', 'LEGO Harry Potter: Years 5-7', 'Metal Gear Solid 2: Substance', 'Test Drive Unlimited 2', 'Advance Wars: Days of Ruin', 'The Golden Compass']\n"
     ]
    }
   ],
   "source": [
    "name_year_missed = data[data['year_of_release'].isna()]['name'].to_list()\n",
    "print(name_year_missed)"
   ]
  },
  {
   "cell_type": "markdown",
   "metadata": {},
   "source": [
    "Сделаю словарь на основе полученного списка игр, игры в списке повторяются, одна и та же игра на разных платформах выходила в один год(проверяла). Заполним оставшиеся пропуски в столбце с годом выпуска"
   ]
  },
  {
   "cell_type": "code",
   "execution_count": 19,
   "metadata": {},
   "outputs": [],
   "source": [
    "name_year = {'Madden NFL 2004' : 2003, 'FIFA Soccer 2004' : 2003, 'LEGO Batman: The Videogame' : 2008, 'Rock Band':  2007, \n",
    "             'Frogger\\'s Adventures: Temple of the Frog': 2001, 'LEGO Indiana Jones: The Original Adventures' : 2008,  \n",
    "            'Call of Duty 3': 2006, 'Call of Duty: Black Ops' : 2010, 'LEGO Harry Potter: Years 5-7' : 2012,\n",
    "            'NASCAR Thunder 2003' : 2003, 'Hitman 2: Silent Assassin' : 2002, 'Legacy of Kain: Soul Reaver': 1999, \n",
    "             'Suikoden III': 2002, 'Yakuza 4': 2010, 'Namco Museum': 2001, 'The Lord of the Rings: War in the North': 2011,\n",
    "             'Madden NFL 07': 2006, 'Shaun White Snowboarding': 2008, 'MLB SlugFest 20-03': 2002, 'Madden NFL 11': 2010,\n",
    "            'Test Drive Unlimited 2': 2011, 'The Chronicles of Narnia: The Lion, The Witch and The Wardrobe': 2005, \n",
    "             'Metal Gear Solid 2: Substance': 2002, 'Advance Wars: Days of Ruin': 2008, 'The Golden Compass': 2007}"
   ]
  },
  {
   "cell_type": "code",
   "execution_count": 20,
   "metadata": {},
   "outputs": [],
   "source": [
    "data['year_of_release'] = data['year_of_release'].fillna(data.name.map(name_year)) \n",
    "# заполнили оставшиеся 34 пропуска в годе игры"
   ]
  },
  {
   "cell_type": "code",
   "execution_count": 21,
   "metadata": {
    "scrolled": false
   },
   "outputs": [
    {
     "data": {
      "text/plain": [
       "index                 0\n",
       "name                  0\n",
       "platform              0\n",
       "year_of_release       0\n",
       "genre                 0\n",
       "na_sales              0\n",
       "eu_sales              0\n",
       "jp_sales              0\n",
       "other_sales           0\n",
       "critic_score       8461\n",
       "user_score         6605\n",
       "rating             6676\n",
       "sales_sum             0\n",
       "dtype: int64"
      ]
     },
     "execution_count": 21,
     "metadata": {},
     "output_type": "execute_result"
    }
   ],
   "source": [
    "data.isna().sum()"
   ]
  },
  {
   "cell_type": "markdown",
   "metadata": {},
   "source": [
    "Пропуски остались только в переменных о рейтинге игры, рассмотрим пропуски подробнее"
   ]
  },
  {
   "cell_type": "code",
   "execution_count": 22,
   "metadata": {},
   "outputs": [
    {
     "data": {
      "text/plain": [
       "6534"
      ]
     },
     "execution_count": 22,
     "metadata": {},
     "output_type": "execute_result"
    }
   ],
   "source": [
    "# количество строк для которых не определен ни один рейтинг\n",
    "len(data[data['critic_score'].isna() & data['user_score'].isna() & data['rating'].isna()])"
   ]
  },
  {
   "cell_type": "markdown",
   "metadata": {},
   "source": [
    "В базе 6534 игры, для которых не определен ни один рейтинг. Далее приведен разброс по годам, жанрам и платформам.      \n",
    "\n",
    "Мы видим, что пропуски рейтинга есть для игр разного периода, для разных платформ и разных жанров. Поэтому считаю, что не стоит удалять эти данные из базы или заменять средним / медианным рейтингом для платформы /года/жанра, поскольку рейтинг каждой игры мало связан с рейтингами других игр, если какие-то другие игры на платформе получили высокий рейтинг, не означает, что эта игра тоже.\n"
   ]
  },
  {
   "cell_type": "code",
   "execution_count": 23,
   "metadata": {},
   "outputs": [
    {
     "data": {
      "image/png": "[encoded data removed]",
      "text/plain": [
       "<Figure size 432x288 with 1 Axes>"
      ]
     },
     "metadata": {
      "needs_background": "light"
     },
     "output_type": "display_data"
    }
   ],
   "source": [
    "data[data['critic_score'].isna() & data['user_score'].isna() & data['rating'].isna()]['year_of_release'].hist()\n",
    "\n",
    "plt.title('Распределение количества игр с пропущенными значениями по всем рейтингам по годам')\n",
    "plt.xlabel('Годы')\n",
    "plt.ylabel('Количество игр')\n",
    "plt.show()"
   ]
  },
  {
   "cell_type": "code",
   "execution_count": 24,
   "metadata": {},
   "outputs": [
    {
     "data": {
      "text/plain": [
       "PS      980\n",
       "DS      848\n",
       "PS2     669\n",
       "PSP     655\n",
       "PS3     356\n",
       "N64     316\n",
       "Wii     304\n",
       "GBA     297\n",
       "3DS     285\n",
       "PSV     278\n",
       "SNES    239\n",
       "X360    195\n",
       "SAT     173\n",
       "PC      142\n",
       "PS4     125\n",
       "2600    116\n",
       "NES      98\n",
       "GB       97\n",
       "XB       85\n",
       "GC       85\n",
       "XOne     53\n",
       "WiiU     42\n",
       "DC       38\n",
       "GEN      27\n",
       "NG       12\n",
       "SCD       6\n",
       "WS        6\n",
       "3DO       3\n",
       "TG16      2\n",
       "PCFX      1\n",
       "GG        1\n",
       "Name: platform, dtype: int64"
      ]
     },
     "execution_count": 24,
     "metadata": {},
     "output_type": "execute_result"
    }
   ],
   "source": [
    "data[data['critic_score'].isna() & data['user_score'].isna() & data['rating'].isna()]['platform'].value_counts()"
   ]
  },
  {
   "cell_type": "code",
   "execution_count": 25,
   "metadata": {
    "scrolled": true
   },
   "outputs": [
    {
     "data": {
      "text/plain": [
       "Action          1131\n",
       "Misc             847\n",
       "Adventure        827\n",
       "Sports           810\n",
       "Role-Playing     708\n",
       "Fighting         403\n",
       "Racing           359\n",
       "Strategy         328\n",
       "Platform         317\n",
       "Shooter          295\n",
       "Simulation       281\n",
       "Puzzle           228\n",
       "Name: genre, dtype: int64"
      ]
     },
     "execution_count": 25,
     "metadata": {},
     "output_type": "execute_result"
    }
   ],
   "source": [
    "data[data['critic_score'].isna() & data['user_score'].isna() & data['rating'].isna()]['genre'].value_counts()"
   ]
  },
  {
   "cell_type": "markdown",
   "metadata": {},
   "source": [
    "Cтолбец `user_score` содержит текстовое значение 'tbd' и функция astype() для перевода в числовой тип данных не сработает. Поскольку tbd означает \"To Be Determined\" - оценка будет определена позже. Смысл данных близок к NAN, поэтому воспользуемся функцией to_numeric, которая преобразует текстовые значения tbd в NaN"
   ]
  },
  {
   "cell_type": "code",
   "execution_count": 26,
   "metadata": {},
   "outputs": [],
   "source": [
    "data['user_score'] = pd.to_numeric(data['user_score'], errors='coerce');"
   ]
  },
  {
   "cell_type": "code",
   "execution_count": 27,
   "metadata": {},
   "outputs": [],
   "source": [
    "data[data['user_score'] == 'tbd']; # нет пропусков"
   ]
  },
  {
   "cell_type": "code",
   "execution_count": 28,
   "metadata": {
    "scrolled": false
   },
   "outputs": [
    {
     "name": "stdout",
     "output_type": "stream",
     "text": [
      "<class 'pandas.core.frame.DataFrame'>\n",
      "Int64Index: 16478 entries, 0 to 16590\n",
      "Data columns (total 13 columns):\n",
      " #   Column           Non-Null Count  Dtype  \n",
      "---  ------           --------------  -----  \n",
      " 0   index            16478 non-null  int64  \n",
      " 1   name             16478 non-null  object \n",
      " 2   platform         16478 non-null  object \n",
      " 3   year_of_release  16478 non-null  float64\n",
      " 4   genre            16478 non-null  object \n",
      " 5   na_sales         16478 non-null  float64\n",
      " 6   eu_sales         16478 non-null  float64\n",
      " 7   jp_sales         16478 non-null  float64\n",
      " 8   other_sales      16478 non-null  float64\n",
      " 9   critic_score     8017 non-null   float64\n",
      " 10  user_score       7494 non-null   float64\n",
      " 11  rating           9802 non-null   object \n",
      " 12  sales_sum        16478 non-null  float64\n",
      "dtypes: float64(8), int64(1), object(4)\n",
      "memory usage: 1.8+ MB\n"
     ]
    }
   ],
   "source": [
    "data.info()"
   ]
  },
  {
   "cell_type": "markdown",
   "metadata": {},
   "source": [
    "# Исследовательский анализ данных"
   ]
  },
  {
   "cell_type": "markdown",
   "metadata": {},
   "source": [
    "__Сколько игр выпускалось за разные годы?__"
   ]
  },
  {
   "cell_type": "code",
   "execution_count": 29,
   "metadata": {
    "scrolled": true
   },
   "outputs": [
    {
     "name": "stdout",
     "output_type": "stream",
     "text": [
      "     year  game_per_year\n",
      "0  1980.0              9\n",
      "1  1981.0             46\n",
      "2  1982.0             36\n",
      "     year  sales_per_year\n",
      "0  1980.0           11.38\n",
      "1  1981.0           35.68\n",
      "2  1982.0           28.88\n"
     ]
    }
   ],
   "source": [
    "game_in_year = data.groupby(by=['year_of_release'])['genre'].count().reset_index()\n",
    "game_in_year_sales = data.groupby(by=['year_of_release'])['sales_sum'].sum().reset_index()\n",
    "\n",
    "game_in_year.columns = ['year', 'game_per_year']\n",
    "game_in_year_sales.columns = ['year', 'sales_per_year']\n",
    "\n",
    "print(game_in_year.head(3))\n",
    "print(game_in_year_sales.head(3))"
   ]
  },
  {
   "cell_type": "code",
   "execution_count": 30,
   "metadata": {},
   "outputs": [
    {
     "data": {
      "image/png": "[encoded data removed]",
      "text/plain": [
       "<Figure size 432x288 with 1 Axes>"
      ]
     },
     "metadata": {
      "needs_background": "light"
     },
     "output_type": "display_data"
    }
   ],
   "source": [
    "game_in_year.plot(x='year', y='game_per_year' )\n",
    "\n",
    "plt.title('Распределение количества выпущенных игр по годам')\n",
    "plt.xlabel('Годы')\n",
    "plt.ylabel('Количество игр')\n",
    "plt.legend()\n",
    "plt.show()"
   ]
  },
  {
   "cell_type": "code",
   "execution_count": 31,
   "metadata": {},
   "outputs": [
    {
     "data": {
      "image/png": "[encoded data removed]",
      "text/plain": [
       "<Figure size 432x288 with 1 Axes>"
      ]
     },
     "metadata": {
      "needs_background": "light"
     },
     "output_type": "display_data"
    }
   ],
   "source": [
    "game_in_year_sales.plot(x='year', y='sales_per_year' )\n",
    "\n",
    "plt.title('Распределение прибыльности игр по годам')\n",
    "plt.xlabel('Годы')\n",
    "plt.ylabel('Млн. доллларов')\n",
    "plt.legend()\n",
    "plt.show()"
   ]
  },
  {
   "cell_type": "markdown",
   "metadata": {},
   "source": [
    "__Комментарий:__\n",
    "    \n",
    "На графиках мы видим, что критически малое значение игр выпускалось до 1995 года, а после 2000 начался резкий рост.   \n",
    "На мой взгляд, можно считать что малое количество игр выпускались до 2000 года.\n",
    "\n",
    "Пик по количеству выпущенных игр и объему продаж наблюдался около 2007 года, далее резкое снижение и количества игр и прибыли от продаж. Некоторое плато в падении было достигнуто около 2012 или 2013 года. Далее падение продолжилось\n",
    "\n",
    "Предлагаю далее анализировать продажи платформ, которые выпускали игры с 2013 года\n"
   ]
  },
  {
   "cell_type": "markdown",
   "metadata": {},
   "source": [
    "**Анализ изменения продаж по платформам**\n",
    "\n",
    "Задачи: \n",
    "1. Выбрать платформы с наибольшими суммарными продажами и построить распределение по годам. \n",
    "2. Определить за какой характерный срок появляются новые и исчезают старые платформы."
   ]
  },
  {
   "cell_type": "code",
   "execution_count": 32,
   "metadata": {},
   "outputs": [
    {
     "data": {
      "text/html": [
       "<div>\n",
       "<style scoped>\n",
       "    .dataframe tbody tr th:only-of-type {\n",
       "        vertical-align: middle;\n",
       "    }\n",
       "\n",
       "    .dataframe tbody tr th {\n",
       "        vertical-align: top;\n",
       "    }\n",
       "\n",
       "    .dataframe thead th {\n",
       "        text-align: right;\n",
       "    }\n",
       "</style>\n",
       "<table border=\"1\" class=\"dataframe\">\n",
       "  <thead>\n",
       "    <tr style=\"text-align: right;\">\n",
       "      <th></th>\n",
       "      <th>platform</th>\n",
       "      <th>sales_sum</th>\n",
       "    </tr>\n",
       "  </thead>\n",
       "  <tbody>\n",
       "    <tr>\n",
       "      <th>16</th>\n",
       "      <td>PS2</td>\n",
       "      <td>1246.46</td>\n",
       "    </tr>\n",
       "    <tr>\n",
       "      <th>28</th>\n",
       "      <td>X360</td>\n",
       "      <td>967.01</td>\n",
       "    </tr>\n",
       "    <tr>\n",
       "      <th>17</th>\n",
       "      <td>PS3</td>\n",
       "      <td>936.28</td>\n",
       "    </tr>\n",
       "    <tr>\n",
       "      <th>26</th>\n",
       "      <td>Wii</td>\n",
       "      <td>903.46</td>\n",
       "    </tr>\n",
       "    <tr>\n",
       "      <th>4</th>\n",
       "      <td>DS</td>\n",
       "      <td>804.04</td>\n",
       "    </tr>\n",
       "    <tr>\n",
       "      <th>15</th>\n",
       "      <td>PS</td>\n",
       "      <td>728.63</td>\n",
       "    </tr>\n",
       "    <tr>\n",
       "      <th>6</th>\n",
       "      <td>GBA</td>\n",
       "      <td>315.95</td>\n",
       "    </tr>\n",
       "    <tr>\n",
       "      <th>18</th>\n",
       "      <td>PS4</td>\n",
       "      <td>314.14</td>\n",
       "    </tr>\n",
       "    <tr>\n",
       "      <th>19</th>\n",
       "      <td>PSP</td>\n",
       "      <td>291.65</td>\n",
       "    </tr>\n",
       "    <tr>\n",
       "      <th>2</th>\n",
       "      <td>3DS</td>\n",
       "      <td>257.81</td>\n",
       "    </tr>\n",
       "    <tr>\n",
       "      <th>13</th>\n",
       "      <td>PC</td>\n",
       "      <td>257.38</td>\n",
       "    </tr>\n",
       "    <tr>\n",
       "      <th>5</th>\n",
       "      <td>GB</td>\n",
       "      <td>254.43</td>\n",
       "    </tr>\n",
       "    <tr>\n",
       "      <th>29</th>\n",
       "      <td>XB</td>\n",
       "      <td>254.31</td>\n",
       "    </tr>\n",
       "    <tr>\n",
       "      <th>11</th>\n",
       "      <td>NES</td>\n",
       "      <td>251.05</td>\n",
       "    </tr>\n",
       "    <tr>\n",
       "      <th>10</th>\n",
       "      <td>N64</td>\n",
       "      <td>218.01</td>\n",
       "    </tr>\n",
       "    <tr>\n",
       "      <th>23</th>\n",
       "      <td>SNES</td>\n",
       "      <td>200.04</td>\n",
       "    </tr>\n",
       "    <tr>\n",
       "      <th>7</th>\n",
       "      <td>GC</td>\n",
       "      <td>196.73</td>\n",
       "    </tr>\n",
       "    <tr>\n",
       "      <th>30</th>\n",
       "      <td>XOne</td>\n",
       "      <td>159.32</td>\n",
       "    </tr>\n",
       "    <tr>\n",
       "      <th>0</th>\n",
       "      <td>2600</td>\n",
       "      <td>86.48</td>\n",
       "    </tr>\n",
       "    <tr>\n",
       "      <th>27</th>\n",
       "      <td>WiiU</td>\n",
       "      <td>82.19</td>\n",
       "    </tr>\n",
       "    <tr>\n",
       "      <th>20</th>\n",
       "      <td>PSV</td>\n",
       "      <td>53.81</td>\n",
       "    </tr>\n",
       "    <tr>\n",
       "      <th>21</th>\n",
       "      <td>SAT</td>\n",
       "      <td>33.59</td>\n",
       "    </tr>\n",
       "    <tr>\n",
       "      <th>8</th>\n",
       "      <td>GEN</td>\n",
       "      <td>28.35</td>\n",
       "    </tr>\n",
       "    <tr>\n",
       "      <th>3</th>\n",
       "      <td>DC</td>\n",
       "      <td>15.95</td>\n",
       "    </tr>\n",
       "    <tr>\n",
       "      <th>22</th>\n",
       "      <td>SCD</td>\n",
       "      <td>1.86</td>\n",
       "    </tr>\n",
       "    <tr>\n",
       "      <th>12</th>\n",
       "      <td>NG</td>\n",
       "      <td>1.44</td>\n",
       "    </tr>\n",
       "    <tr>\n",
       "      <th>25</th>\n",
       "      <td>WS</td>\n",
       "      <td>1.42</td>\n",
       "    </tr>\n",
       "    <tr>\n",
       "      <th>24</th>\n",
       "      <td>TG16</td>\n",
       "      <td>0.16</td>\n",
       "    </tr>\n",
       "    <tr>\n",
       "      <th>1</th>\n",
       "      <td>3DO</td>\n",
       "      <td>0.10</td>\n",
       "    </tr>\n",
       "    <tr>\n",
       "      <th>9</th>\n",
       "      <td>GG</td>\n",
       "      <td>0.04</td>\n",
       "    </tr>\n",
       "    <tr>\n",
       "      <th>14</th>\n",
       "      <td>PCFX</td>\n",
       "      <td>0.03</td>\n",
       "    </tr>\n",
       "  </tbody>\n",
       "</table>\n",
       "</div>"
      ],
      "text/plain": [
       "   platform  sales_sum\n",
       "16      PS2    1246.46\n",
       "28     X360     967.01\n",
       "17      PS3     936.28\n",
       "26      Wii     903.46\n",
       "4        DS     804.04\n",
       "15       PS     728.63\n",
       "6       GBA     315.95\n",
       "18      PS4     314.14\n",
       "19      PSP     291.65\n",
       "2       3DS     257.81\n",
       "13       PC     257.38\n",
       "5        GB     254.43\n",
       "29       XB     254.31\n",
       "11      NES     251.05\n",
       "10      N64     218.01\n",
       "23     SNES     200.04\n",
       "7        GC     196.73\n",
       "30     XOne     159.32\n",
       "0      2600      86.48\n",
       "27     WiiU      82.19\n",
       "20      PSV      53.81\n",
       "21      SAT      33.59\n",
       "8       GEN      28.35\n",
       "3        DC      15.95\n",
       "22      SCD       1.86\n",
       "12       NG       1.44\n",
       "25       WS       1.42\n",
       "24     TG16       0.16\n",
       "1       3DO       0.10\n",
       "9        GG       0.04\n",
       "14     PCFX       0.03"
      ]
     },
     "execution_count": 32,
     "metadata": {},
     "output_type": "execute_result"
    }
   ],
   "source": [
    "platform_sales_total = data.groupby(by=['platform'])['sales_sum'].sum().reset_index().sort_values(by='sales_sum', ascending=False)\n",
    "platform_sales_total"
   ]
  },
  {
   "cell_type": "code",
   "execution_count": 33,
   "metadata": {},
   "outputs": [
    {
     "data": {
      "text/plain": [
       "array(['PS2', 'X360', 'PS3', 'Wii', 'DS', 'PS', 'GBA', 'PS4'],\n",
       "      dtype=object)"
      ]
     },
     "execution_count": 33,
     "metadata": {},
     "output_type": "execute_result"
    }
   ],
   "source": [
    "platform_sales_total_more_300 = platform_sales_total.query('sales_sum > 300')\n",
    "platform_sales_total_more_300 = platform_sales_total_more_300['platform'].unique()\n",
    "platform_sales_total_more_300\n",
    "# для определения периода популярности выберем платформы с наибольшим суммарным доходом"
   ]
  },
  {
   "cell_type": "code",
   "execution_count": 34,
   "metadata": {},
   "outputs": [
    {
     "data": {
      "text/html": [
       "<div>\n",
       "<style scoped>\n",
       "    .dataframe tbody tr th:only-of-type {\n",
       "        vertical-align: middle;\n",
       "    }\n",
       "\n",
       "    .dataframe tbody tr th {\n",
       "        vertical-align: top;\n",
       "    }\n",
       "\n",
       "    .dataframe thead th {\n",
       "        text-align: right;\n",
       "    }\n",
       "</style>\n",
       "<table border=\"1\" class=\"dataframe\">\n",
       "  <thead>\n",
       "    <tr style=\"text-align: right;\">\n",
       "      <th></th>\n",
       "      <th>index</th>\n",
       "      <th>name</th>\n",
       "      <th>platform</th>\n",
       "      <th>year_of_release</th>\n",
       "      <th>genre</th>\n",
       "      <th>na_sales</th>\n",
       "      <th>eu_sales</th>\n",
       "      <th>jp_sales</th>\n",
       "      <th>other_sales</th>\n",
       "      <th>critic_score</th>\n",
       "      <th>user_score</th>\n",
       "      <th>rating</th>\n",
       "      <th>sales_sum</th>\n",
       "    </tr>\n",
       "  </thead>\n",
       "  <tbody>\n",
       "    <tr>\n",
       "      <th>0</th>\n",
       "      <td>0</td>\n",
       "      <td>Wii Sports</td>\n",
       "      <td>Wii</td>\n",
       "      <td>2006.0</td>\n",
       "      <td>Sports</td>\n",
       "      <td>41.36</td>\n",
       "      <td>28.96</td>\n",
       "      <td>3.77</td>\n",
       "      <td>8.45</td>\n",
       "      <td>76.0</td>\n",
       "      <td>8.0</td>\n",
       "      <td>E</td>\n",
       "      <td>82.54</td>\n",
       "    </tr>\n",
       "    <tr>\n",
       "      <th>2</th>\n",
       "      <td>2</td>\n",
       "      <td>Mario Kart Wii</td>\n",
       "      <td>Wii</td>\n",
       "      <td>2008.0</td>\n",
       "      <td>Racing</td>\n",
       "      <td>15.68</td>\n",
       "      <td>12.76</td>\n",
       "      <td>3.79</td>\n",
       "      <td>3.29</td>\n",
       "      <td>82.0</td>\n",
       "      <td>8.3</td>\n",
       "      <td>E</td>\n",
       "      <td>35.52</td>\n",
       "    </tr>\n",
       "  </tbody>\n",
       "</table>\n",
       "</div>"
      ],
      "text/plain": [
       "   index            name platform  year_of_release   genre  na_sales  \\\n",
       "0      0      Wii Sports      Wii           2006.0  Sports     41.36   \n",
       "2      2  Mario Kart Wii      Wii           2008.0  Racing     15.68   \n",
       "\n",
       "   eu_sales  jp_sales  other_sales  critic_score  user_score rating  sales_sum  \n",
       "0     28.96      3.77         8.45          76.0         8.0      E      82.54  \n",
       "2     12.76      3.79         3.29          82.0         8.3      E      35.52  "
      ]
     },
     "execution_count": 34,
     "metadata": {},
     "output_type": "execute_result"
    }
   ],
   "source": [
    "data_platform_sales_total_more_300= data.query('platform in @platform_sales_total_more_300')\n",
    "data_platform_sales_total_more_300.head(2)"
   ]
  },
  {
   "cell_type": "code",
   "execution_count": 35,
   "metadata": {},
   "outputs": [
    {
     "data": {
      "image/png": "[encoded data removed]",
      "text/plain": [
       "<Figure size 1440x864 with 1 Axes>"
      ]
     },
     "metadata": {
      "needs_background": "light"
     },
     "output_type": "display_data"
    }
   ],
   "source": [
    "data_platform_sales_total_more_300.pivot_table(index='year_of_release', columns ='platform' ,values='sales_sum', aggfunc='sum'\n",
    "                                      ).plot(figsize = (20, 12), colormap='nipy_spectral');\n",
    "\n",
    "plt.title('Кол-во игр на платформах с совокупным доходом за весь период более 300 млн.долларов')\n",
    "plt.xlabel('Годы')\n",
    "plt.ylabel('Количество игр')\n",
    "plt.legend()\n",
    "plt.show()"
   ]
  },
  {
   "cell_type": "markdown",
   "metadata": {},
   "source": [
    "Мы видим, что платформы с наибольшими доходами существуют в промежутке до 7 до 10 лет. Важно отметить, что в список платформ с суммарными доходом больше 300 млн.долларов попала только одна платформа с доходами больше 50 млн. долларов в 2013-2016 годах.\n",
    "\n",
    "Вероятно, что новые платформы, которые появились относительно недавно могли ещё не собрать достаточно прибыли для того, чтобы отобразиться в текущем рейтинге.\n",
    "\n",
    "Рассмотрим платформы, у которых есть продажи игр в периоде после 2013 года. Поскольку на предыдущем графике в 2013 году наблюдалась точка изменения тренда"
   ]
  },
  {
   "cell_type": "markdown",
   "metadata": {},
   "source": [
    "Выберем все платформы, на которых игры выходили после 2013 года. Сначала соберем сводную таблицу по доходности каждой платформы по каждому году, в котором на ней выходили игры. Далее выберем платформы, на которых игры выходили в 2013 году и позже"
   ]
  },
  {
   "cell_type": "code",
   "execution_count": 36,
   "metadata": {},
   "outputs": [
    {
     "data": {
      "text/plain": [
       "array(['PS4', '3DS', 'XOne', 'WiiU', 'PS3', 'X360', 'PC', 'Wii', 'PSV',\n",
       "       'PSP'], dtype=object)"
      ]
     },
     "execution_count": 36,
     "metadata": {},
     "output_type": "execute_result"
    }
   ],
   "source": [
    "# все платформы, на которых выходили игры в после 2013 года\n",
    "platform_year_data = data.pivot_table(index=['year_of_release', 'platform'], values='sales_sum', aggfunc='sum').reset_index().sort_values(\n",
    "    by=['year_of_release', 'platform'])\n",
    "\n",
    "platform_after_2013 = data.query('year_of_release > 2013')['platform'].unique()\n",
    "platform_after_2013\n"
   ]
  },
  {
   "cell_type": "markdown",
   "metadata": {},
   "source": [
    "Выберем из всего объёма данных те платформы, которые есть в списке `platform_after_2013`.   \n",
    "Далее отберем данные за 2015 год и отсортируем по объёму продаж в 2015 году для построения графиков. Обновим список платформ в соответствии с уровнем продаж в 2015 году - в начале платформы с наибольшим объёмом продаж в 2015 году.\n",
    "\n",
    "2015 год выбран как последний год, по которым в данных есть полные данные"
   ]
  },
  {
   "cell_type": "code",
   "execution_count": 37,
   "metadata": {},
   "outputs": [
    {
     "data": {
      "text/plain": [
       "['PS4', 'XOne', '3DS', 'PS3', 'WiiU', 'X360', 'PC', 'PSV', 'Wii', 'PSP']"
      ]
     },
     "execution_count": 37,
     "metadata": {},
     "output_type": "execute_result"
    }
   ],
   "source": [
    "platform_exists_after_2013 = data.query('platform in @platform_after_2013')\n",
    "platform_after_2013_sorted = platform_exists_after_2013.query('year_of_release == 2015').groupby(by='platform')['sales_sum'].sum().sort_values(ascending=False).reset_index()['platform']\n",
    "platform_after_2013_sorted = platform_after_2013_sorted.to_list()\n",
    "platform_after_2013_sorted"
   ]
  },
  {
   "cell_type": "markdown",
   "metadata": {},
   "source": [
    "Построим общий график по платформам, которые выпускали игры после 2013 года.\n",
    "\n",
    "На всех платформах продолжается падение доходов от продаж.    \n",
    "\n",
    "Наибольшие доходы в период 2013 - 2016 наблюдаются для платформ:\n",
    "- PS4\n",
    "- XOne\n",
    "- 3DS\n",
    "\n",
    "Резкое падение наблюдается для платформы `PS3`с 2015 на 2016 год. Возможно, сказывается не полнота данных за 2016 год.\n",
    "Посмотрим на графике динамику объёма продаж на платформах более подробно.\n",
    "\n",
    "На основании анализа графиков возникает вопрос о платформе PC. Поскольку в 2015 году доход не нулевой.   "
   ]
  },
  {
   "cell_type": "code",
   "execution_count": 38,
   "metadata": {},
   "outputs": [
    {
     "data": {
      "image/png": "[encoded data removed]",
      "text/plain": [
       "<Figure size 1440x864 with 1 Axes>"
      ]
     },
     "metadata": {
      "needs_background": "light"
     },
     "output_type": "display_data"
    }
   ],
   "source": [
    "platform_exists_after_2013.pivot_table(index='year_of_release', columns ='platform' ,values='sales_sum', aggfunc='sum'\n",
    "                                      ).plot(figsize = (20, 12), colormap='nipy_spectral');\n",
    "\n",
    "plt.title('Кол-во игр на платформах существовавших после 2013 года')\n",
    "plt.xlabel('Годы')\n",
    "plt.ylabel('Количество игр')\n",
    "plt.legend()\n",
    "plt.show()"
   ]
  },
  {
   "cell_type": "markdown",
   "metadata": {},
   "source": [
    "__Платформы для дальнейшего анализа за период 2013 - 2016:__\n",
    "\n",
    "- PS4\n",
    "- XOne\n",
    "- 3DS\n",
    "- PS3 (на осовании данных 2015 года)\n",
    "\n",
    "По этим платформам наблюдается падение дохода от продаж при сравнении год к году"
   ]
  },
  {
   "cell_type": "code",
   "execution_count": 39,
   "metadata": {},
   "outputs": [
    {
     "data": {
      "text/plain": [
       "PS4     392\n",
       "PS3     345\n",
       "3DS     303\n",
       "XOne    247\n",
       "Name: platform, dtype: int64"
      ]
     },
     "execution_count": 39,
     "metadata": {},
     "output_type": "execute_result"
    }
   ],
   "source": [
    "platform_short_list = ['PS4', 'XOne', '3DS', 'PS3']\n",
    "data_short = data.query('platform in @platform_short_list & year_of_release >=2013')\n",
    "data_short['platform'].value_counts() # сохранили данные для анализа в отдельную переменную\n",
    "# Количество игр на платформах за 2013-2016 годы"
   ]
  },
  {
   "cell_type": "code",
   "execution_count": 40,
   "metadata": {},
   "outputs": [
    {
     "data": {
      "text/html": [
       "<div>\n",
       "<style scoped>\n",
       "    .dataframe tbody tr th:only-of-type {\n",
       "        vertical-align: middle;\n",
       "    }\n",
       "\n",
       "    .dataframe tbody tr th {\n",
       "        vertical-align: top;\n",
       "    }\n",
       "\n",
       "    .dataframe thead th {\n",
       "        text-align: right;\n",
       "    }\n",
       "</style>\n",
       "<table border=\"1\" class=\"dataframe\">\n",
       "  <thead>\n",
       "    <tr style=\"text-align: right;\">\n",
       "      <th></th>\n",
       "      <th>index</th>\n",
       "      <th>name</th>\n",
       "      <th>platform</th>\n",
       "      <th>year_of_release</th>\n",
       "      <th>genre</th>\n",
       "      <th>na_sales</th>\n",
       "      <th>eu_sales</th>\n",
       "      <th>jp_sales</th>\n",
       "      <th>other_sales</th>\n",
       "      <th>critic_score</th>\n",
       "      <th>user_score</th>\n",
       "      <th>rating</th>\n",
       "      <th>sales_sum</th>\n",
       "    </tr>\n",
       "  </thead>\n",
       "  <tbody>\n",
       "    <tr>\n",
       "      <th>0</th>\n",
       "      <td>0</td>\n",
       "      <td>Wii Sports</td>\n",
       "      <td>Wii</td>\n",
       "      <td>2006.0</td>\n",
       "      <td>Sports</td>\n",
       "      <td>41.36</td>\n",
       "      <td>28.96</td>\n",
       "      <td>3.77</td>\n",
       "      <td>8.45</td>\n",
       "      <td>76.0</td>\n",
       "      <td>8.0</td>\n",
       "      <td>E</td>\n",
       "      <td>82.54</td>\n",
       "    </tr>\n",
       "    <tr>\n",
       "      <th>1</th>\n",
       "      <td>1</td>\n",
       "      <td>Super Mario Bros.</td>\n",
       "      <td>NES</td>\n",
       "      <td>1985.0</td>\n",
       "      <td>Platform</td>\n",
       "      <td>29.08</td>\n",
       "      <td>3.58</td>\n",
       "      <td>6.81</td>\n",
       "      <td>0.77</td>\n",
       "      <td>NaN</td>\n",
       "      <td>NaN</td>\n",
       "      <td>NaN</td>\n",
       "      <td>40.24</td>\n",
       "    </tr>\n",
       "    <tr>\n",
       "      <th>2</th>\n",
       "      <td>2</td>\n",
       "      <td>Mario Kart Wii</td>\n",
       "      <td>Wii</td>\n",
       "      <td>2008.0</td>\n",
       "      <td>Racing</td>\n",
       "      <td>15.68</td>\n",
       "      <td>12.76</td>\n",
       "      <td>3.79</td>\n",
       "      <td>3.29</td>\n",
       "      <td>82.0</td>\n",
       "      <td>8.3</td>\n",
       "      <td>E</td>\n",
       "      <td>35.52</td>\n",
       "    </tr>\n",
       "    <tr>\n",
       "      <th>3</th>\n",
       "      <td>3</td>\n",
       "      <td>Wii Sports Resort</td>\n",
       "      <td>Wii</td>\n",
       "      <td>2009.0</td>\n",
       "      <td>Sports</td>\n",
       "      <td>15.61</td>\n",
       "      <td>10.93</td>\n",
       "      <td>3.28</td>\n",
       "      <td>2.95</td>\n",
       "      <td>80.0</td>\n",
       "      <td>8.0</td>\n",
       "      <td>E</td>\n",
       "      <td>32.77</td>\n",
       "    </tr>\n",
       "    <tr>\n",
       "      <th>4</th>\n",
       "      <td>4</td>\n",
       "      <td>Pokemon Red/Pokemon Blue</td>\n",
       "      <td>GB</td>\n",
       "      <td>1996.0</td>\n",
       "      <td>Role-Playing</td>\n",
       "      <td>11.27</td>\n",
       "      <td>8.89</td>\n",
       "      <td>10.22</td>\n",
       "      <td>1.00</td>\n",
       "      <td>NaN</td>\n",
       "      <td>NaN</td>\n",
       "      <td>NaN</td>\n",
       "      <td>31.38</td>\n",
       "    </tr>\n",
       "    <tr>\n",
       "      <th>...</th>\n",
       "      <td>...</td>\n",
       "      <td>...</td>\n",
       "      <td>...</td>\n",
       "      <td>...</td>\n",
       "      <td>...</td>\n",
       "      <td>...</td>\n",
       "      <td>...</td>\n",
       "      <td>...</td>\n",
       "      <td>...</td>\n",
       "      <td>...</td>\n",
       "      <td>...</td>\n",
       "      <td>...</td>\n",
       "      <td>...</td>\n",
       "    </tr>\n",
       "    <tr>\n",
       "      <th>16586</th>\n",
       "      <td>16710</td>\n",
       "      <td>Samurai Warriors: Sanada Maru</td>\n",
       "      <td>PS3</td>\n",
       "      <td>2016.0</td>\n",
       "      <td>Action</td>\n",
       "      <td>0.00</td>\n",
       "      <td>0.00</td>\n",
       "      <td>0.01</td>\n",
       "      <td>0.00</td>\n",
       "      <td>NaN</td>\n",
       "      <td>NaN</td>\n",
       "      <td>NaN</td>\n",
       "      <td>0.01</td>\n",
       "    </tr>\n",
       "    <tr>\n",
       "      <th>16587</th>\n",
       "      <td>16711</td>\n",
       "      <td>LMA Manager 2007</td>\n",
       "      <td>X360</td>\n",
       "      <td>2006.0</td>\n",
       "      <td>Sports</td>\n",
       "      <td>0.00</td>\n",
       "      <td>0.01</td>\n",
       "      <td>0.00</td>\n",
       "      <td>0.00</td>\n",
       "      <td>NaN</td>\n",
       "      <td>NaN</td>\n",
       "      <td>NaN</td>\n",
       "      <td>0.01</td>\n",
       "    </tr>\n",
       "    <tr>\n",
       "      <th>16588</th>\n",
       "      <td>16712</td>\n",
       "      <td>Haitaka no Psychedelica</td>\n",
       "      <td>PSV</td>\n",
       "      <td>2016.0</td>\n",
       "      <td>Adventure</td>\n",
       "      <td>0.00</td>\n",
       "      <td>0.00</td>\n",
       "      <td>0.01</td>\n",
       "      <td>0.00</td>\n",
       "      <td>NaN</td>\n",
       "      <td>NaN</td>\n",
       "      <td>NaN</td>\n",
       "      <td>0.01</td>\n",
       "    </tr>\n",
       "    <tr>\n",
       "      <th>16589</th>\n",
       "      <td>16713</td>\n",
       "      <td>Spirits &amp; Spells</td>\n",
       "      <td>GBA</td>\n",
       "      <td>2003.0</td>\n",
       "      <td>Platform</td>\n",
       "      <td>0.01</td>\n",
       "      <td>0.00</td>\n",
       "      <td>0.00</td>\n",
       "      <td>0.00</td>\n",
       "      <td>NaN</td>\n",
       "      <td>NaN</td>\n",
       "      <td>NaN</td>\n",
       "      <td>0.01</td>\n",
       "    </tr>\n",
       "    <tr>\n",
       "      <th>16590</th>\n",
       "      <td>16714</td>\n",
       "      <td>Winning Post 8 2016</td>\n",
       "      <td>PSV</td>\n",
       "      <td>2016.0</td>\n",
       "      <td>Simulation</td>\n",
       "      <td>0.00</td>\n",
       "      <td>0.00</td>\n",
       "      <td>0.01</td>\n",
       "      <td>0.00</td>\n",
       "      <td>NaN</td>\n",
       "      <td>NaN</td>\n",
       "      <td>NaN</td>\n",
       "      <td>0.01</td>\n",
       "    </tr>\n",
       "  </tbody>\n",
       "</table>\n",
       "<p>16478 rows × 13 columns</p>\n",
       "</div>"
      ],
      "text/plain": [
       "       index                           name platform  year_of_release  \\\n",
       "0          0                     Wii Sports      Wii           2006.0   \n",
       "1          1              Super Mario Bros.      NES           1985.0   \n",
       "2          2                 Mario Kart Wii      Wii           2008.0   \n",
       "3          3              Wii Sports Resort      Wii           2009.0   \n",
       "4          4       Pokemon Red/Pokemon Blue       GB           1996.0   \n",
       "...      ...                            ...      ...              ...   \n",
       "16586  16710  Samurai Warriors: Sanada Maru      PS3           2016.0   \n",
       "16587  16711               LMA Manager 2007     X360           2006.0   \n",
       "16588  16712        Haitaka no Psychedelica      PSV           2016.0   \n",
       "16589  16713               Spirits & Spells      GBA           2003.0   \n",
       "16590  16714            Winning Post 8 2016      PSV           2016.0   \n",
       "\n",
       "              genre  na_sales  eu_sales  jp_sales  other_sales  critic_score  \\\n",
       "0            Sports     41.36     28.96      3.77         8.45          76.0   \n",
       "1          Platform     29.08      3.58      6.81         0.77           NaN   \n",
       "2            Racing     15.68     12.76      3.79         3.29          82.0   \n",
       "3            Sports     15.61     10.93      3.28         2.95          80.0   \n",
       "4      Role-Playing     11.27      8.89     10.22         1.00           NaN   \n",
       "...             ...       ...       ...       ...          ...           ...   \n",
       "16586        Action      0.00      0.00      0.01         0.00           NaN   \n",
       "16587        Sports      0.00      0.01      0.00         0.00           NaN   \n",
       "16588     Adventure      0.00      0.00      0.01         0.00           NaN   \n",
       "16589      Platform      0.01      0.00      0.00         0.00           NaN   \n",
       "16590    Simulation      0.00      0.00      0.01         0.00           NaN   \n",
       "\n",
       "       user_score rating  sales_sum  \n",
       "0             8.0      E      82.54  \n",
       "1             NaN    NaN      40.24  \n",
       "2             8.3      E      35.52  \n",
       "3             8.0      E      32.77  \n",
       "4             NaN    NaN      31.38  \n",
       "...           ...    ...        ...  \n",
       "16586         NaN    NaN       0.01  \n",
       "16587         NaN    NaN       0.01  \n",
       "16588         NaN    NaN       0.01  \n",
       "16589         NaN    NaN       0.01  \n",
       "16590         NaN    NaN       0.01  \n",
       "\n",
       "[16478 rows x 13 columns]"
      ]
     },
     "execution_count": 40,
     "metadata": {},
     "output_type": "execute_result"
    }
   ],
   "source": [
    "data"
   ]
  },
  {
   "cell_type": "code",
   "execution_count": 41,
   "metadata": {},
   "outputs": [],
   "source": [
    "#удаляем колонки индексов, полученые ранее\n",
    "data = data.drop(columns = ['index'], axis = 1)\n",
    "data_short = data_short.drop(columns = ['index'], axis = 1)"
   ]
  },
  {
   "cell_type": "code",
   "execution_count": 42,
   "metadata": {},
   "outputs": [
    {
     "data": {
      "text/plain": [
       "count    345.000000\n",
       "mean       0.525884\n",
       "std        1.451939\n",
       "min        0.010000\n",
       "25%        0.040000\n",
       "50%        0.150000\n",
       "75%        0.510000\n",
       "max       21.050000\n",
       "Name: sales_sum, dtype: float64"
      ]
     },
     "execution_count": 42,
     "metadata": {},
     "output_type": "execute_result"
    }
   ],
   "source": [
    "data_short[data_short['platform'] == 'PS3']['sales_sum'].describe()"
   ]
  },
  {
   "cell_type": "code",
   "execution_count": 43,
   "metadata": {},
   "outputs": [
    {
     "data": {
      "text/plain": [
       "count    303.000000\n",
       "mean       0.472772\n",
       "std        1.381347\n",
       "min        0.010000\n",
       "25%        0.040000\n",
       "50%        0.090000\n",
       "75%        0.280000\n",
       "max       14.600000\n",
       "Name: sales_sum, dtype: float64"
      ]
     },
     "execution_count": 43,
     "metadata": {},
     "output_type": "execute_result"
    }
   ],
   "source": [
    "data_short[data_short['platform'] == '3DS']['sales_sum'].describe()"
   ]
  },
  {
   "cell_type": "code",
   "execution_count": 44,
   "metadata": {
    "scrolled": true
   },
   "outputs": [
    {
     "data": {
      "text/plain": [
       "count    392.000000\n",
       "mean       0.801378\n",
       "std        1.609456\n",
       "min        0.010000\n",
       "25%        0.060000\n",
       "50%        0.200000\n",
       "75%        0.730000\n",
       "max       14.630000\n",
       "Name: sales_sum, dtype: float64"
      ]
     },
     "execution_count": 44,
     "metadata": {},
     "output_type": "execute_result"
    }
   ],
   "source": [
    "data_short[data_short['platform'] == 'PS4']['sales_sum'].describe()"
   ]
  },
  {
   "cell_type": "code",
   "execution_count": 45,
   "metadata": {},
   "outputs": [
    {
     "data": {
      "text/plain": [
       "count    247.000000\n",
       "mean       0.645020\n",
       "std        1.036139\n",
       "min        0.010000\n",
       "25%        0.060000\n",
       "50%        0.220000\n",
       "75%        0.685000\n",
       "max        7.390000\n",
       "Name: sales_sum, dtype: float64"
      ]
     },
     "execution_count": 45,
     "metadata": {},
     "output_type": "execute_result"
    }
   ],
   "source": [
    "data_short[data_short['platform'] == 'XOne']['sales_sum'].describe()"
   ]
  },
  {
   "cell_type": "code",
   "execution_count": 46,
   "metadata": {},
   "outputs": [
    {
     "name": "stdout",
     "output_type": "stream",
     "text": [
      "critic_score 674\n",
      "user_score 582\n",
      "rating 542\n",
      "1287\n"
     ]
    }
   ],
   "source": [
    "for col in ['critic_score', 'user_score', 'rating']:\n",
    "    print(col, data_short[col].isna().sum())\n",
    "print(len(data_short))"
   ]
  },
  {
   "cell_type": "markdown",
   "metadata": {},
   "source": [
    "Создадим датасет за период 2013-2014 год без пропусков с рейтингами data_short_without_na"
   ]
  },
  {
   "cell_type": "code",
   "execution_count": 47,
   "metadata": {},
   "outputs": [],
   "source": [
    "data_short_without_na = data_short.dropna(axis=0) # удалим все строки с NaN"
   ]
  },
  {
   "cell_type": "code",
   "execution_count": 48,
   "metadata": {
    "scrolled": false
   },
   "outputs": [
    {
     "name": "stdout",
     "output_type": "stream",
     "text": [
      "critic_score 0\n",
      "user_score 0\n",
      "rating 0\n",
      "1287\n"
     ]
    }
   ],
   "source": [
    "for col in ['critic_score', 'user_score', 'rating']:\n",
    "    print(col, data_short_without_na[col].isna().sum())\n",
    "print(len(data_short))\n",
    "# в столбцах 'critic_score', 'user_score', 'rating' - пропущенные данные отсутствуют\n"
   ]
  },
  {
   "cell_type": "code",
   "execution_count": 49,
   "metadata": {},
   "outputs": [
    {
     "name": "stdout",
     "output_type": "stream",
     "text": [
      "<class 'pandas.core.frame.DataFrame'>\n",
      "Int64Index: 583 entries, 16 to 16506\n",
      "Data columns (total 12 columns):\n",
      " #   Column           Non-Null Count  Dtype  \n",
      "---  ------           --------------  -----  \n",
      " 0   name             583 non-null    object \n",
      " 1   platform         583 non-null    object \n",
      " 2   year_of_release  583 non-null    float64\n",
      " 3   genre            583 non-null    object \n",
      " 4   na_sales         583 non-null    float64\n",
      " 5   eu_sales         583 non-null    float64\n",
      " 6   jp_sales         583 non-null    float64\n",
      " 7   other_sales      583 non-null    float64\n",
      " 8   critic_score     583 non-null    float64\n",
      " 9   user_score       583 non-null    float64\n",
      " 10  rating           583 non-null    object \n",
      " 11  sales_sum        583 non-null    float64\n",
      "dtypes: float64(8), object(4)\n",
      "memory usage: 59.2+ KB\n"
     ]
    }
   ],
   "source": [
    "data_short_without_na.info() # После удаления строк с NaN  осталось  игры"
   ]
  },
  {
   "cell_type": "markdown",
   "metadata": {},
   "source": [
    "# Анализ трендов платформ и жанров"
   ]
  },
  {
   "cell_type": "markdown",
   "metadata": {},
   "source": [
    "__Комментарии:__\n",
    "\n",
    "- Наибольшее среднее по продажам наблюдается для платформы PS4\n",
    "- Максимальный доход - для платформы PS3 (наибольший выброс)\n",
    "- Из 1287 строк для каждого рейтинга более 500 пропущенных значений"
   ]
  },
  {
   "cell_type": "markdown",
   "metadata": {},
   "source": [
    "__График \"ящик с усами\" по глобальным продажам игр в разбивке по четырем платформам__"
   ]
  },
  {
   "cell_type": "code",
   "execution_count": 50,
   "metadata": {
    "scrolled": false
   },
   "outputs": [
    {
     "data": {
      "image/png": "[encoded data removed]",
      "text/plain": [
       "<Figure size 720x504 with 1 Axes>"
      ]
     },
     "metadata": {
      "needs_background": "light"
     },
     "output_type": "display_data"
    }
   ],
   "source": [
    "data[data['year_of_release']>=2013].boxplot(column='sales_sum', by='platform', figsize=(10, 7));\n",
    "\n",
    "# Новый график по все платформам, для которых есть данные за 2013 год и далее"
   ]
  },
  {
   "cell_type": "code",
   "execution_count": 51,
   "metadata": {},
   "outputs": [
    {
     "data": {
      "image/png": "[encoded data removed]",
      "text/plain": [
       "<Figure size 720x504 with 1 Axes>"
      ]
     },
     "metadata": {
      "needs_background": "light"
     },
     "output_type": "display_data"
    }
   ],
   "source": [
    "data_short.boxplot(column='sales_sum', by='platform', figsize=(10, 7)).set_ylim(0, 2);\n",
    "# Новый график по четырем платформам, для которых есть данные за 2013 год и далее"
   ]
  },
  {
   "cell_type": "markdown",
   "metadata": {},
   "source": [
    "Медиана продаж по играм на платформе располагается около нуля. При этом на каждой платформе есть выбросы - игры, которые обеспечивают существенно больший доход, чем остальные.\n",
    "\n",
    "Фактически платформы интересны в-первую очередь количеством игр с более высокими доходами - то есть количеством выбросов.\n",
    "\n",
    "Предлагаю далее включить в анализ примеры игр для каждой платформы, которые являются выбросами и существенно превосходят ожидаемые значения"
   ]
  },
  {
   "cell_type": "markdown",
   "metadata": {},
   "source": [
    "### Взаимосвязь рейтингов и продаж для наиболее популярных платформ в период с 2013 по 2016 годы"
   ]
  },
  {
   "cell_type": "markdown",
   "metadata": {},
   "source": [
    "__Как влияют на продажи внутри одной популярной платформы отзывы пользователей и критиков?__\n",
    "\n",
    "Постройте диаграмму рассеяния и посчитайте корреляцию между отзывами и продажами. Сформулируйте выводы."
   ]
  },
  {
   "cell_type": "code",
   "execution_count": 52,
   "metadata": {
    "scrolled": true
   },
   "outputs": [
    {
     "name": "stdout",
     "output_type": "stream",
     "text": [
      "Взаимосвязь рейтингов с продажами для платформы PS4\n",
      "Взаимосвязь рейтинга пользователей и продаж -0.03088781296873357\n",
      "Взаимосвязь рейтинга критиков и продаж 0.40357291073577817\n"
     ]
    }
   ],
   "source": [
    "print('Взаимосвязь рейтингов с продажами для платформы PS4')\n",
    "print('Взаимосвязь рейтинга пользователей и продаж', data_short_without_na.query('platform == \"PS4\"')['sales_sum'].corr(data_short_without_na.query('platform == \"PS4\"')['user_score']))\n",
    "print('Взаимосвязь рейтинга критиков и продаж', data_short_without_na.query('platform == \"PS4\"')['sales_sum'].corr(data_short_without_na.query('platform == \"PS4\"')['critic_score']))"
   ]
  },
  {
   "cell_type": "code",
   "execution_count": 53,
   "metadata": {},
   "outputs": [
    {
     "data": {
      "image/png": "[encoded data removed]",
      "text/plain": [
       "<Figure size 432x288 with 1 Axes>"
      ]
     },
     "metadata": {
      "needs_background": "light"
     },
     "output_type": "display_data"
    },
    {
     "data": {
      "image/png": "[encoded data removed]",
      "text/plain": [
       "<Figure size 432x288 with 1 Axes>"
      ]
     },
     "metadata": {
      "needs_background": "light"
     },
     "output_type": "display_data"
    }
   ],
   "source": [
    "data_short_without_na.query('platform == \"PS4\"').plot.scatter(x='sales_sum', y='user_score')\n",
    "\n",
    "plt.title('PS4: взаимосвязь доходов по платформе и рейтинга пользователей')\n",
    "plt.xlabel('Доход')\n",
    "plt.ylabel('Рейтинг пользователей')\n",
    "plt.show()\n",
    "\n",
    "data_short_without_na.query('platform == \"PS4\"').plot.scatter(x='sales_sum', y='critic_score') \n",
    "\n",
    "plt.title('PS4: взаимосвязь доходов по платформе и рейтинга критиков')\n",
    "plt.xlabel('Доход')\n",
    "plt.ylabel('Рейтинг критиков')\n",
    "plt.show()"
   ]
  },
  {
   "cell_type": "code",
   "execution_count": 54,
   "metadata": {},
   "outputs": [
    {
     "name": "stdout",
     "output_type": "stream",
     "text": [
      "Взаимосвязь рейтингов с продажами для платформы XOne\n",
      "Корреляция рейтинга пользователя и продаж не определена, поскольку рейтинг для 161 игры на платформе XOne равен нулю =  -0.07591595053938044\n",
      "\n",
      "Взаимосвязь рейтинга критиков и продаж 0.409929586886011\n"
     ]
    }
   ],
   "source": [
    "print('Взаимосвязь рейтингов с продажами для платформы XOne')\n",
    "print('Корреляция рейтинга пользователя и продаж не определена, поскольку рейтинг для 161 игры на платформе XOne равен нулю = ', data_short_without_na.query('platform == \"XOne\"')['sales_sum'].corr(data_short_without_na.query('platform == \"XOne\"')['user_score']))\n",
    "print()\n",
    "\n",
    "print('Взаимосвязь рейтинга критиков и продаж', data_short_without_na.query('platform == \"XOne\"')['sales_sum'].corr(data_short_without_na.query('platform == \"XOne\"')['critic_score']))"
   ]
  },
  {
   "cell_type": "code",
   "execution_count": 55,
   "metadata": {},
   "outputs": [
    {
     "data": {
      "image/png": "[encoded data removed]",
      "text/plain": [
       "<Figure size 432x288 with 1 Axes>"
      ]
     },
     "metadata": {
      "needs_background": "light"
     },
     "output_type": "display_data"
    },
    {
     "data": {
      "image/png": "[encoded data removed]",
      "text/plain": [
       "<Figure size 432x288 with 1 Axes>"
      ]
     },
     "metadata": {
      "needs_background": "light"
     },
     "output_type": "display_data"
    }
   ],
   "source": [
    "data_short_without_na.query('platform == \"XOne\"').plot.scatter(x='sales_sum', y='user_score') \n",
    "\n",
    "plt.title('XOne: взаимосвязь доходов по платформе и рейтинга пользователей')\n",
    "plt.xlabel('Доход')\n",
    "plt.ylabel('Рейтинг пользователей')\n",
    "plt.show()\n",
    "\n",
    "data_short_without_na.query('platform == \"XOne\"').plot.scatter(x='sales_sum', y='critic_score') \n",
    "\n",
    "plt.title('XOne: взаимосвязь доходов по платформе и рейтинга критиков')\n",
    "plt.xlabel('Доход')\n",
    "plt.ylabel('Рейтинг критиков')\n",
    "plt.show()"
   ]
  },
  {
   "cell_type": "code",
   "execution_count": 56,
   "metadata": {},
   "outputs": [
    {
     "name": "stdout",
     "output_type": "stream",
     "text": [
      "Взаимосвязь рейтингов с продажами для платформы 3DS\n",
      "Взаимосвязь рейтинга пользователей и продаж 0.2729904366942444\n",
      "Взаимосвязь рейтинга критиков и продаж 0.33923492878531464\n"
     ]
    }
   ],
   "source": [
    "print('Взаимосвязь рейтингов с продажами для платформы 3DS')\n",
    "print('Взаимосвязь рейтинга пользователей и продаж', data_short_without_na.query('platform == \"3DS\"')['sales_sum'].corr(data_short_without_na.query('platform == \"3DS\"')['user_score']))\n",
    "print('Взаимосвязь рейтинга критиков и продаж', data_short_without_na.query('platform == \"3DS\"')['sales_sum'].corr(data_short_without_na.query('platform == \"3DS\"')['critic_score']))"
   ]
  },
  {
   "cell_type": "code",
   "execution_count": 57,
   "metadata": {},
   "outputs": [
    {
     "data": {
      "image/png": "[encoded data removed]",
      "text/plain": [
       "<Figure size 432x288 with 1 Axes>"
      ]
     },
     "metadata": {
      "needs_background": "light"
     },
     "output_type": "display_data"
    },
    {
     "data": {
      "image/png": "[encoded data removed]",
      "text/plain": [
       "<Figure size 432x288 with 1 Axes>"
      ]
     },
     "metadata": {
      "needs_background": "light"
     },
     "output_type": "display_data"
    }
   ],
   "source": [
    "data_short_without_na.query('platform == \"3DS\"').plot.scatter(x='sales_sum', y='user_score') \n",
    "\n",
    "plt.title('3DS: взаимосвязь доходов по платформе и рейтинга пользователей')\n",
    "plt.xlabel('Доход')\n",
    "plt.ylabel('Рейтинг пользователей')\n",
    "plt.show()\n",
    "\n",
    "data_short_without_na.query('platform == \"3DS\"').plot.scatter(x='sales_sum', y='critic_score') \n",
    "\n",
    "plt.title('3DS: взаимосвязь доходов по платформе и рейтинга критиков')\n",
    "plt.xlabel('Доход')\n",
    "plt.ylabel('Рейтинг критиков')\n",
    "plt.show()"
   ]
  },
  {
   "cell_type": "code",
   "execution_count": 58,
   "metadata": {
    "scrolled": true
   },
   "outputs": [
    {
     "name": "stdout",
     "output_type": "stream",
     "text": [
      "Взаимосвязь рейтингов с продажами для платформы PS3\n",
      "Взаимосвязь рейтинга пользователей и продаж 0.02627973401765724\n",
      "Взаимосвязь рейтинга критиков и продаж 0.33415621903127235\n"
     ]
    }
   ],
   "source": [
    "print('Взаимосвязь рейтингов с продажами для платформы PS3')\n",
    "print('Взаимосвязь рейтинга пользователей и продаж', data_short_without_na.query('platform == \"PS3\"')['sales_sum'].corr(data_short_without_na.query('platform == \"PS3\"')['user_score']))\n",
    "print('Взаимосвязь рейтинга критиков и продаж', data_short_without_na.query('platform == \"PS3\"')['sales_sum'].corr(data_short_without_na.query('platform == \"PS3\"')['critic_score']))"
   ]
  },
  {
   "cell_type": "code",
   "execution_count": 59,
   "metadata": {},
   "outputs": [
    {
     "data": {
      "image/png": "[encoded data removed]",
      "text/plain": [
       "<Figure size 432x288 with 1 Axes>"
      ]
     },
     "metadata": {
      "needs_background": "light"
     },
     "output_type": "display_data"
    },
    {
     "data": {
      "image/png": "[encoded data removed]",
      "text/plain": [
       "<Figure size 432x288 with 1 Axes>"
      ]
     },
     "metadata": {
      "needs_background": "light"
     },
     "output_type": "display_data"
    }
   ],
   "source": [
    "data_short_without_na.query('platform == \"PS3\"').plot.scatter(x='sales_sum', y='user_score') \n",
    "\n",
    "plt.title('PS3: взаимосвязь доходов по платформе и рейтинга пользователей')\n",
    "plt.xlabel('Доход')\n",
    "plt.ylabel('Рейтинг пользователей')\n",
    "plt.show()\n",
    "\n",
    "data_short_without_na.query('platform == \"PS3\"').plot.scatter(x='sales_sum', y='critic_score')\n",
    "\n",
    "plt.title('PS3: взаимосвязь доходов по платформе и рейтинга критиков')\n",
    "plt.xlabel('Доход')\n",
    "plt.ylabel('Рейтинг критиков')\n",
    "plt.show()"
   ]
  },
  {
   "cell_type": "markdown",
   "metadata": {},
   "source": [
    "__Выводы:__"
   ]
  },
  {
   "cell_type": "markdown",
   "metadata": {},
   "source": [
    "Рассмотрена взаимосвязь общего дохода и рейтингов пользователей и критиков.\n",
    "По четырем платформам в период с 2013 по 2016 год наблюдается прямая средней силы взаимосвязь с рейтингом критиков и близкая к нулю взаимосвязь с рейтингом пользователей.\n",
    "\n",
    "Таким образом, при определении рекламной кампании важнее опираться на рейтинг критиков. Также важно отметить, что уровень взаимосвязи рейтинга критиков сопоставим на 4 платформах.\n",
    "\n",
    "Также вероятно, что пользователи выбирают игры на основании рейтинга критиков, а оценки пользователей выставляются не системно и уже после покупки и прохождения игры. Оценки пользоваталей могут быть неполными, поскольку не все купленные игры проходятся сразу или до конца, не все готовы выставлять рейтинг.   \n",
    "Выставлять ретинг могут, например, только наименее довольные / недовльные игроки, чтобы подчеркнуть отношение или получать \"правильные\" рекомендации с учётом интересов."
   ]
  },
  {
   "cell_type": "markdown",
   "metadata": {},
   "source": [
    "### Распределение игр по жанрам и доходности игр"
   ]
  },
  {
   "cell_type": "code",
   "execution_count": 60,
   "metadata": {
    "scrolled": false
   },
   "outputs": [
    {
     "data": {
      "text/html": [
       "<div>\n",
       "<style scoped>\n",
       "    .dataframe tbody tr th:only-of-type {\n",
       "        vertical-align: middle;\n",
       "    }\n",
       "\n",
       "    .dataframe tbody tr th {\n",
       "        vertical-align: top;\n",
       "    }\n",
       "\n",
       "    .dataframe thead th {\n",
       "        text-align: right;\n",
       "    }\n",
       "</style>\n",
       "<table border=\"1\" class=\"dataframe\">\n",
       "  <thead>\n",
       "    <tr style=\"text-align: right;\">\n",
       "      <th>genre</th>\n",
       "      <th>Action</th>\n",
       "      <th>Adventure</th>\n",
       "      <th>Fighting</th>\n",
       "      <th>Misc</th>\n",
       "      <th>Platform</th>\n",
       "      <th>Puzzle</th>\n",
       "      <th>Racing</th>\n",
       "      <th>Role-Playing</th>\n",
       "      <th>Shooter</th>\n",
       "      <th>Simulation</th>\n",
       "      <th>Sports</th>\n",
       "      <th>Strategy</th>\n",
       "    </tr>\n",
       "    <tr>\n",
       "      <th>platform</th>\n",
       "      <th></th>\n",
       "      <th></th>\n",
       "      <th></th>\n",
       "      <th></th>\n",
       "      <th></th>\n",
       "      <th></th>\n",
       "      <th></th>\n",
       "      <th></th>\n",
       "      <th></th>\n",
       "      <th></th>\n",
       "      <th></th>\n",
       "      <th></th>\n",
       "    </tr>\n",
       "  </thead>\n",
       "  <tbody>\n",
       "    <tr>\n",
       "      <th>3DS</th>\n",
       "      <td>0.293448</td>\n",
       "      <td>0.123333</td>\n",
       "      <td>1.172857</td>\n",
       "      <td>0.221875</td>\n",
       "      <td>0.586000</td>\n",
       "      <td>0.192222</td>\n",
       "      <td>NaN</td>\n",
       "      <td>1.086613</td>\n",
       "      <td>0.060000</td>\n",
       "      <td>0.635333</td>\n",
       "      <td>0.227500</td>\n",
       "      <td>0.115455</td>\n",
       "    </tr>\n",
       "    <tr>\n",
       "      <th>PS3</th>\n",
       "      <td>0.622105</td>\n",
       "      <td>0.148966</td>\n",
       "      <td>0.252083</td>\n",
       "      <td>0.464444</td>\n",
       "      <td>0.370000</td>\n",
       "      <td>0.040000</td>\n",
       "      <td>0.496923</td>\n",
       "      <td>0.336531</td>\n",
       "      <td>1.025484</td>\n",
       "      <td>0.118333</td>\n",
       "      <td>0.688298</td>\n",
       "      <td>0.152500</td>\n",
       "    </tr>\n",
       "    <tr>\n",
       "      <th>PS4</th>\n",
       "      <td>0.667361</td>\n",
       "      <td>0.226429</td>\n",
       "      <td>0.480556</td>\n",
       "      <td>0.409500</td>\n",
       "      <td>0.640833</td>\n",
       "      <td>0.020000</td>\n",
       "      <td>0.638947</td>\n",
       "      <td>0.568431</td>\n",
       "      <td>2.160000</td>\n",
       "      <td>0.205000</td>\n",
       "      <td>1.208913</td>\n",
       "      <td>0.103333</td>\n",
       "    </tr>\n",
       "    <tr>\n",
       "      <th>XOne</th>\n",
       "      <td>0.438941</td>\n",
       "      <td>0.191429</td>\n",
       "      <td>0.350000</td>\n",
       "      <td>0.391053</td>\n",
       "      <td>0.186000</td>\n",
       "      <td>NaN</td>\n",
       "      <td>0.489500</td>\n",
       "      <td>0.753571</td>\n",
       "      <td>1.587632</td>\n",
       "      <td>0.172500</td>\n",
       "      <td>0.703684</td>\n",
       "      <td>0.140000</td>\n",
       "    </tr>\n",
       "  </tbody>\n",
       "</table>\n",
       "</div>"
      ],
      "text/plain": [
       "genre       Action  Adventure  Fighting      Misc  Platform    Puzzle  \\\n",
       "platform                                                                \n",
       "3DS       0.293448   0.123333  1.172857  0.221875  0.586000  0.192222   \n",
       "PS3       0.622105   0.148966  0.252083  0.464444  0.370000  0.040000   \n",
       "PS4       0.667361   0.226429  0.480556  0.409500  0.640833  0.020000   \n",
       "XOne      0.438941   0.191429  0.350000  0.391053  0.186000       NaN   \n",
       "\n",
       "genre       Racing  Role-Playing   Shooter  Simulation    Sports  Strategy  \n",
       "platform                                                                    \n",
       "3DS            NaN      1.086613  0.060000    0.635333  0.227500  0.115455  \n",
       "PS3       0.496923      0.336531  1.025484    0.118333  0.688298  0.152500  \n",
       "PS4       0.638947      0.568431  2.160000    0.205000  1.208913  0.103333  \n",
       "XOne      0.489500      0.753571  1.587632    0.172500  0.703684  0.140000  "
      ]
     },
     "execution_count": 60,
     "metadata": {},
     "output_type": "execute_result"
    }
   ],
   "source": [
    "data_short.pivot_table(index='platform', columns ='genre', values='sales_sum')"
   ]
  },
  {
   "cell_type": "code",
   "execution_count": 61,
   "metadata": {
    "scrolled": false
   },
   "outputs": [
    {
     "data": {
      "text/html": [
       "<div>\n",
       "<style scoped>\n",
       "    .dataframe tbody tr th:only-of-type {\n",
       "        vertical-align: middle;\n",
       "    }\n",
       "\n",
       "    .dataframe tbody tr th {\n",
       "        vertical-align: top;\n",
       "    }\n",
       "\n",
       "    .dataframe thead th {\n",
       "        text-align: right;\n",
       "    }\n",
       "</style>\n",
       "<table border=\"1\" class=\"dataframe\">\n",
       "  <thead>\n",
       "    <tr style=\"text-align: right;\">\n",
       "      <th></th>\n",
       "      <th>sales_sum</th>\n",
       "    </tr>\n",
       "    <tr>\n",
       "      <th>genre</th>\n",
       "      <th></th>\n",
       "    </tr>\n",
       "  </thead>\n",
       "  <tbody>\n",
       "    <tr>\n",
       "      <th>Shooter</th>\n",
       "      <td>1.628288</td>\n",
       "    </tr>\n",
       "    <tr>\n",
       "      <th>Sports</th>\n",
       "      <td>0.838273</td>\n",
       "    </tr>\n",
       "    <tr>\n",
       "      <th>Role-Playing</th>\n",
       "      <td>0.701136</td>\n",
       "    </tr>\n",
       "    <tr>\n",
       "      <th>Racing</th>\n",
       "      <td>0.545962</td>\n",
       "    </tr>\n",
       "    <tr>\n",
       "      <th>Action</th>\n",
       "      <td>0.519325</td>\n",
       "    </tr>\n",
       "    <tr>\n",
       "      <th>Platform</th>\n",
       "      <td>0.505854</td>\n",
       "    </tr>\n",
       "    <tr>\n",
       "      <th>Fighting</th>\n",
       "      <td>0.452857</td>\n",
       "    </tr>\n",
       "    <tr>\n",
       "      <th>Simulation</th>\n",
       "      <td>0.392258</td>\n",
       "    </tr>\n",
       "    <tr>\n",
       "      <th>Misc</th>\n",
       "      <td>0.349213</td>\n",
       "    </tr>\n",
       "    <tr>\n",
       "      <th>Adventure</th>\n",
       "      <td>0.170102</td>\n",
       "    </tr>\n",
       "    <tr>\n",
       "      <th>Puzzle</th>\n",
       "      <td>0.162727</td>\n",
       "    </tr>\n",
       "    <tr>\n",
       "      <th>Strategy</th>\n",
       "      <td>0.121667</td>\n",
       "    </tr>\n",
       "  </tbody>\n",
       "</table>\n",
       "</div>"
      ],
      "text/plain": [
       "              sales_sum\n",
       "genre                  \n",
       "Shooter        1.628288\n",
       "Sports         0.838273\n",
       "Role-Playing   0.701136\n",
       "Racing         0.545962\n",
       "Action         0.519325\n",
       "Platform       0.505854\n",
       "Fighting       0.452857\n",
       "Simulation     0.392258\n",
       "Misc           0.349213\n",
       "Adventure      0.170102\n",
       "Puzzle         0.162727\n",
       "Strategy       0.121667"
      ]
     },
     "execution_count": 61,
     "metadata": {},
     "output_type": "execute_result"
    }
   ],
   "source": [
    "data_short.pivot_table(index ='genre', values='sales_sum').sort_values(by = 'sales_sum', ascending=False)\n",
    "# средняя доходность по жанрам"
   ]
  },
  {
   "cell_type": "markdown",
   "metadata": {},
   "source": [
    "Жанры с наибольшими продажами:\n",
    " - Shooter\n",
    " - Sports\n",
    " - Role-Playing\n",
    "\n",
    "\n",
    "Наиболее доходные жанры внутри каждой платформы, с учетом распределение доходов по жанру:\n",
    "\n",
    "- **3DS** - `Fighting (1.172857)`, Platform (0.586000), `Role-Playing(1.086613)`\n",
    "- **PS3** - Action (0.622105), Shooter (1.025484), Sports(0.688298), `Strategy (0.152500)`\n",
    "- **PS4** - Action (0.667361), `Platform (0.640833)`, Racing(0.638947), `Shooter(2.160000)`, `Sports (1.208913)`\n",
    "- **XOne** - Role-Playing (0.753571), `Shooter(1.587632)`, Sports (0.703684), Strategy (0.140000)\n",
    "  \n",
    "Серым фоном выделены жанры, которые показывают наибольший доход среди четырех платформ в исследуемый период.\n",
    "\n",
    "\n",
    "Таким образом, при планировании рекламной кампании приоритетно оценивать соответствующие жанры на платформах и следить за рейтингами критиков по играм в этих жанрах. При этом возможна ситуация, когда платформа занимает не лидирующее место по продажам в жанре, но игры данного жанра продаются с более высокой доходностью, чем игры других жанров.\n",
    "\n",
    "\n",
    "Для определения игр, на которые следует сделать ставку в следущем году может быть полезен следующий подход:   \n",
    "\n",
    "- На платформах отслеживаются новинки в жанрах, которые на этой платформе приносят большие продажи\n",
    "- По играм анализируются рейтинги критиков и выбираются наиболее потенциальные\n",
    "- Наибольшее внимание рекомендуется уделить жанрам Shooter, Sports, Role-Playing, Racing, Action, Platform\n"
   ]
  },
  {
   "cell_type": "markdown",
   "metadata": {},
   "source": [
    "# Составлен портрет пользователя каждого региона (NA, EU, JP)"
   ]
  },
  {
   "cell_type": "code",
   "execution_count": 62,
   "metadata": {},
   "outputs": [
    {
     "data": {
      "text/plain": [
       "PS4     392\n",
       "PSV     358\n",
       "PS3     345\n",
       "3DS     303\n",
       "XOne    247\n",
       "PC      189\n",
       "X360    186\n",
       "WiiU    115\n",
       "PSP      67\n",
       "Wii      23\n",
       "DS        8\n",
       "Name: platform, dtype: int64"
      ]
     },
     "execution_count": 62,
     "metadata": {},
     "output_type": "execute_result"
    }
   ],
   "source": [
    "# создадим датасет со всеми платформами по регионам, чтобы определить топ-5 наиболее популярных в каждом\n",
    "data_region = data.query('year_of_release >=2013')\n",
    "data_region['platform'].value_counts()"
   ]
  },
  {
   "cell_type": "markdown",
   "metadata": {},
   "source": [
    "__Наиболее популярная платформа в регионе__"
   ]
  },
  {
   "cell_type": "code",
   "execution_count": 63,
   "metadata": {},
   "outputs": [
    {
     "data": {
      "text/html": [
       "<div>\n",
       "<style scoped>\n",
       "    .dataframe tbody tr th:only-of-type {\n",
       "        vertical-align: middle;\n",
       "    }\n",
       "\n",
       "    .dataframe tbody tr th {\n",
       "        vertical-align: top;\n",
       "    }\n",
       "\n",
       "    .dataframe thead th {\n",
       "        text-align: right;\n",
       "    }\n",
       "</style>\n",
       "<table border=\"1\" class=\"dataframe\">\n",
       "  <thead>\n",
       "    <tr style=\"text-align: right;\">\n",
       "      <th></th>\n",
       "      <th>na_sales</th>\n",
       "    </tr>\n",
       "    <tr>\n",
       "      <th>platform</th>\n",
       "      <th></th>\n",
       "    </tr>\n",
       "  </thead>\n",
       "  <tbody>\n",
       "    <tr>\n",
       "      <th>X360</th>\n",
       "      <td>0.439032</td>\n",
       "    </tr>\n",
       "    <tr>\n",
       "      <th>XOne</th>\n",
       "      <td>0.377004</td>\n",
       "    </tr>\n",
       "    <tr>\n",
       "      <th>Wii</th>\n",
       "      <td>0.285217</td>\n",
       "    </tr>\n",
       "    <tr>\n",
       "      <th>PS4</th>\n",
       "      <td>0.277398</td>\n",
       "    </tr>\n",
       "    <tr>\n",
       "      <th>WiiU</th>\n",
       "      <td>0.254000</td>\n",
       "    </tr>\n",
       "    <tr>\n",
       "      <th>PS3</th>\n",
       "      <td>0.184058</td>\n",
       "    </tr>\n",
       "    <tr>\n",
       "      <th>3DS</th>\n",
       "      <td>0.126073</td>\n",
       "    </tr>\n",
       "    <tr>\n",
       "      <th>DS</th>\n",
       "      <td>0.071250</td>\n",
       "    </tr>\n",
       "    <tr>\n",
       "      <th>PC</th>\n",
       "      <td>0.058783</td>\n",
       "    </tr>\n",
       "    <tr>\n",
       "      <th>PSV</th>\n",
       "      <td>0.014078</td>\n",
       "    </tr>\n",
       "    <tr>\n",
       "      <th>PSP</th>\n",
       "      <td>0.000000</td>\n",
       "    </tr>\n",
       "  </tbody>\n",
       "</table>\n",
       "</div>"
      ],
      "text/plain": [
       "          na_sales\n",
       "platform          \n",
       "X360      0.439032\n",
       "XOne      0.377004\n",
       "Wii       0.285217\n",
       "PS4       0.277398\n",
       "WiiU      0.254000\n",
       "PS3       0.184058\n",
       "3DS       0.126073\n",
       "DS        0.071250\n",
       "PC        0.058783\n",
       "PSV       0.014078\n",
       "PSP       0.000000"
      ]
     },
     "execution_count": 63,
     "metadata": {},
     "output_type": "execute_result"
    }
   ],
   "source": [
    "data_region.pivot_table(index ='platform', values='na_sales').sort_values(by = 'na_sales', ascending=False)"
   ]
  },
  {
   "cell_type": "code",
   "execution_count": 64,
   "metadata": {
    "scrolled": false
   },
   "outputs": [
    {
     "data": {
      "text/html": [
       "<div>\n",
       "<style scoped>\n",
       "    .dataframe tbody tr th:only-of-type {\n",
       "        vertical-align: middle;\n",
       "    }\n",
       "\n",
       "    .dataframe tbody tr th {\n",
       "        vertical-align: top;\n",
       "    }\n",
       "\n",
       "    .dataframe thead th {\n",
       "        text-align: right;\n",
       "    }\n",
       "</style>\n",
       "<table border=\"1\" class=\"dataframe\">\n",
       "  <thead>\n",
       "    <tr style=\"text-align: right;\">\n",
       "      <th></th>\n",
       "      <th>eu_sales</th>\n",
       "    </tr>\n",
       "    <tr>\n",
       "      <th>platform</th>\n",
       "      <th></th>\n",
       "    </tr>\n",
       "  </thead>\n",
       "  <tbody>\n",
       "    <tr>\n",
       "      <th>PS4</th>\n",
       "      <td>0.359923</td>\n",
       "    </tr>\n",
       "    <tr>\n",
       "      <th>Wii</th>\n",
       "      <td>0.257826</td>\n",
       "    </tr>\n",
       "    <tr>\n",
       "      <th>X360</th>\n",
       "      <td>0.228602</td>\n",
       "    </tr>\n",
       "    <tr>\n",
       "      <th>XOne</th>\n",
       "      <td>0.208866</td>\n",
       "    </tr>\n",
       "    <tr>\n",
       "      <th>PS3</th>\n",
       "      <td>0.196551</td>\n",
       "    </tr>\n",
       "    <tr>\n",
       "      <th>WiiU</th>\n",
       "      <td>0.172609</td>\n",
       "    </tr>\n",
       "    <tr>\n",
       "      <th>PC</th>\n",
       "      <td>0.134180</td>\n",
       "    </tr>\n",
       "    <tr>\n",
       "      <th>DS</th>\n",
       "      <td>0.106250</td>\n",
       "    </tr>\n",
       "    <tr>\n",
       "      <th>3DS</th>\n",
       "      <td>0.102178</td>\n",
       "    </tr>\n",
       "    <tr>\n",
       "      <th>PSV</th>\n",
       "      <td>0.017039</td>\n",
       "    </tr>\n",
       "    <tr>\n",
       "      <th>PSP</th>\n",
       "      <td>0.002537</td>\n",
       "    </tr>\n",
       "  </tbody>\n",
       "</table>\n",
       "</div>"
      ],
      "text/plain": [
       "          eu_sales\n",
       "platform          \n",
       "PS4       0.359923\n",
       "Wii       0.257826\n",
       "X360      0.228602\n",
       "XOne      0.208866\n",
       "PS3       0.196551\n",
       "WiiU      0.172609\n",
       "PC        0.134180\n",
       "DS        0.106250\n",
       "3DS       0.102178\n",
       "PSV       0.017039\n",
       "PSP       0.002537"
      ]
     },
     "execution_count": 64,
     "metadata": {},
     "output_type": "execute_result"
    }
   ],
   "source": [
    "data_region.pivot_table(index ='platform', values='eu_sales').sort_values(by = 'eu_sales', ascending=False)"
   ]
  },
  {
   "cell_type": "code",
   "execution_count": 65,
   "metadata": {},
   "outputs": [
    {
     "data": {
      "text/html": [
       "<div>\n",
       "<style scoped>\n",
       "    .dataframe tbody tr th:only-of-type {\n",
       "        vertical-align: middle;\n",
       "    }\n",
       "\n",
       "    .dataframe tbody tr th {\n",
       "        vertical-align: top;\n",
       "    }\n",
       "\n",
       "    .dataframe thead th {\n",
       "        text-align: right;\n",
       "    }\n",
       "</style>\n",
       "<table border=\"1\" class=\"dataframe\">\n",
       "  <thead>\n",
       "    <tr style=\"text-align: right;\">\n",
       "      <th></th>\n",
       "      <th>jp_sales</th>\n",
       "    </tr>\n",
       "    <tr>\n",
       "      <th>platform</th>\n",
       "      <th></th>\n",
       "    </tr>\n",
       "  </thead>\n",
       "  <tbody>\n",
       "    <tr>\n",
       "      <th>3DS</th>\n",
       "      <td>0.223795</td>\n",
       "    </tr>\n",
       "    <tr>\n",
       "      <th>WiiU</th>\n",
       "      <td>0.094609</td>\n",
       "    </tr>\n",
       "    <tr>\n",
       "      <th>PS3</th>\n",
       "      <td>0.067681</td>\n",
       "    </tr>\n",
       "    <tr>\n",
       "      <th>PSV</th>\n",
       "      <td>0.051927</td>\n",
       "    </tr>\n",
       "    <tr>\n",
       "      <th>PSP</th>\n",
       "      <td>0.049104</td>\n",
       "    </tr>\n",
       "    <tr>\n",
       "      <th>PS4</th>\n",
       "      <td>0.040714</td>\n",
       "    </tr>\n",
       "    <tr>\n",
       "      <th>X360</th>\n",
       "      <td>0.002742</td>\n",
       "    </tr>\n",
       "    <tr>\n",
       "      <th>Wii</th>\n",
       "      <td>0.002174</td>\n",
       "    </tr>\n",
       "    <tr>\n",
       "      <th>XOne</th>\n",
       "      <td>0.001377</td>\n",
       "    </tr>\n",
       "    <tr>\n",
       "      <th>DS</th>\n",
       "      <td>0.000000</td>\n",
       "    </tr>\n",
       "    <tr>\n",
       "      <th>PC</th>\n",
       "      <td>0.000000</td>\n",
       "    </tr>\n",
       "  </tbody>\n",
       "</table>\n",
       "</div>"
      ],
      "text/plain": [
       "          jp_sales\n",
       "platform          \n",
       "3DS       0.223795\n",
       "WiiU      0.094609\n",
       "PS3       0.067681\n",
       "PSV       0.051927\n",
       "PSP       0.049104\n",
       "PS4       0.040714\n",
       "X360      0.002742\n",
       "Wii       0.002174\n",
       "XOne      0.001377\n",
       "DS        0.000000\n",
       "PC        0.000000"
      ]
     },
     "execution_count": 65,
     "metadata": {},
     "output_type": "execute_result"
    }
   ],
   "source": [
    "data_region.pivot_table(index ='platform', values='jp_sales').sort_values(by = 'jp_sales', ascending=False)"
   ]
  },
  {
   "cell_type": "markdown",
   "metadata": {},
   "source": [
    "В Северной Америке наиболее популярными с точки зрения объёмов продаж являются:\n",
    "- X360 (данная платформа не была включена в анализ перспективных платформ, хотя в 2013-2014 году показывала достаточно высокие продажи. Наибольшие средние продажи результат более высоких показателей в 2013-2014 годах)\n",
    "- XOne\n",
    "- Wii\n",
    "\n",
    "В Европе:\n",
    "- PS4\n",
    "- Wii\n",
    "- X360\n",
    "- XOne\n",
    "\n",
    "В Японии:\n",
    "- 3DS (с большим отрывом от следующих)\n",
    "\n",
    "Интересно, что в список наиболее популярных платформ за период с 2013 по 2016 год попали платформы, продажи по которым существенно снизились за 2015-2016 год за счет более высоких значениях в 2013 и 2014 году.\n",
    "\n"
   ]
  },
  {
   "cell_type": "markdown",
   "metadata": {},
   "source": [
    "__Наиболее популярный жанр в регионе NA, EU, JP__"
   ]
  },
  {
   "cell_type": "code",
   "execution_count": 66,
   "metadata": {},
   "outputs": [
    {
     "data": {
      "text/html": [
       "<div>\n",
       "<style scoped>\n",
       "    .dataframe tbody tr th:only-of-type {\n",
       "        vertical-align: middle;\n",
       "    }\n",
       "\n",
       "    .dataframe tbody tr th {\n",
       "        vertical-align: top;\n",
       "    }\n",
       "\n",
       "    .dataframe thead th {\n",
       "        text-align: right;\n",
       "    }\n",
       "</style>\n",
       "<table border=\"1\" class=\"dataframe\">\n",
       "  <thead>\n",
       "    <tr style=\"text-align: right;\">\n",
       "      <th></th>\n",
       "      <th>na_sales</th>\n",
       "    </tr>\n",
       "    <tr>\n",
       "      <th>genre</th>\n",
       "      <th></th>\n",
       "    </tr>\n",
       "  </thead>\n",
       "  <tbody>\n",
       "    <tr>\n",
       "      <th>Shooter</th>\n",
       "      <td>0.586845</td>\n",
       "    </tr>\n",
       "    <tr>\n",
       "      <th>Sports</th>\n",
       "      <td>0.305000</td>\n",
       "    </tr>\n",
       "    <tr>\n",
       "      <th>Platform</th>\n",
       "      <td>0.245135</td>\n",
       "    </tr>\n",
       "    <tr>\n",
       "      <th>Fighting</th>\n",
       "      <td>0.194375</td>\n",
       "    </tr>\n",
       "    <tr>\n",
       "      <th>Misc</th>\n",
       "      <td>0.177355</td>\n",
       "    </tr>\n",
       "    <tr>\n",
       "      <th>Action</th>\n",
       "      <td>0.164556</td>\n",
       "    </tr>\n",
       "    <tr>\n",
       "      <th>Role-Playing</th>\n",
       "      <td>0.158904</td>\n",
       "    </tr>\n",
       "    <tr>\n",
       "      <th>Racing</th>\n",
       "      <td>0.152471</td>\n",
       "    </tr>\n",
       "    <tr>\n",
       "      <th>Simulation</th>\n",
       "      <td>0.078387</td>\n",
       "    </tr>\n",
       "    <tr>\n",
       "      <th>Strategy</th>\n",
       "      <td>0.058571</td>\n",
       "    </tr>\n",
       "    <tr>\n",
       "      <th>Puzzle</th>\n",
       "      <td>0.048824</td>\n",
       "    </tr>\n",
       "    <tr>\n",
       "      <th>Adventure</th>\n",
       "      <td>0.029143</td>\n",
       "    </tr>\n",
       "  </tbody>\n",
       "</table>\n",
       "</div>"
      ],
      "text/plain": [
       "              na_sales\n",
       "genre                 \n",
       "Shooter       0.586845\n",
       "Sports        0.305000\n",
       "Platform      0.245135\n",
       "Fighting      0.194375\n",
       "Misc          0.177355\n",
       "Action        0.164556\n",
       "Role-Playing  0.158904\n",
       "Racing        0.152471\n",
       "Simulation    0.078387\n",
       "Strategy      0.058571\n",
       "Puzzle        0.048824\n",
       "Adventure     0.029143"
      ]
     },
     "execution_count": 66,
     "metadata": {},
     "output_type": "execute_result"
    }
   ],
   "source": [
    "data_region.pivot_table(index ='genre', values='na_sales').sort_values(by = 'na_sales', ascending=False)"
   ]
  },
  {
   "cell_type": "code",
   "execution_count": 67,
   "metadata": {},
   "outputs": [
    {
     "data": {
      "text/html": [
       "<div>\n",
       "<style scoped>\n",
       "    .dataframe tbody tr th:only-of-type {\n",
       "        vertical-align: middle;\n",
       "    }\n",
       "\n",
       "    .dataframe tbody tr th {\n",
       "        vertical-align: top;\n",
       "    }\n",
       "\n",
       "    .dataframe thead th {\n",
       "        text-align: right;\n",
       "    }\n",
       "</style>\n",
       "<table border=\"1\" class=\"dataframe\">\n",
       "  <thead>\n",
       "    <tr style=\"text-align: right;\">\n",
       "      <th></th>\n",
       "      <th>eu_sales</th>\n",
       "    </tr>\n",
       "    <tr>\n",
       "      <th>genre</th>\n",
       "      <th></th>\n",
       "    </tr>\n",
       "  </thead>\n",
       "  <tbody>\n",
       "    <tr>\n",
       "      <th>Shooter</th>\n",
       "      <td>0.469840</td>\n",
       "    </tr>\n",
       "    <tr>\n",
       "      <th>Sports</th>\n",
       "      <td>0.282804</td>\n",
       "    </tr>\n",
       "    <tr>\n",
       "      <th>Racing</th>\n",
       "      <td>0.237529</td>\n",
       "    </tr>\n",
       "    <tr>\n",
       "      <th>Platform</th>\n",
       "      <td>0.210541</td>\n",
       "    </tr>\n",
       "    <tr>\n",
       "      <th>Simulation</th>\n",
       "      <td>0.176129</td>\n",
       "    </tr>\n",
       "    <tr>\n",
       "      <th>Action</th>\n",
       "      <td>0.154217</td>\n",
       "    </tr>\n",
       "    <tr>\n",
       "      <th>Misc</th>\n",
       "      <td>0.129290</td>\n",
       "    </tr>\n",
       "    <tr>\n",
       "      <th>Role-Playing</th>\n",
       "      <td>0.126610</td>\n",
       "    </tr>\n",
       "    <tr>\n",
       "      <th>Fighting</th>\n",
       "      <td>0.106875</td>\n",
       "    </tr>\n",
       "    <tr>\n",
       "      <th>Strategy</th>\n",
       "      <td>0.075357</td>\n",
       "    </tr>\n",
       "    <tr>\n",
       "      <th>Puzzle</th>\n",
       "      <td>0.058824</td>\n",
       "    </tr>\n",
       "    <tr>\n",
       "      <th>Adventure</th>\n",
       "      <td>0.033673</td>\n",
       "    </tr>\n",
       "  </tbody>\n",
       "</table>\n",
       "</div>"
      ],
      "text/plain": [
       "              eu_sales\n",
       "genre                 \n",
       "Shooter       0.469840\n",
       "Sports        0.282804\n",
       "Racing        0.237529\n",
       "Platform      0.210541\n",
       "Simulation    0.176129\n",
       "Action        0.154217\n",
       "Misc          0.129290\n",
       "Role-Playing  0.126610\n",
       "Fighting      0.106875\n",
       "Strategy      0.075357\n",
       "Puzzle        0.058824\n",
       "Adventure     0.033673"
      ]
     },
     "execution_count": 67,
     "metadata": {},
     "output_type": "execute_result"
    }
   ],
   "source": [
    "data_region.pivot_table(index ='genre', values='eu_sales').sort_values(by = 'eu_sales', ascending=False)"
   ]
  },
  {
   "cell_type": "code",
   "execution_count": 68,
   "metadata": {},
   "outputs": [
    {
     "data": {
      "text/html": [
       "<div>\n",
       "<style scoped>\n",
       "    .dataframe tbody tr th:only-of-type {\n",
       "        vertical-align: middle;\n",
       "    }\n",
       "\n",
       "    .dataframe tbody tr th {\n",
       "        vertical-align: top;\n",
       "    }\n",
       "\n",
       "    .dataframe thead th {\n",
       "        text-align: right;\n",
       "    }\n",
       "</style>\n",
       "<table border=\"1\" class=\"dataframe\">\n",
       "  <thead>\n",
       "    <tr style=\"text-align: right;\">\n",
       "      <th></th>\n",
       "      <th>jp_sales</th>\n",
       "    </tr>\n",
       "    <tr>\n",
       "      <th>genre</th>\n",
       "      <th></th>\n",
       "    </tr>\n",
       "  </thead>\n",
       "  <tbody>\n",
       "    <tr>\n",
       "      <th>Role-Playing</th>\n",
       "      <td>0.174795</td>\n",
       "    </tr>\n",
       "    <tr>\n",
       "      <th>Fighting</th>\n",
       "      <td>0.095625</td>\n",
       "    </tr>\n",
       "    <tr>\n",
       "      <th>Simulation</th>\n",
       "      <td>0.072903</td>\n",
       "    </tr>\n",
       "    <tr>\n",
       "      <th>Puzzle</th>\n",
       "      <td>0.069412</td>\n",
       "    </tr>\n",
       "    <tr>\n",
       "      <th>Platform</th>\n",
       "      <td>0.064730</td>\n",
       "    </tr>\n",
       "    <tr>\n",
       "      <th>Misc</th>\n",
       "      <td>0.059355</td>\n",
       "    </tr>\n",
       "    <tr>\n",
       "      <th>Action</th>\n",
       "      <td>0.052859</td>\n",
       "    </tr>\n",
       "    <tr>\n",
       "      <th>Shooter</th>\n",
       "      <td>0.035348</td>\n",
       "    </tr>\n",
       "    <tr>\n",
       "      <th>Strategy</th>\n",
       "      <td>0.031607</td>\n",
       "    </tr>\n",
       "    <tr>\n",
       "      <th>Racing</th>\n",
       "      <td>0.027059</td>\n",
       "    </tr>\n",
       "    <tr>\n",
       "      <th>Sports</th>\n",
       "      <td>0.025280</td>\n",
       "    </tr>\n",
       "    <tr>\n",
       "      <th>Adventure</th>\n",
       "      <td>0.023755</td>\n",
       "    </tr>\n",
       "  </tbody>\n",
       "</table>\n",
       "</div>"
      ],
      "text/plain": [
       "              jp_sales\n",
       "genre                 \n",
       "Role-Playing  0.174795\n",
       "Fighting      0.095625\n",
       "Simulation    0.072903\n",
       "Puzzle        0.069412\n",
       "Platform      0.064730\n",
       "Misc          0.059355\n",
       "Action        0.052859\n",
       "Shooter       0.035348\n",
       "Strategy      0.031607\n",
       "Racing        0.027059\n",
       "Sports        0.025280\n",
       "Adventure     0.023755"
      ]
     },
     "execution_count": 68,
     "metadata": {},
     "output_type": "execute_result"
    }
   ],
   "source": [
    "data_region.pivot_table(index ='genre', values='jp_sales').sort_values(by = 'jp_sales', ascending=False)"
   ]
  },
  {
   "cell_type": "markdown",
   "metadata": {},
   "source": [
    "Рейтинг наиболее популярных жанров ближе между пользователями из Северной Америке и Европы. В Японии рейтинг жанров принципиально отличается.\n",
    "\n",
    "Для того чтобы точнее объяснить предпочтения по жанрам, на мой взгляд, мне не хватает более точной информации о социально-демографических характеристиках пользователей в регионах. Есть гипотеза, что отличия обусловены тем, что отличаются основные целевые аудитории."
   ]
  },
  {
   "cell_type": "markdown",
   "metadata": {},
   "source": [
    "__Проанализируем рейтинг ESRB__"
   ]
  },
  {
   "cell_type": "code",
   "execution_count": 69,
   "metadata": {},
   "outputs": [
    {
     "name": "stdout",
     "output_type": "stream",
     "text": [
      "Количество строк в данных за 2013-2016 год без удаления NaN 2233\n",
      "Пропущенные значения в переменной rating ESRB 977\n"
     ]
    }
   ],
   "source": [
    "print('Количество строк в данных за 2013-2016 год без удаления NaN', len(data_region))\n",
    "print('Пропущенные значения в переменной rating ESRB', data_region['rating'].isna().sum()) # для почти половины игр отсутствует рейтинг ESRB"
   ]
  },
  {
   "cell_type": "markdown",
   "metadata": {},
   "source": [
    "Заменим информацию об отсутствии рейтинга на \"значение-заглушку\""
   ]
  },
  {
   "cell_type": "code",
   "execution_count": 70,
   "metadata": {},
   "outputs": [],
   "source": [
    "data_region['rating'] = data_region['rating'].fillna('Without_rating')"
   ]
  },
  {
   "cell_type": "code",
   "execution_count": 71,
   "metadata": {},
   "outputs": [
    {
     "data": {
      "text/plain": [
       "Without_rating    977\n",
       "M                 369\n",
       "T                 333\n",
       "E                 302\n",
       "E10+              252\n",
       "Name: rating, dtype: int64"
      ]
     },
     "execution_count": 71,
     "metadata": {},
     "output_type": "execute_result"
    }
   ],
   "source": [
    "data_region['rating'].value_counts()"
   ]
  },
  {
   "cell_type": "code",
   "execution_count": 72,
   "metadata": {},
   "outputs": [
    {
     "data": {
      "text/html": [
       "<div>\n",
       "<style scoped>\n",
       "    .dataframe tbody tr th:only-of-type {\n",
       "        vertical-align: middle;\n",
       "    }\n",
       "\n",
       "    .dataframe tbody tr th {\n",
       "        vertical-align: top;\n",
       "    }\n",
       "\n",
       "    .dataframe thead th {\n",
       "        text-align: right;\n",
       "    }\n",
       "</style>\n",
       "<table border=\"1\" class=\"dataframe\">\n",
       "  <thead>\n",
       "    <tr style=\"text-align: right;\">\n",
       "      <th></th>\n",
       "      <th>sales_sum</th>\n",
       "    </tr>\n",
       "    <tr>\n",
       "      <th>rating</th>\n",
       "      <th></th>\n",
       "    </tr>\n",
       "  </thead>\n",
       "  <tbody>\n",
       "    <tr>\n",
       "      <th>M</th>\n",
       "      <td>0.340</td>\n",
       "    </tr>\n",
       "    <tr>\n",
       "      <th>E10+</th>\n",
       "      <td>0.275</td>\n",
       "    </tr>\n",
       "    <tr>\n",
       "      <th>E</th>\n",
       "      <td>0.175</td>\n",
       "    </tr>\n",
       "    <tr>\n",
       "      <th>T</th>\n",
       "      <td>0.150</td>\n",
       "    </tr>\n",
       "    <tr>\n",
       "      <th>Without_rating</th>\n",
       "      <td>0.050</td>\n",
       "    </tr>\n",
       "  </tbody>\n",
       "</table>\n",
       "</div>"
      ],
      "text/plain": [
       "                sales_sum\n",
       "rating                   \n",
       "M                   0.340\n",
       "E10+                0.275\n",
       "E                   0.175\n",
       "T                   0.150\n",
       "Without_rating      0.050"
      ]
     },
     "execution_count": 72,
     "metadata": {},
     "output_type": "execute_result"
    }
   ],
   "source": [
    "data_region.pivot_table(index ='rating', values='sales_sum', aggfunc='median').sort_values(by = 'sales_sum', ascending=False)"
   ]
  },
  {
   "cell_type": "code",
   "execution_count": 73,
   "metadata": {},
   "outputs": [
    {
     "data": {
      "text/html": [
       "<div>\n",
       "<style scoped>\n",
       "    .dataframe tbody tr th:only-of-type {\n",
       "        vertical-align: middle;\n",
       "    }\n",
       "\n",
       "    .dataframe tbody tr th {\n",
       "        vertical-align: top;\n",
       "    }\n",
       "\n",
       "    .dataframe thead th {\n",
       "        text-align: right;\n",
       "    }\n",
       "</style>\n",
       "<table border=\"1\" class=\"dataframe\">\n",
       "  <thead>\n",
       "    <tr style=\"text-align: right;\">\n",
       "      <th></th>\n",
       "      <th>sales_sum</th>\n",
       "    </tr>\n",
       "    <tr>\n",
       "      <th>rating</th>\n",
       "      <th></th>\n",
       "    </tr>\n",
       "  </thead>\n",
       "  <tbody>\n",
       "    <tr>\n",
       "      <th>M</th>\n",
       "      <td>1.007263</td>\n",
       "    </tr>\n",
       "    <tr>\n",
       "      <th>E</th>\n",
       "      <td>0.662781</td>\n",
       "    </tr>\n",
       "    <tr>\n",
       "      <th>E10+</th>\n",
       "      <td>0.457897</td>\n",
       "    </tr>\n",
       "    <tr>\n",
       "      <th>T</th>\n",
       "      <td>0.380240</td>\n",
       "    </tr>\n",
       "    <tr>\n",
       "      <th>Without_rating</th>\n",
       "      <td>0.283357</td>\n",
       "    </tr>\n",
       "  </tbody>\n",
       "</table>\n",
       "</div>"
      ],
      "text/plain": [
       "                sales_sum\n",
       "rating                   \n",
       "M                1.007263\n",
       "E                0.662781\n",
       "E10+             0.457897\n",
       "T                0.380240\n",
       "Without_rating   0.283357"
      ]
     },
     "execution_count": 73,
     "metadata": {},
     "output_type": "execute_result"
    }
   ],
   "source": [
    "data_region.pivot_table(index ='rating', values='sales_sum', aggfunc='mean').sort_values(by = 'sales_sum', ascending=False)"
   ]
  },
  {
   "cell_type": "markdown",
   "metadata": {},
   "source": [
    "**Описание категорий:**\n",
    "\n",
    "\n",
    "«M» - («Mature») — «Для взрослых»: Материалы игры не подходят для подростков младше 17 лет.    \n",
    "«T» - («Teen») — «Подросткам»: Игра подходит для лиц от 13 лет.    \n",
    "«E» («Everyone») — «Для всех»: Содержание вполне подходит для возрастной категории от 6 лет.   \n",
    "«E10+» - («Everyone 10 and older») — «Для всех от 10 лет и старше».   \n",
    "\n",
    "\n",
    "Больше всего средние и медиана по продажам для категории «M» - («Mature») — «Для взрослых».    \n",
    "Далее- семейные игры - \"Для всех\" и \"Для всех от 10 лет\".    \n",
    "Последнее место по объёму продаж занимают игры с рейтингом \"Для продростков\"\n",
    "\n",
    "Разница между медианой и средним говорит о высоком разбросе по продажам в каждой категории.\n"
   ]
  },
  {
   "cell_type": "markdown",
   "metadata": {},
   "source": [
    "\n",
    "__Сравним изменение уровня продаж в зависимости от рейтинга ESRB разных регионах__"
   ]
  },
  {
   "cell_type": "code",
   "execution_count": 74,
   "metadata": {},
   "outputs": [
    {
     "data": {
      "text/html": [
       "<div>\n",
       "<style scoped>\n",
       "    .dataframe tbody tr th:only-of-type {\n",
       "        vertical-align: middle;\n",
       "    }\n",
       "\n",
       "    .dataframe tbody tr th {\n",
       "        vertical-align: top;\n",
       "    }\n",
       "\n",
       "    .dataframe thead th {\n",
       "        text-align: right;\n",
       "    }\n",
       "</style>\n",
       "<table border=\"1\" class=\"dataframe\">\n",
       "  <thead>\n",
       "    <tr style=\"text-align: right;\">\n",
       "      <th></th>\n",
       "      <th>na_sales</th>\n",
       "    </tr>\n",
       "    <tr>\n",
       "      <th>rating</th>\n",
       "      <th></th>\n",
       "    </tr>\n",
       "  </thead>\n",
       "  <tbody>\n",
       "    <tr>\n",
       "      <th>M</th>\n",
       "      <td>0.447724</td>\n",
       "    </tr>\n",
       "    <tr>\n",
       "      <th>E</th>\n",
       "      <td>0.261755</td>\n",
       "    </tr>\n",
       "    <tr>\n",
       "      <th>E10+</th>\n",
       "      <td>0.215238</td>\n",
       "    </tr>\n",
       "    <tr>\n",
       "      <th>T</th>\n",
       "      <td>0.149520</td>\n",
       "    </tr>\n",
       "    <tr>\n",
       "      <th>Without_rating</th>\n",
       "      <td>0.091525</td>\n",
       "    </tr>\n",
       "  </tbody>\n",
       "</table>\n",
       "</div>"
      ],
      "text/plain": [
       "                na_sales\n",
       "rating                  \n",
       "M               0.447724\n",
       "E               0.261755\n",
       "E10+            0.215238\n",
       "T               0.149520\n",
       "Without_rating  0.091525"
      ]
     },
     "execution_count": 74,
     "metadata": {},
     "output_type": "execute_result"
    }
   ],
   "source": [
    "data_region.pivot_table(index ='rating', values='na_sales', aggfunc='mean').sort_values(by = 'na_sales', ascending=False)"
   ]
  },
  {
   "cell_type": "code",
   "execution_count": 75,
   "metadata": {},
   "outputs": [
    {
     "data": {
      "text/html": [
       "<div>\n",
       "<style scoped>\n",
       "    .dataframe tbody tr th:only-of-type {\n",
       "        vertical-align: middle;\n",
       "    }\n",
       "\n",
       "    .dataframe tbody tr th {\n",
       "        vertical-align: top;\n",
       "    }\n",
       "\n",
       "    .dataframe thead th {\n",
       "        text-align: right;\n",
       "    }\n",
       "</style>\n",
       "<table border=\"1\" class=\"dataframe\">\n",
       "  <thead>\n",
       "    <tr style=\"text-align: right;\">\n",
       "      <th></th>\n",
       "      <th>eu_sales</th>\n",
       "    </tr>\n",
       "    <tr>\n",
       "      <th>rating</th>\n",
       "      <th></th>\n",
       "    </tr>\n",
       "  </thead>\n",
       "  <tbody>\n",
       "    <tr>\n",
       "      <th>M</th>\n",
       "      <td>0.393821</td>\n",
       "    </tr>\n",
       "    <tr>\n",
       "      <th>E</th>\n",
       "      <td>0.276026</td>\n",
       "    </tr>\n",
       "    <tr>\n",
       "      <th>E10+</th>\n",
       "      <td>0.169405</td>\n",
       "    </tr>\n",
       "    <tr>\n",
       "      <th>T</th>\n",
       "      <td>0.125976</td>\n",
       "    </tr>\n",
       "    <tr>\n",
       "      <th>Without_rating</th>\n",
       "      <td>0.080768</td>\n",
       "    </tr>\n",
       "  </tbody>\n",
       "</table>\n",
       "</div>"
      ],
      "text/plain": [
       "                eu_sales\n",
       "rating                  \n",
       "M               0.393821\n",
       "E               0.276026\n",
       "E10+            0.169405\n",
       "T               0.125976\n",
       "Without_rating  0.080768"
      ]
     },
     "execution_count": 75,
     "metadata": {},
     "output_type": "execute_result"
    }
   ],
   "source": [
    "data_region.pivot_table(index ='rating', values='eu_sales', aggfunc='mean').sort_values(by = 'eu_sales', ascending=False)"
   ]
  },
  {
   "cell_type": "code",
   "execution_count": 76,
   "metadata": {},
   "outputs": [
    {
     "data": {
      "text/html": [
       "<div>\n",
       "<style scoped>\n",
       "    .dataframe tbody tr th:only-of-type {\n",
       "        vertical-align: middle;\n",
       "    }\n",
       "\n",
       "    .dataframe tbody tr th {\n",
       "        vertical-align: top;\n",
       "    }\n",
       "\n",
       "    .dataframe thead th {\n",
       "        text-align: right;\n",
       "    }\n",
       "</style>\n",
       "<table border=\"1\" class=\"dataframe\">\n",
       "  <thead>\n",
       "    <tr style=\"text-align: right;\">\n",
       "      <th></th>\n",
       "      <th>jp_sales</th>\n",
       "    </tr>\n",
       "    <tr>\n",
       "      <th>rating</th>\n",
       "      <th></th>\n",
       "    </tr>\n",
       "  </thead>\n",
       "  <tbody>\n",
       "    <tr>\n",
       "      <th>Without_rating</th>\n",
       "      <td>0.087052</td>\n",
       "    </tr>\n",
       "    <tr>\n",
       "      <th>T</th>\n",
       "      <td>0.061832</td>\n",
       "    </tr>\n",
       "    <tr>\n",
       "      <th>E</th>\n",
       "      <td>0.050132</td>\n",
       "    </tr>\n",
       "    <tr>\n",
       "      <th>M</th>\n",
       "      <td>0.038238</td>\n",
       "    </tr>\n",
       "    <tr>\n",
       "      <th>E10+</th>\n",
       "      <td>0.023373</td>\n",
       "    </tr>\n",
       "  </tbody>\n",
       "</table>\n",
       "</div>"
      ],
      "text/plain": [
       "                jp_sales\n",
       "rating                  \n",
       "Without_rating  0.087052\n",
       "T               0.061832\n",
       "E               0.050132\n",
       "M               0.038238\n",
       "E10+            0.023373"
      ]
     },
     "execution_count": 76,
     "metadata": {},
     "output_type": "execute_result"
    }
   ],
   "source": [
    "data_region.pivot_table(index ='rating', values='jp_sales', aggfunc='mean').sort_values(by = 'jp_sales', ascending=False)"
   ]
  },
  {
   "cell_type": "markdown",
   "metadata": {},
   "source": [
    "__Наблюдения по распределению категорий в регионах:__\n",
    "\n",
    "- В Северной Америке и Европе наибольший  объемом продаж у игр с рейтингом 'Для взрослых'\n",
    "- В Японии наибольшие продажи среди игр без рейтинга, далее игры с рейтингом \"Для подростков\".\n",
    "\n",
    "- Второе место в Северной Америке и Европе, третье в Японии занимают игры с рейтингом \"Для всех\" (развивающие игры для детей от 6 лет)\n",
    "\n",
    "Таким образом, при выборе игр для рекламы в Европе и Северной Америке стоит обращать больше внимания на категорию \"Для взрослых\", в Японии - \"Для подростков\". Игры \"Для всех\" могут быть интересны во всех направлениях."
   ]
  },
  {
   "cell_type": "markdown",
   "metadata": {},
   "source": [
    "# Статистическая проверка гипотез"
   ]
  },
  {
   "cell_type": "markdown",
   "metadata": {},
   "source": [
    "### Гипотеза 1"
   ]
  },
  {
   "cell_type": "markdown",
   "metadata": {},
   "source": [
    "__Нулевая гипотеза:__ Средние пользовательские рейтинги платформ Xbox One и PC одинаковые  \n",
    "\n",
    "\n",
    "__Альтернативная гипотеза:__ Средние пользовательские рейтинги платформ Xbox One и PC отличаются"
   ]
  },
  {
   "cell_type": "code",
   "execution_count": 77,
   "metadata": {},
   "outputs": [
    {
     "data": {
      "text/html": [
       "<div>\n",
       "<style scoped>\n",
       "    .dataframe tbody tr th:only-of-type {\n",
       "        vertical-align: middle;\n",
       "    }\n",
       "\n",
       "    .dataframe tbody tr th {\n",
       "        vertical-align: top;\n",
       "    }\n",
       "\n",
       "    .dataframe thead th {\n",
       "        text-align: right;\n",
       "    }\n",
       "</style>\n",
       "<table border=\"1\" class=\"dataframe\">\n",
       "  <thead>\n",
       "    <tr style=\"text-align: right;\">\n",
       "      <th></th>\n",
       "      <th>user_score</th>\n",
       "    </tr>\n",
       "    <tr>\n",
       "      <th>platform</th>\n",
       "      <th></th>\n",
       "    </tr>\n",
       "  </thead>\n",
       "  <tbody>\n",
       "    <tr>\n",
       "      <th>PC</th>\n",
       "      <td>7.063492</td>\n",
       "    </tr>\n",
       "    <tr>\n",
       "      <th>XOne</th>\n",
       "      <td>6.521429</td>\n",
       "    </tr>\n",
       "  </tbody>\n",
       "</table>\n",
       "</div>"
      ],
      "text/plain": [
       "          user_score\n",
       "platform            \n",
       "PC          7.063492\n",
       "XOne        6.521429"
      ]
     },
     "execution_count": 77,
     "metadata": {},
     "output_type": "execute_result"
    }
   ],
   "source": [
    "# важно отфильтровать данные с рейтингом tbd - которым было присвоено значение 15\n",
    "data.query('(platform == \"XOne\" | platform == \"PC\") & user_score != 15').pivot_table(index='platform', values = 'user_score', aggfunc='mean')"
   ]
  },
  {
   "cell_type": "code",
   "execution_count": 78,
   "metadata": {},
   "outputs": [
    {
     "data": {
      "image/png": "[encoded data removed]",
      "text/plain": [
       "<Figure size 432x288 with 1 Axes>"
      ]
     },
     "metadata": {
      "needs_background": "light"
     },
     "output_type": "display_data"
    }
   ],
   "source": [
    "data.query('(platform == \"XOne\")')['user_score'].hist()\n",
    "\n",
    "plt.title('Распределение рейтинга пользователей платформы XOne за все годы')\n",
    "plt.xlabel('Рейтинг пользователей')\n",
    "plt.ylabel('Количество отзывов')\n",
    "plt.show()"
   ]
  },
  {
   "cell_type": "code",
   "execution_count": 79,
   "metadata": {},
   "outputs": [
    {
     "data": {
      "image/png": "[encoded data removed]",
      "text/plain": [
       "<Figure size 432x288 with 1 Axes>"
      ]
     },
     "metadata": {
      "needs_background": "light"
     },
     "output_type": "display_data"
    }
   ],
   "source": [
    "data.query('(platform == \"PC\")')['user_score'].hist()\n",
    "\n",
    "plt.title('Распределение рейтинга пользователей платформы PC за все годы')\n",
    "plt.xlabel('Рейтинг пользователей')\n",
    "plt.ylabel('Количество отзывов')\n",
    "plt.show()"
   ]
  },
  {
   "cell_type": "code",
   "execution_count": 80,
   "metadata": {},
   "outputs": [
    {
     "name": "stdout",
     "output_type": "stream",
     "text": [
      "p-значение: 4.987462409263676e-06\n",
      "Отвергаем нулевую гипотезу\n"
     ]
    }
   ],
   "source": [
    "# проведем сравнение на исходных данных\n",
    "alpha = .05\n",
    "\n",
    "results = st.ttest_ind(\n",
    "    data.query('platform == \"XOne\" & user_score !=15')['user_score'].dropna(), \n",
    "    data.query('platform == \"PC\" & user_score !=15')['user_score'].dropna(), equal_var=False)\n",
    "\n",
    "print('p-значение:', results.pvalue)\n",
    "\n",
    "if results.pvalue < alpha:\n",
    "    print(\"Отвергаем нулевую гипотезу\")\n",
    "else:\n",
    "    print(\"Не получилось отвергнуть нулевую гипотезу\") "
   ]
  },
  {
   "cell_type": "code",
   "execution_count": 81,
   "metadata": {
    "scrolled": true
   },
   "outputs": [
    {
     "name": "stdout",
     "output_type": "stream",
     "text": [
      "p-значение: nan\n",
      "Не получилось отвергнуть нулевую гипотезу\n"
     ]
    }
   ],
   "source": [
    "# проведем сравнение на исходных данных\n",
    "alpha = .05\n",
    "\n",
    "results = st.ttest_ind(\n",
    "    data_short.query('platform == \"XOne\" & user_score !=15')['user_score'].dropna(), \n",
    "    data_short.query('platform == \"PC\" & user_score !=15')['user_score'].dropna())\n",
    "\n",
    "print('p-значение:', results.pvalue)\n",
    "\n",
    "if results.pvalue < alpha:\n",
    "    print(\"Отвергаем нулевую гипотезу\")\n",
    "else:\n",
    "    print(\"Не получилось отвергнуть нулевую гипотезу\") "
   ]
  },
  {
   "cell_type": "markdown",
   "metadata": {},
   "source": [
    "__Комментарий:__\n",
    "\n",
    "\n"
   ]
  },
  {
   "cell_type": "markdown",
   "metadata": {},
   "source": [
    "Для проверки статистической гипотезы использовался двусторонний t-test. По результатам недотаточно данных для отвержения нулевой гипотезы о равенстве средних.\n",
    "\n",
    "Тест проведён на полном наборе данных и данных за 2013-2016 годы. Результат одинаковый"
   ]
  },
  {
   "cell_type": "markdown",
   "metadata": {},
   "source": [
    "### Гипотеза 2"
   ]
  },
  {
   "cell_type": "markdown",
   "metadata": {},
   "source": [
    "__Нулевая гипотеза:__ Средние пользовательские рейтинги жанров Action (англ. «действие», экшен-игры) и Sports (англ. «спортивные соревнования») равны  \n",
    "\n",
    "\n",
    "__Альтернативная гипотеза:__ Средние пользовательские рейтинги жанров Action (англ. «действие», экшен-игры) и Sports (англ. «спортивные соревнования») разные"
   ]
  },
  {
   "cell_type": "code",
   "execution_count": 82,
   "metadata": {},
   "outputs": [
    {
     "data": {
      "text/html": [
       "<div>\n",
       "<style scoped>\n",
       "    .dataframe tbody tr th:only-of-type {\n",
       "        vertical-align: middle;\n",
       "    }\n",
       "\n",
       "    .dataframe tbody tr th {\n",
       "        vertical-align: top;\n",
       "    }\n",
       "\n",
       "    .dataframe thead th {\n",
       "        text-align: right;\n",
       "    }\n",
       "</style>\n",
       "<table border=\"1\" class=\"dataframe\">\n",
       "  <thead>\n",
       "    <tr style=\"text-align: right;\">\n",
       "      <th></th>\n",
       "      <th>user_score</th>\n",
       "    </tr>\n",
       "    <tr>\n",
       "      <th>genre</th>\n",
       "      <th></th>\n",
       "    </tr>\n",
       "  </thead>\n",
       "  <tbody>\n",
       "    <tr>\n",
       "      <th>Action</th>\n",
       "      <td>7.062873</td>\n",
       "    </tr>\n",
       "    <tr>\n",
       "      <th>Sports</th>\n",
       "      <td>6.952346</td>\n",
       "    </tr>\n",
       "  </tbody>\n",
       "</table>\n",
       "</div>"
      ],
      "text/plain": [
       "        user_score\n",
       "genre             \n",
       "Action    7.062873\n",
       "Sports    6.952346"
      ]
     },
     "execution_count": 82,
     "metadata": {},
     "output_type": "execute_result"
    }
   ],
   "source": [
    "# важно отфильтровать данные с рейтингом tbd - которым было присвоено значение 15\n",
    "data.query('(genre == \"Action\" | genre == \"Sports\") & user_score != 15').pivot_table(index='genre', values = 'user_score', aggfunc='mean')"
   ]
  },
  {
   "cell_type": "code",
   "execution_count": 83,
   "metadata": {},
   "outputs": [
    {
     "data": {
      "image/png": "[encoded data removed]",
      "text/plain": [
       "<Figure size 432x288 with 1 Axes>"
      ]
     },
     "metadata": {
      "needs_background": "light"
     },
     "output_type": "display_data"
    }
   ],
   "source": [
    "data.query('genre == \"Action\"')['user_score'].hist()\n",
    "\n",
    "plt.title('Распределение рейтинга пользователей платформы для игр в жанре Action за все годы')\n",
    "plt.xlabel('Рейтинг пользователей')\n",
    "plt.ylabel('Количество отзывов')\n",
    "plt.show()"
   ]
  },
  {
   "cell_type": "code",
   "execution_count": 84,
   "metadata": {},
   "outputs": [
    {
     "data": {
      "image/png": "[encoded data removed]",
      "text/plain": [
       "<Figure size 432x288 with 1 Axes>"
      ]
     },
     "metadata": {
      "needs_background": "light"
     },
     "output_type": "display_data"
    }
   ],
   "source": [
    "data.query('genre == \"Sports\"')['user_score'].hist()\n",
    "\n",
    "plt.title('Распределение рейтинга пользователей платформы для игр в жанре Sports за все годы')\n",
    "plt.xlabel('Рейтинг пользователей')\n",
    "plt.ylabel('Количество отзывов')\n",
    "plt.show()"
   ]
  },
  {
   "cell_type": "code",
   "execution_count": 85,
   "metadata": {},
   "outputs": [
    {
     "name": "stdout",
     "output_type": "stream",
     "text": [
      "p-значение: 0.06264935738465702\n",
      "Не получилось отвергнуть нулевую гипотезу\n"
     ]
    }
   ],
   "source": [
    "# проведем сравнение на исходных данных\n",
    "alpha = .05\n",
    "\n",
    "results = st.ttest_ind(\n",
    "    data.query('genre == \"Action\"')['user_score'].dropna(), \n",
    "    data.query('genre == \"Sports\"')['user_score'].dropna(), equal_var=False)\n",
    "\n",
    "print('p-значение:', results.pvalue)\n",
    "\n",
    "if results.pvalue < alpha:\n",
    "    print(\"Отвергаем нулевую гипотезу\")\n",
    "else:\n",
    "    print(\"Не получилось отвергнуть нулевую гипотезу\") "
   ]
  },
  {
   "cell_type": "markdown",
   "metadata": {},
   "source": [
    "**Рассмотрим данные за период 2013-2016 года**"
   ]
  },
  {
   "cell_type": "code",
   "execution_count": 86,
   "metadata": {},
   "outputs": [
    {
     "data": {
      "text/html": [
       "<div>\n",
       "<style scoped>\n",
       "    .dataframe tbody tr th:only-of-type {\n",
       "        vertical-align: middle;\n",
       "    }\n",
       "\n",
       "    .dataframe tbody tr th {\n",
       "        vertical-align: top;\n",
       "    }\n",
       "\n",
       "    .dataframe thead th {\n",
       "        text-align: right;\n",
       "    }\n",
       "</style>\n",
       "<table border=\"1\" class=\"dataframe\">\n",
       "  <thead>\n",
       "    <tr style=\"text-align: right;\">\n",
       "      <th></th>\n",
       "      <th>user_score</th>\n",
       "    </tr>\n",
       "    <tr>\n",
       "      <th>genre</th>\n",
       "      <th></th>\n",
       "    </tr>\n",
       "  </thead>\n",
       "  <tbody>\n",
       "    <tr>\n",
       "      <th>Action</th>\n",
       "      <td>6.806356</td>\n",
       "    </tr>\n",
       "    <tr>\n",
       "      <th>Sports</th>\n",
       "      <td>5.415741</td>\n",
       "    </tr>\n",
       "  </tbody>\n",
       "</table>\n",
       "</div>"
      ],
      "text/plain": [
       "        user_score\n",
       "genre             \n",
       "Action    6.806356\n",
       "Sports    5.415741"
      ]
     },
     "execution_count": 86,
     "metadata": {},
     "output_type": "execute_result"
    }
   ],
   "source": [
    "data_short.query('(genre == \"Action\" | genre == \"Sports\")').pivot_table(index='genre', values = 'user_score', aggfunc='mean')"
   ]
  },
  {
   "cell_type": "code",
   "execution_count": 87,
   "metadata": {
    "scrolled": true
   },
   "outputs": [
    {
     "data": {
      "image/png": "[encoded data removed]",
      "text/plain": [
       "<Figure size 432x288 with 1 Axes>"
      ]
     },
     "metadata": {
      "needs_background": "light"
     },
     "output_type": "display_data"
    }
   ],
   "source": [
    "data_short.query('genre == \"Action\" ')['user_score'].hist()\n",
    "\n",
    "plt.title('Распределение рейтинга пользователей платформы для игр в жанре Action за 2013-2016 год по 4 платформам')\n",
    "plt.xlabel('Рейтинг пользователей')\n",
    "plt.ylabel('Количество отзывов')\n",
    "plt.show()"
   ]
  },
  {
   "cell_type": "code",
   "execution_count": 88,
   "metadata": {
    "scrolled": true
   },
   "outputs": [
    {
     "data": {
      "image/png": "[encoded data removed]",
      "text/plain": [
       "<Figure size 432x288 with 1 Axes>"
      ]
     },
     "metadata": {
      "needs_background": "light"
     },
     "output_type": "display_data"
    }
   ],
   "source": [
    "data_short.query(' genre == \"Sports\" ')['user_score'].hist()\n",
    "\n",
    "plt.title('Распределение рейтинга пользователей платформы для игр в жанре Sports за 2013-2016 год по 4 платформам')\n",
    "plt.xlabel('Рейтинг пользователей')\n",
    "plt.ylabel('Количество отзывов')\n",
    "plt.show()"
   ]
  },
  {
   "cell_type": "code",
   "execution_count": 89,
   "metadata": {},
   "outputs": [
    {
     "name": "stdout",
     "output_type": "stream",
     "text": [
      "p-значение: 6.776828260423778e-12\n",
      "Отвергаем нулевую гипотезу\n"
     ]
    }
   ],
   "source": [
    " # проведем сравнение на данных за 2013-2016 годы для четырех платформ\n",
    "alpha = .05\n",
    "\n",
    "results = st.ttest_ind(\n",
    "    data_short.query('genre == \"Action\"')['user_score'].dropna(), \n",
    "    data_short.query('genre == \"Sports\"')['user_score'].dropna(), equal_var=False)\n",
    "\n",
    "print('p-значение:', results.pvalue)\n",
    "\n",
    "if results.pvalue < alpha:\n",
    "    print(\"Отвергаем нулевую гипотезу\")\n",
    "else:\n",
    "    print(\"Не получилось отвергнуть нулевую гипотезу\") "
   ]
  },
  {
   "cell_type": "code",
   "execution_count": 90,
   "metadata": {},
   "outputs": [
    {
     "name": "stdout",
     "output_type": "stream",
     "text": [
      "p-значение: 1.4460039700704318e-20\n",
      "Отвергаем нулевую гипотезу\n"
     ]
    }
   ],
   "source": [
    " # проведем сравнение на данных за 2013-2016 годы для всех платформ\n",
    "alpha = .05\n",
    "\n",
    "results = st.ttest_ind(\n",
    "    data[data['year_of_release'] >=2013].query('genre == \"Action\"')['user_score'].dropna(), \n",
    "    data[data['year_of_release'] >=2013].query('genre == \"Sports\"')['user_score'].dropna(), equal_var=False)\n",
    "\n",
    "print('p-значение:', results.pvalue)\n",
    "\n",
    "if results.pvalue < alpha:\n",
    "    print(\"Отвергаем нулевую гипотезу\")\n",
    "else:\n",
    "    print(\"Не получилось отвергнуть нулевую гипотезу\") "
   ]
  },
  {
   "cell_type": "markdown",
   "metadata": {},
   "source": [
    "__Комментарий:__\n",
    "\n",
    "Получены разные тенденции для данных за весь период и за 2013-2016 годы по четырем платформам(и всем платформам).\n",
    "\n",
    "При анализе полного объёма данных за весь период по всем платформам недостаточно информации, чтобы отвергнуть гипотезу, что средние пользовательские рейтинги жанров Action и Sports равны. Считаем, что разница в рейтингах не значима.\n",
    "\n",
    "На основе данных за 2013-2016 год  нулевая гипотеза об отсутствии различий отвергается, то есть рейтинг Action в этот период для данных платформ получает значимо более высокие рейтинги, по сравнению с играми жанра Sport\n"
   ]
  },
  {
   "cell_type": "markdown",
   "metadata": {},
   "source": [
    "# Вывод"
   ]
  },
  {
   "cell_type": "markdown",
   "metadata": {},
   "source": [
    "1.Проведена подготовка данных для анализа:\n",
    "\n",
    "\n",
    "- названия столбцов переведены в нижний регистр\n",
    "- создана переменная `sales_sum` с данными о продажах во всех регионах (Северная Америка, Европа, Япония, Другие)\n",
    "- проведена работа с пропущенными значениями:\n",
    "   * выведено количество пропущенных значений в каждом столбце\n",
    "   * удалены две строки, в которых были пропущены одновременно год и жанр\n",
    "   * удалены 122 строки, в которых одновременно пропущен год и один из рейтингов\n",
    "   * удалены строки, в которых пропущен год и общий доход менее 0,6 млн. долларов\n",
    "   * оставшиеся пропуски в переменной `year_of_release` заменены с помощью поиска в гугл и формирования словаря {'название':'год'}\n",
    "   * в переменной `user_score` значения 'tbd'(рейтинг ожидается) заменены на NaN в процессе преобразования в числовой тип с помощью to_numeric\n",
    "   * пропуски остались только в переменных `critic_score`, `user_score`, `rating`\n",
    "\n",
    "\n",
    "2. Проведен исследовательский анализ данных:\n",
    "\n",
    "\n",
    "- проанализировано количество игр в год и объём продаж игр в год\n",
    "- определено, что исходя из исторических данных \"срок актуальности\" платформ с наибольшими доходами составляет 7-10 лет\n",
    "- определен актуальный период для анализа 2013-2016 год\n",
    "- определены 4 платформы по которым будет проводиться подробный анализ перспективности игр 'PS4', 'XOne', '3DS', 'PS3'\n",
    "\n",
    "\n",
    "\n",
    "3. Результаты анализа платформ:\n",
    "\n",
    "\n",
    "\n",
    "- Наибольшее среднее значение по продажам получено для платформы PS4\n",
    "- Выявлено, что среднее значение продаж по платформам находится около 0, наибольший интерес представляют - выбросы - наиболее успешные игры\n",
    "- наблюдается средней силы положительная взаимосвязь рейтинга критиков и продаж, при этом практически нулевая связь между рейтингом пользователей и продажами. Тенденция сохраняется на 4 платформах в период с 2013 по 2016 год\n",
    "- при анализе распределения жанров игр по доходности выявлено, что наибольший доход в среднем приносят игры жанров Shooter, Sports, Role-Playing. При этом для каждой платформы есть свои жанры-лидеры, которые приносят на конкретной платформе наибольший доход.\n",
    "\n",
    "\n",
    "\n",
    "4. Анализ портрета пользователя:\n",
    "\n",
    "\n",
    "- выявлены наиболее популярные платформы в регионах в период 2013-2016 год. \n",
    "- определен наиболее популярный жанр для каждого региона - жанры популярные в Северной Америке и Европе ближе, чем жанры, популярные в Японии:\n",
    "     - Shooter, Sports, Platform - Северная Америка\n",
    "     - Shooter, Sports, Racing - Европа\n",
    "     - Role-Playing, Fighting, Simulation - Япония\n",
    "- проанализированы рейтинги игр ESRP, наиболее популярные в регионе. В Северной Америке и Европе более полпулярны игры с рейтингом \"Для взрослых\", в Японии - игры без рейтинга на первом месте, на втором месте игры \"Для подростков\". Игры с рейтингом \"Для всех\" в Северной Америке и Европе занимают второе место, в Японии - третье.\n",
    "\n",
    "\n",
    "\n",
    "5. Подтверждено, что средние пользовательские рейтинги за весь период для платформ Xbox One и PC не отличаются. Недостаточно данных для того, чтобы отвергуть гипотезу о сходстве распределений.\n",
    "\n",
    "\n",
    "\n",
    "6. Статистически подтверждено, что средние пользовательские рейтинги за весь период для жанров Action (англ. «действие», экшен-игры) и Sports (англ. «спортивные соревнования») не отличаются. Противоположный результат получен за период с 2013 по 2016 год для четырех платформ и в целом для всех платформ-  продажи жанра Action значимо выше (принимается альтернативная гипотеза)"
   ]
  },
  {
   "cell_type": "markdown",
   "metadata": {},
   "source": [
    "__Наблюдения по результатам исследования как определеить потенциально популярный продукт и спланировать рекламные кампании__\n",
    "\n",
    "\n",
    "Выявлены средней силы взаимосвязь между рейтингом критиков и продажами игр, определен наиболее доходный жанр для каждой из актуальных платформ за 2013-2016 год и определен рейтинг наиболее популярных жанров в каждом регионе.\n",
    "\n",
    "- Для планирования рекламной кампании на следюущий год важно изучить рейтинги критиков по играм\n",
    "- Выбрать игры с наиболее выоскими рейтингами в наиболее популярных жанрах для каждой платформы\n",
    "- Далее определить в какому рейтингу относится игра, определить для какого рынка та или иная игра может быть более интересна\n"
   ]
  },
  {
   "cell_type": "code",
   "execution_count": null,
   "metadata": {},
   "outputs": [],
   "source": []
  }
 ],
 "metadata": {
  "ExecuteTimeLog": [
   {
    "duration": 1906,
    "start_time": "2022-06-07T16:18:41.269Z"
   },
   {
    "duration": 2,
    "start_time": "2022-06-07T16:18:43.178Z"
   },
   {
    "duration": 27,
    "start_time": "2022-06-07T16:18:43.182Z"
   },
   {
    "duration": 367,
    "start_time": "2022-06-07T16:18:43.216Z"
   },
   {
    "duration": 25,
    "start_time": "2022-06-07T16:18:43.585Z"
   },
   {
    "duration": 29,
    "start_time": "2022-06-07T16:18:51.944Z"
   },
   {
    "duration": 16,
    "start_time": "2022-06-07T16:22:25.851Z"
   },
   {
    "duration": 15,
    "start_time": "2022-06-07T16:22:43.128Z"
   },
   {
    "duration": 19,
    "start_time": "2022-06-07T16:22:43.145Z"
   },
   {
    "duration": 12,
    "start_time": "2022-06-07T16:22:43.168Z"
   },
   {
    "duration": 43,
    "start_time": "2022-06-07T16:22:43.283Z"
   },
   {
    "duration": 17,
    "start_time": "2022-06-07T16:22:43.328Z"
   },
   {
    "duration": 15,
    "start_time": "2022-06-07T16:22:43.346Z"
   },
   {
    "duration": 17,
    "start_time": "2022-06-07T16:22:43.363Z"
   },
   {
    "duration": 10,
    "start_time": "2022-06-07T16:23:28.014Z"
   },
   {
    "duration": 19,
    "start_time": "2022-06-07T16:23:28.026Z"
   },
   {
    "duration": 11,
    "start_time": "2022-06-07T16:23:48.310Z"
   },
   {
    "duration": 53,
    "start_time": "2022-06-07T16:24:08.382Z"
   },
   {
    "duration": 27,
    "start_time": "2022-06-07T16:24:08.438Z"
   },
   {
    "duration": 18,
    "start_time": "2022-06-07T16:24:08.466Z"
   },
   {
    "duration": 14,
    "start_time": "2022-06-07T16:24:15.905Z"
   },
   {
    "duration": 4,
    "start_time": "2022-06-07T16:24:48.831Z"
   },
   {
    "duration": 3,
    "start_time": "2022-06-07T16:24:48.840Z"
   },
   {
    "duration": 5,
    "start_time": "2022-06-07T16:25:06.431Z"
   },
   {
    "duration": 17,
    "start_time": "2022-06-07T16:25:06.437Z"
   },
   {
    "duration": 13,
    "start_time": "2022-06-07T16:25:12.683Z"
   },
   {
    "duration": 9,
    "start_time": "2022-06-07T16:25:24.015Z"
   },
   {
    "duration": 10,
    "start_time": "2022-06-07T16:28:39.034Z"
   },
   {
    "duration": 6,
    "start_time": "2022-06-07T16:28:39.045Z"
   },
   {
    "duration": 177,
    "start_time": "2022-06-07T16:28:39.052Z"
   },
   {
    "duration": 8,
    "start_time": "2022-06-07T16:28:39.231Z"
   },
   {
    "duration": 11,
    "start_time": "2022-06-07T16:28:39.240Z"
   },
   {
    "duration": 11,
    "start_time": "2022-06-07T16:28:42.822Z"
   },
   {
    "duration": 10,
    "start_time": "2022-06-07T16:29:04.310Z"
   },
   {
    "duration": 11,
    "start_time": "2022-06-07T16:29:07.853Z"
   },
   {
    "duration": 13,
    "start_time": "2022-06-07T16:30:24.411Z"
   },
   {
    "duration": 381,
    "start_time": "2022-06-07T16:30:24.426Z"
   },
   {
    "duration": 88,
    "start_time": "2022-06-07T16:31:33.591Z"
   },
   {
    "duration": 17,
    "start_time": "2022-06-07T16:31:47.792Z"
   },
   {
    "duration": 9,
    "start_time": "2022-06-07T16:31:49.721Z"
   },
   {
    "duration": 7,
    "start_time": "2022-06-07T16:32:05.048Z"
   },
   {
    "duration": 3,
    "start_time": "2022-06-07T16:32:18.212Z"
   },
   {
    "duration": 11,
    "start_time": "2022-06-07T16:32:40.167Z"
   },
   {
    "duration": 11,
    "start_time": "2022-06-07T16:33:03.075Z"
   },
   {
    "duration": 26,
    "start_time": "2022-06-07T16:35:35.482Z"
   },
   {
    "duration": 12,
    "start_time": "2022-06-07T16:35:35.509Z"
   },
   {
    "duration": 314,
    "start_time": "2022-06-07T16:35:35.522Z"
   },
   {
    "duration": 1242,
    "start_time": "2022-06-07T16:35:35.838Z"
   },
   {
    "duration": 26,
    "start_time": "2022-06-07T16:35:37.082Z"
   },
   {
    "duration": 38,
    "start_time": "2022-06-07T16:35:37.109Z"
   },
   {
    "duration": 7,
    "start_time": "2022-06-07T16:35:37.149Z"
   },
   {
    "duration": 13,
    "start_time": "2022-06-07T16:35:37.157Z"
   },
   {
    "duration": 11,
    "start_time": "2022-06-07T16:35:37.171Z"
   },
   {
    "duration": 11,
    "start_time": "2022-06-07T16:35:37.185Z"
   },
   {
    "duration": 39,
    "start_time": "2022-06-07T16:35:37.198Z"
   },
   {
    "duration": 18,
    "start_time": "2022-06-07T16:35:37.239Z"
   },
   {
    "duration": 7,
    "start_time": "2022-06-07T16:35:37.258Z"
   },
   {
    "duration": 18,
    "start_time": "2022-06-07T16:35:37.266Z"
   },
   {
    "duration": 95,
    "start_time": "2022-06-07T16:36:18.570Z"
   },
   {
    "duration": 11,
    "start_time": "2022-06-07T16:36:22.141Z"
   },
   {
    "duration": 10,
    "start_time": "2022-06-07T16:36:41.808Z"
   },
   {
    "duration": 20,
    "start_time": "2022-06-07T16:37:34.581Z"
   },
   {
    "duration": 153,
    "start_time": "2022-06-07T16:41:22.059Z"
   },
   {
    "duration": 179,
    "start_time": "2022-06-07T16:41:36.964Z"
   },
   {
    "duration": 19,
    "start_time": "2022-06-07T16:42:13.962Z"
   },
   {
    "duration": 114,
    "start_time": "2022-06-07T16:42:40.170Z"
   },
   {
    "duration": 123,
    "start_time": "2022-06-07T16:42:42.358Z"
   },
   {
    "duration": 16,
    "start_time": "2022-06-07T16:46:47.710Z"
   },
   {
    "duration": 9,
    "start_time": "2022-06-07T16:47:02.232Z"
   },
   {
    "duration": 13,
    "start_time": "2022-06-07T16:47:02.243Z"
   },
   {
    "duration": 15,
    "start_time": "2022-06-07T16:47:02.258Z"
   },
   {
    "duration": 5,
    "start_time": "2022-06-07T16:47:02.274Z"
   },
   {
    "duration": 17,
    "start_time": "2022-06-07T16:47:02.282Z"
   },
   {
    "duration": 246,
    "start_time": "2022-06-07T16:47:02.301Z"
   },
   {
    "duration": 7,
    "start_time": "2022-06-07T16:47:02.549Z"
   },
   {
    "duration": 20,
    "start_time": "2022-06-07T16:47:02.557Z"
   },
   {
    "duration": 11,
    "start_time": "2022-06-07T16:47:02.578Z"
   },
   {
    "duration": 57,
    "start_time": "2022-06-07T16:47:02.590Z"
   },
   {
    "duration": 245,
    "start_time": "2022-06-07T16:47:02.648Z"
   },
   {
    "duration": 19,
    "start_time": "2022-06-07T16:47:02.902Z"
   },
   {
    "duration": 19,
    "start_time": "2022-06-07T16:47:02.923Z"
   },
   {
    "duration": 245,
    "start_time": "2022-06-07T16:47:02.944Z"
   },
   {
    "duration": 10,
    "start_time": "2022-06-07T16:47:09.209Z"
   },
   {
    "duration": 11,
    "start_time": "2022-06-07T16:51:21.530Z"
   },
   {
    "duration": 19,
    "start_time": "2022-06-07T16:53:44.984Z"
   },
   {
    "duration": 26,
    "start_time": "2022-06-07T16:53:59.028Z"
   },
   {
    "duration": 1247,
    "start_time": "2022-06-07T16:57:25.005Z"
   },
   {
    "duration": 3,
    "start_time": "2022-06-07T16:57:26.254Z"
   },
   {
    "duration": 21,
    "start_time": "2022-06-07T16:57:26.259Z"
   },
   {
    "duration": 303,
    "start_time": "2022-06-07T16:57:26.283Z"
   },
   {
    "duration": 23,
    "start_time": "2022-06-07T16:57:26.588Z"
   },
   {
    "duration": 18,
    "start_time": "2022-06-07T16:57:26.612Z"
   },
   {
    "duration": 12,
    "start_time": "2022-06-07T16:57:26.632Z"
   },
   {
    "duration": 24,
    "start_time": "2022-06-07T16:57:26.645Z"
   },
   {
    "duration": 41,
    "start_time": "2022-06-07T16:57:26.671Z"
   },
   {
    "duration": 12,
    "start_time": "2022-06-07T16:57:26.715Z"
   },
   {
    "duration": 9,
    "start_time": "2022-06-07T16:57:26.729Z"
   },
   {
    "duration": 22,
    "start_time": "2022-06-07T16:57:26.740Z"
   },
   {
    "duration": 37,
    "start_time": "2022-06-07T16:57:26.763Z"
   },
   {
    "duration": 28,
    "start_time": "2022-06-07T16:57:26.804Z"
   },
   {
    "duration": 16,
    "start_time": "2022-06-07T16:57:26.833Z"
   },
   {
    "duration": 4,
    "start_time": "2022-06-07T16:57:26.851Z"
   },
   {
    "duration": 6,
    "start_time": "2022-06-07T16:57:26.856Z"
   },
   {
    "duration": 10,
    "start_time": "2022-06-07T16:57:26.864Z"
   },
   {
    "duration": 31,
    "start_time": "2022-06-07T16:57:26.875Z"
   },
   {
    "duration": 17,
    "start_time": "2022-06-07T16:57:26.907Z"
   },
   {
    "duration": 186,
    "start_time": "2022-06-07T16:57:26.926Z"
   },
   {
    "duration": 10,
    "start_time": "2022-06-07T16:57:27.114Z"
   },
   {
    "duration": 13,
    "start_time": "2022-06-07T16:57:27.125Z"
   },
   {
    "duration": 14,
    "start_time": "2022-06-07T16:57:27.140Z"
   },
   {
    "duration": 12,
    "start_time": "2022-06-07T16:57:27.156Z"
   },
   {
    "duration": 29,
    "start_time": "2022-06-07T16:57:27.170Z"
   },
   {
    "duration": 476,
    "start_time": "2022-06-07T16:57:27.201Z"
   },
   {
    "duration": 33,
    "start_time": "2022-06-07T16:57:27.680Z"
   },
   {
    "duration": 12,
    "start_time": "2022-06-07T16:57:27.714Z"
   },
   {
    "duration": 344,
    "start_time": "2022-06-07T16:57:27.728Z"
   },
   {
    "duration": 1150,
    "start_time": "2022-06-07T16:57:28.074Z"
   },
   {
    "duration": 9,
    "start_time": "2022-06-07T16:57:29.226Z"
   },
   {
    "duration": 20,
    "start_time": "2022-06-07T16:57:29.236Z"
   },
   {
    "duration": 5,
    "start_time": "2022-06-07T16:57:29.258Z"
   },
   {
    "duration": 33,
    "start_time": "2022-06-07T16:57:29.264Z"
   },
   {
    "duration": 12,
    "start_time": "2022-06-07T16:57:29.298Z"
   },
   {
    "duration": 11,
    "start_time": "2022-06-07T16:57:29.311Z"
   },
   {
    "duration": 8,
    "start_time": "2022-06-07T16:57:29.324Z"
   },
   {
    "duration": 8,
    "start_time": "2022-06-07T16:57:29.333Z"
   },
   {
    "duration": 4,
    "start_time": "2022-06-07T16:57:29.342Z"
   },
   {
    "duration": 12,
    "start_time": "2022-06-07T16:57:29.348Z"
   },
   {
    "duration": 271,
    "start_time": "2022-06-07T16:57:29.362Z"
   },
   {
    "duration": 5,
    "start_time": "2022-06-07T16:57:29.635Z"
   },
   {
    "duration": 7,
    "start_time": "2022-06-07T16:57:29.641Z"
   },
   {
    "duration": 7,
    "start_time": "2022-06-07T16:57:29.649Z"
   },
   {
    "duration": 43,
    "start_time": "2022-06-07T16:57:29.657Z"
   },
   {
    "duration": 241,
    "start_time": "2022-06-07T16:57:29.707Z"
   },
   {
    "duration": 13,
    "start_time": "2022-06-07T16:57:29.950Z"
   },
   {
    "duration": 35,
    "start_time": "2022-06-07T16:57:29.964Z"
   },
   {
    "duration": 7,
    "start_time": "2022-06-07T16:57:41.145Z"
   },
   {
    "duration": 167,
    "start_time": "2022-06-07T16:57:52.511Z"
   },
   {
    "duration": 28,
    "start_time": "2022-06-07T16:57:55.391Z"
   },
   {
    "duration": 17,
    "start_time": "2022-06-07T17:02:07.826Z"
   },
   {
    "duration": 1069,
    "start_time": "2022-06-07T17:02:25.237Z"
   },
   {
    "duration": 3,
    "start_time": "2022-06-07T17:02:26.308Z"
   },
   {
    "duration": 29,
    "start_time": "2022-06-07T17:02:26.312Z"
   },
   {
    "duration": 225,
    "start_time": "2022-06-07T17:02:26.343Z"
   },
   {
    "duration": 10,
    "start_time": "2022-06-07T17:02:26.569Z"
   },
   {
    "duration": 30,
    "start_time": "2022-06-07T17:02:26.581Z"
   },
   {
    "duration": 15,
    "start_time": "2022-06-07T17:02:26.613Z"
   },
   {
    "duration": 21,
    "start_time": "2022-06-07T17:02:26.630Z"
   },
   {
    "duration": 42,
    "start_time": "2022-06-07T17:02:26.653Z"
   },
   {
    "duration": 14,
    "start_time": "2022-06-07T17:02:26.698Z"
   },
   {
    "duration": 13,
    "start_time": "2022-06-07T17:02:26.714Z"
   },
   {
    "duration": 19,
    "start_time": "2022-06-07T17:02:26.728Z"
   },
   {
    "duration": 15,
    "start_time": "2022-06-07T17:02:26.748Z"
   },
   {
    "duration": 55,
    "start_time": "2022-06-07T17:02:26.764Z"
   },
   {
    "duration": 16,
    "start_time": "2022-06-07T17:02:26.821Z"
   },
   {
    "duration": 5,
    "start_time": "2022-06-07T17:02:26.838Z"
   },
   {
    "duration": 6,
    "start_time": "2022-06-07T17:02:26.844Z"
   },
   {
    "duration": 12,
    "start_time": "2022-06-07T17:02:26.852Z"
   },
   {
    "duration": 33,
    "start_time": "2022-06-07T17:02:26.866Z"
   },
   {
    "duration": 8,
    "start_time": "2022-06-07T17:02:26.901Z"
   },
   {
    "duration": 177,
    "start_time": "2022-06-07T17:02:26.911Z"
   },
   {
    "duration": 11,
    "start_time": "2022-06-07T17:02:27.090Z"
   },
   {
    "duration": 19,
    "start_time": "2022-06-07T17:02:27.103Z"
   },
   {
    "duration": 20,
    "start_time": "2022-06-07T17:02:27.123Z"
   },
   {
    "duration": 14,
    "start_time": "2022-06-07T17:02:27.145Z"
   },
   {
    "duration": 11,
    "start_time": "2022-06-07T17:02:27.160Z"
   },
   {
    "duration": 336,
    "start_time": "2022-06-07T17:02:27.194Z"
   },
   {
    "duration": 19,
    "start_time": "2022-06-07T17:02:27.533Z"
   },
   {
    "duration": 11,
    "start_time": "2022-06-07T17:02:27.553Z"
   },
   {
    "duration": 355,
    "start_time": "2022-06-07T17:02:27.565Z"
   },
   {
    "duration": 1163,
    "start_time": "2022-06-07T17:02:27.922Z"
   },
   {
    "duration": 20,
    "start_time": "2022-06-07T17:02:29.086Z"
   },
   {
    "duration": 28,
    "start_time": "2022-06-07T17:02:29.107Z"
   },
   {
    "duration": 6,
    "start_time": "2022-06-07T17:02:29.136Z"
   },
   {
    "duration": 12,
    "start_time": "2022-06-07T17:02:29.143Z"
   },
   {
    "duration": 7,
    "start_time": "2022-06-07T17:02:29.156Z"
   },
   {
    "duration": 10,
    "start_time": "2022-06-07T17:02:29.164Z"
   },
   {
    "duration": 26,
    "start_time": "2022-06-07T17:02:29.175Z"
   },
   {
    "duration": 10,
    "start_time": "2022-06-07T17:02:29.202Z"
   },
   {
    "duration": 7,
    "start_time": "2022-06-07T17:02:29.213Z"
   },
   {
    "duration": 99,
    "start_time": "2022-06-07T17:02:29.221Z"
   },
   {
    "duration": 161,
    "start_time": "2022-06-07T17:02:29.321Z"
   },
   {
    "duration": 15,
    "start_time": "2022-06-07T17:02:29.483Z"
   },
   {
    "duration": 10,
    "start_time": "2022-06-07T17:02:29.499Z"
   },
   {
    "duration": 7,
    "start_time": "2022-06-07T17:02:29.511Z"
   },
   {
    "duration": 32,
    "start_time": "2022-06-07T17:02:29.520Z"
   },
   {
    "duration": 264,
    "start_time": "2022-06-07T17:02:29.553Z"
   },
   {
    "duration": 18,
    "start_time": "2022-06-07T17:02:29.819Z"
   },
   {
    "duration": 14,
    "start_time": "2022-06-07T17:02:34.450Z"
   },
   {
    "duration": 17,
    "start_time": "2022-06-07T17:07:44.749Z"
   },
   {
    "duration": 20,
    "start_time": "2022-06-07T17:09:00.881Z"
   },
   {
    "duration": 15,
    "start_time": "2022-06-07T17:09:44.393Z"
   },
   {
    "duration": 12,
    "start_time": "2022-06-07T17:09:54.835Z"
   },
   {
    "duration": 92,
    "start_time": "2022-06-07T17:13:59.486Z"
   },
   {
    "duration": 12,
    "start_time": "2022-06-07T17:14:05.087Z"
   },
   {
    "duration": 15,
    "start_time": "2022-06-07T17:17:45.483Z"
   },
   {
    "duration": 32,
    "start_time": "2022-06-07T17:17:52.795Z"
   },
   {
    "duration": 224,
    "start_time": "2022-06-07T17:19:37.241Z"
   },
   {
    "duration": 1084,
    "start_time": "2022-06-07T17:20:29.044Z"
   },
   {
    "duration": 4,
    "start_time": "2022-06-07T17:20:30.129Z"
   },
   {
    "duration": 33,
    "start_time": "2022-06-07T17:20:30.134Z"
   },
   {
    "duration": 229,
    "start_time": "2022-06-07T17:20:30.169Z"
   },
   {
    "duration": 11,
    "start_time": "2022-06-07T17:20:30.400Z"
   },
   {
    "duration": 23,
    "start_time": "2022-06-07T17:20:30.412Z"
   },
   {
    "duration": 15,
    "start_time": "2022-06-07T17:20:30.439Z"
   },
   {
    "duration": 22,
    "start_time": "2022-06-07T17:20:30.456Z"
   },
   {
    "duration": 18,
    "start_time": "2022-06-07T17:20:30.495Z"
   },
   {
    "duration": 15,
    "start_time": "2022-06-07T17:20:30.515Z"
   },
   {
    "duration": 32,
    "start_time": "2022-06-07T17:20:30.532Z"
   },
   {
    "duration": 31,
    "start_time": "2022-06-07T17:20:30.566Z"
   },
   {
    "duration": 12,
    "start_time": "2022-06-07T17:21:36.622Z"
   },
   {
    "duration": 19,
    "start_time": "2022-06-07T17:21:46.279Z"
   },
   {
    "duration": 12,
    "start_time": "2022-06-07T17:21:50.242Z"
   },
   {
    "duration": 9,
    "start_time": "2022-06-07T17:22:05.549Z"
   },
   {
    "duration": 317,
    "start_time": "2022-06-07T17:24:14.884Z"
   },
   {
    "duration": 22,
    "start_time": "2022-06-07T17:24:21.749Z"
   },
   {
    "duration": 14,
    "start_time": "2022-06-07T17:24:29.144Z"
   },
   {
    "duration": 14,
    "start_time": "2022-06-07T17:26:08.172Z"
   },
   {
    "duration": 10,
    "start_time": "2022-06-07T17:31:05.227Z"
   },
   {
    "duration": 60,
    "start_time": "2022-06-07T17:31:16.237Z"
   },
   {
    "duration": 3,
    "start_time": "2022-06-07T17:31:16.299Z"
   },
   {
    "duration": 13,
    "start_time": "2022-06-07T17:31:16.304Z"
   },
   {
    "duration": 238,
    "start_time": "2022-06-07T17:31:16.319Z"
   },
   {
    "duration": 10,
    "start_time": "2022-06-07T17:31:16.559Z"
   },
   {
    "duration": 36,
    "start_time": "2022-06-07T17:31:16.570Z"
   },
   {
    "duration": 11,
    "start_time": "2022-06-07T17:31:16.607Z"
   },
   {
    "duration": 20,
    "start_time": "2022-06-07T17:31:16.619Z"
   },
   {
    "duration": 13,
    "start_time": "2022-06-07T17:31:16.641Z"
   },
   {
    "duration": 40,
    "start_time": "2022-06-07T17:31:16.655Z"
   },
   {
    "duration": 8,
    "start_time": "2022-06-07T17:31:16.696Z"
   },
   {
    "duration": 19,
    "start_time": "2022-06-07T17:31:16.706Z"
   },
   {
    "duration": 8,
    "start_time": "2022-06-07T17:31:16.727Z"
   },
   {
    "duration": 23,
    "start_time": "2022-06-07T17:31:16.738Z"
   },
   {
    "duration": 38,
    "start_time": "2022-06-07T17:31:16.762Z"
   },
   {
    "duration": 4,
    "start_time": "2022-06-07T17:31:16.801Z"
   },
   {
    "duration": 7,
    "start_time": "2022-06-07T17:31:16.806Z"
   },
   {
    "duration": 9,
    "start_time": "2022-06-07T17:31:16.815Z"
   },
   {
    "duration": 11,
    "start_time": "2022-06-07T17:31:16.826Z"
   },
   {
    "duration": 6,
    "start_time": "2022-06-07T17:31:16.839Z"
   },
   {
    "duration": 163,
    "start_time": "2022-06-07T17:31:16.846Z"
   },
   {
    "duration": 8,
    "start_time": "2022-06-07T17:31:17.011Z"
   },
   {
    "duration": 7,
    "start_time": "2022-06-07T17:31:17.021Z"
   },
   {
    "duration": 14,
    "start_time": "2022-06-07T17:31:17.030Z"
   },
   {
    "duration": 11,
    "start_time": "2022-06-07T17:31:17.045Z"
   },
   {
    "duration": 9,
    "start_time": "2022-06-07T17:31:17.057Z"
   },
   {
    "duration": 278,
    "start_time": "2022-06-07T17:31:17.068Z"
   },
   {
    "duration": 17,
    "start_time": "2022-06-07T17:31:17.348Z"
   },
   {
    "duration": 28,
    "start_time": "2022-06-07T17:31:17.367Z"
   },
   {
    "duration": 309,
    "start_time": "2022-06-07T17:31:17.396Z"
   },
   {
    "duration": 1221,
    "start_time": "2022-06-07T17:31:17.707Z"
   },
   {
    "duration": 9,
    "start_time": "2022-06-07T17:31:18.930Z"
   },
   {
    "duration": 27,
    "start_time": "2022-06-07T17:31:18.940Z"
   },
   {
    "duration": 7,
    "start_time": "2022-06-07T17:31:18.969Z"
   },
   {
    "duration": 17,
    "start_time": "2022-06-07T17:31:18.978Z"
   },
   {
    "duration": 8,
    "start_time": "2022-06-07T17:31:18.997Z"
   },
   {
    "duration": 8,
    "start_time": "2022-06-07T17:31:19.006Z"
   },
   {
    "duration": 10,
    "start_time": "2022-06-07T17:31:19.015Z"
   },
   {
    "duration": 6,
    "start_time": "2022-06-07T17:31:19.027Z"
   },
   {
    "duration": 6,
    "start_time": "2022-06-07T17:31:19.034Z"
   },
   {
    "duration": 8,
    "start_time": "2022-06-07T17:31:19.045Z"
   },
   {
    "duration": 198,
    "start_time": "2022-06-07T17:31:19.054Z"
   },
   {
    "duration": 6,
    "start_time": "2022-06-07T17:31:19.254Z"
   },
   {
    "duration": 8,
    "start_time": "2022-06-07T17:31:19.261Z"
   },
   {
    "duration": 5,
    "start_time": "2022-06-07T17:31:19.270Z"
   },
   {
    "duration": 36,
    "start_time": "2022-06-07T17:31:19.277Z"
   },
   {
    "duration": 237,
    "start_time": "2022-06-07T17:31:19.315Z"
   },
   {
    "duration": 14,
    "start_time": "2022-06-07T17:31:19.553Z"
   },
   {
    "duration": 9,
    "start_time": "2022-06-07T17:31:19.568Z"
   },
   {
    "duration": 174,
    "start_time": "2022-06-07T17:31:19.578Z"
   },
   {
    "duration": 11,
    "start_time": "2022-06-07T17:31:19.753Z"
   },
   {
    "duration": 244,
    "start_time": "2022-06-07T17:31:19.765Z"
   },
   {
    "duration": 12,
    "start_time": "2022-06-07T17:31:20.010Z"
   },
   {
    "duration": 248,
    "start_time": "2022-06-07T17:31:20.024Z"
   },
   {
    "duration": 23,
    "start_time": "2022-06-07T17:31:20.273Z"
   },
   {
    "duration": 227,
    "start_time": "2022-06-07T17:31:20.297Z"
   },
   {
    "duration": 11,
    "start_time": "2022-06-07T17:31:20.525Z"
   },
   {
    "duration": 219,
    "start_time": "2022-06-07T17:31:20.537Z"
   },
   {
    "duration": 23,
    "start_time": "2022-06-07T17:31:20.757Z"
   },
   {
    "duration": 13,
    "start_time": "2022-06-07T17:31:20.795Z"
   },
   {
    "duration": 8,
    "start_time": "2022-06-07T17:31:20.810Z"
   },
   {
    "duration": 14,
    "start_time": "2022-06-07T17:31:20.819Z"
   },
   {
    "duration": 11,
    "start_time": "2022-06-07T17:31:20.835Z"
   },
   {
    "duration": 11,
    "start_time": "2022-06-07T17:31:20.847Z"
   },
   {
    "duration": 36,
    "start_time": "2022-06-07T17:31:20.860Z"
   },
   {
    "duration": 11,
    "start_time": "2022-06-07T17:31:20.897Z"
   },
   {
    "duration": 12,
    "start_time": "2022-06-07T17:31:20.909Z"
   },
   {
    "duration": 4,
    "start_time": "2022-06-07T17:31:20.922Z"
   },
   {
    "duration": 7,
    "start_time": "2022-06-07T17:31:20.927Z"
   },
   {
    "duration": 11,
    "start_time": "2022-06-07T17:31:20.935Z"
   },
   {
    "duration": 47,
    "start_time": "2022-06-07T17:31:20.947Z"
   },
   {
    "duration": 12,
    "start_time": "2022-06-07T17:31:20.996Z"
   },
   {
    "duration": 12,
    "start_time": "2022-06-07T17:31:21.009Z"
   },
   {
    "duration": 10,
    "start_time": "2022-06-07T17:31:21.022Z"
   },
   {
    "duration": 14,
    "start_time": "2022-06-07T17:31:21.034Z"
   },
   {
    "duration": 157,
    "start_time": "2022-06-07T17:31:21.049Z"
   },
   {
    "duration": 226,
    "start_time": "2022-06-07T17:31:21.208Z"
   },
   {
    "duration": 13,
    "start_time": "2022-06-07T17:31:21.436Z"
   },
   {
    "duration": 12,
    "start_time": "2022-06-07T17:31:21.451Z"
   },
   {
    "duration": 36,
    "start_time": "2022-06-07T17:31:21.465Z"
   },
   {
    "duration": 143,
    "start_time": "2022-06-07T17:31:21.502Z"
   },
   {
    "duration": 130,
    "start_time": "2022-06-07T17:31:21.646Z"
   },
   {
    "duration": 27,
    "start_time": "2022-06-07T17:31:21.777Z"
   },
   {
    "duration": 136,
    "start_time": "2022-06-07T17:31:21.806Z"
   },
   {
    "duration": 150,
    "start_time": "2022-06-07T17:31:21.944Z"
   },
   {
    "duration": 12,
    "start_time": "2022-06-07T17:31:22.096Z"
   },
   {
    "duration": 8,
    "start_time": "2022-06-07T17:31:29.614Z"
   },
   {
    "duration": 1073,
    "start_time": "2022-06-07T17:34:11.151Z"
   },
   {
    "duration": 2,
    "start_time": "2022-06-07T17:34:12.226Z"
   },
   {
    "duration": 20,
    "start_time": "2022-06-07T17:34:12.230Z"
   },
   {
    "duration": 229,
    "start_time": "2022-06-07T17:34:12.251Z"
   },
   {
    "duration": 17,
    "start_time": "2022-06-07T17:34:12.481Z"
   },
   {
    "duration": 13,
    "start_time": "2022-06-07T17:34:12.499Z"
   },
   {
    "duration": 12,
    "start_time": "2022-06-07T17:34:12.513Z"
   },
   {
    "duration": 22,
    "start_time": "2022-06-07T17:34:12.526Z"
   },
   {
    "duration": 14,
    "start_time": "2022-06-07T17:34:12.550Z"
   },
   {
    "duration": 12,
    "start_time": "2022-06-07T17:34:12.593Z"
   },
   {
    "duration": 8,
    "start_time": "2022-06-07T17:34:12.606Z"
   },
   {
    "duration": 19,
    "start_time": "2022-06-07T17:34:12.616Z"
   },
   {
    "duration": 13,
    "start_time": "2022-06-07T17:34:12.646Z"
   },
   {
    "duration": 34,
    "start_time": "2022-06-07T17:34:12.661Z"
   },
   {
    "duration": 12,
    "start_time": "2022-06-07T17:34:12.696Z"
   },
   {
    "duration": 4,
    "start_time": "2022-06-07T17:34:12.709Z"
   },
   {
    "duration": 9,
    "start_time": "2022-06-07T17:34:12.714Z"
   },
   {
    "duration": 10,
    "start_time": "2022-06-07T17:34:12.724Z"
   },
   {
    "duration": 13,
    "start_time": "2022-06-07T17:34:12.736Z"
   },
   {
    "duration": 7,
    "start_time": "2022-06-07T17:34:12.750Z"
   },
   {
    "duration": 165,
    "start_time": "2022-06-07T17:34:12.758Z"
   },
   {
    "duration": 8,
    "start_time": "2022-06-07T17:34:12.925Z"
   },
   {
    "duration": 7,
    "start_time": "2022-06-07T17:34:12.935Z"
   },
   {
    "duration": 12,
    "start_time": "2022-06-07T17:34:12.943Z"
   },
   {
    "duration": 11,
    "start_time": "2022-06-07T17:34:12.956Z"
   },
   {
    "duration": 11,
    "start_time": "2022-06-07T17:34:12.994Z"
   },
   {
    "duration": 312,
    "start_time": "2022-06-07T17:34:13.006Z"
   },
   {
    "duration": 18,
    "start_time": "2022-06-07T17:34:13.320Z"
   },
   {
    "duration": 10,
    "start_time": "2022-06-07T17:34:13.339Z"
   },
   {
    "duration": 301,
    "start_time": "2022-06-07T17:34:13.351Z"
   },
   {
    "duration": 1108,
    "start_time": "2022-06-07T17:34:13.654Z"
   },
   {
    "duration": 9,
    "start_time": "2022-06-07T17:34:14.763Z"
   },
   {
    "duration": 29,
    "start_time": "2022-06-07T17:34:14.773Z"
   },
   {
    "duration": 7,
    "start_time": "2022-06-07T17:34:14.803Z"
   },
   {
    "duration": 12,
    "start_time": "2022-06-07T17:34:14.811Z"
   },
   {
    "duration": 10,
    "start_time": "2022-06-07T17:34:14.827Z"
   },
   {
    "duration": 8,
    "start_time": "2022-06-07T17:34:14.840Z"
   },
   {
    "duration": 7,
    "start_time": "2022-06-07T17:34:14.849Z"
   },
   {
    "duration": 8,
    "start_time": "2022-06-07T17:34:14.857Z"
   },
   {
    "duration": 4,
    "start_time": "2022-06-07T17:34:14.866Z"
   },
   {
    "duration": 28,
    "start_time": "2022-06-07T17:34:14.871Z"
   },
   {
    "duration": 248,
    "start_time": "2022-06-07T17:34:14.901Z"
   },
   {
    "duration": 6,
    "start_time": "2022-06-07T17:34:15.150Z"
   },
   {
    "duration": 4,
    "start_time": "2022-06-07T17:34:15.158Z"
   },
   {
    "duration": 6,
    "start_time": "2022-06-07T17:34:15.164Z"
   },
   {
    "duration": 39,
    "start_time": "2022-06-07T17:34:15.171Z"
   },
   {
    "duration": 240,
    "start_time": "2022-06-07T17:34:15.212Z"
   },
   {
    "duration": 14,
    "start_time": "2022-06-07T17:34:15.453Z"
   },
   {
    "duration": 112,
    "start_time": "2022-06-07T17:34:34.239Z"
   },
   {
    "duration": 118,
    "start_time": "2022-06-07T17:34:36.862Z"
   },
   {
    "duration": 1127,
    "start_time": "2022-06-07T17:35:10.558Z"
   },
   {
    "duration": 3,
    "start_time": "2022-06-07T17:35:11.686Z"
   },
   {
    "duration": 16,
    "start_time": "2022-06-07T17:35:11.691Z"
   },
   {
    "duration": 227,
    "start_time": "2022-06-07T17:35:11.709Z"
   },
   {
    "duration": 11,
    "start_time": "2022-06-07T17:35:11.938Z"
   },
   {
    "duration": 12,
    "start_time": "2022-06-07T17:35:11.950Z"
   },
   {
    "duration": 11,
    "start_time": "2022-06-07T17:35:11.963Z"
   },
   {
    "duration": 22,
    "start_time": "2022-06-07T17:35:11.994Z"
   },
   {
    "duration": 18,
    "start_time": "2022-06-07T17:35:12.018Z"
   },
   {
    "duration": 12,
    "start_time": "2022-06-07T17:35:12.038Z"
   },
   {
    "duration": 29,
    "start_time": "2022-06-07T17:35:12.052Z"
   },
   {
    "duration": 18,
    "start_time": "2022-06-07T17:35:12.093Z"
   },
   {
    "duration": 11,
    "start_time": "2022-06-07T17:35:12.112Z"
   },
   {
    "duration": 20,
    "start_time": "2022-06-07T17:35:12.125Z"
   },
   {
    "duration": 11,
    "start_time": "2022-06-07T17:35:12.146Z"
   },
   {
    "duration": 4,
    "start_time": "2022-06-07T17:35:12.158Z"
   },
   {
    "duration": 4,
    "start_time": "2022-06-07T17:35:12.194Z"
   },
   {
    "duration": 12,
    "start_time": "2022-06-07T17:35:12.199Z"
   },
   {
    "duration": 22,
    "start_time": "2022-06-07T17:35:12.213Z"
   },
   {
    "duration": 7,
    "start_time": "2022-06-07T17:35:12.236Z"
   },
   {
    "duration": 154,
    "start_time": "2022-06-07T17:35:12.245Z"
   },
   {
    "duration": 9,
    "start_time": "2022-06-07T17:35:12.401Z"
   },
   {
    "duration": 12,
    "start_time": "2022-06-07T17:35:12.411Z"
   },
   {
    "duration": 13,
    "start_time": "2022-06-07T17:35:12.425Z"
   },
   {
    "duration": 11,
    "start_time": "2022-06-07T17:35:12.439Z"
   },
   {
    "duration": 11,
    "start_time": "2022-06-07T17:35:12.451Z"
   },
   {
    "duration": 306,
    "start_time": "2022-06-07T17:35:12.493Z"
   },
   {
    "duration": 16,
    "start_time": "2022-06-07T17:35:12.802Z"
   },
   {
    "duration": 10,
    "start_time": "2022-06-07T17:35:12.820Z"
   },
   {
    "duration": 305,
    "start_time": "2022-06-07T17:35:12.831Z"
   },
   {
    "duration": 1094,
    "start_time": "2022-06-07T17:35:13.138Z"
   },
   {
    "duration": 9,
    "start_time": "2022-06-07T17:35:14.234Z"
   },
   {
    "duration": 20,
    "start_time": "2022-06-07T17:35:14.245Z"
   },
   {
    "duration": 8,
    "start_time": "2022-06-07T17:35:14.267Z"
   },
   {
    "duration": 24,
    "start_time": "2022-06-07T17:35:14.276Z"
   },
   {
    "duration": 9,
    "start_time": "2022-06-07T17:35:14.302Z"
   },
   {
    "duration": 11,
    "start_time": "2022-06-07T17:35:14.312Z"
   },
   {
    "duration": 9,
    "start_time": "2022-06-07T17:35:14.325Z"
   },
   {
    "duration": 6,
    "start_time": "2022-06-07T17:35:14.336Z"
   },
   {
    "duration": 6,
    "start_time": "2022-06-07T17:35:14.343Z"
   },
   {
    "duration": 112,
    "start_time": "2022-06-07T17:35:14.350Z"
   },
   {
    "duration": 173,
    "start_time": "2022-06-07T17:35:14.463Z"
   },
   {
    "duration": 5,
    "start_time": "2022-06-07T17:35:14.638Z"
   },
   {
    "duration": 8,
    "start_time": "2022-06-07T17:35:14.645Z"
   },
   {
    "duration": 7,
    "start_time": "2022-06-07T17:35:14.655Z"
   },
   {
    "duration": 39,
    "start_time": "2022-06-07T17:35:14.663Z"
   },
   {
    "duration": 243,
    "start_time": "2022-06-07T17:35:14.704Z"
   },
   {
    "duration": 13,
    "start_time": "2022-06-07T17:35:14.949Z"
   },
   {
    "duration": 7,
    "start_time": "2022-06-07T17:35:14.964Z"
   },
   {
    "duration": 180,
    "start_time": "2022-06-07T17:35:14.973Z"
   },
   {
    "duration": 12,
    "start_time": "2022-06-07T17:35:15.155Z"
   },
   {
    "duration": 241,
    "start_time": "2022-06-07T17:35:15.168Z"
   },
   {
    "duration": 13,
    "start_time": "2022-06-07T17:35:15.410Z"
   },
   {
    "duration": 242,
    "start_time": "2022-06-07T17:35:15.424Z"
   },
   {
    "duration": 11,
    "start_time": "2022-06-07T17:35:15.668Z"
   },
   {
    "duration": 215,
    "start_time": "2022-06-07T17:35:15.694Z"
   },
   {
    "duration": 12,
    "start_time": "2022-06-07T17:35:15.910Z"
   },
   {
    "duration": 227,
    "start_time": "2022-06-07T17:35:15.924Z"
   },
   {
    "duration": 22,
    "start_time": "2022-06-07T17:35:16.153Z"
   },
   {
    "duration": 28,
    "start_time": "2022-06-07T17:35:16.177Z"
   },
   {
    "duration": 8,
    "start_time": "2022-06-07T17:35:16.206Z"
   },
   {
    "duration": 11,
    "start_time": "2022-06-07T17:35:16.216Z"
   },
   {
    "duration": 12,
    "start_time": "2022-06-07T17:35:16.229Z"
   },
   {
    "duration": 17,
    "start_time": "2022-06-07T17:35:16.242Z"
   },
   {
    "duration": 35,
    "start_time": "2022-06-07T17:35:16.260Z"
   },
   {
    "duration": 15,
    "start_time": "2022-06-07T17:35:16.297Z"
   },
   {
    "duration": 14,
    "start_time": "2022-06-07T17:35:16.314Z"
   },
   {
    "duration": 5,
    "start_time": "2022-06-07T17:35:16.329Z"
   },
   {
    "duration": 7,
    "start_time": "2022-06-07T17:35:16.336Z"
   },
   {
    "duration": 13,
    "start_time": "2022-06-07T17:35:16.344Z"
   },
   {
    "duration": 44,
    "start_time": "2022-06-07T17:35:16.359Z"
   },
   {
    "duration": 13,
    "start_time": "2022-06-07T17:35:16.405Z"
   },
   {
    "duration": 13,
    "start_time": "2022-06-07T17:35:16.420Z"
   },
   {
    "duration": 13,
    "start_time": "2022-06-07T17:35:16.434Z"
   },
   {
    "duration": 18,
    "start_time": "2022-06-07T17:35:16.449Z"
   },
   {
    "duration": 162,
    "start_time": "2022-06-07T17:35:16.469Z"
   },
   {
    "duration": 119,
    "start_time": "2022-06-07T17:35:16.632Z"
   },
   {
    "duration": 10,
    "start_time": "2022-06-07T17:35:16.752Z"
   },
   {
    "duration": 9,
    "start_time": "2022-06-07T17:35:16.764Z"
   },
   {
    "duration": 27,
    "start_time": "2022-06-07T17:35:16.774Z"
   },
   {
    "duration": 108,
    "start_time": "2022-06-07T17:35:16.803Z"
   },
   {
    "duration": 194,
    "start_time": "2022-06-07T17:35:16.916Z"
   },
   {
    "duration": 14,
    "start_time": "2022-06-07T17:35:17.112Z"
   },
   {
    "duration": 116,
    "start_time": "2022-06-07T17:35:17.127Z"
   },
   {
    "duration": 110,
    "start_time": "2022-06-07T17:35:17.245Z"
   },
   {
    "duration": 10,
    "start_time": "2022-06-07T17:35:17.356Z"
   },
   {
    "duration": 13,
    "start_time": "2022-06-07T17:38:39.311Z"
   },
   {
    "duration": 13,
    "start_time": "2022-06-07T17:38:50.974Z"
   },
   {
    "duration": 1210,
    "start_time": "2022-06-09T10:14:19.590Z"
   },
   {
    "duration": 194,
    "start_time": "2022-06-09T10:14:20.803Z"
   },
   {
    "duration": 6,
    "start_time": "2022-06-09T10:14:20.999Z"
   },
   {
    "duration": 39,
    "start_time": "2022-06-09T10:14:21.008Z"
   },
   {
    "duration": 11,
    "start_time": "2022-06-09T10:14:21.049Z"
   },
   {
    "duration": 19,
    "start_time": "2022-06-09T10:14:21.062Z"
   },
   {
    "duration": 17,
    "start_time": "2022-06-09T10:14:21.083Z"
   },
   {
    "duration": 13,
    "start_time": "2022-06-09T10:14:21.103Z"
   },
   {
    "duration": 47,
    "start_time": "2022-06-09T10:14:21.118Z"
   },
   {
    "duration": 17,
    "start_time": "2022-06-09T10:14:21.168Z"
   },
   {
    "duration": 9,
    "start_time": "2022-06-09T10:14:21.186Z"
   },
   {
    "duration": 14,
    "start_time": "2022-06-09T10:14:21.197Z"
   },
   {
    "duration": 30,
    "start_time": "2022-06-09T10:14:21.213Z"
   },
   {
    "duration": 23,
    "start_time": "2022-06-09T10:14:21.245Z"
   },
   {
    "duration": 28,
    "start_time": "2022-06-09T10:14:21.269Z"
   },
   {
    "duration": 12,
    "start_time": "2022-06-09T10:14:21.299Z"
   },
   {
    "duration": 4,
    "start_time": "2022-06-09T10:14:21.313Z"
   },
   {
    "duration": 13,
    "start_time": "2022-06-09T10:14:21.319Z"
   },
   {
    "duration": 25,
    "start_time": "2022-06-09T10:14:21.334Z"
   },
   {
    "duration": 18,
    "start_time": "2022-06-09T10:14:21.361Z"
   },
   {
    "duration": 27,
    "start_time": "2022-06-09T10:14:21.381Z"
   },
   {
    "duration": 189,
    "start_time": "2022-06-09T10:14:21.410Z"
   },
   {
    "duration": 10,
    "start_time": "2022-06-09T10:14:21.601Z"
   },
   {
    "duration": 26,
    "start_time": "2022-06-09T10:14:21.612Z"
   },
   {
    "duration": 12,
    "start_time": "2022-06-09T10:14:21.640Z"
   },
   {
    "duration": 9,
    "start_time": "2022-06-09T10:14:21.658Z"
   },
   {
    "duration": 14,
    "start_time": "2022-06-09T10:14:21.668Z"
   },
   {
    "duration": 13,
    "start_time": "2022-06-09T10:14:21.686Z"
   },
   {
    "duration": 226,
    "start_time": "2022-06-09T10:14:21.700Z"
   },
   {
    "duration": 199,
    "start_time": "2022-06-09T10:14:21.928Z"
   },
   {
    "duration": 14,
    "start_time": "2022-06-09T10:14:22.129Z"
   },
   {
    "duration": 7,
    "start_time": "2022-06-09T10:14:22.159Z"
   },
   {
    "duration": 22,
    "start_time": "2022-06-09T10:14:22.168Z"
   },
   {
    "duration": 362,
    "start_time": "2022-06-09T10:14:22.192Z"
   },
   {
    "duration": 21,
    "start_time": "2022-06-09T10:14:22.556Z"
   },
   {
    "duration": 13,
    "start_time": "2022-06-09T10:14:22.579Z"
   },
   {
    "duration": 345,
    "start_time": "2022-06-09T10:14:22.594Z"
   },
   {
    "duration": 18,
    "start_time": "2022-06-09T10:14:22.941Z"
   },
   {
    "duration": 30,
    "start_time": "2022-06-09T10:14:22.961Z"
   },
   {
    "duration": 7,
    "start_time": "2022-06-09T10:14:22.993Z"
   },
   {
    "duration": 10,
    "start_time": "2022-06-09T10:14:23.002Z"
   },
   {
    "duration": 9,
    "start_time": "2022-06-09T10:14:23.014Z"
   },
   {
    "duration": 12,
    "start_time": "2022-06-09T10:14:23.025Z"
   },
   {
    "duration": 27,
    "start_time": "2022-06-09T10:14:23.038Z"
   },
   {
    "duration": 7,
    "start_time": "2022-06-09T10:14:23.067Z"
   },
   {
    "duration": 12,
    "start_time": "2022-06-09T10:14:23.076Z"
   },
   {
    "duration": 7,
    "start_time": "2022-06-09T10:14:23.090Z"
   },
   {
    "duration": 13,
    "start_time": "2022-06-09T10:14:23.098Z"
   },
   {
    "duration": 278,
    "start_time": "2022-06-09T10:14:23.113Z"
   },
   {
    "duration": 170,
    "start_time": "2022-06-09T10:14:23.393Z"
   },
   {
    "duration": 166,
    "start_time": "2022-06-09T10:14:23.565Z"
   },
   {
    "duration": 11,
    "start_time": "2022-06-09T10:14:52.149Z"
   },
   {
    "duration": 19,
    "start_time": "2022-06-09T10:15:09.716Z"
   },
   {
    "duration": 106,
    "start_time": "2022-06-09T10:20:14.073Z"
   },
   {
    "duration": 4,
    "start_time": "2022-06-09T10:21:29.098Z"
   },
   {
    "duration": 28,
    "start_time": "2022-06-09T10:22:08.120Z"
   },
   {
    "duration": 16,
    "start_time": "2022-06-09T10:22:18.975Z"
   },
   {
    "duration": 15,
    "start_time": "2022-06-09T10:22:28.557Z"
   },
   {
    "duration": 210,
    "start_time": "2022-06-09T10:23:48.250Z"
   },
   {
    "duration": 171,
    "start_time": "2022-06-09T10:24:41.508Z"
   },
   {
    "duration": 173,
    "start_time": "2022-06-09T10:24:49.099Z"
   },
   {
    "duration": 198,
    "start_time": "2022-06-09T10:25:21.277Z"
   },
   {
    "duration": 1194,
    "start_time": "2022-06-09T10:36:14.658Z"
   },
   {
    "duration": 67,
    "start_time": "2022-06-09T10:36:15.854Z"
   },
   {
    "duration": 6,
    "start_time": "2022-06-09T10:36:15.924Z"
   },
   {
    "duration": 29,
    "start_time": "2022-06-09T10:36:15.933Z"
   },
   {
    "duration": 10,
    "start_time": "2022-06-09T10:36:15.963Z"
   },
   {
    "duration": 12,
    "start_time": "2022-06-09T10:36:15.975Z"
   },
   {
    "duration": 15,
    "start_time": "2022-06-09T10:36:15.989Z"
   },
   {
    "duration": 19,
    "start_time": "2022-06-09T10:36:16.006Z"
   },
   {
    "duration": 55,
    "start_time": "2022-06-09T10:36:16.027Z"
   },
   {
    "duration": 18,
    "start_time": "2022-06-09T10:36:16.084Z"
   },
   {
    "duration": 9,
    "start_time": "2022-06-09T10:36:16.103Z"
   },
   {
    "duration": 11,
    "start_time": "2022-06-09T10:36:16.114Z"
   },
   {
    "duration": 48,
    "start_time": "2022-06-09T10:36:16.126Z"
   },
   {
    "duration": 9,
    "start_time": "2022-06-09T10:36:16.175Z"
   },
   {
    "duration": 31,
    "start_time": "2022-06-09T10:36:16.185Z"
   },
   {
    "duration": 39,
    "start_time": "2022-06-09T10:36:16.219Z"
   },
   {
    "duration": 5,
    "start_time": "2022-06-09T10:36:16.260Z"
   },
   {
    "duration": 12,
    "start_time": "2022-06-09T10:36:16.267Z"
   },
   {
    "duration": 16,
    "start_time": "2022-06-09T10:36:16.281Z"
   },
   {
    "duration": 14,
    "start_time": "2022-06-09T10:36:16.299Z"
   },
   {
    "duration": 12,
    "start_time": "2022-06-09T10:36:16.315Z"
   },
   {
    "duration": 257,
    "start_time": "2022-06-09T10:36:16.329Z"
   },
   {
    "duration": 11,
    "start_time": "2022-06-09T10:36:16.589Z"
   },
   {
    "duration": 11,
    "start_time": "2022-06-09T10:36:16.602Z"
   },
   {
    "duration": 16,
    "start_time": "2022-06-09T10:36:16.616Z"
   },
   {
    "duration": 26,
    "start_time": "2022-06-09T10:36:16.634Z"
   },
   {
    "duration": 15,
    "start_time": "2022-06-09T10:36:16.662Z"
   },
   {
    "duration": 14,
    "start_time": "2022-06-09T10:36:16.683Z"
   },
   {
    "duration": 205,
    "start_time": "2022-06-09T10:36:16.698Z"
   },
   {
    "duration": 212,
    "start_time": "2022-06-09T10:36:16.905Z"
   },
   {
    "duration": 14,
    "start_time": "2022-06-09T10:36:17.118Z"
   },
   {
    "duration": 6,
    "start_time": "2022-06-09T10:36:17.134Z"
   },
   {
    "duration": 18,
    "start_time": "2022-06-09T10:36:17.159Z"
   },
   {
    "duration": 351,
    "start_time": "2022-06-09T10:36:17.179Z"
   },
   {
    "duration": 20,
    "start_time": "2022-06-09T10:36:17.532Z"
   },
   {
    "duration": 14,
    "start_time": "2022-06-09T10:36:17.554Z"
   },
   {
    "duration": 336,
    "start_time": "2022-06-09T10:36:17.569Z"
   },
   {
    "duration": 10,
    "start_time": "2022-06-09T10:36:17.907Z"
   },
   {
    "duration": 40,
    "start_time": "2022-06-09T10:36:17.919Z"
   },
   {
    "duration": 10,
    "start_time": "2022-06-09T10:36:17.961Z"
   },
   {
    "duration": 24,
    "start_time": "2022-06-09T10:36:17.972Z"
   },
   {
    "duration": 9,
    "start_time": "2022-06-09T10:36:17.998Z"
   },
   {
    "duration": 11,
    "start_time": "2022-06-09T10:36:18.009Z"
   },
   {
    "duration": 10,
    "start_time": "2022-06-09T10:36:18.022Z"
   },
   {
    "duration": 26,
    "start_time": "2022-06-09T10:36:18.035Z"
   },
   {
    "duration": 7,
    "start_time": "2022-06-09T10:36:18.063Z"
   },
   {
    "duration": 18,
    "start_time": "2022-06-09T10:36:18.071Z"
   },
   {
    "duration": 11,
    "start_time": "2022-06-09T10:36:18.091Z"
   },
   {
    "duration": 272,
    "start_time": "2022-06-09T10:36:18.104Z"
   },
   {
    "duration": 188,
    "start_time": "2022-06-09T10:36:18.379Z"
   },
   {
    "duration": 168,
    "start_time": "2022-06-09T10:36:18.569Z"
   },
   {
    "duration": 24,
    "start_time": "2022-06-09T10:36:18.738Z"
   },
   {
    "duration": 290,
    "start_time": "2022-06-09T10:36:18.764Z"
   },
   {
    "duration": 14,
    "start_time": "2022-06-09T10:36:19.058Z"
   },
   {
    "duration": 342,
    "start_time": "2022-06-09T10:36:19.073Z"
   },
   {
    "duration": 15,
    "start_time": "2022-06-09T10:36:19.417Z"
   },
   {
    "duration": 327,
    "start_time": "2022-06-09T10:36:19.434Z"
   },
   {
    "duration": 13,
    "start_time": "2022-06-09T10:36:19.763Z"
   },
   {
    "duration": 318,
    "start_time": "2022-06-09T10:36:19.778Z"
   },
   {
    "duration": 15,
    "start_time": "2022-06-09T10:36:20.097Z"
   },
   {
    "duration": 309,
    "start_time": "2022-06-09T10:36:20.114Z"
   },
   {
    "duration": 37,
    "start_time": "2022-06-09T10:36:20.425Z"
   },
   {
    "duration": 16,
    "start_time": "2022-06-09T10:36:20.464Z"
   },
   {
    "duration": 17,
    "start_time": "2022-06-09T10:36:20.481Z"
   },
   {
    "duration": 14,
    "start_time": "2022-06-09T10:36:20.500Z"
   },
   {
    "duration": 27,
    "start_time": "2022-06-09T10:36:20.515Z"
   },
   {
    "duration": 30,
    "start_time": "2022-06-09T10:36:20.543Z"
   },
   {
    "duration": 18,
    "start_time": "2022-06-09T10:36:20.575Z"
   },
   {
    "duration": 18,
    "start_time": "2022-06-09T10:36:20.595Z"
   },
   {
    "duration": 13,
    "start_time": "2022-06-09T10:36:20.614Z"
   },
   {
    "duration": 10,
    "start_time": "2022-06-09T10:36:20.629Z"
   },
   {
    "duration": 21,
    "start_time": "2022-06-09T10:36:20.640Z"
   },
   {
    "duration": 10,
    "start_time": "2022-06-09T10:36:20.663Z"
   },
   {
    "duration": 31,
    "start_time": "2022-06-09T10:36:20.675Z"
   },
   {
    "duration": 16,
    "start_time": "2022-06-09T10:36:20.708Z"
   },
   {
    "duration": 17,
    "start_time": "2022-06-09T10:36:20.725Z"
   },
   {
    "duration": 21,
    "start_time": "2022-06-09T10:36:20.743Z"
   },
   {
    "duration": 18,
    "start_time": "2022-06-09T10:36:20.766Z"
   },
   {
    "duration": 32,
    "start_time": "2022-06-09T10:36:20.786Z"
   },
   {
    "duration": 177,
    "start_time": "2022-06-09T10:36:20.820Z"
   },
   {
    "duration": 161,
    "start_time": "2022-06-09T10:36:20.999Z"
   },
   {
    "duration": 13,
    "start_time": "2022-06-09T10:36:21.165Z"
   },
   {
    "duration": 17,
    "start_time": "2022-06-09T10:36:21.180Z"
   },
   {
    "duration": 44,
    "start_time": "2022-06-09T10:36:21.199Z"
   },
   {
    "duration": 229,
    "start_time": "2022-06-09T10:36:21.245Z"
   },
   {
    "duration": 167,
    "start_time": "2022-06-09T10:36:21.476Z"
   },
   {
    "duration": 17,
    "start_time": "2022-06-09T10:36:21.645Z"
   },
   {
    "duration": 17,
    "start_time": "2022-06-09T10:36:21.664Z"
   },
   {
    "duration": 207,
    "start_time": "2022-06-09T10:36:21.682Z"
   },
   {
    "duration": 216,
    "start_time": "2022-06-09T10:36:21.892Z"
   },
   {
    "duration": 10,
    "start_time": "2022-06-09T10:36:22.110Z"
   },
   {
    "duration": 20,
    "start_time": "2022-06-09T10:36:22.122Z"
   }
  ],
  "kernelspec": {
   "display_name": "Python 3",
   "language": "python",
   "name": "python3"
  },
  "language_info": {
   "codemirror_mode": {
    "name": "ipython",
    "version": 3
   },
   "file_extension": ".py",
   "mimetype": "text/x-python",
   "name": "python",
   "nbconvert_exporter": "python",
   "pygments_lexer": "ipython3",
   "version": "3.8.2"
  },
  "toc": {
   "base_numbering": 1,
   "nav_menu": {},
   "number_sections": true,
   "sideBar": true,
   "skip_h1_title": true,
   "title_cell": "Table of Contents",
   "title_sidebar": "Contents",
   "toc_cell": false,
   "toc_position": {},
   "toc_section_display": true,
   "toc_window_display": false
  }
 },
 "nbformat": 4,
 "nbformat_minor": 4
}
